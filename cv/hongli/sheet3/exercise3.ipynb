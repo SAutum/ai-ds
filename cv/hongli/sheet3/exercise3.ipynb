{
 "cells": [
  {
   "cell_type": "markdown",
   "id": "0d960cd7",
   "metadata": {
    "pycharm": {
     "name": "#%% md\n"
    }
   },
   "source": [
    "# Exercise sheet 3\n",
    "\n",
    "__Handout date:__ 20.06.2024      \n",
    "__Submission deadline:__ 03.07.2024 - 23:59  \n",
    "__Topics:__ 3D reconstruction.  \n",
    "__Submission link:__ https://fz-juelich.sciebo.de/s/Z46ZvFOKA5t1MtD\n",
    "\n",
    "Add your answers by inserting cells under the given tasks. Keep your answers brief and clear."
   ]
  },
  {
   "cell_type": "markdown",
   "id": "9ad4b150-1a56-413a-8aea-1797b891bf80",
   "metadata": {},
   "source": [
    "## Two view geometry"
   ]
  },
  {
   "cell_type": "markdown",
   "id": "2784d075-8089-4bbb-86b5-6efbeb6b7af3",
   "metadata": {},
   "source": [
    "-- __Task:__ Which steps are required to capture 3D models using cameras?\n",
    "- Take different photos of the scene with overlapping features\n",
    "- Find the orientation of the camera taking the photos in the real world coordinate system\n",
    "- Find the corresponding points in the images and reconstructing them."
   ]
  },
  {
   "cell_type": "markdown",
   "id": "195d7448-2500-430d-8f3a-93f148e9cae6",
   "metadata": {
    "pycharm": {
     "name": "#%%\n"
    }
   },
   "source": [
    "-- __Task:__ Describe the degrees of freedom contained in epipolar geometry.\n",
    "- Translation $t$: 2 degrees of freedom (point to point)\n",
    "- Rotation $R$: 3 degrees of freedom (rotation of a plane)"
   ]
  },
  {
   "cell_type": "markdown",
   "id": "bb2d81ab-2f8f-4203-aa3b-bdb91167c9b9",
   "metadata": {},
   "source": [
    "-- __Task:__ Name and describe the steps of camera calibration.\n",
    "- Taking Image: capture the calibration target in different poses\n",
    "- Feature Extraction: find the common features in the images\n",
    "- Parameter Optimization: optimize the parameters of intrinsics and extrinsics of\n",
    "the camera by closed-form solution and non-linear optimization "
   ]
  },
  {
   "cell_type": "markdown",
   "id": "28ebf7af-3dee-45b4-bc5c-02def7fa2a4a",
   "metadata": {},
   "source": [
    "-- __Task:__ What are intrinsic camera parameters? \n",
    "\n",
    "focal length $f$, principle point $(x'_c, y'_c)$, pixel ssize $(S_x, S_y)$\n",
    "The parameters which does not change while changing poses."
   ]
  },
  {
   "cell_type": "markdown",
   "id": "8e8d290d-77a1-4d21-8519-033eea2b003b",
   "metadata": {},
   "source": [
    "-- __Task:__ What are extrinsic camera parameters?\n",
    "\n",
    "Translation $T$ and rotation $R$ from the origin of the world coordinates.\n",
    "The parameters changes while poses changes"
   ]
  },
  {
   "cell_type": "markdown",
   "id": "5c9edbda-7dfc-479b-86c1-69a4aef3d7fd",
   "metadata": {},
   "source": [
    "## Triangulation"
   ]
  },
  {
   "cell_type": "markdown",
   "id": "bda16539-b1c5-439e-a1a3-95bb80e9508a",
   "metadata": {},
   "source": [
    "-- __Task:__ What is the goal of triangulation?\n",
    "\n",
    "Find the original point in 3D world of an observed point"
   ]
  },
  {
   "cell_type": "markdown",
   "id": "26382b63-4b4b-422f-ae0c-5e24e8770ff2",
   "metadata": {},
   "source": [
    "-- __Task:__ Briefly describe the construction of the linear system used for triangulation?\n",
    "\n",
    "The obeserved point $x$ must be in the ray of focal point to the original point $X$,\n",
    "\n",
    "Therefore vector $x$ and $PX$ (P: projection matrix) must be collinear:\n",
    "\n",
    "$$x \\times PX = 0$$\n",
    "\n",
    "This leads to 3 linear equations with one redundency"
   ]
  },
  {
   "cell_type": "markdown",
   "id": "cc4a29d8-501e-40b5-9735-8755a81ae68b",
   "metadata": {},
   "source": [
    "-- __Task:__ Briefly explain why triangulation relies on a second camera to find the 3D point of an object.\n",
    "\n",
    "As stated above, one camera will only provide 2 linearly independent equations, while\n",
    "\n",
    "3D position of a point has 3 unknowns. One extra camera position can over constraint such\n",
    "\n",
    "problem and we can find the solution by singular value decomposition."
   ]
  },
  {
   "cell_type": "markdown",
   "id": "2753b2bc-0f42-46d4-b9d2-1d7b4048fe95",
   "metadata": {},
   "source": [
    "## Epipolar geometry"
   ]
  },
  {
   "cell_type": "markdown",
   "id": "33be007c-1446-409c-9eee-7f2d31bde10d",
   "metadata": {},
   "source": [
    "-- __Task:__ Which points define the epipolar plane and the baseline?\n",
    "\n",
    "An observation point $p$, the projection centers of the two cameras $o$ and $o'$."
   ]
  },
  {
   "cell_type": "markdown",
   "id": "d462249d-dd21-4d0a-87cd-82dbb0a01c9e",
   "metadata": {},
   "source": [
    "-- __Task:__ Which points define the epipoles?\n",
    "\n",
    "The projection centers of the two cameras $o$ and $o'$, together with \n",
    "\n",
    "the image planes."
   ]
  },
  {
   "cell_type": "markdown",
   "id": "5b63225b-456b-4904-972c-ed83db2600ee",
   "metadata": {},
   "source": [
    "-- __Task:__ How is the epipolar line defined?\n",
    "\n",
    "The epipolar line is the intersection of the epipolar plane and image plane.\n",
    "\n",
    "\n",
    "It can also be interpreted as the projection of the line between the **projection center**\n",
    "\n",
    "of one camera and the **oberved point** to the image plane of the other camera"
   ]
  },
  {
   "cell_type": "markdown",
   "id": "43f4404c-0d72-4d31-beb5-c2e008f9d362",
   "metadata": {},
   "source": [
    "-- __Task:__ What is purpose of the essential matrix?\n",
    "\n",
    "To calculate the rotation and translation between the image plane of the two cameras"
   ]
  },
  {
   "cell_type": "markdown",
   "id": "290fef2a-f81f-4764-8397-da7f2121e414",
   "metadata": {},
   "source": [
    "-- __Task:__ What is the difference between an essential matrix and a homography? \n",
    "\n",
    "The essential matrix transforms a observation point to a epipolar line, while\n",
    "\n",
    "homography transforms a point to another point."
   ]
  },
  {
   "cell_type": "markdown",
   "id": "d859e4de-504b-4910-92df-12173069a35e",
   "metadata": {},
   "source": [
    "-- __Task:__ What is the fundamental matrix?\n",
    "\n",
    "It is the matrix which considers the transformation between two image planes \n",
    "\n",
    "in pixel coordinates (intrinsics included)."
   ]
  },
  {
   "cell_type": "markdown",
   "id": "676b926f-66b3-46c3-b236-71348b9557e2",
   "metadata": {},
   "source": [
    "-- __Task:__ How many points are necessary to estimate the fundamental matrix?\n",
    "\n",
    "8 points at least."
   ]
  },
  {
   "cell_type": "markdown",
   "id": "1d7bcb57-82bc-4541-8f82-1c3123737f67",
   "metadata": {},
   "source": [
    "## Stereo reconstruction"
   ]
  },
  {
   "cell_type": "markdown",
   "id": "cdc92cbb-54f8-427a-98f3-b4fe207aa99a",
   "metadata": {},
   "source": [
    "-- __Task:__ Which spatial properties can be derived from a sparse 3D point cloud created by stereo reconstruction, and which cannot?\n",
    "\n"
   ]
  },
  {
   "cell_type": "markdown",
   "id": "7ec64c2d-8bfe-403b-a05c-056686846de4",
   "metadata": {},
   "source": [
    "-- __Task:__ Define the idea of rectification in stereo reconstruction.\n",
    "\n",
    "The rectification prepocesses the images so that they are transformed to be\n",
    "\n",
    "as if their image planes are co-planar (cameara faces the same direction). "
   ]
  },
  {
   "cell_type": "markdown",
   "id": "73a1ede3-57b9-47b1-a7a8-eb1709f98cf2",
   "metadata": {},
   "source": [
    "-- __Task:__ What beneficial property can be found in rectified images?\n",
    "\n",
    "their epipolar lines are parallel and one can find similar features\n",
    "\n",
    "along the same horizonal pixels."
   ]
  },
  {
   "cell_type": "markdown",
   "id": "571883d4-7f4c-44d4-9a75-8fdabb89e7e0",
   "metadata": {},
   "source": [
    "-- __Task:__ What is the disparity?\n",
    "\n",
    "It is the horizontal distance between the correspondences in two images"
   ]
  },
  {
   "cell_type": "markdown",
   "id": "60e93f86-00ed-4767-84e8-6deaf2984b29",
   "metadata": {},
   "source": [
    "-- __Task:__ What is the relationship between disparity and depth?\n",
    "\n",
    "The greater the disparity, the shallower the depth.\n",
    "\n",
    "The depth $z$ can be described as:\n",
    "\n",
    "$$z = \\frac{fb}{d}$$\n",
    "where $f$ is focal length and $d$ the disparity and $b$ the baseline."
   ]
  },
  {
   "cell_type": "markdown",
   "id": "42bad6e8-50be-4703-96d8-0702320814cc",
   "metadata": {},
   "source": [
    "-- __Task:__ Which kinds of pixel movements can be observed in rectified images, and how do they relate to depth?\n",
    "\n",
    "Horizontal (movements to the left and right). The relationship is described above. "
   ]
  },
  {
   "cell_type": "markdown",
   "id": "65da220e-a514-4080-9501-6c34461e0969",
   "metadata": {},
   "source": [
    "-- __Task:__ Briefly describe the process of stereo matching.\n",
    "\n",
    "On the horizonal line, with certain window size, use certain algorithm to find\n",
    "the most similar feature of original image in the target image."
   ]
  },
  {
   "cell_type": "markdown",
   "id": "53f90069-6980-44ad-af83-a650b24bb610",
   "metadata": {},
   "source": [
    "-- __Task:__ What is the advantage of using rectified images for stereo matching?\n",
    "\n",
    "Only the horizontal displacement (disparity) needs to be considered during matching,\n",
    "\n",
    "which saves lots of computation."
   ]
  },
  {
   "cell_type": "markdown",
   "id": "217b92f6-ffb4-499c-a54f-a516c2f6c462",
   "metadata": {},
   "source": [
    "-- __Task:__ What is a simple approach to avoid incorrect matches in stereo matching?\n",
    "\n",
    "Once matching is done from one image to another, repeat the match in opposite\n",
    "\n",
    "direction and remove the inconsistant points."
   ]
  },
  {
   "cell_type": "markdown",
   "id": "4d090497-3780-461f-b3fa-4455d7c8e1f7",
   "metadata": {},
   "source": [
    "-- __Task:__ What are possible sources of \"holes\" in depth/disparity images retrieved from stereo matching?\n",
    "\n",
    "- Half-occlusions\n",
    "- Slanted surfaces\n",
    "- Other ambiguities(repititions, textureless surfaces, etc.)"
   ]
  },
  {
   "cell_type": "markdown",
   "id": "1bd15b0e-c71b-49a1-afba-54579adb9db7",
   "metadata": {},
   "source": [
    "-- __Task:__ What makes graphical models a suitable approach to resolve these holes?\n",
    "\n",
    "The depth of an image is rather smooth and the value of one pixel depends on its\n",
    "\n",
    "neighboring pixels."
   ]
  },
  {
   "cell_type": "markdown",
   "id": "222d8b8b-403a-45bd-87ae-3f3f80550848",
   "metadata": {},
   "source": [
    "## Graphical models"
   ]
  },
  {
   "cell_type": "markdown",
   "id": "8f6fa1e3-172b-4bbc-9844-b5cdbdd8e794",
   "metadata": {},
   "source": [
    "-- __Task:__ Describe the two types of costs that are optimized in a graphical model.\n",
    "\n",
    "- data cost: function related to the node only\n",
    "- smoothness cost: function related to two horizontally or vertically neighbouring nodes"
   ]
  },
  {
   "cell_type": "markdown",
   "id": "e97a0332-4e6c-4c65-8e7c-534090ce99d0",
   "metadata": {},
   "source": [
    "-- __Task:__ What is the difference between a directed and an undirected graphical model?\n",
    "\n",
    "Directed graph has certain direction from one node to another.\n",
    "\n",
    "The nodes of undirected graph is always mutually communicated."
   ]
  },
  {
   "cell_type": "markdown",
   "id": "acb49b74-98ba-4416-ac51-1050d1c39424",
   "metadata": {},
   "source": [
    "-- __Task:__ Name an example for a directed grapical model.\n",
    "\n",
    "Expert systems\n",
    "\n",
    "Example:\n",
    "https://towardsdatascience.com/are-expert-systems-dead-87c8d6c26474"
   ]
  },
  {
   "cell_type": "markdown",
   "id": "cbd2a4bb-080a-4451-9c53-07ff4016fdc2",
   "metadata": {},
   "source": [
    "-- __Task:__ What is a clique in a graphical model?\n",
    "\n",
    "The nodes within a clique are all mutually connected"
   ]
  },
  {
   "cell_type": "markdown",
   "id": "c184e53c-9cfd-4f71-82c6-c851f56cb325",
   "metadata": {},
   "source": [
    "-- __Task:__ What is a maximum clique in a graphical model?\n",
    "\n",
    "The clique includes maximum number of mutually connected nodes.\n",
    "\n",
    "No more node can be added into the maximum clique to form another clique."
   ]
  },
  {
   "cell_type": "markdown",
   "id": "926727b4-86c4-4133-ad5e-f87f7a641587",
   "metadata": {},
   "source": [
    "-- __Task:__ What are potentials and joint potentials?\n",
    "\n",
    "- Potentials are non-negative functions of a variable \n",
    "- Joint potential are non-negative functions of two variables"
   ]
  },
  {
   "cell_type": "markdown",
   "id": "21db69c2-2efa-47f2-ac6b-078d350919b9",
   "metadata": {},
   "source": [
    "-- __Task:__ What is the definition of a Markov Random Field (MRF)?\n",
    "\n",
    "It is the **normalized product** over potentials of a set of maximal cliques."
   ]
  }
 ],
 "metadata": {
  "kernelspec": {
   "display_name": "Python 3 (ipykernel)",
   "language": "python",
   "name": "python3"
  },
  "language_info": {
   "codemirror_mode": {
    "name": "ipython",
    "version": 3
   },
   "file_extension": ".py",
   "mimetype": "text/x-python",
   "name": "python",
   "nbconvert_exporter": "python",
   "pygments_lexer": "ipython3",
   "version": "3.9.-1"
  }
 },
 "nbformat": 4,
 "nbformat_minor": 5
}
