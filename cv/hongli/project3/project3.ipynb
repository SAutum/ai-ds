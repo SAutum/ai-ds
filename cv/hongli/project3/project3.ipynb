{
 "cells": [
  {
   "cell_type": "markdown",
   "id": "551986b8-a7c2-45d0-80e5-80e610de97b5",
   "metadata": {
    "pycharm": {
     "name": "#%% md\n"
    }
   },
   "source": [
    "# Project 03 - 3D reconstruction"
   ]
  },
  {
   "cell_type": "markdown",
   "id": "f97490ce-f997-4a8e-8af6-338fcc493871",
   "metadata": {
    "pycharm": {
     "name": "#%% md\n"
    }
   },
   "source": [
    "__Handout date:__ 27.06.2024      \n",
    "__Submission date:__ 18.07.2023 - 23:59\n",
    "__Submission link:__ https://fz-juelich.sciebo.de/s/rVa2i83BrBmyaJ8\n",
    "\n",
    "\n",
    "In this project, you will work on 3D reconstruction from stereo data.\n",
    "You will estimate disparity maps from rectified images, and resolve inconsistencies in the results using graphical models.\n",
    "\n",
    "For this task, you will use the [2014 Stereo Datasets](https://vision.middlebury.edu/stereo/data/scenes2014/).\n",
    "The dataset contains rectified images and serves as a benchmark for depth estimation from stereo images.\n",
    "\n",
    "1. Download the dataset and inspect its structure.\n",
    "1. Choose at least two images from the dataset to work with. For the beginning, work with the default images (no variation in lightning or exposure).\n",
    "1. Use the methods discussed in the lecture to compute the disparity between the two images, which involves:\n",
    "    1. Scanline approach to identify matching pixels using an appropriate similarity metric.\n",
    "    1. Cross-checking using reverse scanline.\n",
    "    1. Resolution of ambiguous matches.\n",
    "1. Use the computed disparity to estimate the depth.\n",
    "1. Repeat the above steps using the provided images with varying lightning and exposure.\n",
    "1. Use a Markov Random Field (MRF) to resolve holes and inaccuracies in the computed disparity maps.\n",
    "    1. Install [gco-wrapper](https://github.com/Borda/pyGCO) using `pip install gco-wrapper`.\n",
    "    1. Convert the task of smoothing the disparity map into a MRF problem. In particular, think about how labels can be defined for this task (tip: maximum disparity).\n",
    "    1. Use `cut_grid_graph` or `cut_grid_graph_simple` to solve the defined MRF.\n",
    "1. Recompute the depth map using your corrected disparity maps and compare them to the previous result. Repeat the analysis for your selected images under different lightning and exposure.\n",
    "\n",
    "__Tip:__ Do not replicate your code, use functions to repeat the analysis on different image pairs."
   ]
  },
  {
   "cell_type": "code",
   "execution_count": null,
   "id": "808abe88-272d-4e33-b486-5273afd7f51a",
   "metadata": {},
   "outputs": [],
   "source": []
  }
 ],
 "metadata": {
  "kernelspec": {
   "display_name": "Python 3 (ipykernel)",
   "language": "python",
   "name": "python3"
  },
  "language_info": {
   "codemirror_mode": {
    "name": "ipython",
    "version": 3
   },
   "file_extension": ".py",
   "mimetype": "text/x-python",
   "name": "python",
   "nbconvert_exporter": "python",
   "pygments_lexer": "ipython3",
   "version": "3.11.5"
  }
 },
 "nbformat": 4,
 "nbformat_minor": 5
}
