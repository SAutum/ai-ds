{
 "cells": [
  {
   "cell_type": "markdown",
   "id": "8a85aee0-73f9-48fc-be71-a3750f7d9e89",
   "metadata": {},
   "source": [
    "# Exercise sheet 1\n",
    "\n",
    "__Handout date:__ 18.04.2024  \n",
    "__Submission deadline:__ 01.05.2024 - 23:59.  \n",
    "__Submission link:__ https://fz-juelich.sciebo.de/s/4zGXGFzLfkZnl6R  \n",
    "__Topics:__ Image processing.\n",
    "\n",
    "Add your answers by editing the marked cells. Keep your answers brief and clear."
   ]
  },
  {
   "cell_type": "markdown",
   "id": "7136d043-4147-42c8-bfb3-a7868c86f3ec",
   "metadata": {},
   "source": [
    "## General questions"
   ]
  },
  {
   "cell_type": "markdown",
   "id": "d6d924e4-7df0-441f-97d1-be26ac74b526",
   "metadata": {},
   "source": [
    "__--- Question:__ Describe the issue that can arise when sampling a high-frequency continuous signal at discrete sampling points. "
   ]
  },
  {
   "cell_type": "markdown",
   "id": "5934c5a0-3521-41a4-9f7a-d21eb1b3c252",
   "metadata": {},
   "source": [
    "__Answer:__\n",
    "A low sampling rate might cause some high-frequency information to be overlapped in the discrete lower-frequency\n",
    "signal, introducing unwanted information."
   ]
  },
  {
   "cell_type": "markdown",
   "id": "00abe271-5c70-441a-858c-19a7a2685ef8",
   "metadata": {},
   "source": [
    "__--- Question:__ What is the name of this effect?"
   ]
  },
  {
   "cell_type": "markdown",
   "id": "4008ec01-05f1-4e98-bc49-32b4b152c1e2",
   "metadata": {},
   "source": [
    "__Answer:__ Aliasing"
   ]
  },
  {
   "cell_type": "markdown",
   "id": "965f04ff-7704-4f25-abc7-867f320c31a0",
   "metadata": {},
   "source": [
    "__--- Question:__ How is this sampling issue relevant for image acquisition? "
   ]
  },
  {
   "cell_type": "markdown",
   "id": "217ae78f-1fa9-41de-8e98-15064b3041ac",
   "metadata": {},
   "source": [
    "__Answer:__"
   ]
  },
  {
   "cell_type": "markdown",
   "id": "abd98c8a-2fdd-4a8c-b802-48baf65e830a",
   "metadata": {},
   "source": [
    "__--- Question:__ Describe one possible approach to address the sampling issue."
   ]
  },
  {
   "cell_type": "markdown",
   "id": "25985e0a-ea9c-42f6-9174-61506663e442",
   "metadata": {},
   "source": [
    "__Answer:__ "
   ]
  },
  {
   "cell_type": "markdown",
   "id": "d63e9641-eacb-4714-895d-f2b262b7df0f",
   "metadata": {},
   "source": [
    "__---__Question:__ Question:__ What defines a pixel?"
   ]
  },
  {
   "cell_type": "markdown",
   "id": "0a56add5-6c72-43d0-a6bd-4184a3f3d28d",
   "metadata": {},
   "source": [
    "__Answer:__"
   ]
  },
  {
   "cell_type": "markdown",
   "id": "2db1a08c-0f23-499a-ba6a-3a1aa17c277e",
   "metadata": {},
   "source": [
    "## Image transformations"
   ]
  },
  {
   "cell_type": "markdown",
   "id": "3709baeb-8ac5-4856-bd8a-055cd8c980f1",
   "metadata": {},
   "source": [
    "__--- Task:__ Load and plot the camera man image from scikit-image."
   ]
  },
  {
   "cell_type": "markdown",
   "id": "49ae1716-1dc9-44df-b62e-e90739060039",
   "metadata": {},
   "source": [
    "__Answer:__ "
   ]
  },
  {
   "cell_type": "markdown",
   "id": "44d83477-ebec-4864-8c1f-7b16da99acea",
   "metadata": {},
   "source": [
    "__--- Task:__ Print the shape, dtype, and value range of the image."
   ]
  },
  {
   "cell_type": "markdown",
   "id": "2158bfd8-b3f8-4dd9-89c6-a7f31d2a0d3c",
   "metadata": {},
   "source": [
    "__Answer:__ "
   ]
  },
  {
   "cell_type": "markdown",
   "id": "d5b5f1e5-cb49-45be-a0c7-4bc17be86797",
   "metadata": {},
   "source": [
    "__--- Task:__ Plot the histogram of the image."
   ]
  },
  {
   "cell_type": "markdown",
   "id": "cce62b5d-9277-4640-a71f-31a1f1811b83",
   "metadata": {},
   "source": [
    "__Answer:__ "
   ]
  },
  {
   "cell_type": "markdown",
   "id": "fb4e8cc2-cd35-4b7a-895f-1d95fe189b03",
   "metadata": {},
   "source": [
    "Suppose we want to apply a linear transformation $y = ax + b$ to all pixel intensities $x$ in the image."
   ]
  },
  {
   "cell_type": "markdown",
   "id": "ded5e0a3-7d92-495c-bf20-b4101ff7b4b1",
   "metadata": {},
   "source": [
    "__--- Question:__ What is the effect of the parameter $a$? "
   ]
  },
  {
   "cell_type": "markdown",
   "id": "ac6bd2a4-7586-4b68-9a26-a8aefbecdb07",
   "metadata": {},
   "source": [
    "__Answer:__ "
   ]
  },
  {
   "cell_type": "markdown",
   "id": "4b7d8f4c-3209-4f7a-a705-cf4494d6dcc3",
   "metadata": {},
   "source": [
    "__--- Question:__ What is the effect of the parameter $b$? "
   ]
  },
  {
   "cell_type": "markdown",
   "id": "bc3b85d5-3ca3-4bac-a58e-78f9aafa9390",
   "metadata": {},
   "source": [
    "__Answer:__ "
   ]
  },
  {
   "cell_type": "markdown",
   "id": "8a20635d-8748-4921-99f3-7c6513d5efcd",
   "metadata": {},
   "source": [
    "__--- Task:__ Linearly transform the camera image with all combinations of the parameters $a=[0.5, 1.0, 2.0]$ and $b=[-42, 0, +42]$. Visualize the results. Ensure that the effect of the transformation is visible in the images!"
   ]
  },
  {
   "cell_type": "markdown",
   "id": "3143cac3-5599-44c3-a479-5496cba0928d",
   "metadata": {},
   "source": [
    "__Answer:__ "
   ]
  },
  {
   "cell_type": "markdown",
   "id": "28a8734a-2f1e-4b63-965e-825084d29d3d",
   "metadata": {},
   "source": [
    "__--- Task:__ Plot the histograms of the transformed images. __Tip:__ Use `inset_axes` in matplotlib to overlay the histogram onto the image."
   ]
  },
  {
   "cell_type": "markdown",
   "id": "cea2f4be-9067-42b1-ad39-dc3096901cd9",
   "metadata": {},
   "source": [
    "__Answer:__ "
   ]
  },
  {
   "cell_type": "markdown",
   "id": "05a8c801-9501-4995-bd82-44ce2b9521ea",
   "metadata": {},
   "source": [
    "__--- Question:__ When linearly transforming an image, which issues can be expected regarding the used data type and visualization?"
   ]
  },
  {
   "cell_type": "markdown",
   "id": "ad6101be-5ba0-413a-b19c-45cc4a57ec52",
   "metadata": {},
   "source": [
    "__Answer:__ "
   ]
  },
  {
   "cell_type": "markdown",
   "id": "5d0eef0c-7ac1-4568-9ecf-d3b4ea0ad592",
   "metadata": {},
   "source": [
    "## Homogenous coordinates"
   ]
  },
  {
   "cell_type": "markdown",
   "id": "105cc325-98f5-4405-87a4-effe55aef5f6",
   "metadata": {},
   "source": [
    "__--- Task:__ Represent the 2D point with coordinates $p=[2, 1]$ in homogenous coordinates."
   ]
  },
  {
   "cell_type": "markdown",
   "id": "454d4bef-5061-48f8-9821-512eedfafa72",
   "metadata": {},
   "source": [
    "__Answer:__ "
   ]
  },
  {
   "cell_type": "markdown",
   "id": "ee324246-27ec-4f05-966d-2b2fbc432b88",
   "metadata": {},
   "source": [
    "__--- Task:__ Define a transformation matrix $A$ that translates the point $p$ by $[1, 2]$"
   ]
  },
  {
   "cell_type": "markdown",
   "id": "259d1626-2d7f-42e5-8fe5-72156e087895",
   "metadata": {},
   "source": [
    "__Answer:__ "
   ]
  },
  {
   "cell_type": "markdown",
   "id": "9fc29a5d-e6d3-41d6-b2f2-7da3889cf454",
   "metadata": {},
   "source": [
    "__--- Task:__ Use $A$ to transform the point $p$."
   ]
  },
  {
   "cell_type": "markdown",
   "id": "bed56492-3a2e-4d35-a84d-429e835baf75",
   "metadata": {},
   "source": [
    "__Answer:__ "
   ]
  },
  {
   "cell_type": "markdown",
   "id": "deb1d4cc-745a-44df-9b50-19ec61055107",
   "metadata": {},
   "source": [
    "__--- Task:__ Consider the following list of 2D points $X$. Transform all points using the matrix $A$ using __a single__ matrix multiplication."
   ]
  },
  {
   "cell_type": "code",
   "execution_count": null,
   "id": "55e9fd91-0bfa-472c-a50b-0b86339c753b",
   "metadata": {
    "tags": []
   },
   "outputs": [],
   "source": [
    "import numpy as np\n",
    "X = np.arange(20).reshape(10, 2)"
   ]
  },
  {
   "cell_type": "markdown",
   "id": "3510d4ba-ebfd-4e2f-a153-b7a1ee08b566",
   "metadata": {},
   "source": [
    "__Answer:__ "
   ]
  },
  {
   "cell_type": "markdown",
   "id": "25ad87bf-4e5d-401b-8147-9af52cfd2ac3",
   "metadata": {},
   "source": [
    "__--- Task:__ Define a rotation matrix $R$ with rotation angle $\\theta=\\pi$."
   ]
  },
  {
   "cell_type": "markdown",
   "id": "ea7a6512-b4cb-47ea-8deb-face1822c31e",
   "metadata": {},
   "source": [
    "__Answer:__ "
   ]
  },
  {
   "cell_type": "markdown",
   "id": "8aeabfa5-edc0-42e8-9f94-35eacc00afe6",
   "metadata": {},
   "source": [
    "__--- Task:__ Create a matrix $S$ that first translates a point $p$ by $[1, 2]$ and then rotates it by $\\pi$."
   ]
  },
  {
   "cell_type": "markdown",
   "id": "67986eae-c95f-4511-a2d9-86f4b723bfeb",
   "metadata": {},
   "source": [
    "__Answer:__ "
   ]
  },
  {
   "cell_type": "markdown",
   "id": "8757f3a3-3f72-47f8-9248-ca12102b54ae",
   "metadata": {},
   "source": [
    "__--- Question:__ Briefly define the properties of the following types of transformations by describing how the spatial relationship of lines is affected by the respective transformation (1P per correct answer).   "
   ]
  },
  {
   "cell_type": "markdown",
   "id": "94f3cea7-1111-4728-b247-418ea0940282",
   "metadata": {},
   "source": [
    "__Answer:__ \n",
    "\n",
    "- Rigid transformation:\n",
    "- Similarity transformation:\n",
    "- Affine transformation:\n",
    "- Perspective transformation:"
   ]
  },
  {
   "cell_type": "markdown",
   "id": "5b4eaa05-2311-443d-ac47-77793e123b96",
   "metadata": {},
   "source": [
    "## Rotating an image\n",
    "\n",
    "The goal of this task is to rotate in image.  \n",
    "__Note:__ In practice, you would use more efficient implementations, but for educational purposes, we will here implement the rotation ourselves."
   ]
  },
  {
   "cell_type": "markdown",
   "id": "8255f046-ea1a-4123-85e9-091d3feb2bdf",
   "metadata": {},
   "source": [
    "__--- Task:__ Define a rotation matrix $R$ with rotation angle $\\theta=45°$. "
   ]
  },
  {
   "cell_type": "markdown",
   "id": "866448ab-eddf-48be-864c-6f2f98e23e6b",
   "metadata": {},
   "source": [
    "__Answer:__ "
   ]
  },
  {
   "cell_type": "markdown",
   "id": "e4b32317-b380-4015-9d4a-3f365e0de285",
   "metadata": {},
   "source": [
    "__--- Task:__ Create a list of points containing all pixel coordinates of the camera man image you loaded before. __Note:__ Mind the order of $x$ and $y$!"
   ]
  },
  {
   "cell_type": "markdown",
   "id": "73fadaca-2517-48c6-88d2-f7a54913878d",
   "metadata": {},
   "source": [
    "__Answer:__ "
   ]
  },
  {
   "cell_type": "markdown",
   "id": "88aa6d2e-4864-4eb7-8422-469d42566fb9",
   "metadata": {},
   "source": [
    "__--- Task:__ Convert the points to homogenous coordinates."
   ]
  },
  {
   "cell_type": "markdown",
   "id": "198eb3a2-65c8-468c-b511-5d6678248e43",
   "metadata": {},
   "source": [
    "__Answer:__ "
   ]
  },
  {
   "cell_type": "markdown",
   "id": "5dc4694c-e6d6-4362-8e3f-14961f3b4755",
   "metadata": {},
   "source": [
    "__--- Task:__ Apply the transformation matrix $R$ to the list of points."
   ]
  },
  {
   "cell_type": "markdown",
   "id": "4fb3e9ee-aaa8-4fb1-9950-dcf83f60fee6",
   "metadata": {},
   "source": [
    "__Answer:__ "
   ]
  },
  {
   "cell_type": "markdown",
   "id": "c0d263cd-d59b-4d32-b29f-d9793ce84745",
   "metadata": {},
   "source": [
    "__--- Task:__ Create the transformed image by writing each pixel value to the transformed pixel position.  \n",
    "__Notes:__\n",
    "- Use rounding to obtain proper values for indexing.\n",
    "- Remember to handle pixels that end up outside the target image."
   ]
  },
  {
   "cell_type": "markdown",
   "id": "3994f220-ce1e-40f3-8fc4-5e2b7df9f392",
   "metadata": {},
   "source": [
    "__Answer:__ "
   ]
  },
  {
   "cell_type": "markdown",
   "id": "d387cd0c-301c-4087-930f-24b8c168d2a2",
   "metadata": {},
   "source": [
    "__--- Question:__ The resampled image contains a fine pattern of black pixels. Explain the reason for this."
   ]
  },
  {
   "cell_type": "markdown",
   "id": "82167950-4efb-4dcb-88cc-5ed52631ec9a",
   "metadata": {},
   "source": [
    "__Answer:__ "
   ]
  },
  {
   "cell_type": "markdown",
   "id": "e3918f9c-7634-484c-86e3-d3884f1e26c8",
   "metadata": {},
   "source": [
    "__--- Question:__ What would be a suitable approach to prevent these artifacts?"
   ]
  },
  {
   "cell_type": "markdown",
   "id": "77545761-893b-41c4-a717-856b96b946f8",
   "metadata": {},
   "source": [
    "__Answer:__ "
   ]
  },
  {
   "cell_type": "markdown",
   "id": "620b3859-3402-43da-84ae-bca0a83bbb66",
   "metadata": {},
   "source": [
    "__--- Task:__ The used rotation matrix rotates the image around it's corner. Define a transformation matrix that rotates around the image center."
   ]
  },
  {
   "cell_type": "markdown",
   "id": "3421ae7e-d7c0-4002-b4e6-a3bd91434078",
   "metadata": {},
   "source": [
    "__Answer:__ "
   ]
  },
  {
   "cell_type": "markdown",
   "id": "8dfd69cc-bbf7-4d4f-a92c-0ce9e3bee3bc",
   "metadata": {},
   "source": [
    "## Image filtering"
   ]
  },
  {
   "cell_type": "markdown",
   "id": "57a9cd59-7852-4b99-acb7-76e87426c9e3",
   "metadata": {},
   "source": [
    "__--- Question:__ Which mathematical operation is often used for image filtering?"
   ]
  },
  {
   "cell_type": "markdown",
   "id": "2f558ff7-4748-4d30-9722-0ec7925bfa76",
   "metadata": {},
   "source": [
    "__Answer:__ "
   ]
  },
  {
   "cell_type": "markdown",
   "id": "26069a12-02fc-4fda-9c07-ffa4b1fef29c",
   "metadata": {},
   "source": [
    "__--- Task:__ Define a $3x3$ linear filter that computes the sum of a $3x3$ pixel grid at each position. "
   ]
  },
  {
   "cell_type": "markdown",
   "id": "747f745c-cfb2-4dad-897a-c614d8aabe16",
   "metadata": {},
   "source": [
    "__Answer:__ "
   ]
  },
  {
   "cell_type": "markdown",
   "id": "4280689e-75fe-4811-b507-6626dceb18bc",
   "metadata": {},
   "source": [
    "__--- Task:__ Define a $3x3$ linear filter that computes the average of a $3x3$ pixel grid at each position. "
   ]
  },
  {
   "cell_type": "markdown",
   "id": "0a15d8f8-2eb4-41b2-a2f5-ef12a1a164dd",
   "metadata": {},
   "source": [
    "__Answer:__ "
   ]
  },
  {
   "cell_type": "markdown",
   "id": "ef9964b2-48f4-47b9-b0a7-9cd9912ef0a4",
   "metadata": {},
   "source": [
    "__--- Question:__ Which of the following filters is linear?"
   ]
  },
  {
   "cell_type": "markdown",
   "id": "3262852b-dfb1-4ffe-ad04-c0ff32de81d7",
   "metadata": {},
   "source": [
    "__Answer:__ \n",
    "\n",
    "- Average:\n",
    "- Sum:\n",
    "- Median:\n",
    "- Gaussian:"
   ]
  },
  {
   "cell_type": "markdown",
   "id": "b0c5095b-2fa1-4181-8ca2-16804f659248",
   "metadata": {},
   "source": [
    "__--- Question:__ What is the technical advantage of linear filters compared to non-linear  filters?"
   ]
  },
  {
   "cell_type": "markdown",
   "id": "678c193d-22ea-4270-832f-729458e35b3a",
   "metadata": {},
   "source": [
    "__Answer:__ "
   ]
  }
 ],
 "metadata": {
  "kernelspec": {
   "display_name": "Python 3 (ipykernel)",
   "language": "python",
   "name": "python3"
  },
  "language_info": {
   "codemirror_mode": {
    "name": "ipython",
    "version": 3
   },
   "file_extension": ".py",
   "mimetype": "text/x-python",
   "name": "python",
   "nbconvert_exporter": "python",
   "pygments_lexer": "ipython3",
   "version": "3.11.5"
  }
 },
 "nbformat": 4,
 "nbformat_minor": 5
}
