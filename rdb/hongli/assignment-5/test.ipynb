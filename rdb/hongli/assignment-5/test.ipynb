{
 "cells": [
  {
   "cell_type": "code",
   "execution_count": 6,
   "metadata": {},
   "outputs": [
    {
     "data": {
      "text/plain": [
       "dict_keys(['one', 'two', 'three', 'four'])"
      ]
     },
     "execution_count": 6,
     "metadata": {},
     "output_type": "execute_result"
    }
   ],
   "source": [
    "# generate a simple hash table with 4 keys and 4 values\n",
    "# keys are strings, values are integers\n",
    "# we use dictionary to store the key-value pairs\n",
    "\n",
    "# create a dictionary\n",
    "hash_table = {}\n",
    "\n",
    "# add key-value pairs to the dictionary\n",
    "hash_table[\"one\"] = [1, 2]\n",
    "hash_table[\"two\"] = [1, 2]\n",
    "hash_table[\"two\"] = [1, 2]\n",
    "hash_table[\"three\"] = [1, 2]\n",
    "hash_table[\"four\"] = [1, 2]\n",
    "\n",
    "hash_table.keys()"
   ]
  },
  {
   "cell_type": "code",
   "execution_count": 7,
   "metadata": {},
   "outputs": [
    {
     "data": {
      "text/plain": [
       "[2, 2, 2, 2]"
      ]
     },
     "execution_count": 7,
     "metadata": {},
     "output_type": "execute_result"
    }
   ],
   "source": [
    "[hash_table[value][1] for value in hash_table.keys()]"
   ]
  },
  {
   "cell_type": "code",
   "execution_count": 10,
   "metadata": {},
   "outputs": [
    {
     "data": {
      "text/plain": [
       "False"
      ]
     },
     "execution_count": 10,
     "metadata": {},
     "output_type": "execute_result"
    }
   ],
   "source": [
    "(1, \"Mann\") > (1, \"Take\")"
   ]
  }
 ],
 "metadata": {
  "kernelspec": {
   "display_name": "deep_learning",
   "language": "python",
   "name": "python3"
  },
  "language_info": {
   "codemirror_mode": {
    "name": "ipython",
    "version": 3
   },
   "file_extension": ".py",
   "mimetype": "text/x-python",
   "name": "python",
   "nbconvert_exporter": "python",
   "pygments_lexer": "ipython3",
   "version": "3.9.20"
  }
 },
 "nbformat": 4,
 "nbformat_minor": 2
}
