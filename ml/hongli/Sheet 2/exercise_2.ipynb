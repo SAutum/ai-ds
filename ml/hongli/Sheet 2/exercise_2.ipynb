{
 "cells": [
  {
   "cell_type": "code",
   "execution_count": 1,
   "metadata": {},
   "outputs": [],
   "source": [
    "import pandas as pd\n"
   ]
  },
  {
   "cell_type": "markdown",
   "metadata": {},
   "source": [
    "# Task 1. Key figures (2 points)\n",
    "\n",
    "Calculate the relevant statistics using Python for the values 4, 2, 5, 6, 1, 6, 8, 3, 4, 9 and answer the questions\n",
    "\n",
    "## Standard Deviation"
   ]
  },
  {
   "cell_type": "code",
   "execution_count": 15,
   "metadata": {},
   "outputs": [
    {
     "name": "stdout",
     "output_type": "stream",
     "text": [
      "Standard Deviation: 2.5298221281347035\n"
     ]
    }
   ],
   "source": [
    "df = pd.DataFrame([4, 2, 5, 6, 1, 6, 8, 3, 4, 9 ], columns=['no'])\n",
    "df = df.sort_values(by='no', ignore_index=True)\n",
    "print(\"Standard Deviation: {}\".format(df.no.std(axis=0)))\n"
   ]
  },
  {
   "cell_type": "code",
   "execution_count": 58,
   "metadata": {},
   "outputs": [
    {
     "data": {
      "text/plain": [
       "array([1, 2, 3, 4, 4, 5, 6, 6, 8, 9])"
      ]
     },
     "execution_count": 58,
     "metadata": {},
     "output_type": "execute_result"
    }
   ],
   "source": [
    "df.no.values\n"
   ]
  },
  {
   "cell_type": "markdown",
   "metadata": {},
   "source": [
    "## Skewness"
   ]
  },
  {
   "cell_type": "code",
   "execution_count": 40,
   "metadata": {},
   "outputs": [
    {
     "name": "stdout",
     "output_type": "stream",
     "text": [
      "Mean: 4.8\n",
      "Median: 4.5\n",
      "Mean is greater than median.\n"
     ]
    }
   ],
   "source": [
    "print('Mean: {}'.format(df.mean().values.squeeze()))\n",
    "print('Median: {}'.format(df.median().values.squeeze()))\n",
    "print('Mean is greater than median.')\n",
    "# df.groupby('no').size().plot(x=\"Number\", y=\"Frequency\")\n"
   ]
  },
  {
   "cell_type": "code",
   "execution_count": 46,
   "metadata": {},
   "outputs": [
    {
     "name": "stdout",
     "output_type": "stream",
     "text": [
      "It is even hard to decipher the skewness on the plot.\n"
     ]
    },
    {
     "data": {
      "image/png": "[encoded data removed]",
      "text/plain": [
       "<Figure size 640x480 with 1 Axes>"
      ]
     },
     "metadata": {},
     "output_type": "display_data"
    }
   ],
   "source": [
    "df.groupby('no').size().plot(x=\"Number\", y=\"Frequency\")\n",
    "print(\"It is even hard to decipher the skewness on the plot.\")\n"
   ]
  },
  {
   "cell_type": "code",
   "execution_count": 47,
   "metadata": {},
   "outputs": [
    {
     "name": "stdout",
     "output_type": "stream",
     "text": [
      "Unbiased Skewness: 0.22852397153560583\n",
      "The data is positively skewed.\n"
     ]
    }
   ],
   "source": [
    "print(\"Unbiased Skewness: {}\".format(df.skew().values.squeeze()))\n",
    "print(\"The data is positively skewed.\")\n"
   ]
  },
  {
   "cell_type": "markdown",
   "metadata": {},
   "source": [
    "## Quartiles"
   ]
  },
  {
   "cell_type": "code",
   "execution_count": 56,
   "metadata": {},
   "outputs": [
    {
     "name": "stdout",
     "output_type": "stream",
     "text": [
      "Q0: 1.0\n",
      "Q1: 3.25\n",
      "Q2: 4.5\n",
      "Q3: 6.0\n",
      "Q4: 9.0\n"
     ]
    }
   ],
   "source": [
    "for i in range(5):\n",
    "    print(\"Q{}: {}\".format(i, df.quantile(i/4).values.squeeze()))\n"
   ]
  },
  {
   "cell_type": "markdown",
   "metadata": {},
   "source": [
    "## Outliers\n",
    "\n",
    "Here we try 2-$\\sigma$ method"
   ]
  },
  {
   "cell_type": "code",
   "execution_count": 73,
   "metadata": {},
   "outputs": [
    {
     "name": "stdout",
     "output_type": "stream",
     "text": [
      "No value is outside the range of 2-sigma, so there is no outliers\n"
     ]
    }
   ],
   "source": [
    "sigma = df.no.std()\n",
    "mean = df.no.mean()\n",
    "lower_bound = mean - 2 * sigma\n",
    "upper_bound = mean + 2 * sigma\n",
    "for no in df.no:\n",
    "    if no < lower_bound or\\\n",
    "        no > upper_bound:\n",
    "        print(no)\n",
    "\n",
    "print(\"No value is outside the range of 2-sigma, so there is no outliers\")\n"
   ]
  },
  {
   "cell_type": "markdown",
   "metadata": {},
   "source": [
    "# Task 2. Correlation\n"
   ]
  },
  {
   "cell_type": "markdown",
   "metadata": {},
   "source": [
    "Write a function that calculates the Pearson correlation coefficient between two variables. In this\n",
    "subtask, you are not allowed to use any packages"
   ]
  },
  {
   "cell_type": "code",
   "execution_count": 142,
   "metadata": {},
   "outputs": [],
   "source": [
    "# Here we assume the inputs are lists\n",
    "def add(A, B):\n",
    "    assert len(A) == len(B)\n",
    "    C = []\n",
    "    for i in range(len(A)):\n",
    "        C.append(A[i] + num * B[i])\n",
    "    return C\n",
    "\n",
    "def scalar_mul(A, num):\n",
    "    C = []\n",
    "    for i in range(len(A)):\n",
    "        C.append(A[i] * num)\n",
    "    return C\n",
    "\n",
    "def dot(A, B):\n",
    "    assert len(A) == len(B)\n",
    "    sum = 0\n",
    "    for i in range(len(A)):\n",
    "        sum += A[i] * B[i]\n",
    "    return sum\n",
    "\n",
    "def standard_deviation(A, B):\n",
    "    assert len(A) == len(B)\n",
    "    n = len(A)\n",
    "    mean_A, mean_B = sum(A)/n, sum(B)/n\n",
    "    # subtract the lists by their mean\n",
    "    A_, B_ = [], []\n",
    "    for i in range(len(A)):\n",
    "        A_.append(A[i] - mean_A)\n",
    "        B_.append(B[i] - mean_B)\n",
    "    return (dot(A_, B_)/(n-1))**0.5\n",
    "\n",
    "\n",
    "def pearson_correlation(A, B):\n",
    "    return standard_deviation(A,B)**2/(standard_deviation(A,A)*standard_deviation(B,B))\n"
   ]
  },
  {
   "cell_type": "code",
   "execution_count": 143,
   "metadata": {},
   "outputs": [],
   "source": [
    "import numpy as np\n",
    "A, B = np.random.randn(5), np.random.randn(5)\n",
    "A = list(A); B = list(B)\n"
   ]
  },
  {
   "cell_type": "code",
   "execution_count": 148,
   "metadata": {},
   "outputs": [
    {
     "name": "stdout",
     "output_type": "stream",
     "text": [
      "0.06481018544607428\n",
      "0.0648101854460743\n"
     ]
    }
   ],
   "source": [
    "print(pearson_correlation(A,B))\n",
    "print(np.corrcoef(A,B)[0,1])\n"
   ]
  },
  {
   "cell_type": "markdown",
   "metadata": {},
   "source": [
    "\n",
    "Import the file icecream.csv in the folder data as a table in a Python editor. Examine the data and\n",
    "perform Data Cleaning if necessary.\n",
    "What needs to be considered before the correlation coefficient can be calculated? (1.5 P.)"
   ]
  },
  {
   "cell_type": "code",
   "execution_count": 149,
   "metadata": {},
   "outputs": [
    {
     "data": {
      "text/html": [
       "<div>\n",
       "<style scoped>\n",
       "    .dataframe tbody tr th:only-of-type {\n",
       "        vertical-align: middle;\n",
       "    }\n",
       "\n",
       "    .dataframe tbody tr th {\n",
       "        vertical-align: top;\n",
       "    }\n",
       "\n",
       "    .dataframe thead th {\n",
       "        text-align: right;\n",
       "    }\n",
       "</style>\n",
       "<table border=\"1\" class=\"dataframe\">\n",
       "  <thead>\n",
       "    <tr style=\"text-align: right;\">\n",
       "      <th></th>\n",
       "      <th>Temperature</th>\n",
       "      <th>Ice_Cream_Sales</th>\n",
       "    </tr>\n",
       "  </thead>\n",
       "  <tbody>\n",
       "    <tr>\n",
       "      <th>0</th>\n",
       "      <td>14.2</td>\n",
       "      <td>215</td>\n",
       "    </tr>\n",
       "    <tr>\n",
       "      <th>1</th>\n",
       "      <td>16.4</td>\n",
       "      <td>325</td>\n",
       "    </tr>\n",
       "    <tr>\n",
       "      <th>2</th>\n",
       "      <td>11.9</td>\n",
       "      <td>185</td>\n",
       "    </tr>\n",
       "    <tr>\n",
       "      <th>3</th>\n",
       "      <td>15.2</td>\n",
       "      <td>332</td>\n",
       "    </tr>\n",
       "    <tr>\n",
       "      <th>4</th>\n",
       "      <td>18.5</td>\n",
       "      <td>406</td>\n",
       "    </tr>\n",
       "    <tr>\n",
       "      <th>5</th>\n",
       "      <td>22.1</td>\n",
       "      <td>522</td>\n",
       "    </tr>\n",
       "    <tr>\n",
       "      <th>6</th>\n",
       "      <td>19.4</td>\n",
       "      <td>412</td>\n",
       "    </tr>\n",
       "    <tr>\n",
       "      <th>7</th>\n",
       "      <td>25.1</td>\n",
       "      <td>614</td>\n",
       "    </tr>\n",
       "    <tr>\n",
       "      <th>8</th>\n",
       "      <td>23.4</td>\n",
       "      <td>544</td>\n",
       "    </tr>\n",
       "    <tr>\n",
       "      <th>9</th>\n",
       "      <td>18.1</td>\n",
       "      <td>421</td>\n",
       "    </tr>\n",
       "    <tr>\n",
       "      <th>10</th>\n",
       "      <td>22.6</td>\n",
       "      <td>445</td>\n",
       "    </tr>\n",
       "    <tr>\n",
       "      <th>11</th>\n",
       "      <td>17.2</td>\n",
       "      <td>408</td>\n",
       "    </tr>\n",
       "  </tbody>\n",
       "</table>\n",
       "</div>"
      ],
      "text/plain": [
       "    Temperature  Ice_Cream_Sales\n",
       "0          14.2              215\n",
       "1          16.4              325\n",
       "2          11.9              185\n",
       "3          15.2              332\n",
       "4          18.5              406\n",
       "5          22.1              522\n",
       "6          19.4              412\n",
       "7          25.1              614\n",
       "8          23.4              544\n",
       "9          18.1              421\n",
       "10         22.6              445\n",
       "11         17.2              408"
      ]
     },
     "execution_count": 149,
     "metadata": {},
     "output_type": "execute_result"
    }
   ],
   "source": [
    "df2 = pd.read_csv(\"data/icecream.csv\")\n",
    "df2\n"
   ]
  },
  {
   "cell_type": "markdown",
   "metadata": {},
   "source": [
    "** Note: \n",
    "- There is no missing entries in the dataset.\n",
    "- There seems to be no redundancies/duplications.\n",
    "- There seems to be no inconsistancies."
   ]
  },
  {
   "cell_type": "code",
   "execution_count": 164,
   "metadata": {},
   "outputs": [
    {
     "name": "stdout",
     "output_type": "stream",
     "text": [
      "0     False\n",
      "1     False\n",
      "2     False\n",
      "3     False\n",
      "4     False\n",
      "5     False\n",
      "6     False\n",
      "7     False\n",
      "8     False\n",
      "9     False\n",
      "10    False\n",
      "11    False\n",
      "Name: Temperature, dtype: bool\n",
      "0     False\n",
      "1     False\n",
      "2     False\n",
      "3     False\n",
      "4     False\n",
      "5     False\n",
      "6     False\n",
      "7     False\n",
      "8     False\n",
      "9     False\n",
      "10    False\n",
      "11    False\n",
      "Name: Ice_Cream_Sales, dtype: bool\n"
     ]
    }
   ],
   "source": [
    "mean_t, mean_sales = df2.mean()\n",
    "std_t, std_sales = df2.std()\n",
    "print((df2[\"Temperature\"]> mean_t + 2*std_t) | (df2[\"Temperature\"]< mean_t - 2*std_t))\n",
    "print((df2[\"Ice_Cream_Sales\"]> mean_sales + 2*std_sales) | (df2[\"Ice_Cream_Sales\"]< mean_sales - 2*std_sales))\n"
   ]
  },
  {
   "cell_type": "markdown",
   "metadata": {},
   "source": [
    "** Note: \n",
    "- There is no outliers outside 2-$\\sigma$ range"
   ]
  },
  {
   "cell_type": "markdown",
   "metadata": {},
   "source": [
    "Before calculating the correlation coefficient between the two features, \n",
    "it is necessary to normalize the data, since the order of magnitude of the \n",
    "two set of quantities are clearly different (10 vs 100)\n",
    "\n",
    "Here we use min-max normalization\n",
    "\n",
    "----Update----\n",
    "\n",
    "In fact, the normalization is already done during the correlation coefficient\n",
    "calculation. A pre-normalization **does not** affect the final result at all. See\n",
    "the comparison below.\n",
    "\n",
    "Moreover, we shall be aware that the Pearson's corelation coefficient may only\n",
    "show linear correlation."
   ]
  },
  {
   "cell_type": "code",
   "execution_count": 167,
   "metadata": {},
   "outputs": [
    {
     "data": {
      "text/html": [
       "<div>\n",
       "<style scoped>\n",
       "    .dataframe tbody tr th:only-of-type {\n",
       "        vertical-align: middle;\n",
       "    }\n",
       "\n",
       "    .dataframe tbody tr th {\n",
       "        vertical-align: top;\n",
       "    }\n",
       "\n",
       "    .dataframe thead th {\n",
       "        text-align: right;\n",
       "    }\n",
       "</style>\n",
       "<table border=\"1\" class=\"dataframe\">\n",
       "  <thead>\n",
       "    <tr style=\"text-align: right;\">\n",
       "      <th></th>\n",
       "      <th>Temperature</th>\n",
       "      <th>Ice_Cream_Sales</th>\n",
       "    </tr>\n",
       "  </thead>\n",
       "  <tbody>\n",
       "    <tr>\n",
       "      <th>0</th>\n",
       "      <td>0.174242</td>\n",
       "      <td>0.069930</td>\n",
       "    </tr>\n",
       "    <tr>\n",
       "      <th>1</th>\n",
       "      <td>0.340909</td>\n",
       "      <td>0.326340</td>\n",
       "    </tr>\n",
       "    <tr>\n",
       "      <th>2</th>\n",
       "      <td>0.000000</td>\n",
       "      <td>0.000000</td>\n",
       "    </tr>\n",
       "    <tr>\n",
       "      <th>3</th>\n",
       "      <td>0.250000</td>\n",
       "      <td>0.342657</td>\n",
       "    </tr>\n",
       "    <tr>\n",
       "      <th>4</th>\n",
       "      <td>0.500000</td>\n",
       "      <td>0.515152</td>\n",
       "    </tr>\n",
       "    <tr>\n",
       "      <th>5</th>\n",
       "      <td>0.772727</td>\n",
       "      <td>0.785548</td>\n",
       "    </tr>\n",
       "    <tr>\n",
       "      <th>6</th>\n",
       "      <td>0.568182</td>\n",
       "      <td>0.529138</td>\n",
       "    </tr>\n",
       "    <tr>\n",
       "      <th>7</th>\n",
       "      <td>1.000000</td>\n",
       "      <td>1.000000</td>\n",
       "    </tr>\n",
       "    <tr>\n",
       "      <th>8</th>\n",
       "      <td>0.871212</td>\n",
       "      <td>0.836830</td>\n",
       "    </tr>\n",
       "    <tr>\n",
       "      <th>9</th>\n",
       "      <td>0.469697</td>\n",
       "      <td>0.550117</td>\n",
       "    </tr>\n",
       "    <tr>\n",
       "      <th>10</th>\n",
       "      <td>0.810606</td>\n",
       "      <td>0.606061</td>\n",
       "    </tr>\n",
       "    <tr>\n",
       "      <th>11</th>\n",
       "      <td>0.401515</td>\n",
       "      <td>0.519814</td>\n",
       "    </tr>\n",
       "  </tbody>\n",
       "</table>\n",
       "</div>"
      ],
      "text/plain": [
       "    Temperature  Ice_Cream_Sales\n",
       "0      0.174242         0.069930\n",
       "1      0.340909         0.326340\n",
       "2      0.000000         0.000000\n",
       "3      0.250000         0.342657\n",
       "4      0.500000         0.515152\n",
       "5      0.772727         0.785548\n",
       "6      0.568182         0.529138\n",
       "7      1.000000         1.000000\n",
       "8      0.871212         0.836830\n",
       "9      0.469697         0.550117\n",
       "10     0.810606         0.606061\n",
       "11     0.401515         0.519814"
      ]
     },
     "execution_count": 167,
     "metadata": {},
     "output_type": "execute_result"
    }
   ],
   "source": [
    "df2_norm = (df2 - df2.min()) / (df2.max() - df2.min())\n",
    "df2_norm\n"
   ]
  },
  {
   "cell_type": "markdown",
   "metadata": {},
   "source": [
    "Calculate the correlation coefficient between Temperature and Sales. Interpret the result"
   ]
  },
  {
   "cell_type": "code",
   "execution_count": 169,
   "metadata": {},
   "outputs": [
    {
     "data": {
      "text/html": [
       "<div>\n",
       "<style scoped>\n",
       "    .dataframe tbody tr th:only-of-type {\n",
       "        vertical-align: middle;\n",
       "    }\n",
       "\n",
       "    .dataframe tbody tr th {\n",
       "        vertical-align: top;\n",
       "    }\n",
       "\n",
       "    .dataframe thead th {\n",
       "        text-align: right;\n",
       "    }\n",
       "</style>\n",
       "<table border=\"1\" class=\"dataframe\">\n",
       "  <thead>\n",
       "    <tr style=\"text-align: right;\">\n",
       "      <th></th>\n",
       "      <th>Temperature</th>\n",
       "      <th>Ice_Cream_Sales</th>\n",
       "    </tr>\n",
       "  </thead>\n",
       "  <tbody>\n",
       "    <tr>\n",
       "      <th>Temperature</th>\n",
       "      <td>1.000000</td>\n",
       "      <td>0.957507</td>\n",
       "    </tr>\n",
       "    <tr>\n",
       "      <th>Ice_Cream_Sales</th>\n",
       "      <td>0.957507</td>\n",
       "      <td>1.000000</td>\n",
       "    </tr>\n",
       "  </tbody>\n",
       "</table>\n",
       "</div>"
      ],
      "text/plain": [
       "                 Temperature  Ice_Cream_Sales\n",
       "Temperature         1.000000         0.957507\n",
       "Ice_Cream_Sales     0.957507         1.000000"
      ]
     },
     "execution_count": 169,
     "metadata": {},
     "output_type": "execute_result"
    }
   ],
   "source": [
    "df2_norm.corr()\n"
   ]
  },
  {
   "cell_type": "code",
   "execution_count": 175,
   "metadata": {},
   "outputs": [
    {
     "name": "stdout",
     "output_type": "stream",
     "text": [
      "Pearson's correlation coefficient\n",
      "                 Temperature  Ice_Cream_Sales\n",
      "Temperature         1.000000         0.957507\n",
      "Ice_Cream_Sales     0.957507         1.000000\n",
      "The temperature and ice cream sales are highly positively correlated.\n"
     ]
    }
   ],
   "source": [
    "print(\"Pearson's correlation coefficient\")\n",
    "print(df2.corr())\n",
    "print(\"The temperature and ice cream sales are highly positively correlated.\")\n"
   ]
  },
  {
   "cell_type": "code",
   "execution_count": null,
   "metadata": {},
   "outputs": [],
   "source": []
  },
  {
   "cell_type": "code",
   "execution_count": 186,
   "metadata": {},
   "outputs": [
    {
     "name": "stdout",
     "output_type": "stream",
     "text": [
      "We clearly see a positive linear correlation through the plot.\n"
     ]
    },
    {
     "name": "stderr",
     "output_type": "stream",
     "text": [
      "/home/hongli/anaconda3/envs/APAlg/lib/python3.9/site-packages/pandas/plotting/_matplotlib/core.py:1114: UserWarning: No data for colormapping provided via 'c'. Parameters 'cmap' will be ignored\n",
      "  scatter = ax.scatter(\n"
     ]
    },
    {
     "data": {
      "image/png": "[encoded data removed]",
      "text/plain": [
       "<Figure size 640x480 with 1 Axes>"
      ]
     },
     "metadata": {},
     "output_type": "display_data"
    }
   ],
   "source": [
    "df2.plot(\"Temperature\",\"Ice_Cream_Sales\",kind=\"scatter\", c = \"b\")\n",
    "print(\"We clearly see a positive linear correlation through the plot.\")\n"
   ]
  }
 ],
 "metadata": {
  "kernelspec": {
   "display_name": "Python 3",
   "language": "python",
   "name": "python3"
  },
  "language_info": {
   "codemirror_mode": {
    "name": "ipython",
    "version": 3
   },
   "file_extension": ".py",
   "mimetype": "text/x-python",
   "name": "python",
   "nbconvert_exporter": "python",
   "pygments_lexer": "ipython3",
   "version": "3.9.18"
  }
 },
 "nbformat": 4,
 "nbformat_minor": 2
}
