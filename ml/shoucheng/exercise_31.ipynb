{
 "cells": [
  {
   "cell_type": "code",
   "execution_count": 27,
   "id": "e50de671",
   "metadata": {},
   "outputs": [],
   "source": [
    "import numpy as np\n",
    "import pandas as pd\n",
    "from sklearn.manifold import MDS\n",
    "import matplotlib.pyplot as plt"
   ]
  },
  {
   "cell_type": "code",
   "execution_count": 12,
   "id": "821f19e7",
   "metadata": {},
   "outputs": [],
   "source": [
    "data = pd.read_csv('F:\\学习_进行中\\HHU\\course\\ML\\exercise\\Sheet 3\\data\\eurodist.csv').values[:,1:]"
   ]
  },
  {
   "cell_type": "code",
   "execution_count": 37,
   "id": "be6e9011",
   "metadata": {},
   "outputs": [
    {
     "data": {
      "text/plain": [
       "<matplotlib.collections.PathCollection at 0x1b58b24a6d8>"
      ]
     },
     "execution_count": 37,
     "metadata": {},
     "output_type": "execute_result"
    },
    {
     "data": {
      "image/png": "[encoded data removed]",
      "text/plain": [
       "<Figure size 432x288 with 1 Axes>"
      ]
     },
     "metadata": {
      "needs_background": "light"
     },
     "output_type": "display_data"
    }
   ],
   "source": [
    "embedding = MDS(dissimilarity='precomputed')\n",
    "t_data = embedding.fit_transform(data.T)\n",
    "plt.scatter(t_data[:,0],t_data[:,1])"
   ]
  },
  {
   "cell_type": "markdown",
   "id": "cccefee4",
   "metadata": {},
   "source": [
    "Answer of bonus of task 2:\n",
    "Only if you set the parameter of 'metric' as 'False' when implement MDS in sklearn, it is a classic MDS.\n",
    "\n",
    "Answer of task 3:\n",
    "a) Yes, if we compute the distance of samples by Euclidean distance， then they are equivalent."
   ]
  }
 ],
 "metadata": {
  "kernelspec": {
   "display_name": "Python 3",
   "language": "python",
   "name": "python3"
  },
  "language_info": {
   "codemirror_mode": {
    "name": "ipython",
    "version": 3
   },
   "file_extension": ".py",
   "mimetype": "text/x-python",
   "name": "python",
   "nbconvert_exporter": "python",
   "pygments_lexer": "ipython3",
   "version": "3.6.13"
  }
 },
 "nbformat": 4,
 "nbformat_minor": 5
}
