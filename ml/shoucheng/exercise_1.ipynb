{
 "cells": [
  {
   "cell_type": "code",
   "execution_count": 138,
   "id": "b5568fde",
   "metadata": {},
   "outputs": [],
   "source": [
    "from collections import Counter\n",
    "import string\n",
    "import re\n",
    "import itertools\n",
    "import numpy as np"
   ]
  },
  {
   "cell_type": "markdown",
   "id": "6daadb5f",
   "metadata": {},
   "source": [
    "Task1"
   ]
  },
  {
   "cell_type": "code",
   "execution_count": 8,
   "id": "87b6876e",
   "metadata": {},
   "outputs": [
    {
     "name": "stdout",
     "output_type": "stream",
     "text": [
      "Heinrich Heine University Düsseldorf (abbr. HHU; German: Heinrich-Heine-Universität Düsseldorf) is a public university in North Rhine-Westphalia, Germany, which was founded in 1965 as the successor organisation to Düsseldorf's Medical Academy of 1907 and was named after German poet Heinrich Heine.\n",
      "\n",
      "Following several expansions throughout the decades, the university has comprised five faculties since 1993. Currently, more than 36,000 full-time students are studying at HHU. There is a total staff of approximately 3,600 persons at HHU (academic and non-academic).\n",
      "\n",
      "History\n",
      "\n",
      "Facilities of the Faculty of Arts and Humanities. The background to the right shows construction works of the Faculty of Mathematics and Natural Sciences (around 1973).\n",
      "Düsseldorf University began with the Düsseldorf Academy for Practical Medicine in 1907. The city's first real university, however, was only founded in 1965 by adding a combined Faculty of Natural Sciences–Arts and Humanities to the existing medical one. Only four years later, the university split the combined faculty into two separate bodies, which led to the constitution of a Faculty of Arts and Humanities as well as a Faculty of Mathematics and Natural Sciences. In 1979 a modern University and State Library was opened to the public, and a sports centre was added in 1980/81. Following a quarrel[2] of more than 23 years, the \"nameless\" university of Düsseldorf was finally christened after the poet Heinrich Heine, one of Düsseldorf's most famous sons, in 1989. From this period on, the campus university has been opening up towards the city and its citizens. Heinrich Heine University's Faculty of Business Administration and Economics opened in 1990, and the Faculty of Law opened in 1993.\n",
      "\n",
      "Campus and grounds\n",
      "HHU's roughly triangular campus is located in the southeast of Düsseldorf, in the Bilk district. To the north, it borders the campus of the university hospital with which it forms a unit. Both campuses together expand over approximately 1,300,000 square metres (circa 130 hectares). This unusually direct link between university and university hospital creates a \"scientific suburb\" on Düsseldorf's south-eastern border.\n",
      "\n",
      "At the moment many buildings on campus are being renovated and modernized, especially the lecture halls; 4 of the lecture halls will have been completely renovated by the autumn of 2013. As with many structures of the 1960s and 1970s, the building substance needs to be updated in terms of technical specifications and health requirements. New sections, such as the Student Service Center (SSC), have been added to existing parts of the campus. Already completed are the new Oeconomicum building (Faculty of Business Administration and Economics) and the new O.A.S.E. library (medical literature) – the latter one of Germany's most up-to-date structures for individual study and group work.\n",
      "\n",
      "Faculties\n",
      "Medicine\n",
      "With more than 3,000 students in the winter semester 2011/12, the Medical Faculty is HHU's third largest unit. Study offers range from Medicine and Dentistry (state examination) through Toxicology (MSc) to Public Health and Endocrinology (both MSc, further education). Graduate studies have been institutionalised in the form of the faculty-wide Medical Research School Düsseldorf, which offers networking, services and counselling for both graduate students and their supervisors.[5] Further structured doctorate support is provided by research training groups in neurosciences (RTG 1033, iBrain), in hepatology (research training in CRC 974) and in tumor research (Düsseldorf School of Oncology DSO). Research hubs with a significant volume of third-party founded collaborative projects are hepatology (CRC 974 and Research Unit 217), cardiovascular research, neurosciences, surgery (Research Unit 1585), infectiology and immunology (Research Unit 729), and diabetes and metabolism research.[6] The Biomedical Research Centre (BMFZ), the Leibniz-Institute for Environmental Medicine (IUF), the C. and O. Vogt Institute for Brain Research and the German Diabetes Centre (DDZ) are important organisations that form the local research environment.\n",
      "\n",
      "Arts and Humanities\n",
      "About 8,000 students (winter semester 2011/12) in currently 26 B.A. and M.A. programmes make the Faculty of Arts and Humanities HHU's largest unit. It offers the prestigious M.A. in European Studies, a unique one-year English-taught course especially designed for exceptional graduates from universities in Israel, Palestine and Jordan.[7] Recently, the program became increasingly popular with graduates from other regions globally. The German-French master programme Media Culture Analysis / Analyse de Pratiques Culturelles, enables students to obtain a double diploma of both the HHU and the University of Nantes. At doctoral level the academy of the Faculty of Arts and Humanities, PhilGrad, offers a broad range of counselling and career-relevant courses. Further support for structured doctorates provide programmes in the history of art (RTG 1678), in linguistics (research training in CRC 991), in ageing-related studies and in democracy research (Link.De) as well as within two German-Italian programmes (Interculturality and Communication, \"Doctor Europaeus\"). Among the research hubs in the faculty are linguistics (CRC 991), politics (Research Unit 1381), ancient history (funded by the NRW Academy for the Arts and Sciences), the history of art, and editing studies (complete works editions of Max Weber and Martin Buber in progress). Beyond that, the Faculty of Arts and Humanities contributes to HHU's Institute of German and International Party Law and Party Research (PRuF).\n",
      "\n",
      "Mathematics and Natural Sciences\n",
      "HHU's second largest faculty offers its approximately 6,500 students (winter semester 2011/12) ten basic programmes (B.A. and state examination) and nine graduate programmes (MSc). Special programmes such as the four-year \"bachelor plus\", in which students spend one year at Michigan State University in East Lansing or at the University of Western Australia in Perth, and the international MSc in Biology enable students to gain international experience. The faculty has institutionalised support for doctoral studies in the form of iGRAD, the Interdisciplinary Graduate and Research Academy Düsseldorf to establish network structures and offer counselling and training services for doctoral students, supervisors and research training groups.[9] Further backing for structured doctorates provide the following programmes: RTG 1203 Dynamics in Hot Plasms (DFG), Graduate Cluster CLIB, NRW Research Academy Biostruct, RTG \"Molecules of Infection\" (Manchot Foundation), the international graduate school iGRAD-Plant in collaboration with the Forschungszentrum Jülich and Michigan State University, US; and the internally funded initiatives vivid, e-norm, and iGRASPseed. Research hubs with a significant volume of third-party founded collaborative projects are biology (Cluster of Excellence on Plant Sciences CEPLAS) and physics (CRC-TR 6, CRC-TR 18).[10] The Biomedical Research Center (BMFZ) and the Bioeconomy Science Center (a cluster of 54 departments of the universities of Aachen, Bonn and Düsseldorf, as well as the Forschungszentrum Jülich) are important organisations forming the local research environment.\n",
      "\n",
      "Business Administration and Economics\n",
      "One of HHU's smaller faculties, the Faculty of Business Administration and Economics, attracted about 1,100 students in the winter semester 2011/12. The faculty is housed in the futuristic Oeconomicum building and offers Business Administration (BSc and MSc), Economics (BSc and MSc) and Business Chemistry (BSc and MSc, in cooperation with the Faculty of Mathematics and Natural Sciences). Further education is provided by the Düsseldorf Business School (DBS), which offers MBA-Programmes against a tuition fee. Examples are General Management MBAs (in German as well as in English) and Health Management (in cooperation with the Health Care Academy Düsseldorf). A major research hub in economics is competition economics, funded through the DFG ANR Project and centred in the Düsseldorf Institute for Competition Economics (DICE). Business studies focus on finance, accounting, management and marketing.\n",
      "\n",
      "Law\n",
      "Düsseldorf's Faculty of Law is one of the highest-ranked law schools in all of Germany and is also regarded as such by the country's leading lawyers and judges. The law studies in Düsseldorf are very exclusive and in 2017 and 2018 the faculty had the highest admission requirements out of all law schools in Germany. Only 320 new students are admitted each year.\n",
      "\n",
      "The Faculty of Law offers practically oriented courses for the state examination in law through cooperation with various local institutions (e.g. courts such as the Appeal Court, District Court and Fiscal Court).\n",
      "\n",
      "Beyond that, a specialty is a German-French course of law studies organized together with the University of Cergy-Pontoise near Paris which annually gives 15 German and 15 French law students the possibility to study both legal systems since 2005.[12] Graduates of this three year law course are awarded the German legal \"Zwischenprüfung\" (German LL.B. equivalent) as well as the French \"licence mention droit\" (French LL.B. equivalent). Since 2008, the universities offer a subsequent two-year course whose participants specialize in business, labor as well as employment law and graduate with the French \"Master 2 mention droit de l'entreprise\" (French J.D. equivalent).[12] Subsequently, they are also eligible for the German state examination in law (German J.D. equivalent) and for an admission exam with a French attorney's law school (École de formation de barreau – EFB).[13]\n",
      "\n",
      "Another speciality is an extra-curricular qualification in Anglo-American law.\n",
      "\n",
      "Further education is provided by Düsseldorf Law School (DLS), which offers postgraduate masters in the protection of commercial rights, information rights and medical rights against a tuition fee. Research focuses on commercial law, European law and international law. Hubs are the Centre for Information and Technology Law (ZfI), the Centre for Medical Law (IMR), the Insurance Law Institute, and the Institute of German and International Party Law and Party Research (PRuF).\n",
      "\n",
      "Research\n",
      "HHU's motto, \"Life.Nature.Society\", suggests its core competencies in research and teaching. Effective cooperation with university and non-university partners led to a rise in third-party funding from 49 million Euros in 2008 to 67 million Euros in 2011. Projects of the Medical Faculty account for circa 35 million Euros of this competitive budget.[20]\n",
      "\n",
      "Renowned research collaborations and high-class individual projects made various national and international successes possible:\n",
      "\n",
      "National\n",
      "In 2012 HHU and its partner institutions – the University of Cologne, the Max Planck Institute for Plant Breeding Research and Forschungszentrum Jülich – received the grant for the Cluster of Excellence CEPLAS in the Excellence Initiative of the German Federal and State Governments. CEPLAS will investigate solutions for a resource-efficient plant growth against the backdrop of a growing world population on the one hand and dwindling natural resources on the other.[21]\n",
      "\n",
      "The Neuroscience Network Düsseldorf is a collaborative research network in which basic and clinical neuroscientists from the Heinrich Heine University (HHU) Düsseldorf, the Research Centre Jülich, and the IUF - Leibniz Research Institute for Environmental Medicine Düsseldorf work together in multidisciplinary projects ranging from basic brain research to translational and clinical neuroscience. Researchers at HHU are for example, part of the Human Brain Project.\n",
      "\n",
      "International\n",
      "HHU is currently involved in 23 international projects funded within the EU's Seventh Framework Programme. 11 further international projects have just ended. Twelve HHU researchers at the Faculty of Mathematics and Natural Sciences currently have the prestigious ERC Grants.[22]\n",
      "\n",
      "A culture of entrepreneurship\n",
      "HHU promotes research- and knowledge-based start-ups. Its concept to strengthen an entrepreneurial culture at and around HHU was successful in the EXIST competition of the Federal Ministry of Economics and Technology (Germany). The Centre for Entrepreneurship Düsseldorf (CEDUS) functions as HHU's local one-stop shop for all queries related to self-employment and starting one's own company. Available support includes coaching, the acquisition of grants, professional training and further education.[23] The transfer agency DIWA GmbH is responsible for any coordinated activity in this field.\n",
      "\n",
      "Teaching\n",
      "Teaching enjoys top priority at HHU. In recent years, the university has undertaken substantial efforts to improve study conditions and the quality of teaching through various projects:\n",
      "\n",
      "HHU successfully competed in the Quality Pact for Teaching of the Federal Government and the Länder. This resulted in a nine-million-Euro grant for the university's integrated quality improvement scheme \"iQu\" over the coming five years. Cornerstones of this project are increased students' success rates at high levels of academic quality, designing a systematic training concept for all teaching staff, and reinforcing the e-learning and e-teaching concepts already established during the HeinEComp project.[24]\n",
      "\n",
      "To support new students during their first weeks and months at HHU, senior students have been offering orientation tutorials for several years. These are meant to communicate both subject-specific studying and working techniques as well as to act as practical guides to the support and service structures of the university.\n",
      "\n",
      "In addition to academic knowledge, social key competences and language skills are essential prerequisites for a successful start into working life. This is why HHU offers counselling and training in job-relevant skills through its Careers service, the Languages Centre, the Department German as a Foreign Language, the General Studies Centre, and the job-oriented modular study programme KUBUS. These services, which are open to all students, have been combined under the roof of the Student Academy since October 2012.[25]\n",
      "\n",
      "HHU invests up to 300,000 Euros per year to promote teaching and study projects that feature outstanding innovations. This nationally unique action has so far supported nearly one hundred projects since the implementation of the respective teaching fund in 2008. Beyond that, students can nominate especially active and innovative teachers for several awards. The hein@ward for e-teaching and the HHU teaching award, for example, make original teaching and study concepts visible within the university community.\n",
      "\n"
     ]
    }
   ],
   "source": [
    "file = open('C:\\\\Users\\\\shouc\\\\Desktop\\\\学习_进行中\\\\HHU\\\\course\\\\ML\\\\exercise\\\\exercise1\\\\hhu_wikipedia.txt',encoding='UTF-8', errors='ignore')\n",
    "page = file.read()\n",
    "print(page)"
   ]
  },
  {
   "cell_type": "code",
   "execution_count": 9,
   "id": "1df218ea",
   "metadata": {},
   "outputs": [],
   "source": [
    "file.close()"
   ]
  },
  {
   "cell_type": "code",
   "execution_count": 13,
   "id": "9df83385",
   "metadata": {},
   "outputs": [],
   "source": [
    "frequency = page.count('Mathematics')"
   ]
  },
  {
   "cell_type": "code",
   "execution_count": 48,
   "id": "848e151a",
   "metadata": {},
   "outputs": [
    {
     "name": "stdout",
     "output_type": "stream",
     "text": [
      "[('the', 146), ('and', 116), ('of', 78), ('in', 67), ('for', 34), ('research', 34), ('a', 31), ('to', 27), ('faculty', 24), ('as', 23)]\n"
     ]
    }
   ],
   "source": [
    "word_c = re.sub(r'[^\\w\\s]', '', page).lower().split(\" \")\n",
    "word_freq = Counter(word_c)\n",
    "top_ten = word_freq.most_common(10)\n",
    "print(top_ten)"
   ]
  },
  {
   "cell_type": "markdown",
   "id": "6d70e993",
   "metadata": {},
   "source": [
    "Task2"
   ]
  },
  {
   "cell_type": "code",
   "execution_count": 136,
   "id": "9059e65a",
   "metadata": {},
   "outputs": [],
   "source": [
    "def m_transpose(m, n):\n",
    "    i0 = i1 = [i for i in range(n)]\n",
    "    i_m = list(itertools.product(i0,i1))\n",
    "    m1 = [m[i[1]][i[0]] for i in i_m]\n",
    "    m11 = [[]]*n\n",
    "    for j in range(n):\n",
    "        m11[j].append(m1[j*n:(j+1)*n])        \n",
    "    return m1"
   ]
  },
  {
   "cell_type": "code",
   "execution_count": 137,
   "id": "60379144",
   "metadata": {},
   "outputs": [
    {
     "name": "stdout",
     "output_type": "stream",
     "text": [
      "[1, 4, 7, 2, 5, 8, 3, 6, 9]\n"
     ]
    }
   ],
   "source": [
    "print(m_transpose([[1,2,3],[4,5,6],[7,8,9]], 3))"
   ]
  },
  {
   "cell_type": "code",
   "execution_count": 139,
   "id": "6d05da83",
   "metadata": {},
   "outputs": [],
   "source": [
    "def det_cal(m):\n",
    "    m0 = np.array(m)\n",
    "    det = np.linalg.det(m0)\n",
    "    return det"
   ]
  },
  {
   "cell_type": "code",
   "execution_count": 141,
   "id": "7fc52c96",
   "metadata": {},
   "outputs": [
    {
     "name": "stdout",
     "output_type": "stream",
     "text": [
      "-9.51619735392994e-16\n"
     ]
    }
   ],
   "source": [
    "print(det_cal([[1,2,3],[4,5,6],[7,8,9]]))"
   ]
  },
  {
   "cell_type": "code",
   "execution_count": 162,
   "id": "98d29c11",
   "metadata": {},
   "outputs": [],
   "source": [
    "def m_mult(m,n):\n",
    "    m1 = np.zeros((3,3))\n",
    "    m=np.array(m)\n",
    "    n=np.array(n)\n",
    "    for i in range(3):\n",
    "        for j in range(3):\n",
    "            m1[i][j] = np.sum(np.dot(m[i,:],n[:,j]))\n",
    "    return m1"
   ]
  },
  {
   "cell_type": "code",
   "execution_count": 163,
   "id": "6d2fbf9c",
   "metadata": {},
   "outputs": [
    {
     "name": "stdout",
     "output_type": "stream",
     "text": [
      "[[10. 11. 13.]\n",
      " [20. 22. 26.]\n",
      " [30. 33. 39.]]\n"
     ]
    }
   ],
   "source": [
    "print(m_mult([[1,1,1],[2,2,2],[3,3,3]],[[1,3,2],[5,2,2],[4,6,9]]))"
   ]
  }
 ],
 "metadata": {
  "kernelspec": {
   "display_name": "Python 3",
   "language": "python",
   "name": "python3"
  },
  "language_info": {
   "codemirror_mode": {
    "name": "ipython",
    "version": 3
   },
   "file_extension": ".py",
   "mimetype": "text/x-python",
   "name": "python",
   "nbconvert_exporter": "python",
   "pygments_lexer": "ipython3",
   "version": "3.6.13"
  }
 },
 "nbformat": 4,
 "nbformat_minor": 5
}
