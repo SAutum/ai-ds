{
 "cells": [
  {
   "cell_type": "code",
   "execution_count": 2,
   "id": "82f56cf7",
   "metadata": {},
   "outputs": [],
   "source": [
    "import numpy as np\n",
    "import pandas as pd\n",
    "import matplotlib.pyplot as plt"
   ]
  },
  {
   "cell_type": "code",
   "execution_count": 3,
   "id": "27a36781",
   "metadata": {},
   "outputs": [],
   "source": [
    "dat = pd.read_csv('F:\\学习_进行中\\HHU\\course\\ML\\exercise\\Sheet 3\\data\\dat.csv').values[:,1:]"
   ]
  },
  {
   "cell_type": "code",
   "execution_count": 4,
   "id": "41697522",
   "metadata": {},
   "outputs": [],
   "source": [
    "#calculate mean of dat\n",
    "dat_mean = dat.mean(0)\n",
    "#calculate standard deviation of dat\n",
    "dat_dev = np.std(dat, axis=0)\n",
    "#calculate the standarlized dataset\n",
    "dat_new = (dat - dat_mean)/dat_dev"
   ]
  },
  {
   "cell_type": "code",
   "execution_count": 10,
   "id": "09b1be52",
   "metadata": {},
   "outputs": [],
   "source": [
    "#compute the covariance matrix\n",
    "cov = np.array(np.cov(dat_new.T))\n",
    "eigenvalues, eigenvectors = np.linalg.eig(cov)"
   ]
  },
  {
   "cell_type": "code",
   "execution_count": 22,
   "id": "b2132d06",
   "metadata": {},
   "outputs": [
    {
     "name": "stdout",
     "output_type": "stream",
     "text": [
      "the contribute of two eigenvalues are 0.03, 0.97 respectively.\n",
      "[ 0.70710678 -0.70710678]\n"
     ]
    }
   ],
   "source": [
    "#calculate the contribute of each eigenvalues\n",
    "c = eigenvalues/sum(eigenvalues)\n",
    "print(\"the contribute of two eigenvalues are %.2f, %.2f respectively.\" %(c[0],c[1]))\n",
    "#the corresponding eigenvectors of the larger eigenvalue\n",
    "idx = eigenvalues.argsort()[-1]\n",
    "e1 = eigenvectors[idx]"
   ]
  },
  {
   "cell_type": "code",
   "execution_count": 27,
   "id": "ca249425",
   "metadata": {},
   "outputs": [
    {
     "name": "stdout",
     "output_type": "stream",
     "text": [
      "[-0.406847   -0.01700642  0.11155845 -0.14971727  0.36868819 -0.02944436\n",
      " -0.1621552   0.35625025 -0.29486605  0.2235394 ]\n"
     ]
    },
    {
     "data": {
      "text/plain": [
       "[<matplotlib.lines.Line2D at 0x1dad7e1bf28>]"
      ]
     },
     "execution_count": 27,
     "metadata": {},
     "output_type": "execute_result"
    },
    {
     "data": {
      "image/png": "[encoded data removed]",
      "text/plain": [
       "<Figure size 432x288 with 1 Axes>"
      ]
     },
     "metadata": {
      "needs_background": "light"
     },
     "output_type": "display_data"
    }
   ],
   "source": [
    "#calculate the 1st component\n",
    "p1 = np.dot(dat_new, e1)"
   ]
  }
 ],
 "metadata": {
  "kernelspec": {
   "display_name": "Python 3",
   "language": "python",
   "name": "python3"
  },
  "language_info": {
   "codemirror_mode": {
    "name": "ipython",
    "version": 3
   },
   "file_extension": ".py",
   "mimetype": "text/x-python",
   "name": "python",
   "nbconvert_exporter": "python",
   "pygments_lexer": "ipython3",
   "version": "3.6.13"
  }
 },
 "nbformat": 4,
 "nbformat_minor": 5
}
