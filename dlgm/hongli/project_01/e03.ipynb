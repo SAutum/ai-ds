{
 "cells": [
  {
   "cell_type": "markdown",
   "metadata": {
    "vscode": {
     "languageId": "plaintext"
    }
   },
   "source": [
    "\"there are many available options for these design choices, leading to various trade-offs in terms of the learned representation\"\n",
    "\n",
    "- Learning the `log variance` instead of variance of the latent space encourages learning stability:\n",
    "    https://stats.stackexchange.com/questions/353220/why-in-variational-auto-encoder-gaussian-variational-family-we-model-log-sig\n",
    "- Expand the standard VAE to a beta one. Maybe something interesting would come up\n",
    "- VAE learns representations in a small latent space. Why don't we try squeezing resnet structure inside it?"
   ]
  },
  {
   "cell_type": "code",
   "execution_count": 1,
   "metadata": {},
   "outputs": [],
   "source": [
    "import numpy as np\n",
    "import torch\n",
    "import torch.nn as nn\n",
    "import torch.functional as F\n",
    "import torch.random as random\n",
    "import torchvision.transforms as T\n",
    "from torch.utils.data import Dataset\n",
    "from torch.utils.data import Sampler\n",
    "from torch.utils.data import DataLoader\n",
    "from torch.optim import Adam\n",
    "from tqdm.notebook import tqdm\n",
    "\n",
    "from VAEDataLoader import BrainImageDataset, BrainRandomSampler"
   ]
  },
  {
   "cell_type": "code",
   "execution_count": 2,
   "metadata": {},
   "outputs": [],
   "source": [
    "# check if the GPU is available\n",
    "device = torch.device('cuda' if torch.cuda.is_available() else 'cpu')"
   ]
  },
  {
   "cell_type": "markdown",
   "metadata": {},
   "source": [
    "# VAE model\n",
    "\n",
    "interestingly:\n",
    "\n",
    "In forward pass, there is a step of sampling $\\varepsilon$ from standard normal \n",
    "distribution. In my opinion it turns the stochastic process to a deterministic\n",
    "one: from all possible generated images $\\hat{x}$ given input image $x$, \n",
    "we sample only one of them, using (more or less) normally distributed latent \n",
    "variables. Without sampling the backprop won't work (that's also why we need \n",
    "reparametrization trick)\n",
    "> update 20241121:\\\n",
    "It just looks like the model samples one of the image, in fact at \n",
    "the output of the decode nn is $\\mu_{x|z}$, the mean of the distribution\n",
    "$q_{\\phi}(x|z)$, assumming the covariance matrix is identity.\n",
    "\n",
    "In analogy, in reinforcement learning with MDP model, each time we sample one\n",
    "sequence (so-called episode) till termination. Out of all possible outcomes,\n",
    "we see only one outcome in one episode. And we trained the model based on this\n",
    "outcome.\n",
    "\n",
    "This makes me wonder: in VAE, if we **reuse** the image we trained already, \n",
    "could we dig more information from it simply by resampling? \n",
    "The resampled image from the latent space\n",
    "is most likely different from the previous one, with similarities.\n",
    "And the cross-entropy value should be different.\n",
    "\n",
    "Furthermore, in classification problem, when we choose the most probable class\n",
    "from the softmaxed linear output layer as the label, we are also \"sampling\", \n",
    "i.e. turning stochastic into deterministic. \n",
    "However, in the learning phase we kept the stochasticity in cross entropy."
   ]
  },
  {
   "cell_type": "code",
   "execution_count": null,
   "metadata": {},
   "outputs": [],
   "source": [
    "class VariationalAutoEncoder(nn.Module):\n",
    "    \"\"\" implementation of the Variational AutoEncoder\n",
    "\n",
    "    Args:\n",
    "        - device: the device to run the model on\n",
    "        - input_size: the size of the input data\n",
    "        - hidden_size: the size of the hidden layer\n",
    "        - z_space_size: the size of the latent space\n",
    "    \"\"\"\n",
    "\n",
    "    def __init__(self, device,\n",
    "                 input_size: int,\n",
    "                 latent_space_size: int = 10,\n",
    "                 ) -> None:\n",
    "        super(VariationalAutoEncoder, self).__init__()\n",
    "\n",
    "        self.device = device\n",
    "        self.input_size = input_size\n",
    "\n",
    "        # encoder: from x to two channels: mean and log_var\n",
    "        self.encoder = nn.Sequential(\n",
    "            nn.Conv2d(1, 8, kernel_size=4, stride=2, padding=1),\n",
    "            nn.ReLU(),\n",
    "            nn.Conv2d(8, 16, kernel_size=4, stride=2, padding=1),\n",
    "            nn.ReLU(),\n",
    "            nn.Conv2d(16, 32, kernel_size=4, stride=2, padding=1),\n",
    "            nn.LeakyReLU(0.2),\n",
    "            nn.Conv2d(32, 32, kernel_size=4, stride=2, padding=1),\n",
    "            nn.LeakyReLU(0.2),\n",
    "            )\n",
    "\n",
    "        # mean and logvariance layers from the input to the latent space\n",
    "        linear_size = 32*input_size**2//(16*16)\n",
    "\n",
    "        self.mean_layer = nn.Linear(linear_size, latent_space_size)\n",
    "        self.logvar_layer = nn.Linear(linear_size, latent_space_size)\n",
    "\n",
    "        self.decode_linear = nn.Linear(latent_space_size, linear_size)\n",
    "\n",
    "        # decoder: from z to x^hat\n",
    "        self.decoder = nn.Sequential(\n",
    "            nn.ConvTranspose2d(32, 32, kernel_size=4, stride=2, padding=1),\n",
    "            nn.ReLU(),\n",
    "            nn.ConvTranspose2d(32, 16, kernel_size=4, stride=2, padding=1),\n",
    "            nn.ReLU(),\n",
    "            nn.ConvTranspose2d(16, 8, kernel_size=4, stride=2, padding=1),\n",
    "            nn.ReLU(),\n",
    "            nn.ConvTranspose2d(8, 1, kernel_size=4, stride=2, padding=1),\n",
    "            )\n",
    "\n",
    "    def encode(self, x):\n",
    "        return self.encoder(x)\n",
    "\n",
    "    def decode(self, z):\n",
    "        return self.decoder(z)\n",
    "\n",
    "    # reparameterization trick, the randomness is pushed outside the network\n",
    "    # z = mu + sigma * epsilon, where epsilon ~ N(0, 1)\n",
    "    def reparameterize(self, mean, log_var):\n",
    "        # similar to mean, epsilon is in fact a vector of\n",
    "        # size of the latent space\n",
    "        epsilon = torch.randn_like(mean).to(self.device)\n",
    "        std = torch.exp(0.5 * log_var)\n",
    "        # return the latent space vector\n",
    "            # here the variance is also modeled as a vector, mathematically it\n",
    "            # should be a diagonal matrix and epsilon should be matrix\n",
    "            # multiplied with the variance matrix\n",
    "        z = mean +  std * epsilon\n",
    "        return z\n",
    "\n",
    "    def forward(self, x):\n",
    "        # put everything together\n",
    "        x = self.encode(x)\n",
    "        x = x.view(x.size(0), -1)\n",
    "        mean = self.mean_layer(x)\n",
    "        log_var = self.logvar_layer(x)\n",
    "\n",
    "        z = self.reparameterize(mean, log_var)\n",
    "        z = self.decode_linear(z)\n",
    "        z = z.view(z.size(0), -1, self.input_size//16, self.input_size//16)\n",
    "\n",
    "        x_hat = self.decode(z)\n",
    "        return x_hat, mean, log_var"
   ]
  },
  {
   "cell_type": "code",
   "execution_count": 4,
   "metadata": {},
   "outputs": [
    {
     "name": "stdout",
     "output_type": "stream",
     "text": [
      "----------------------------------------------------------------\n",
      "        Layer (type)               Output Shape         Param #\n",
      "================================================================\n",
      "            Conv2d-1           [256, 8, 32, 32]             136\n",
      "              ReLU-2           [256, 8, 32, 32]               0\n",
      "            Conv2d-3          [256, 16, 16, 16]           2,064\n",
      "              ReLU-4          [256, 16, 16, 16]               0\n",
      "            Conv2d-5            [256, 32, 8, 8]           8,224\n",
      "         LeakyReLU-6            [256, 32, 8, 8]               0\n",
      "            Conv2d-7            [256, 32, 4, 4]          16,416\n",
      "         LeakyReLU-8            [256, 32, 4, 4]               0\n",
      "            Linear-9                  [256, 10]           5,130\n",
      "           Linear-10                  [256, 10]           5,130\n",
      "           Linear-11                 [256, 512]           5,632\n",
      "  ConvTranspose2d-12            [256, 32, 8, 8]          16,416\n",
      "             ReLU-13            [256, 32, 8, 8]               0\n",
      "  ConvTranspose2d-14          [256, 16, 16, 16]           8,208\n",
      "             ReLU-15          [256, 16, 16, 16]               0\n",
      "  ConvTranspose2d-16           [256, 8, 32, 32]           2,056\n",
      "             ReLU-17           [256, 8, 32, 32]               0\n",
      "  ConvTranspose2d-18           [256, 1, 64, 64]             129\n",
      "             ReLU-19           [256, 1, 64, 64]               0\n",
      "================================================================\n",
      "Total params: 69,541\n",
      "Trainable params: 69,541\n",
      "Non-trainable params: 0\n",
      "----------------------------------------------------------------\n",
      "Input size (MB): 4.00\n",
      "Forward/backward pass size (MB): 131.04\n",
      "Params size (MB): 0.27\n",
      "Estimated Total Size (MB): 135.30\n",
      "----------------------------------------------------------------\n"
     ]
    }
   ],
   "source": [
    "model = VariationalAutoEncoder(device, 64).to(device)\n",
    "from torchsummary import summary\n",
    "summary(model, batch_size = 256, input_size=(1, 64, 64))"
   ]
  },
  {
   "cell_type": "markdown",
   "metadata": {},
   "source": [
    "# Loss function\n",
    "\n",
    "reconstruction: the ability to copy the original image\n",
    "Sample only once\n",
    "$$E_{q_{\\phi}(z|x)}[log (p_{\\theta}(x|z))] -> log(p_{\\theta}(x|z))$$\n"
   ]
  },
  {
   "cell_type": "code",
   "execution_count": 33,
   "metadata": {},
   "outputs": [],
   "source": [
    "# reconstruction loss ()) - beta KL divergence (regularization)\n",
    "\n",
    "class ELBO(nn.Module):\n",
    "    def __init__(self, beta=1):\n",
    "        super(ELBO, self).__init__()\n",
    "        self.beta = beta\n",
    "\n",
    "    def forward(self, x_hat, x, mean, log_var):\n",
    "        \"\"\"\n",
    "        Args:\n",
    "            - x_hat: the reconstructed data (mean of the Gaussian p(x|z))\n",
    "            - x: the original data\n",
    "            - mean: the mean of the latent space\n",
    "            - log_var: the log variance of the latent space\n",
    "            - beta: the regularization parameter\n",
    "        \"\"\"\n",
    "        # reconstruction loss\n",
    "        # since the input is not binary, we use the mean squared error\n",
    "        MSE = nn.MSELoss(reduction='sum')\n",
    "        reconstruction_loss = MSE(x_hat, x)\n",
    "        # KL divergence between the conditional distribution of the latent space\n",
    "        # p(z|x) and the prior distribution p(z) = N(0, 1)\n",
    "        kl_divergence = -0.5 * torch.sum(1 + log_var - mean.pow(2) - log_var.exp())\n",
    "        # print(reconstruction_loss, kl_divergence)\n",
    "        return (reconstruction_loss + self.beta * kl_divergence)"
   ]
  },
  {
   "cell_type": "markdown",
   "metadata": {},
   "source": [
    "# Training"
   ]
  },
  {
   "cell_type": "code",
   "execution_count": 29,
   "metadata": {},
   "outputs": [],
   "source": [
    "# copied from DL course\n",
    "def train_one_epoch(model, optimizer, train_loader, criterion, device):\n",
    "    model.train()\n",
    "    loss_step = []\n",
    "    for data in tqdm(train_loader, leave=False, desc=\"Training\"):\n",
    "        inp_data = data\n",
    "        inp_data = inp_data.to(device)\n",
    "        output_data, mean, log_var = model(inp_data)\n",
    "        loss = criterion(output_data, inp_data, mean, log_var)\n",
    "        optimizer.zero_grad()\n",
    "        loss.backward()\n",
    "        optimizer.step()\n",
    "        loss_step.append(loss.item())\n",
    "    loss_curr_epoch = np.mean(loss_step)\n",
    "    return loss_curr_epoch\n",
    "\n",
    "def validate(model, val_loader, criterion, device):\n",
    "    model.eval()\n",
    "    correct, total = 0, 0\n",
    "    loss_step = []\n",
    "    with torch.no_grad():\n",
    "        for data in tqdm(val_loader, desc=\"Validating\", leave=False):\n",
    "            inp_data = data\n",
    "            inp_data = inp_data.to(device)\n",
    "            output_data, mean, log_var = model(inp_data)\n",
    "            val_loss = criterion(output_data, inp_data, mean, log_var)\n",
    "            loss_step.append(val_loss.item())\n",
    "        val_loss_epoch = np.mean(loss_step)\n",
    "        return val_loss_epoch\n",
    "\n",
    "def save_model(model, path, epoch, optimizer, val_loss):\n",
    "    torch.save({\n",
    "        'epoch': epoch,\n",
    "        'model_state_dict': model.state_dict(),\n",
    "        'optimizer_state_dict': optimizer.state_dict(),\n",
    "        'loss': val_loss,\n",
    "        }, path)\n",
    "\n",
    "def train(model, optimizer, num_epochs, train_loader, val_loader, criterion, device):\n",
    "    dict_log = {\"train_loss\":[], \"val_loss\":[]}\n",
    "    best_val_loss = 1e8\n",
    "    best_val_acc = 0\n",
    "    model = model.to(device)\n",
    "    pbar = tqdm(range(num_epochs))\n",
    "    for epoch in pbar:\n",
    "        loss_curr_epoch = train_one_epoch(model, optimizer, train_loader, criterion, device)\n",
    "        val_loss = validate(model, val_loader, criterion, device)\n",
    "\n",
    "        # Print epoch results to screen\n",
    "        msg = (f'Loss: Train {loss_curr_epoch:.3f} \\t Val {val_loss:.3f}')\n",
    "        pbar.set_description(msg)\n",
    "\n",
    "        dict_log[\"train_loss\"].append(loss_curr_epoch)\n",
    "        dict_log[\"val_loss\"].append(val_loss)\n",
    "\n",
    "        # save the model with the best validation loss\n",
    "        if val_loss < best_val_loss:\n",
    "            best_val_loss = val_loss\n",
    "            save_model(model, f'best_model_min_val_loss.pth', epoch, optimizer, val_loss)\n",
    "    return dict_log"
   ]
  },
  {
   "cell_type": "code",
   "execution_count": null,
   "metadata": {},
   "outputs": [],
   "source": [
    "# unit tests preparation\n",
    "\n",
    "train_loader = DataLoader(BrainImageDataset(), batch_size=256, shuffle=True)\n",
    "val_loader = DataLoader(BrainImageDataset(), batch_size=256, shuffle=True)\n",
    "test_data = BrainImageDataset(train=False)\n",
    "\n",
    "training_sampler = BrainRandomSampler(training_data, tile_size, batch_size)\n",
    "test_sampler = BrainRandomSampler(test_data, tile_size, batch_size)\n",
    "\n",
    "train_loader = DataLoader(training_data, batch_sampler=training_sampler)\n",
    "test_loader = DataLoader(test_data, batch_sampler=test_sampler)"
   ]
  },
  {
   "cell_type": "code",
   "execution_count": 34,
   "metadata": {},
   "outputs": [],
   "source": [
    "# Training the model\n",
    "batch_size = 128\n",
    "tile_size = 64\n",
    "\n",
    "training_data = BrainImageDataset(train=True)\n",
    "test_data = BrainImageDataset(train=False)\n",
    "\n",
    "training_sampler = BrainRandomSampler(training_data, tile_size, batch_size)\n",
    "test_sampler = BrainRandomSampler(test_data, tile_size, batch_size)\n",
    "\n",
    "train_loader = DataLoader(training_data, batch_sampler=training_sampler)\n",
    "test_loader = DataLoader(test_data, batch_sampler=test_sampler)"
   ]
  },
  {
   "cell_type": "code",
   "execution_count": 36,
   "metadata": {},
   "outputs": [
    {
     "data": {
      "application/vnd.jupyter.widget-view+json": {
       "model_id": "1890b5d466f44879b8ba7f8456ac372e",
       "version_major": 2,
       "version_minor": 0
      },
      "text/plain": [
       "  0%|          | 0/150 [00:00<?, ?it/s]"
      ]
     },
     "metadata": {},
     "output_type": "display_data"
    },
    {
     "data": {
      "application/vnd.jupyter.widget-view+json": {
       "model_id": "37f2b35e50f9486bad539617cbb10372",
       "version_major": 2,
       "version_minor": 0
      },
      "text/plain": [
       "Training:   0%|          | 0/24 [00:00<?, ?it/s]"
      ]
     },
     "metadata": {},
     "output_type": "display_data"
    },
    {
     "data": {
      "application/vnd.jupyter.widget-view+json": {
       "model_id": "971a52ab01cd453c8c9c53524d8c4d3c",
       "version_major": 2,
       "version_minor": 0
      },
      "text/plain": [
       "Validating:   0%|          | 0/3 [00:00<?, ?it/s]"
      ]
     },
     "metadata": {},
     "output_type": "display_data"
    },
    {
     "data": {
      "application/vnd.jupyter.widget-view+json": {
       "model_id": "96f1a815a94447948b0e0eee27db4924",
       "version_major": 2,
       "version_minor": 0
      },
      "text/plain": [
       "Training:   0%|          | 0/24 [00:00<?, ?it/s]"
      ]
     },
     "metadata": {},
     "output_type": "display_data"
    },
    {
     "data": {
      "application/vnd.jupyter.widget-view+json": {
       "model_id": "3e3b247c65444f6b97a27683cc80646f",
       "version_major": 2,
       "version_minor": 0
      },
      "text/plain": [
       "Validating:   0%|          | 0/3 [00:00<?, ?it/s]"
      ]
     },
     "metadata": {},
     "output_type": "display_data"
    },
    {
     "data": {
      "application/vnd.jupyter.widget-view+json": {
       "model_id": "ce0642bab8f64e26b9211b28c063f234",
       "version_major": 2,
       "version_minor": 0
      },
      "text/plain": [
       "Training:   0%|          | 0/24 [00:00<?, ?it/s]"
      ]
     },
     "metadata": {},
     "output_type": "display_data"
    },
    {
     "data": {
      "application/vnd.jupyter.widget-view+json": {
       "model_id": "53c3eb36729b4440a62bd79aa4507bb2",
       "version_major": 2,
       "version_minor": 0
      },
      "text/plain": [
       "Validating:   0%|          | 0/3 [00:00<?, ?it/s]"
      ]
     },
     "metadata": {},
     "output_type": "display_data"
    },
    {
     "data": {
      "application/vnd.jupyter.widget-view+json": {
       "model_id": "2f5942fcc56748eda64bdaa41cd4323c",
       "version_major": 2,
       "version_minor": 0
      },
      "text/plain": [
       "Training:   0%|          | 0/24 [00:00<?, ?it/s]"
      ]
     },
     "metadata": {},
     "output_type": "display_data"
    },
    {
     "data": {
      "application/vnd.jupyter.widget-view+json": {
       "model_id": "2bacaf0533ea43e6b1ff5a9764789669",
       "version_major": 2,
       "version_minor": 0
      },
      "text/plain": [
       "Validating:   0%|          | 0/3 [00:00<?, ?it/s]"
      ]
     },
     "metadata": {},
     "output_type": "display_data"
    },
    {
     "data": {
      "application/vnd.jupyter.widget-view+json": {
       "model_id": "6b7a9ef1486e4af98c0015ec56245a39",
       "version_major": 2,
       "version_minor": 0
      },
      "text/plain": [
       "Training:   0%|          | 0/24 [00:00<?, ?it/s]"
      ]
     },
     "metadata": {},
     "output_type": "display_data"
    },
    {
     "ename": "KeyboardInterrupt",
     "evalue": "",
     "output_type": "error",
     "traceback": [
      "\u001b[0;31m---------------------------------------------------------------------------\u001b[0m",
      "\u001b[0;31mKeyboardInterrupt\u001b[0m                         Traceback (most recent call last)",
      "Cell \u001b[0;32mIn[36], line 16\u001b[0m\n\u001b[1;32m     13\u001b[0m criterion \u001b[38;5;241m=\u001b[39m ELBO(beta\u001b[38;5;241m=\u001b[39mbeta)\n\u001b[1;32m     15\u001b[0m \u001b[38;5;66;03m# train the model\u001b[39;00m\n\u001b[0;32m---> 16\u001b[0m dict_log \u001b[38;5;241m=\u001b[39m train(model, optimizer, epochs, train_loader, test_loader, criterion, device)\n",
      "Cell \u001b[0;32mIn[29], line 46\u001b[0m, in \u001b[0;36mtrain\u001b[0;34m(model, optimizer, num_epochs, train_loader, val_loader, criterion, device)\u001b[0m\n\u001b[1;32m     44\u001b[0m pbar \u001b[38;5;241m=\u001b[39m tqdm(\u001b[38;5;28mrange\u001b[39m(num_epochs))\n\u001b[1;32m     45\u001b[0m \u001b[38;5;28;01mfor\u001b[39;00m epoch \u001b[38;5;129;01min\u001b[39;00m pbar:\n\u001b[0;32m---> 46\u001b[0m     loss_curr_epoch \u001b[38;5;241m=\u001b[39m train_one_epoch(model, optimizer, train_loader, criterion, device)\n\u001b[1;32m     47\u001b[0m     val_loss \u001b[38;5;241m=\u001b[39m validate(model, val_loader, criterion, device)\n\u001b[1;32m     49\u001b[0m     \u001b[38;5;66;03m# Print epoch results to screen\u001b[39;00m\n",
      "Cell \u001b[0;32mIn[29], line 5\u001b[0m, in \u001b[0;36mtrain_one_epoch\u001b[0;34m(model, optimizer, train_loader, criterion, device)\u001b[0m\n\u001b[1;32m      3\u001b[0m model\u001b[38;5;241m.\u001b[39mtrain()\n\u001b[1;32m      4\u001b[0m loss_step \u001b[38;5;241m=\u001b[39m []\n\u001b[0;32m----> 5\u001b[0m \u001b[38;5;28;01mfor\u001b[39;00m data \u001b[38;5;129;01min\u001b[39;00m tqdm(train_loader, leave\u001b[38;5;241m=\u001b[39m\u001b[38;5;28;01mFalse\u001b[39;00m, desc\u001b[38;5;241m=\u001b[39m\u001b[38;5;124m\"\u001b[39m\u001b[38;5;124mTraining\u001b[39m\u001b[38;5;124m\"\u001b[39m):\n\u001b[1;32m      6\u001b[0m     inp_data \u001b[38;5;241m=\u001b[39m data\n\u001b[1;32m      7\u001b[0m     inp_data \u001b[38;5;241m=\u001b[39m inp_data\u001b[38;5;241m.\u001b[39mto(device)\n",
      "File \u001b[0;32m~/anaconda3/envs/dlgm/lib/python3.11/site-packages/tqdm/notebook.py:254\u001b[0m, in \u001b[0;36mtqdm_notebook.__iter__\u001b[0;34m(self)\u001b[0m\n\u001b[1;32m    252\u001b[0m \u001b[38;5;28;01mtry\u001b[39;00m:\n\u001b[1;32m    253\u001b[0m     it \u001b[38;5;241m=\u001b[39m \u001b[38;5;28msuper\u001b[39m(tqdm_notebook, \u001b[38;5;28mself\u001b[39m)\u001b[38;5;241m.\u001b[39m\u001b[38;5;21m__iter__\u001b[39m()\n\u001b[0;32m--> 254\u001b[0m     \u001b[38;5;28;01mfor\u001b[39;00m obj \u001b[38;5;129;01min\u001b[39;00m it:\n\u001b[1;32m    255\u001b[0m         \u001b[38;5;66;03m# return super(tqdm...) will not catch exception\u001b[39;00m\n\u001b[1;32m    256\u001b[0m         \u001b[38;5;28;01myield\u001b[39;00m obj\n\u001b[1;32m    257\u001b[0m \u001b[38;5;66;03m# NB: except ... [ as ...] breaks IPython async KeyboardInterrupt\u001b[39;00m\n",
      "File \u001b[0;32m~/anaconda3/envs/dlgm/lib/python3.11/site-packages/tqdm/std.py:1178\u001b[0m, in \u001b[0;36mtqdm.__iter__\u001b[0;34m(self)\u001b[0m\n\u001b[1;32m   1175\u001b[0m time \u001b[38;5;241m=\u001b[39m \u001b[38;5;28mself\u001b[39m\u001b[38;5;241m.\u001b[39m_time\n\u001b[1;32m   1177\u001b[0m \u001b[38;5;28;01mtry\u001b[39;00m:\n\u001b[0;32m-> 1178\u001b[0m     \u001b[38;5;28;01mfor\u001b[39;00m obj \u001b[38;5;129;01min\u001b[39;00m iterable:\n\u001b[1;32m   1179\u001b[0m         \u001b[38;5;28;01myield\u001b[39;00m obj\n\u001b[1;32m   1180\u001b[0m         \u001b[38;5;66;03m# Update and possibly print the progressbar.\u001b[39;00m\n\u001b[1;32m   1181\u001b[0m         \u001b[38;5;66;03m# Note: does not call self.update(1) for speed optimisation.\u001b[39;00m\n",
      "File \u001b[0;32m~/anaconda3/envs/dlgm/lib/python3.11/site-packages/torch/utils/data/dataloader.py:631\u001b[0m, in \u001b[0;36m_BaseDataLoaderIter.__next__\u001b[0;34m(self)\u001b[0m\n\u001b[1;32m    628\u001b[0m \u001b[38;5;28;01mif\u001b[39;00m \u001b[38;5;28mself\u001b[39m\u001b[38;5;241m.\u001b[39m_sampler_iter \u001b[38;5;129;01mis\u001b[39;00m \u001b[38;5;28;01mNone\u001b[39;00m:\n\u001b[1;32m    629\u001b[0m     \u001b[38;5;66;03m# TODO(https://github.com/pytorch/pytorch/issues/76750)\u001b[39;00m\n\u001b[1;32m    630\u001b[0m     \u001b[38;5;28mself\u001b[39m\u001b[38;5;241m.\u001b[39m_reset()  \u001b[38;5;66;03m# type: ignore[call-arg]\u001b[39;00m\n\u001b[0;32m--> 631\u001b[0m data \u001b[38;5;241m=\u001b[39m \u001b[38;5;28mself\u001b[39m\u001b[38;5;241m.\u001b[39m_next_data()\n\u001b[1;32m    632\u001b[0m \u001b[38;5;28mself\u001b[39m\u001b[38;5;241m.\u001b[39m_num_yielded \u001b[38;5;241m+\u001b[39m\u001b[38;5;241m=\u001b[39m \u001b[38;5;241m1\u001b[39m\n\u001b[1;32m    633\u001b[0m \u001b[38;5;28;01mif\u001b[39;00m \u001b[38;5;28mself\u001b[39m\u001b[38;5;241m.\u001b[39m_dataset_kind \u001b[38;5;241m==\u001b[39m _DatasetKind\u001b[38;5;241m.\u001b[39mIterable \u001b[38;5;129;01mand\u001b[39;00m \\\n\u001b[1;32m    634\u001b[0m         \u001b[38;5;28mself\u001b[39m\u001b[38;5;241m.\u001b[39m_IterableDataset_len_called \u001b[38;5;129;01mis\u001b[39;00m \u001b[38;5;129;01mnot\u001b[39;00m \u001b[38;5;28;01mNone\u001b[39;00m \u001b[38;5;129;01mand\u001b[39;00m \\\n\u001b[1;32m    635\u001b[0m         \u001b[38;5;28mself\u001b[39m\u001b[38;5;241m.\u001b[39m_num_yielded \u001b[38;5;241m>\u001b[39m \u001b[38;5;28mself\u001b[39m\u001b[38;5;241m.\u001b[39m_IterableDataset_len_called:\n",
      "File \u001b[0;32m~/anaconda3/envs/dlgm/lib/python3.11/site-packages/torch/utils/data/dataloader.py:674\u001b[0m, in \u001b[0;36m_SingleProcessDataLoaderIter._next_data\u001b[0;34m(self)\u001b[0m\n\u001b[1;32m    673\u001b[0m \u001b[38;5;28;01mdef\u001b[39;00m \u001b[38;5;21m_next_data\u001b[39m(\u001b[38;5;28mself\u001b[39m):\n\u001b[0;32m--> 674\u001b[0m     index \u001b[38;5;241m=\u001b[39m \u001b[38;5;28mself\u001b[39m\u001b[38;5;241m.\u001b[39m_next_index()  \u001b[38;5;66;03m# may raise StopIteration\u001b[39;00m\n\u001b[1;32m    675\u001b[0m     data \u001b[38;5;241m=\u001b[39m \u001b[38;5;28mself\u001b[39m\u001b[38;5;241m.\u001b[39m_dataset_fetcher\u001b[38;5;241m.\u001b[39mfetch(index)  \u001b[38;5;66;03m# may raise StopIteration\u001b[39;00m\n\u001b[1;32m    676\u001b[0m     \u001b[38;5;28;01mif\u001b[39;00m \u001b[38;5;28mself\u001b[39m\u001b[38;5;241m.\u001b[39m_pin_memory:\n",
      "File \u001b[0;32m~/anaconda3/envs/dlgm/lib/python3.11/site-packages/torch/utils/data/dataloader.py:621\u001b[0m, in \u001b[0;36m_BaseDataLoaderIter._next_index\u001b[0;34m(self)\u001b[0m\n\u001b[1;32m    620\u001b[0m \u001b[38;5;28;01mdef\u001b[39;00m \u001b[38;5;21m_next_index\u001b[39m(\u001b[38;5;28mself\u001b[39m):\n\u001b[0;32m--> 621\u001b[0m     \u001b[38;5;28;01mreturn\u001b[39;00m \u001b[38;5;28mnext\u001b[39m(\u001b[38;5;28mself\u001b[39m\u001b[38;5;241m.\u001b[39m_sampler_iter)\n",
      "File \u001b[0;32m~/Documents/Obsidian Vault/ai-ds/dlgm/hongli/project_01/VAEDataLoader.py:145\u001b[0m, in \u001b[0;36mBrainRandomSampler.__iter__\u001b[0;34m(self)\u001b[0m\n\u001b[1;32m    142\u001b[0m \u001b[38;5;28;01mfor\u001b[39;00m j \u001b[38;5;129;01min\u001b[39;00m \u001b[38;5;28mrange\u001b[39m(\u001b[38;5;28mself\u001b[39m\u001b[38;5;241m.\u001b[39mlength):\n\u001b[1;32m    144\u001b[0m     \u001b[38;5;28;01mfor\u001b[39;00m i \u001b[38;5;129;01min\u001b[39;00m \u001b[38;5;28mrange\u001b[39m(\u001b[38;5;28mself\u001b[39m\u001b[38;5;241m.\u001b[39mbatch_size):\n\u001b[0;32m--> 145\u001b[0m         batch\u001b[38;5;241m.\u001b[39mappend(\u001b[38;5;28mself\u001b[39m\u001b[38;5;241m.\u001b[39msample_tile())\n\u001b[1;32m    147\u001b[0m     \u001b[38;5;28;01mif\u001b[39;00m \u001b[38;5;28mlen\u001b[39m(batch) \u001b[38;5;241m==\u001b[39m \u001b[38;5;28mself\u001b[39m\u001b[38;5;241m.\u001b[39mbatch_size:\n\u001b[1;32m    148\u001b[0m         \u001b[38;5;28;01myield\u001b[39;00m batch\n",
      "File \u001b[0;32m~/Documents/Obsidian Vault/ai-ds/dlgm/hongli/project_01/VAEDataLoader.py:127\u001b[0m, in \u001b[0;36mBrainRandomSampler.sample_tile\u001b[0;34m(self)\u001b[0m\n\u001b[1;32m    125\u001b[0m brain \u001b[38;5;241m=\u001b[39m torch\u001b[38;5;241m.\u001b[39mrandint(\u001b[38;5;28mlen\u001b[39m(\u001b[38;5;28mself\u001b[39m\u001b[38;5;241m.\u001b[39mdataset\u001b[38;5;241m.\u001b[39mbrains), (\u001b[38;5;241m1\u001b[39m, ))\n\u001b[1;32m    126\u001b[0m brain \u001b[38;5;241m=\u001b[39m \u001b[38;5;28mself\u001b[39m\u001b[38;5;241m.\u001b[39mdataset\u001b[38;5;241m.\u001b[39mbrains[brain]\n\u001b[0;32m--> 127\u001b[0m image_name \u001b[38;5;241m=\u001b[39m torch\u001b[38;5;241m.\u001b[39mrandint(\u001b[38;5;28mlen\u001b[39m(\u001b[38;5;28mself\u001b[39m\u001b[38;5;241m.\u001b[39mdataset\u001b[38;5;241m.\u001b[39mavailable_images(brain)), (\u001b[38;5;241m1\u001b[39m,))\n\u001b[1;32m    128\u001b[0m image_name \u001b[38;5;241m=\u001b[39m \u001b[38;5;28mself\u001b[39m\u001b[38;5;241m.\u001b[39mdataset\u001b[38;5;241m.\u001b[39mavailable_images(brain)[image_name]\n\u001b[1;32m    130\u001b[0m \u001b[38;5;66;03m# get the image\u001b[39;00m\n",
      "File \u001b[0;32m~/Documents/Obsidian Vault/ai-ds/dlgm/hongli/project_01/VAEDataLoader.py:62\u001b[0m, in \u001b[0;36mBrainImageDataset.available_images\u001b[0;34m(self, brain)\u001b[0m\n\u001b[1;32m     61\u001b[0m \u001b[38;5;28;01mdef\u001b[39;00m \u001b[38;5;21mavailable_images\u001b[39m(\u001b[38;5;28mself\u001b[39m, brain):\n\u001b[0;32m---> 62\u001b[0m     \u001b[38;5;28;01mreturn\u001b[39;00m \u001b[38;5;28mlist\u001b[39m(\u001b[38;5;28mself\u001b[39m\u001b[38;5;241m.\u001b[39mh5pyfile[brain]\u001b[38;5;241m.\u001b[39mkeys())\n",
      "File \u001b[0;32m<frozen _collections_abc>:836\u001b[0m, in \u001b[0;36m__iter__\u001b[0;34m(self)\u001b[0m\n",
      "File \u001b[0;32m~/anaconda3/envs/dlgm/lib/python3.11/site-packages/h5py/_hl/group.py:499\u001b[0m, in \u001b[0;36mGroup.__iter__\u001b[0;34m(self)\u001b[0m\n\u001b[1;32m    496\u001b[0m \u001b[38;5;129m@with_phil\u001b[39m\n\u001b[1;32m    497\u001b[0m \u001b[38;5;28;01mdef\u001b[39;00m \u001b[38;5;21m__iter__\u001b[39m(\u001b[38;5;28mself\u001b[39m):\n\u001b[1;32m    498\u001b[0m \u001b[38;5;250m    \u001b[39m\u001b[38;5;124;03m\"\"\" Iterate over member names \"\"\"\u001b[39;00m\n\u001b[0;32m--> 499\u001b[0m     \u001b[38;5;28;01mfor\u001b[39;00m x \u001b[38;5;129;01min\u001b[39;00m \u001b[38;5;28mself\u001b[39m\u001b[38;5;241m.\u001b[39mid\u001b[38;5;241m.\u001b[39m\u001b[38;5;21m__iter__\u001b[39m():\n\u001b[1;32m    500\u001b[0m         \u001b[38;5;28;01myield\u001b[39;00m \u001b[38;5;28mself\u001b[39m\u001b[38;5;241m.\u001b[39m_d(x)\n",
      "\u001b[0;31mKeyboardInterrupt\u001b[0m: "
     ]
    }
   ],
   "source": [
    "# learning rate\n",
    "lr = 1e-2\n",
    "# number of epochs\n",
    "epochs = 150\n",
    "\n",
    "beta = 3\n",
    "# create the model\n",
    "model = VariationalAutoEncoder(device, input_size=64, latent_space_size=128)\n",
    "# Adam optimizer\n",
    "optimizer = Adam(model.parameters(), lr=lr, weight_decay=1e-5)\n",
    "\n",
    "# ELBO loss\n",
    "criterion = ELBO(beta=beta)\n",
    "\n",
    "# train the model\n",
    "dict_log = train(model, optimizer, epochs, train_loader, test_loader, criterion, device)\n"
   ]
  },
  {
   "cell_type": "code",
   "execution_count": 19,
   "metadata": {},
   "outputs": [
    {
     "ename": "NameError",
     "evalue": "name 'dict_log' is not defined",
     "output_type": "error",
     "traceback": [
      "\u001b[0;31m---------------------------------------------------------------------------\u001b[0m",
      "\u001b[0;31mNameError\u001b[0m                                 Traceback (most recent call last)",
      "Cell \u001b[0;32mIn[19], line 4\u001b[0m\n\u001b[1;32m      1\u001b[0m \u001b[38;5;66;03m# plot the training and validation loss\u001b[39;00m\n\u001b[1;32m      2\u001b[0m \u001b[38;5;28;01mimport\u001b[39;00m \u001b[38;5;21;01mmatplotlib\u001b[39;00m\u001b[38;5;21;01m.\u001b[39;00m\u001b[38;5;21;01mpyplot\u001b[39;00m \u001b[38;5;28;01mas\u001b[39;00m \u001b[38;5;21;01mplt\u001b[39;00m\n\u001b[0;32m----> 4\u001b[0m plt\u001b[38;5;241m.\u001b[39mplot(dict_log[\u001b[38;5;124m\"\u001b[39m\u001b[38;5;124mtrain_loss\u001b[39m\u001b[38;5;124m\"\u001b[39m], label\u001b[38;5;241m=\u001b[39m\u001b[38;5;124m\"\u001b[39m\u001b[38;5;124mtrain loss\u001b[39m\u001b[38;5;124m\"\u001b[39m)\n\u001b[1;32m      5\u001b[0m plt\u001b[38;5;241m.\u001b[39mplot(dict_log[\u001b[38;5;124m\"\u001b[39m\u001b[38;5;124mval_loss\u001b[39m\u001b[38;5;124m\"\u001b[39m], label\u001b[38;5;241m=\u001b[39m\u001b[38;5;124m\"\u001b[39m\u001b[38;5;124mval loss\u001b[39m\u001b[38;5;124m\"\u001b[39m)\n\u001b[1;32m      6\u001b[0m \u001b[38;5;66;03m# log scale\u001b[39;00m\n",
      "\u001b[0;31mNameError\u001b[0m: name 'dict_log' is not defined"
     ]
    }
   ],
   "source": [
    "# plot the training and validation loss\n",
    "import matplotlib.pyplot as plt\n",
    "\n",
    "plt.plot(dict_log[\"train_loss\"], label=\"train loss\")\n",
    "plt.plot(dict_log[\"val_loss\"], label=\"val loss\")\n",
    "# log scale\n",
    "plt.yscale(\"log\")\n",
    "plt.legend()\n",
    "plt.show()\n"
   ]
  },
  {
   "cell_type": "code",
   "execution_count": 95,
   "metadata": {},
   "outputs": [
    {
     "name": "stdout",
     "output_type": "stream",
     "text": [
      "tensor(2.9582e-05) tensor(5.3871)\n"
     ]
    },
    {
     "data": {
      "text/plain": [
       "tensor(0.5387)"
      ]
     },
     "execution_count": 95,
     "metadata": {},
     "output_type": "execute_result"
    }
   ],
   "source": [
    "criterion = ELBO(beta=0.1)\n",
    "criterion(next(iter(train_loader)), next(iter(train_loader)), torch.zeros(15), torch.ones(15))"
   ]
  },
  {
   "cell_type": "code",
   "execution_count": 20,
   "metadata": {},
   "outputs": [
    {
     "data": {
      "image/png": "[encoded data removed]",
      "text/plain": [
       "<Figure size 640x480 with 1 Axes>"
      ]
     },
     "metadata": {},
     "output_type": "display_data"
    },
    {
     "data": {
      "image/png": "[encoded data removed]",
      "text/plain": [
       "<Figure size 640x480 with 1 Axes>"
      ]
     },
     "metadata": {},
     "output_type": "display_data"
    }
   ],
   "source": [
    "# plot a sample image from the model\n",
    "model.eval()\n",
    "img = next(iter(test_loader))\n",
    "img = img.to(device)\n",
    "output, _, _ = model(img)\n",
    "\n",
    "# plot the original image\n",
    "plt.imshow(img[1].cpu().detach().numpy().reshape(64, 64), cmap='gray')\n",
    "plt.show()\n",
    "\n",
    "# plot the reconstructed image\n",
    "plt.imshow(output[1].cpu().detach().numpy().reshape(64, 64), cmap='gray')\n",
    "plt.show()\n"
   ]
  }
 ],
 "metadata": {
  "kernelspec": {
   "display_name": "dlgm",
   "language": "python",
   "name": "python3"
  },
  "language_info": {
   "codemirror_mode": {
    "name": "ipython",
    "version": 3
   },
   "file_extension": ".py",
   "mimetype": "text/x-python",
   "name": "python",
   "nbconvert_exporter": "python",
   "pygments_lexer": "ipython3",
   "version": "3.11.7"
  }
 },
 "nbformat": 4,
 "nbformat_minor": 2
}
