{
 "cells": [
  {
   "cell_type": "code",
   "execution_count": null,
   "metadata": {},
   "outputs": [],
   "source": [
    "import pytorch_fid.fid_score as fid"
   ]
  },
  {
   "cell_type": "markdown",
   "metadata": {},
   "source": [
    "(a) Compute a Frechet Inception Distance (FID) score for 1000 samples of your generative model from task 3. Compare your generated samples with 1000 real samples of Vervet1947\n",
    "\n",
    "fid uses the inception network to extract features and calculate the\n",
    "distance between the real and fake images by comparing the mean and\n",
    "covariance of the features. The lower the score, the better the fake images\n",
    "are. The score is a float value."
   ]
  },
  {
   "cell_type": "code",
   "execution_count": null,
   "metadata": {},
   "outputs": [
    {
     "name": "stderr",
     "output_type": "stream",
     "text": [
      "/home/hongli/anaconda3/envs/dlgm/lib/python3.11/site-packages/torchvision/models/_utils.py:208: UserWarning: The parameter 'pretrained' is deprecated since 0.13 and may be removed in the future, please use 'weights' instead.\n",
      "  warnings.warn(\n",
      "/home/hongli/anaconda3/envs/dlgm/lib/python3.11/site-packages/torchvision/models/_utils.py:223: UserWarning: Arguments other than a weight enum or `None` for 'weights' are deprecated since 0.13 and may be removed in the future. The current behavior is equivalent to passing `weights=None`.\n",
      "  warnings.warn(msg)\n",
      "100%|██████████| 200/200 [00:53<00:00,  3.77it/s]\n",
      "100%|██████████| 200/200 [00:57<00:00,  3.48it/s]\n"
     ]
    },
    {
     "data": {
      "text/plain": [
       "153.0785271237052"
      ]
     },
     "execution_count": 23,
     "metadata": {},
     "output_type": "execute_result"
    }
   ],
   "source": [
    "fake_path = 'fid/stylegan2_80k_8000it/fake'\n",
    "real_path = 'fid/stylegan2_80k_8000it/real'\n",
    "\n",
    "\n",
    "fid_score = fid.calculate_fid_given_paths([fake_path, real_path],\n",
    "                                           batch_size = 64, device = 'cuda',\n",
    "                                           dims = 2048)\n",
    "\n",
    "print(fid_score)"
   ]
  },
  {
   "cell_type": "markdown",
   "metadata": {},
   "source": [
    "(b) For task 4, you have access to target images (the real FOMs) for each generated\n",
    "sample. Implement the following pixel-level metrics (or use a library such as scikit-\n",
    "image): Mean Squared Error (MSE), Structural Similarity Index Measure (SSIM),\n",
    "and Peak Signal-to-Noise Ratio (PSNR). Compare 1000 generated images with their\n",
    "ground truth and report the overall mean and standard deviation of scores."
   ]
  },
  {
   "cell_type": "code",
   "execution_count": null,
   "metadata": {},
   "outputs": [],
   "source": [
    "# import MSE, SSIM and PSNR from skimage library\n",
    "from skimage.metrics import structural_similarity as ssim\n",
    "from skimage.metrics import mean_squared_error as mse\n",
    "from skimage.metrics import peak_signal_noise_ratio as psnr\n"
   ]
  }
 ],
 "metadata": {
  "kernelspec": {
   "display_name": "dlgm",
   "language": "python",
   "name": "python3"
  },
  "language_info": {
   "codemirror_mode": {
    "name": "ipython",
    "version": 3
   },
   "file_extension": ".py",
   "mimetype": "text/x-python",
   "name": "python",
   "nbconvert_exporter": "python",
   "pygments_lexer": "ipython3",
   "version": "3.11.7"
  }
 },
 "nbformat": 4,
 "nbformat_minor": 2
}
