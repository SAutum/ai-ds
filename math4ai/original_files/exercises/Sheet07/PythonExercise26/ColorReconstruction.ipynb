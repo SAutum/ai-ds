{
 "cells": [
  {
   "cell_type": "code",
   "execution_count": null,
   "metadata": {},
   "outputs": [],
   "source": [
    "# program taken from https://stanford.edu/~boyd/cvxbook/cvxbook_additional_exercises/\n",
    "# ...and slightly adapted\n",
    "\n",
    "# Also look at the description of exercise 22 on the exercise sheet!\n",
    "\n",
    "import matplotlib.image as mpimg\n",
    "import matplotlib.pyplot as plt\n",
    "import numpy as np\n",
    "from cvxopt import matrix, solvers"
   ]
  },
  {
   "cell_type": "code",
   "execution_count": null,
   "metadata": {},
   "outputs": [],
   "source": [
    "# an auxiliary function interpreting three given arrays as red/green/blue values\n",
    "# and showing the resulting image\n",
    "def show_img(R,G,B):\n",
    "  img = np.stack((np.array(R),np.array(G),np.array(B)), axis=2)\n",
    "  # turn off ticks and labels of the figure\n",
    "  plt.tick_params(\n",
    "    axis='both', which='both', labelleft='off', labelbottom='off',\n",
    "    bottom='off', top='off', right='off', left='off'\n",
    "  )\n",
    "  fig = plt.imshow(img)\n"
   ]
  },
  {
   "cell_type": "code",
   "execution_count": null,
   "metadata": {},
   "outputs": [],
   "source": [
    "#read image\n",
    "img = mpimg.imread(\"flower.png\")\n",
    "img = img[:,:,0:3]  # img is a triple of matrices, storing the intensity values for red, green and blue\n",
    "m,n,_ = img.shape\n",
    "\n",
    "# make into greyscale image\n",
    "M = 0.299*img[:,:,0]+0.587*img[:,:,1]+0.114*img[:,:,2]\n",
    "\n",
    "# record some color values which we will assume as known later for reconstruction\n",
    "np.random.seed(0)\n",
    "known_ind = np.where(np.random.rand(m,n) >= 0.90)\n",
    "R_known = img[:,:,0]\n",
    "G_known = img[:,:,1]\n",
    "B_known = img[:,:,2]\n",
    "R_known = R_known[known_ind]\n",
    "G_known = G_known[known_ind]\n",
    "B_known = B_known[known_ind]"
   ]
  },
  {
   "cell_type": "code",
   "execution_count": null,
   "metadata": {},
   "outputs": [],
   "source": [
    "# sprinkle the greyscale picture with the pixels of known color \n",
    "R_given = np.copy(M);\n",
    "R_given[known_ind] = R_known;\n",
    "G_given = np.copy(M);\n",
    "G_given[known_ind] = G_known;\n",
    "B_given = np.copy(M);\n",
    "B_given[known_ind] = B_known;\n",
    "\n",
    "# show the picture that we are starting with for our reconstruction task\n",
    "show_img(R_given, G_given, B_given)\n"
   ]
  },
  {
   "cell_type": "code",
   "execution_count": null,
   "metadata": {},
   "outputs": [],
   "source": [
    "#------------your task starts here-----------------------------\n",
    "\n",
    "# set up the matrices and vectors to feed into cvxopt.solvers.qp\n",
    "# the names are chosen as in the API here:\n",
    "#  http://cvxopt.org/userguide/coneprog.html#quadratic-programming\n",
    "\n",
    "# these give the 'objective function' that needs to be minimized\n",
    "P=...\n",
    "q=...\n",
    "\n",
    "# these give the inequality constraints -- brightness values should be between 0 and 1\n",
    "G=...\n",
    "h=...\n",
    "\n",
    "# these give the equality constraints -- \n",
    "#     1. some colours are known and \n",
    "#     2. our known greyscale value M_ij = 0.299*red_ij + 0.587*green_ij + 0.114*blue_ij\n",
    "A=...\n",
    "b=...\n",
    "\n",
    "#the cvxopt package has its own matrix class - this is what you need to feed into the qp solver \n",
    "my_P=matrix(P)\n",
    "my_q=matrix(q)\n",
    "my_G=matrix(G)\n",
    "my_h=matrix(h)\n",
    "my_A=matrix(A)\n",
    "my_b=matrix(b)\n",
    "\n",
    "# this is where the optimization problem is solved:\n",
    "sol = solvers.qp(my_P,my_q,my_G,my_h,my_A,my_b)\n",
    "# 'sol' is now a dictionary with several kinds of information\n",
    "# the actual solution vector of values r_{ij}, g_{ij}, b_{ij} is the following:\n",
    "sol['x']\n",
    "\n",
    "# now repackage this solution vector into 3 matrices of size 50x50 encoding the red/green/blue values\n",
    "R_reconstructed=...\n",
    "G_reconstructed=... \n",
    "B_reconstructed=...\n",
    "\n",
    "# see what we have got\n",
    "show_img(R_reconstructed, G_reconstructed, B_reconstructed)"
   ]
  }
 ],
 "metadata": {
  "kernelspec": {
   "display_name": "Python 3",
   "language": "python",
   "name": "python3"
  },
  "language_info": {
   "codemirror_mode": {
    "name": "ipython",
    "version": 3
   },
   "file_extension": ".py",
   "mimetype": "text/x-python",
   "name": "python",
   "nbconvert_exporter": "python",
   "pygments_lexer": "ipython3",
   "version": "3.7.6"
  }
 },
 "nbformat": 4,
 "nbformat_minor": 4
}
