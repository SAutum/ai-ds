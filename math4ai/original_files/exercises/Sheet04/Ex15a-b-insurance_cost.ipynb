{
 "cells": [
  {
   "cell_type": "code",
   "execution_count": 1,
   "metadata": {},
   "outputs": [],
   "source": [
    "import pandas as pd\n",
    "import numpy as np"
   ]
  },
  {
   "cell_type": "code",
   "execution_count": 2,
   "metadata": {},
   "outputs": [
    {
     "data": {
      "text/html": [
       "<div>\n",
       "<style scoped>\n",
       "    .dataframe tbody tr th:only-of-type {\n",
       "        vertical-align: middle;\n",
       "    }\n",
       "\n",
       "    .dataframe tbody tr th {\n",
       "        vertical-align: top;\n",
       "    }\n",
       "\n",
       "    .dataframe thead th {\n",
       "        text-align: right;\n",
       "    }\n",
       "</style>\n",
       "<table border=\"1\" class=\"dataframe\">\n",
       "  <thead>\n",
       "    <tr style=\"text-align: right;\">\n",
       "      <th></th>\n",
       "      <th>age</th>\n",
       "      <th>sex</th>\n",
       "      <th>bmi</th>\n",
       "      <th>children</th>\n",
       "      <th>smoker</th>\n",
       "      <th>region</th>\n",
       "      <th>charges</th>\n",
       "    </tr>\n",
       "  </thead>\n",
       "  <tbody>\n",
       "    <tr>\n",
       "      <th>0</th>\n",
       "      <td>19</td>\n",
       "      <td>female</td>\n",
       "      <td>27.900</td>\n",
       "      <td>0</td>\n",
       "      <td>yes</td>\n",
       "      <td>southwest</td>\n",
       "      <td>16884.92400</td>\n",
       "    </tr>\n",
       "    <tr>\n",
       "      <th>1</th>\n",
       "      <td>18</td>\n",
       "      <td>male</td>\n",
       "      <td>33.770</td>\n",
       "      <td>1</td>\n",
       "      <td>no</td>\n",
       "      <td>southeast</td>\n",
       "      <td>1725.55230</td>\n",
       "    </tr>\n",
       "    <tr>\n",
       "      <th>2</th>\n",
       "      <td>28</td>\n",
       "      <td>male</td>\n",
       "      <td>33.000</td>\n",
       "      <td>3</td>\n",
       "      <td>no</td>\n",
       "      <td>southeast</td>\n",
       "      <td>4449.46200</td>\n",
       "    </tr>\n",
       "    <tr>\n",
       "      <th>3</th>\n",
       "      <td>33</td>\n",
       "      <td>male</td>\n",
       "      <td>22.705</td>\n",
       "      <td>0</td>\n",
       "      <td>no</td>\n",
       "      <td>northwest</td>\n",
       "      <td>21984.47061</td>\n",
       "    </tr>\n",
       "    <tr>\n",
       "      <th>4</th>\n",
       "      <td>32</td>\n",
       "      <td>male</td>\n",
       "      <td>28.880</td>\n",
       "      <td>0</td>\n",
       "      <td>no</td>\n",
       "      <td>northwest</td>\n",
       "      <td>3866.85520</td>\n",
       "    </tr>\n",
       "  </tbody>\n",
       "</table>\n",
       "</div>"
      ],
      "text/plain": [
       "   age     sex     bmi  children smoker     region      charges\n",
       "0   19  female  27.900         0    yes  southwest  16884.92400\n",
       "1   18    male  33.770         1     no  southeast   1725.55230\n",
       "2   28    male  33.000         3     no  southeast   4449.46200\n",
       "3   33    male  22.705         0     no  northwest  21984.47061\n",
       "4   32    male  28.880         0     no  northwest   3866.85520"
      ]
     },
     "execution_count": 2,
     "metadata": {},
     "output_type": "execute_result"
    }
   ],
   "source": [
    "#read the data from the csv file into a dataframe object\n",
    "dataset = pd.read_csv('insurance.csv')\n",
    "\n",
    "#the data set comes from here: \n",
    "#https://github.com/stedy/Machine-Learning-with-R-datasets\n",
    "# It records age, sex, body mass index (bmi), nr. of children, whether a person smokes, where in the US they live,\n",
    "# and the costs of their health insurance\n",
    "# take a look at the raw csv file or here:\n",
    "dataset.head()"
   ]
  },
  {
   "cell_type": "code",
   "execution_count": null,
   "metadata": {},
   "outputs": [],
   "source": [
    "#dataframes have methods producing the standard statistical numbers associated to their data, \n",
    "#e.g. mean and standard deviation:\n",
    "print(dataset.describe())\n",
    "# here only the numerical columns are shown because 'mean' etc. makes no sense for the other columns.\n",
    "\n",
    "#-----see the dataframe documentation for more\n",
    "# https://pandas.pydata.org/pandas-docs/stable/reference/api/pandas.DataFrame.html"
   ]
  },
  {
   "cell_type": "code",
   "execution_count": null,
   "metadata": {},
   "outputs": [],
   "source": [
    "#produce new dataframes by selecting some columns from the given ones\n",
    "X = dataset[['age', 'bmi', 'children']]\n",
    "y = dataset['charges']\n",
    "#we will suppose that the numbers in y depend linearly on those in X"
   ]
  },
  {
   "cell_type": "code",
   "execution_count": null,
   "metadata": {},
   "outputs": [],
   "source": [
    "X.head()"
   ]
  },
  {
   "cell_type": "code",
   "execution_count": null,
   "metadata": {},
   "outputs": [],
   "source": [
    "y.head()"
   ]
  },
  {
   "cell_type": "code",
   "execution_count": null,
   "metadata": {},
   "outputs": [],
   "source": [
    "#create a LinearRegression object, then invoke its methods on our data\n",
    "from sklearn.linear_model import LinearRegression\n",
    "our_model = LinearRegression()\n",
    "\n",
    "#The method fit() performs a linear regression, i.e. computes the 'best' linear function taking arguments as in X that approximates y\n",
    "#in the following the list of 4-tuples of numbers X is interpreted as inputs, the list of numbers y as outputs. This is taken as training data.\n",
    "our_model.fit(X, y)\n",
    "\n",
    "#the coefficients of our linear model are stored in our_model.coef_\n",
    "#we put this information into a new dataframe (for no good reason, just so you see how it's done):\n",
    "coeff_df = pd.DataFrame(our_model.coef_, X.columns, columns=['Coefficient'])\n",
    "print(coeff_df)\n",
    "\n",
    "#It should look like this:\n",
    "#           Coefficient\n",
    "#age        239.994474\n",
    "#bmi        332.083365\n",
    "#children   542.864652\n",
    "#\n",
    "#\n",
    "#This means that our approximate function is \n",
    "#  charges = 239.994474*age + 332.083365*bmi + 542.864652*children + some constant\n"
   ]
  },
  {
   "cell_type": "code",
   "execution_count": null,
   "metadata": {},
   "outputs": [],
   "source": [
    "# Here we didn't make use of the non-numerical columns, but surely they influence the insurance costs\n",
    "# To take this into account we encode them by numbers:\n",
    "def sex_numerical(s):\n",
    "    if s=='female':\n",
    "        return 1\n",
    "    elif s=='male':\n",
    "        return 0\n",
    "\n",
    "def smoker_numerical(s):\n",
    "    if s=='yes':\n",
    "        return 1\n",
    "    elif s=='no':\n",
    "        return 0\n",
    "    else:\n",
    "        print('Schrödinger's smoker')\n",
    "\n",
    "X = dataset.copy()[['age', 'bmi', 'children', 'smoker', 'sex']]    \n",
    "X['sex']=[sex_numerical(x) for x in dataset['sex']]        \n",
    "X['smoker']=[smoker_numerical(x) for x in dataset['smoker']]\n",
    "X.head()"
   ]
  },
  {
   "cell_type": "code",
   "execution_count": null,
   "metadata": {},
   "outputs": [],
   "source": [
    "our_model.fit(X, y)\n",
    "\n",
    "#the coefficients of our linear model are stored in our_model.coef_\n",
    "#we put this information into a new dataframe\n",
    "coeff_df = pd.DataFrame(our_model.coef_, X.columns, columns=['Coefficient'])\n",
    "print(coeff_df)"
   ]
  },
  {
   "cell_type": "markdown",
   "metadata": {},
   "source": [
    "This means that our approximate function is \n",
    "  $$charge = 257.734988*age + 322.364214*bmi + 474.411121*children + 23823.392531*smoker + 128.639854*sex + some\\  constant$$\n",
    " Think about what these coefficients tell us: \n",
    " e.g. Smoking drives up your insurane cost a lot\n",
    " and that the last coefficient is positive tells us that women pay more"
   ]
  },
  {
   "cell_type": "code",
   "execution_count": null,
   "metadata": {},
   "outputs": [],
   "source": [
    "# The predictions of our model can be shown with the .predict() function.\n",
    "# you can pass any data matrix to the function - here we just took \n",
    "# the given data to compare with the actual values\n",
    "print('Model predictions: ',our_model.predict(X))\n",
    "# Actual values for comparison:\n",
    "print('Actual values:',y)\n",
    "# Summary: The order of magnitude of the predictions is ok, but it's not super precise"
   ]
  },
  {
   "cell_type": "code",
   "execution_count": null,
   "metadata": {},
   "outputs": [],
   "source": [
    "# find out the constant term of our model:\n",
    "print(our_model.predict([[0,0,0,0,0]]))"
   ]
  },
  {
   "cell_type": "code",
   "execution_count": null,
   "metadata": {},
   "outputs": [],
   "source": [
    "#Check that the coefficients really are used as claimed above\n",
    "predictions=-12181.10183923 + 257.734988*X['age'] + 322.364214*X['bmi'] + 474.411121*X['children'] + 23823.392531*X['smoker'] + 128.639854*X['sex']\n",
    "predictions\n",
    "# The numbers should be the same as those from the model predictions above."
   ]
  },
  {
   "cell_type": "markdown",
   "metadata": {},
   "source": [
    "## (a) also use the location data (4 points)"
   ]
  },
  {
   "cell_type": "markdown",
   "metadata": {},
   "source": [
    "$\\to$ Your task: Now also use the location data for the linear model\n",
    " \n",
    " Again you will have to encode it by numbers. For 'sex' and 'smoker' we only had two possible values each, which we could encode by 0 or 1. In this way in the linear model we get an extra coefficient which e.g. is used for smokers (value 1) but not for non-smokers.\n",
    " \n",
    "1) For the region we have several possible values. Find out how many - by programming not or by just looking into the .csv file.\n",
    "\n",
    "2) If there are n possible values for 'region', you could create n new columns whose value you set to 1 if that is the region, and to 0 if not. This is slightly redundant: You can also get away with n-1 columns. Then there will be one region without an assigned column, and if all region values are 0 it means it is that left out region. This is what we did with 'sex' and 'smoker'. Choose either way.\n",
    " \n",
    "3) Check whether the predictions get better"
   ]
  },
  {
   "cell_type": "code",
   "execution_count": null,
   "metadata": {},
   "outputs": [],
   "source": []
  },
  {
   "cell_type": "code",
   "execution_count": null,
   "metadata": {},
   "outputs": [],
   "source": []
  },
  {
   "cell_type": "code",
   "execution_count": null,
   "metadata": {},
   "outputs": [],
   "source": []
  },
  {
   "cell_type": "markdown",
   "metadata": {},
   "source": [
    "## (b) Linear regression via pseudoinverse (2 points)"
   ]
  },
  {
   "cell_type": "markdown",
   "metadata": {},
   "source": [
    " $\\to$ Your task: Do the linear regression again by computing a pseudoinverse \n",
    "\n",
    "1)  A linear model also has a constant term (it is an affine function in math terminology). \n",
    "The data matrix would encode a linear function, i.e. with constant term 0.\n",
    "\n",
    "To acommodate the constant term, you should first add  a column of 1s to the dataframe - think about why this will produce a constant! You can use the dataframe methods .insert() or .assign()\n",
    " https://pandas.pydata.org/pandas-docs/stable/reference/api/pandas.DataFrame.insert.html\n",
    "\n",
    "2) There is a method computing pseudoinverses:  numpy.linalg.pinv\n",
    "Compare the coefficients you obtain from this second regression method with the ones from above. They should be equal, if you use the version with $n-1$ new columns (where $n$ is the number of possible values of 'region')!"
   ]
  },
  {
   "cell_type": "code",
   "execution_count": null,
   "metadata": {},
   "outputs": [],
   "source": []
  },
  {
   "cell_type": "code",
   "execution_count": null,
   "metadata": {},
   "outputs": [],
   "source": []
  },
  {
   "cell_type": "code",
   "execution_count": null,
   "metadata": {},
   "outputs": [],
   "source": []
  }
 ],
 "metadata": {
  "kernelspec": {
   "display_name": "Python 3 (ipykernel)",
   "language": "python",
   "name": "python3"
  },
  "language_info": {
   "codemirror_mode": {
    "name": "ipython",
    "version": 3
   },
   "file_extension": ".py",
   "mimetype": "text/x-python",
   "name": "python",
   "nbconvert_exporter": "python",
   "pygments_lexer": "ipython3",
   "version": "3.11.3"
  }
 },
 "nbformat": 4,
 "nbformat_minor": 4
}
