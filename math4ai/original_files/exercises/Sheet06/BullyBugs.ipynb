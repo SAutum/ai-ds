{
 "cells": [
  {
   "cell_type": "code",
   "execution_count": 5,
   "metadata": {},
   "outputs": [],
   "source": [
    "from pyomo.environ import *\n",
    "from pyomo.opt import SolverFactory\n",
    "import matplotlib.pyplot as plt\n",
    "import numpy as np\n",
    "import random"
   ]
  },
  {
   "cell_type": "code",
   "execution_count": 6,
   "metadata": {},
   "outputs": [
    {
     "name": "stdout",
     "output_type": "stream",
     "text": [
      "Done!\n"
     ]
    }
   ],
   "source": [
    "# in pyomo there concrete and abstract models. The abstract models are silghtly more tedious to set up,\n",
    "# and a bit harder to understand in a first contact with Pyomo, \n",
    "# but then much better for reuse. We use the easy version:\n",
    "model = ConcreteModel()\n",
    "\n",
    "#Add some constants to the model\n",
    "model.N = 50 # number of bugs\n",
    "model.max_x = 5.0 # width of the box of bugs\n",
    "model.max_y = 3.0 # length of the box of bugs\n",
    "\n",
    "# each bug will have x- and y- coordinates, so the lists of all x- resp. y-coordinates\n",
    "# will each have indices ranging from 0 to N-1.\n",
    "# This set of indices is part of the model and has to be declared explicitly:\n",
    "model.indices = range(model.N)\n",
    "\n",
    "# Add a list of x- and a list of y-coordinates to the model\n",
    "\n",
    "# We will give them initial values produced by this function:\n",
    "def random_value(model, i):\n",
    "    return random.uniform(0,1)\n",
    "# (we don't need the arguments of this function, but the constructor below wants \n",
    "# to call a function with two arguments, hence the strange declaration)\n",
    "\n",
    "# Declare variables of the model:\n",
    "model.x = Var(model.indices, bounds = (0, None), initialize = random_value)\n",
    "model.y = Var(model.indices, bounds = (0, None), initialize = random_value)\n",
    "model.r = Var(bounds = (0, None), initialize = random.uniform(0,1))\n",
    "# although we only want to model bugs, and those are taken care of by the variables x,y\n",
    "# it is convenient to add another variable r that act as a lower bound of all bug distances\n",
    "\n",
    "# for part (b) you should drop a cookie at a random place\n",
    "# since the cookie doesn't move, you should declare it a parameter, not a variable\n",
    "# -- otherwise it will be shifted around during optimizing (try it out!)\n",
    "# this is how it's done:\n",
    "# model.cookie_x = Param(initialize=random.uniform(0,model.max_x))\n",
    "# model.cookie_y = Param(initialize=random.uniform(0,model.max_y))\n",
    "\n",
    "\n",
    "# Now we build a list of constraints for the variables\n",
    "model.limits = ConstraintList() # start with the empty list\n",
    "# add constraints saying that each bug sits inside the box)\n",
    "for i in model.indices:\n",
    "    model.limits.add(model.x[i] <= model.max_x)\n",
    "    model.limits.add(model.y[i] <= model.max_y)\n",
    "    \n",
    "\n",
    "# the above was one way to add constraints, here comes another way:\n",
    "# We can define constraint functions really as Python functions\n",
    "# This is super nice and flexible, way more than having to write a closed formula!\n",
    "def distance_rule(model,i,j):\n",
    "    if i!=j:\n",
    "        return (model.x[i]-model.x[j])**2+(model.y[i]-model.y[j])**2 >= model.r**2\n",
    "    else:\n",
    "        return Constraint.Skip\n",
    "\n",
    "model.radius_constraint = Constraint(model.indices, model.indices, rule=distance_rule)\n",
    "    \n",
    "\n",
    "# Add an objective to the model:\n",
    "# This specifies that we want to maximize the variable r of the model\n",
    "model.obj = Objective( expr= model.r, sense= maximize)\n",
    "\n",
    "## You could also add the objective in the style of the second constraint we added, i.e.\n",
    "## define a Python function and then declare that to be the objective. Here is how:\n",
    "##\n",
    "## def my_objective(model):\n",
    "##     bla bla\n",
    "##\n",
    "## model.obj = Objective( rule= my_objective, sense= maximize)\n",
    "\n",
    "\n",
    "# Pyomo has no optimization algorithms in itself\n",
    "# it uses other libraries, and you have to specify which:\n",
    "opt = SolverFactory('ipopt') \n",
    "\n",
    "#here the magic happens:\n",
    "results=opt.solve(model)    \n",
    "# it can take a while, so better tell when it's done:\n",
    "print('Done!')\n",
    "    \n",
    "    "
   ]
  },
  {
   "cell_type": "code",
   "execution_count": null,
   "metadata": {},
   "outputs": [],
   "source": [
    "# ... has the \"Done!\" been printed yet? If no, wait!"
   ]
  },
  {
   "cell_type": "code",
   "execution_count": 7,
   "metadata": {
    "scrolled": true
   },
   "outputs": [
    {
     "name": "stdout",
     "output_type": "stream",
     "text": [
      "Minimum distance is  0.646\n"
     ]
    },
    {
     "data": {
      "image/png": "[encoded data removed]",
      "text/plain": [
       "<Figure size 432x288 with 1 Axes>"
      ]
     },
     "metadata": {
      "needs_background": "light"
     },
     "output_type": "display_data"
    }
   ],
   "source": [
    "X=[value(model.x[i]) for i in model.indices]\n",
    "Y=[value(model.y[i]) for i in model.indices]\n",
    "plt.scatter(X,Y,s=25,color='red')\n",
    "plt.xlabel('X')\n",
    "plt.ylabel('Y')\n",
    "plt.title(str(value(model.N))+' bully bugs')\n",
    "print('Minimum distance is ',round(value(model.r),3))"
   ]
  },
  {
   "cell_type": "code",
   "execution_count": null,
   "metadata": {},
   "outputs": [],
   "source": []
  },
  {
   "cell_type": "code",
   "execution_count": null,
   "metadata": {},
   "outputs": [],
   "source": []
  }
 ],
 "metadata": {
  "kernelspec": {
   "display_name": "Python 3",
   "language": "python",
   "name": "python3"
  },
  "language_info": {
   "codemirror_mode": {
    "name": "ipython",
    "version": 3
   },
   "file_extension": ".py",
   "mimetype": "text/x-python",
   "name": "python",
   "nbconvert_exporter": "python",
   "pygments_lexer": "ipython3",
   "version": "3.7.9"
  }
 },
 "nbformat": 4,
 "nbformat_minor": 4
}
