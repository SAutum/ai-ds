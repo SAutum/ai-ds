{
 "cells": [
  {
   "cell_type": "code",
   "execution_count": 2,
   "metadata": {},
   "outputs": [
    {
     "name": "stdout",
     "output_type": "stream",
     "text": [
      "Length of DNA sequence: 791654\n"
     ]
    }
   ],
   "source": [
    "#install the Pomegranate package by typing 'pip install pomegranate' or following other instructions from here:\n",
    "#     https://pomegranate.readthedocs.io/en/latest/install.html\n",
    "from pomegranate import *\n",
    "import numpy as np\n",
    "\n",
    "#copy the file containing the DNA sequence into the folder of this notebook (or add a path below)\n",
    "#read the DNA sequence into a string\n",
    "file = open('BlochmannDNA.txt', 'r')\n",
    "dna = file.readline()\n",
    "print('Length of DNA sequence:',len(dna))\n",
    "file.close()\n",
    "# Fun fact: Python can handle enormous strings. You could do the same with much larger genomes. See\n",
    "# https://stackoverflow.com/questions/1739913/what-is-the-max-length-of-a-python-string"
   ]
  },
  {
   "cell_type": "markdown",
   "metadata": {},
   "source": [
    "Your task: \n",
    "Set up a Hidden Markov Model describing the distribution of a,c,g,t nucleotids in exon and intron states.\n",
    "The nucleotids are the observable states, being exon or intron are the hidden states. Do this as follows:"
   ]
  },
  {
   "cell_type": "markdown",
   "metadata": {},
   "source": [
    "### A) \n",
    "You know that positions 405000 to 405071 and 690040 to 690159 are exons. Compute the percentages of a,c,g,t nucleotids in those positions. The results can later be taken as emission probabilities for the exon state.\n",
    "\n",
    "Likewise you know that positions 1040 to 1111, 2060 to 2151, and 386370 to 386449 are introns. Compute the percentages of a,c,g,t nucleotids in those positions. The results can later be taken as emission probabilities for the intron state.\n",
    "\n",
    "The outcomes should be probability distributions, so make sure that everything sums up to 1 (just round somewhere if necessary).\n",
    "\n",
    "Print out your results."
   ]
  },
  {
   "cell_type": "code",
   "execution_count": null,
   "metadata": {},
   "outputs": [],
   "source": []
  },
  {
   "cell_type": "markdown",
   "metadata": {},
   "source": [
    "### B) \n",
    "Define a Pomegranate Hidden Markov Model. The probability of passing from an intron to an exon state or vice versa is 0.1. As starting probabilities take 0.5 for both states (not true in biology, but we do this because in part C) we want to analyze pieces from the middle of our whole DNA sequence, not just initial segments...)"
   ]
  },
  {
   "cell_type": "code",
   "execution_count": null,
   "metadata": {},
   "outputs": [],
   "source": []
  },
  {
   "cell_type": "markdown",
   "metadata": {},
   "source": [
    "### C) \n",
    "Print out the most likely underlying hidden state sequences for the following observed sequences:"
   ]
  },
  {
   "cell_type": "code",
   "execution_count": 3,
   "metadata": {},
   "outputs": [],
   "source": [
    "seq1='aaaagcgcgttgagactagcattttattatttttgggtt'\n",
    "seq2='catttatttttatatactaaaggcgggcgcttaatgtgcgatgaaataatttttttatt'"
   ]
  },
  {
   "cell_type": "code",
   "execution_count": null,
   "metadata": {},
   "outputs": [],
   "source": []
  }
 ],
 "metadata": {
  "kernelspec": {
   "display_name": "Python 3",
   "language": "python",
   "name": "python3"
  },
  "language_info": {
   "codemirror_mode": {
    "name": "ipython",
    "version": 3
   },
   "file_extension": ".py",
   "mimetype": "text/x-python",
   "name": "python",
   "nbconvert_exporter": "python",
   "pygments_lexer": "ipython3",
   "version": "3.7.9"
  }
 },
 "nbformat": 4,
 "nbformat_minor": 4
}
