{
 "cells": [
  {
   "cell_type": "code",
   "execution_count": 75,
   "metadata": {},
   "outputs": [],
   "source": [
    "from pomegranate import *\n",
    "import numpy as np"
   ]
  },
  {
   "cell_type": "code",
   "execution_count": 76,
   "metadata": {},
   "outputs": [],
   "source": [
    "model = HiddenMarkovModel(name = \"Tree ring model\")\n",
    "#Hidden states: X, can take values H,C\n",
    "#Obervable states: Can take values S,M,L\n",
    "\n",
    "#To specify a Pomegranate hidden Markov model, we have to define states and transition probabilities.\n",
    "\n",
    "#------------Hidden states and rows of the emission matrix----------:\n",
    "#  probabilities for tree ring width in hot years (hidden state H):\n",
    "H_em = DiscreteDistribution({\"S\": 0.1, \"M\": 0.4, \"L\": 0.5})\n",
    "# now we can declare the hidden state H as an object:\n",
    "H_st = State(H_em, name = \"H\")\n",
    "\n",
    "#  probabilities for tree ring width in cold years (hidden state C):\n",
    "C_em = DiscreteDistribution({\"S\": 0.7, \"M\": 0.2, \"L\": 0.1})\n",
    "C_st = State(C_em, name = \"C\")\n",
    "\n",
    "model.add_states(H_st, C_st)\n",
    "\n",
    "#-----------Initial distribution------------\n",
    "model.add_transition(model.start, H_st, 1/2)\n",
    "model.add_transition(model.start, C_st, 1/2)\n",
    "\n",
    "#-----------Transition matrix-------------\n",
    "model.add_transition(H_st, H_st, 0.7)\n",
    "model.add_transition(H_st, C_st, 0.3)\n",
    "model.add_transition(C_st, H_st, 0.4)\n",
    "model.add_transition(C_st, C_st, 0.6)\n",
    "\n",
    "#---------when all ingredients are mixed in, you can finalize ('bake') the model:---------\n",
    "model.bake()\n",
    "\n",
    "# Instead of adding all the transition probabilities one by one, or line by line, as above\n",
    "# you can also enter a matrix right away. See the first example here:\n",
    "# https://pomegranate.readthedocs.io/en/latest/HiddenMarkovModel.html\n",
    "#For large transition matrices, where you maybe have to compute the entries one by one, the above approach\n",
    "# is more convenient. In our small example both are fine."
   ]
  },
  {
   "cell_type": "code",
   "execution_count": 77,
   "metadata": {},
   "outputs": [
    {
     "data": {
      "text/plain": [
       "array([[0.6, 0.4, 0. , 0. ],\n",
       "       [0.3, 0.7, 0. , 0. ],\n",
       "       [0.5, 0.5, 0. , 0. ],\n",
       "       [0. , 0. , 0. , 0. ]])"
      ]
     },
     "execution_count": 77,
     "metadata": {},
     "output_type": "execute_result"
    }
   ],
   "source": [
    "#shows the transition matrix\n",
    "model.dense_transition_matrix()\n",
    "#here it is a 4x4-matrix because Pomegranate automatically adds two more states, model.start and model.end"
   ]
  },
  {
   "cell_type": "code",
   "execution_count": 74,
   "metadata": {},
   "outputs": [
    {
     "name": "stdout",
     "output_type": "stream",
     "text": [
      "The probability that the sequence M S M S S M L L M L appears is 0.001833%.\n",
      "The probability that the sequence L L M S S appears is 0.48%.\n"
     ]
    }
   ],
   "source": [
    "#Let's analyze a tree ring sequences that we might have observed: \n",
    "seq = [\"L\", \"L\", \"M\", \"S\", \"S\"]\n",
    "\n",
    "#Pomegranate offers to compute the _log probability_ of a sequence of observable states, for some reason.\n",
    "#The get the probability, just exponentiate:\n",
    "prob= np.exp(model.log_probability(seq))\n",
    "print('The probability that the sequence',*seq,'appears is {:.2f}%.'.format(prob*100))"
   ]
  },
  {
   "cell_type": "code",
   "execution_count": 73,
   "metadata": {},
   "outputs": [
    {
     "name": "stdout",
     "output_type": "stream",
     "text": [
      "The most likely underlying series of H/C states is ['H', 'H', 'H', 'C', 'C'] at 0.216%.\n"
     ]
    }
   ],
   "source": [
    "#The so-called Viterbi algorithm computes the most likely sequence of hidden states \n",
    "# for a given sequence of observable states:\n",
    "log_likelihood, path = model.viterbi(seq)\n",
    "print(\"The most likely underlying series of H/C states is {} at {:.3f}%.\"\n",
    "      .format([s[1].name for s in path[1:]], np.exp(log_likelihood)*100))"
   ]
  },
  {
   "cell_type": "code",
   "execution_count": null,
   "metadata": {},
   "outputs": [],
   "source": []
  }
 ],
 "metadata": {
  "kernelspec": {
   "display_name": "Python 3",
   "language": "python",
   "name": "python3"
  },
  "language_info": {
   "codemirror_mode": {
    "name": "ipython",
    "version": 3
   },
   "file_extension": ".py",
   "mimetype": "text/x-python",
   "name": "python",
   "nbconvert_exporter": "python",
   "pygments_lexer": "ipython3",
   "version": "3.7.9"
  }
 },
 "nbformat": 4,
 "nbformat_minor": 4
}
