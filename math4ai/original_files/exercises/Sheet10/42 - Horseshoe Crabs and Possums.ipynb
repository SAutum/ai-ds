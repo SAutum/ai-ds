{
 "cells": [
  {
   "cell_type": "markdown",
   "metadata": {},
   "source": [
    "## Ex. 41 a) Horseshoe crabs"
   ]
  },
  {
   "cell_type": "code",
   "execution_count": null,
   "metadata": {},
   "outputs": [],
   "source": [
    "#---- exercise and data file taken from Agresti, Foundations of Linear and Generalized Linear Models\n",
    "# Data file from here:\n",
    "# http://users.stat.ufl.edu/~aa/glm/data/\n",
    "\n",
    "import pandas as pd\n",
    "import numpy as np\n",
    "import statsmodels.api as sm"
   ]
  },
  {
   "cell_type": "code",
   "execution_count": null,
   "metadata": {},
   "outputs": [],
   "source": [
    "# read the data into a dataframe object\n",
    "# the sep option tells you what symbols act as separators between columns. Here: spaces.\n",
    "df = pd.read_table('Crabs.dat', sep=\"\\s+\") \n",
    "#If you are unsure what you have just created, check it out with print commands, e.g. print(df['weight'])\n",
    "\n",
    "#----------- alternatively, and less opaque, one could do stuff like this:\n",
    "#file = open('Crabs.dat')\n",
    "#lst = []\n",
    "#for line in file:\n",
    "#    lst += [line.split()]\n",
    "#\n",
    "#weight = [float(x[2]) for x in lst]\n",
    "#print(weight)\n",
    "#\n",
    "#------this should give a hint what kinds of things you have to do if you get a less nicely structured data file"
   ]
  },
  {
   "cell_type": "code",
   "execution_count": null,
   "metadata": {},
   "outputs": [],
   "source": [
    "##### Your task starts here ######\n",
    "#--------------------------\n",
    "#create a matrix X of explanatory data and a response vector y, as instructed on the exercise sheet\n",
    "\n",
    "\n",
    "#Create an object of type GLM\n",
    "#  it receives the matrix and the resonse data as parameters, \n",
    "#  and is told tthat the response variable should be Poisson distributed\n",
    "model = sm.GLM(y, X, family=sm.families.Poisson())\n",
    "#the following command performs linear regression and stores the results in the object 'model'\n",
    "results = model.fit()\n",
    "results.summary()\n",
    "###########################################################################\n",
    "#    Stare at these numbers for a bit and think about what they tell you  #\n",
    "#          about color, weight and attractiveness of females              #\n",
    "###########################################################################"
   ]
  },
  {
   "cell_type": "markdown",
   "metadata": {},
   "source": [
    "What is the most likely number of satellites, according to your model, for a female of color 3 and weight 2.8? Compute it in Python and print the answer."
   ]
  },
  {
   "cell_type": "code",
   "execution_count": null,
   "metadata": {},
   "outputs": [],
   "source": []
  },
  {
   "cell_type": "markdown",
   "metadata": {},
   "source": [
    "## b) Possums"
   ]
  },
  {
   "cell_type": "code",
   "execution_count": null,
   "metadata": {},
   "outputs": [],
   "source": [
    "#---- exercise and data file taken from Agresti, Foundations of Linear and Generalized Linear Models\n",
    "# Data file from here:\n",
    "# http://www.rls.sites.oasis.unc.edu/s455/homeworks/intro.html\n",
    "\n",
    "import pandas as pd\n",
    "import numpy as np\n",
    "import statsmodels.api as sm"
   ]
  },
  {
   "cell_type": "code",
   "execution_count": null,
   "metadata": {},
   "outputs": [],
   "source": [
    "# Here are data about possums:\n",
    "#\n",
    "# Site: where the possum was measured -- irrelevant\n",
    "# population: home state of the possum; either Victoria or (New South Wales or Queensland)=other\n",
    "# sex\n",
    "# age in years\n",
    "# head length in mm\n",
    "# skull width in mm\n",
    "# total length in cm\n",
    "# tail length in cm\n",
    "#\n",
    "# each row is an individual possum\n",
    "\n",
    "df = pd.read_csv('possum.csv') \n",
    "\n",
    "df.head()\n"
   ]
  },
  {
   "cell_type": "markdown",
   "metadata": {},
   "source": [
    "Your task: Predict from the other data whether a possum is from Victoria (=southeast Australia) or from New South Wales or Queensland (east, resp. northeast Australia). \n",
    "\n",
    "Thus the response variable should be binary, taking value 1 for Victoria and value 0 for NSW or Queensland.\n",
    "\n",
    "The explanatory variables are mostly numerical, except for two: Ignore the variable \"site\", but do use the variable \"sex\" - you know from a previous exercise (on linear regression) how to deal with categorical data (here: sex)."
   ]
  },
  {
   "cell_type": "code",
   "execution_count": null,
   "metadata": {},
   "outputs": [],
   "source": [
    "##### Your task starts here ######\n",
    "#--------------------------\n",
    "#create a matrix X of explanatory data and a response vector y\n",
    "# there may be entries 'nan' is shown - you can replace those by 0 or by the column average, \n",
    "# or drop the corresponding  rows\n",
    "# Note when searching such entries: the nan is not a string but an np.NaN object\n",
    "\n"
   ]
  },
  {
   "cell_type": "code",
   "execution_count": null,
   "metadata": {},
   "outputs": [],
   "source": [
    "#Create an object of type GLM\n",
    "#  it receives the matrix and the resonse data as parameters, \n",
    "#  and is told that the response variable should be Binomial distributed\n",
    "model = sm.GLM(y, X, family=sm.families.Binomial())\n",
    "#the following command performs linear regression and stores the results in the object 'model'\n",
    "results = model.fit()\n",
    "results.summary()\n",
    "###########################################################################\n",
    "#    Stare at these numbers for a bit and think about what they tell you  #\n",
    "###########################################################################"
   ]
  },
  {
   "cell_type": "markdown",
   "metadata": {},
   "source": [
    "From which of the listed possum attributes can you best guess whether the possum came from Victoria, and how? Type your answer here:"
   ]
  },
  {
   "cell_type": "code",
   "execution_count": null,
   "metadata": {},
   "outputs": [],
   "source": []
  },
  {
   "cell_type": "code",
   "execution_count": null,
   "metadata": {},
   "outputs": [],
   "source": []
  }
 ],
 "metadata": {
  "kernelspec": {
   "display_name": "Python 3 (ipykernel)",
   "language": "python",
   "name": "python3"
  },
  "language_info": {
   "codemirror_mode": {
    "name": "ipython",
    "version": 3
   },
   "file_extension": ".py",
   "mimetype": "text/x-python",
   "name": "python",
   "nbconvert_exporter": "python",
   "pygments_lexer": "ipython3",
   "version": "3.11.3"
  }
 },
 "nbformat": 4,
 "nbformat_minor": 4
}
