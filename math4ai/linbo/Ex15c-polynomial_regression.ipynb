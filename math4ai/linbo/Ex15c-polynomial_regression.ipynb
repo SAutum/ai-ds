{
 "cells": [
  {
   "cell_type": "code",
   "execution_count": null,
   "metadata": {},
   "outputs": [],
   "source": [
    "import numpy as np"
   ]
  },
  {
   "cell_type": "code",
   "execution_count": null,
   "metadata": {},
   "outputs": [],
   "source": [
    "#Here is a function that we will later try to approximate by a polynomial\n",
    "def true_fun(X):\n",
    "    return np.cos(1.5 * np.pi * X)"
   ]
  },
  {
   "cell_type": "code",
   "execution_count": null,
   "metadata": {},
   "outputs": [],
   "source": [
    "#Create test and training samples of the function\n",
    "np.random.seed(0)\n",
    "\n",
    "n_samples = 30\n",
    "\n",
    "#this is a list of random real numbers\n",
    "X = np.sort(np.random.rand(n_samples))\n",
    "\n",
    "#this is the list of values of our function at these numbers, disturbed by some random noise\n",
    "#(if we apply the function to a list, we get back a list of values,\n",
    "# this we add to a list of disturbance values)\n",
    "y = true_fun(X) + np.random.randn(n_samples) * 0.1\n",
    "\n",
    "print(X)\n",
    "print(y)"
   ]
  },
  {
   "cell_type": "code",
   "execution_count": null,
   "metadata": {},
   "outputs": [],
   "source": [
    "#--------randomly splits your sample data into a training set and a test set-----------\n",
    "from sklearn.model_selection import train_test_split\n",
    "xtrain, xtest, ytrain, ytest = train_test_split(X, y, test_size=0.25)\n",
    "#---- it doesn't matter how exactly this splitting is done; what matters is that now \n",
    "# xtrain and ytrain are lists of numbers of the same length\n",
    "#which you should use as training data.\n"
   ]
  },
  {
   "cell_type": "code",
   "execution_count": null,
   "metadata": {},
   "outputs": [],
   "source": [
    "#-----your task: -----------\n",
    "\n",
    "# First approximate the given training set xtrain, ytrain by polynomials p_1, ..., p_30\n",
    "# of degrees 1 to 30.\n",
    "\n",
    "# Polynomials in numpy can be realized as poly1d objects:\n",
    "# https://numpy.org/doc/stable/reference/generated/numpy.poly1d.html\n",
    "\n",
    "# It is up to you how you do it - either using a linear model as in part a), or a pseudoinverse as in part b)\n",
    "# or by means of existing methods in Python e.g. numpy.polyfit():\n",
    "# https://numpy.org/doc/stable/reference/generated/numpy.polyfit.html\n",
    "# or methods you find here:\n",
    "# https://numpy.org/doc/stable/reference/generated/numpy.polynomial.polynomial.Polynomial.html#numpy.polynomial.polynomial.Polynomial\n",
    "\n",
    "my_poly = # <--- your list of polynomials here!   "
   ]
  },
  {
   "cell_type": "code",
   "execution_count": null,
   "metadata": {},
   "outputs": [],
   "source": [
    "#Here you can watch your approximation (blue), the true function (orange)\n",
    "#and the test points (blue circles)\n",
    "import matplotlib.pyplot as plt\n",
    "X_test = np.linspace(0, 1, 100)  # <-- set of points to plot, we go in 100 steps from 0 to 1\n",
    "plt.figure(figsize=(4, 5))\n",
    "plt.scatter(X, y, edgecolor='b', s=20, label=\"Samples\")\n",
    "plt.plot(X_test, my_poly[8](X_test), label=\"Model\") # <--- plotting the 9th polynomial in our list \n",
    "plt.plot(X_test, true_fun(X_test), label=\"True function\")\n",
    "# this is just for having something to look at, and for you seeing how to plot."
   ]
  },
  {
   "cell_type": "code",
   "execution_count": null,
   "metadata": {},
   "outputs": [],
   "source": [
    "#-----back to your task: -----------\n",
    "# Calculate and print for each of the polynomials on your list the mean squared error on the training set \n",
    "# and on the test set, i.e.\n",
    "#the sum over all j of (p_i(xtrain[j])-ytrain[j])^2.\n",
    "# You can do this either by hand or using sklearn.metrics.mean_squared_error, \n",
    "#or if you used np.polyfit above, you can activate the option 'full' and obtain part of the the data right away (I think)\n",
    "\n",
    "m_train = # <--- list of mean squared errors on the training set here (should be a list of numbers, going through all the polynomials)\n",
    "#Also calculate and print the mean squared error of each of the polynomials on your test set xtest, ytest.\n",
    "m_test = # <--- mean squared error on the test set here (should be a list of numbers, going through all the polynomials)\n",
    "\n",
    "# the mean squared error of the training set should always go down with rising degree.\n",
    "# the mean squared errror of the test set should go down first, but then might go up again - that's\n",
    "# when you start overfitting!\n",
    "\n",
    "#-----final task: write a function that takes the above data and prints------------\n",
    "print('The mean squared error on the test set is lowest for degree ', your_function(whatever arguments it wants))"
   ]
  }
 ],
 "metadata": {
  "kernelspec": {
   "display_name": "Python 3 (ipykernel)",
   "language": "python",
   "name": "python3"
  },
  "language_info": {
   "codemirror_mode": {
    "name": "ipython",
    "version": 3
   },
   "file_extension": ".py",
   "mimetype": "text/x-python",
   "name": "python",
   "nbconvert_exporter": "python",
   "pygments_lexer": "ipython3",
   "version": "3.11.3"
  }
 },
 "nbformat": 4,
 "nbformat_minor": 4
}
