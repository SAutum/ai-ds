{
  "cells": [
    {
      "cell_type": "code",
      "execution_count": 2,
      "metadata": {
        "id": "TYtTD4OPWry2"
      },
      "outputs": [],
      "source": [
        "import numpy as np"
      ]
    },
    {
      "cell_type": "code",
      "execution_count": 3,
      "metadata": {
        "id": "CpvyGlwLWry6"
      },
      "outputs": [],
      "source": [
        "#Here is a function that we will later try to approximate by a polynomial\n",
        "def true_fun(X):\n",
        "    return np.cos(1.5 * np.pi * X)"
      ]
    },
    {
      "cell_type": "code",
      "execution_count": 4,
      "metadata": {
        "colab": {
          "base_uri": "https://localhost:8080/"
        },
        "id": "Xmbp00rGWry6",
        "outputId": "bc4c36e4-8201-4e02-8e59-ea4408fa337b"
      },
      "outputs": [
        {
          "output_type": "stream",
          "name": "stdout",
          "text": [
            "[0.0202184  0.07103606 0.0871293  0.11827443 0.14335329 0.38344152\n",
            " 0.41466194 0.4236548  0.43758721 0.46147936 0.52184832 0.52889492\n",
            " 0.54488318 0.5488135  0.56804456 0.60276338 0.63992102 0.64589411\n",
            " 0.71518937 0.77815675 0.78052918 0.79172504 0.79915856 0.83261985\n",
            " 0.87001215 0.891773   0.92559664 0.94466892 0.96366276 0.97861834]\n",
            "[ 1.0819082   0.87027612  1.14386208  0.70322051  0.78494746 -0.25265944\n",
            " -0.22066063 -0.26595867 -0.4562644  -0.53001927 -0.86481449 -0.99462675\n",
            " -0.87458603 -0.83407054 -0.77090649 -0.83476183 -1.03080067 -1.02544303\n",
            " -1.0788268  -1.00713288 -1.03009698 -0.63623922 -0.86230652 -0.75328767\n",
            " -0.70023795 -0.41043495 -0.50486767 -0.27907117 -0.25994628 -0.06189804]\n"
          ]
        }
      ],
      "source": [
        "#Create test and training samples of the function\n",
        "np.random.seed(0)\n",
        "\n",
        "n_samples = 30\n",
        "\n",
        "#this is a list of random real numbers\n",
        "X = np.sort(np.random.rand(n_samples))\n",
        "\n",
        "#this is the list of values of our function at these numbers, disturbed by some random noise\n",
        "#(if we apply the function to a list, we get back a list of values,\n",
        "# this we add to a list of disturbance values)\n",
        "y = true_fun(X) + np.random.randn(n_samples) * 0.1\n",
        "\n",
        "print(X)\n",
        "print(y)"
      ]
    },
    {
      "cell_type": "code",
      "execution_count": 5,
      "metadata": {
        "id": "5xeE0tDYWry7"
      },
      "outputs": [],
      "source": [
        "#--------randomly splits your sample data into a training set and a test set-----------\n",
        "from sklearn.model_selection import train_test_split\n",
        "xtrain, xtest, ytrain, ytest = train_test_split(X, y, test_size=0.25)\n",
        "#---- it doesn't matter how exactly this splitting is done; what matters is that now\n",
        "# xtrain and ytrain are lists of numbers of the same length\n",
        "#which you should use as training data.\n"
      ]
    },
    {
      "cell_type": "code",
      "execution_count": 7,
      "metadata": {
        "colab": {
          "base_uri": "https://localhost:8080/"
        },
        "id": "6ipUOt4dWry7",
        "outputId": "fdb50e73-2d5e-41b9-9690-1074b2058e31"
      },
      "outputs": [
        {
          "output_type": "stream",
          "name": "stderr",
          "text": [
            "/usr/local/lib/python3.10/dist-packages/IPython/core/interactiveshell.py:3553: RankWarning: Polyfit may be poorly conditioned\n",
            "  exec(code_obj, self.user_global_ns, self.user_ns)\n",
            "/usr/local/lib/python3.10/dist-packages/IPython/core/interactiveshell.py:3553: RankWarning: Polyfit may be poorly conditioned\n",
            "  exec(code_obj, self.user_global_ns, self.user_ns)\n",
            "/usr/local/lib/python3.10/dist-packages/IPython/core/interactiveshell.py:3553: RankWarning: Polyfit may be poorly conditioned\n",
            "  exec(code_obj, self.user_global_ns, self.user_ns)\n",
            "/usr/local/lib/python3.10/dist-packages/IPython/core/interactiveshell.py:3553: RankWarning: Polyfit may be poorly conditioned\n",
            "  exec(code_obj, self.user_global_ns, self.user_ns)\n",
            "/usr/local/lib/python3.10/dist-packages/IPython/core/interactiveshell.py:3553: RankWarning: Polyfit may be poorly conditioned\n",
            "  exec(code_obj, self.user_global_ns, self.user_ns)\n",
            "/usr/local/lib/python3.10/dist-packages/IPython/core/interactiveshell.py:3553: RankWarning: Polyfit may be poorly conditioned\n",
            "  exec(code_obj, self.user_global_ns, self.user_ns)\n",
            "/usr/local/lib/python3.10/dist-packages/IPython/core/interactiveshell.py:3553: RankWarning: Polyfit may be poorly conditioned\n",
            "  exec(code_obj, self.user_global_ns, self.user_ns)\n",
            "/usr/local/lib/python3.10/dist-packages/IPython/core/interactiveshell.py:3553: RankWarning: Polyfit may be poorly conditioned\n",
            "  exec(code_obj, self.user_global_ns, self.user_ns)\n",
            "/usr/local/lib/python3.10/dist-packages/IPython/core/interactiveshell.py:3553: RankWarning: Polyfit may be poorly conditioned\n",
            "  exec(code_obj, self.user_global_ns, self.user_ns)\n",
            "/usr/local/lib/python3.10/dist-packages/IPython/core/interactiveshell.py:3553: RankWarning: Polyfit may be poorly conditioned\n",
            "  exec(code_obj, self.user_global_ns, self.user_ns)\n",
            "/usr/local/lib/python3.10/dist-packages/IPython/core/interactiveshell.py:3553: RankWarning: Polyfit may be poorly conditioned\n",
            "  exec(code_obj, self.user_global_ns, self.user_ns)\n",
            "/usr/local/lib/python3.10/dist-packages/IPython/core/interactiveshell.py:3553: RankWarning: Polyfit may be poorly conditioned\n",
            "  exec(code_obj, self.user_global_ns, self.user_ns)\n",
            "/usr/local/lib/python3.10/dist-packages/IPython/core/interactiveshell.py:3553: RankWarning: Polyfit may be poorly conditioned\n",
            "  exec(code_obj, self.user_global_ns, self.user_ns)\n",
            "/usr/local/lib/python3.10/dist-packages/IPython/core/interactiveshell.py:3553: RankWarning: Polyfit may be poorly conditioned\n",
            "  exec(code_obj, self.user_global_ns, self.user_ns)\n"
          ]
        }
      ],
      "source": [
        "#-----your task: -----------\n",
        "\n",
        "# First approximate the given training set xtrain, ytrain by polynomials p_1, ..., p_30\n",
        "# of degrees 1 to 30.\n",
        "degrees = np.arange(1, 31)\n",
        "# Polynomials in numpy can be realized as poly1d objects:\n",
        "# https://numpy.org/doc/stable/reference/generated/numpy.poly1d.html\n",
        "\n",
        "# It is up to you how you do it - either using a linear model as in part a), or a pseudoinverse as in part b)\n",
        "# or by means of existing methods in Python e.g. numpy.polyfit():\n",
        "# https://numpy.org/doc/stable/reference/generated/numpy.polyfit.html\n",
        "# or methods you find here:\n",
        "# https://numpy.org/doc/stable/reference/generated/numpy.polynomial.polynomial.Polynomial.html#numpy.polynomial.polynomial.Polynomial\n",
        "\n",
        "my_poly = []# <--- your list of polynomials here!\n",
        "for degree in degrees:\n",
        "    coefficients = np.polyfit(xtrain, ytrain, degree)\n",
        "    poly = np.poly1d(coefficients)\n",
        "    my_poly.append(poly)"
      ]
    },
    {
      "cell_type": "code",
      "execution_count": 8,
      "metadata": {
        "colab": {
          "base_uri": "https://localhost:8080/",
          "height": 463
        },
        "id": "ynXLBvBCWry7",
        "outputId": "f632a651-7aab-4a10-ad29-1a11dfe6880b"
      },
      "outputs": [
        {
          "output_type": "execute_result",
          "data": {
            "text/plain": [
              "[<matplotlib.lines.Line2D at 0x78ae6de20fa0>]"
            ]
          },
          "metadata": {},
          "execution_count": 8
        },
        {
          "output_type": "display_data",
          "data": {
            "text/plain": [
              "<Figure size 400x500 with 1 Axes>"
            ],
            "image/png": "[encoded data removed]"
          },
          "metadata": {}
        }
      ],
      "source": [
        "#Here you can watch your approximation (blue), the true function (orange)\n",
        "#and the test points (blue circles)\n",
        "import matplotlib.pyplot as plt\n",
        "X_test = np.linspace(0, 1, 100)  # <-- set of points to plot, we go in 100 steps from 0 to 1\n",
        "plt.figure(figsize=(4, 5))\n",
        "plt.scatter(X, y, edgecolor='b', s=20, label=\"Samples\")\n",
        "plt.plot(X_test, my_poly[8](X_test), label=\"Model\") # <--- plotting the 9th polynomial in our list\n",
        "plt.plot(X_test, true_fun(X_test), label=\"True function\")\n",
        "# this is just for having something to look at, and for you seeing how to plot."
      ]
    },
    {
      "cell_type": "code",
      "execution_count": 9,
      "metadata": {
        "colab": {
          "base_uri": "https://localhost:8080/"
        },
        "id": "8D1z5MvCWry8",
        "outputId": "3ce6814f-1759-417d-993b-7534167b1b57"
      },
      "outputs": [
        {
          "output_type": "stream",
          "name": "stdout",
          "text": [
            "Degree 1: MSE (Training) = 0.2434, MSE (Test) = 0.2079\n",
            "Degree 2: MSE (Training) = 0.0248, MSE (Test) = 0.0463\n",
            "Degree 3: MSE (Training) = 0.0113, MSE (Test) = 0.0180\n",
            "Degree 4: MSE (Training) = 0.0102, MSE (Test) = 0.0183\n",
            "Degree 5: MSE (Training) = 0.0100, MSE (Test) = 0.0171\n",
            "Degree 6: MSE (Training) = 0.0100, MSE (Test) = 0.0169\n",
            "Degree 7: MSE (Training) = 0.0082, MSE (Test) = 0.0294\n",
            "Degree 8: MSE (Training) = 0.0081, MSE (Test) = 0.0296\n",
            "Degree 9: MSE (Training) = 0.0079, MSE (Test) = 0.0290\n",
            "Degree 10: MSE (Training) = 0.0072, MSE (Test) = 0.0483\n",
            "Degree 11: MSE (Training) = 0.0069, MSE (Test) = 0.0666\n",
            "Degree 12: MSE (Training) = 0.0066, MSE (Test) = 0.0790\n",
            "Degree 13: MSE (Training) = 0.0035, MSE (Test) = 0.2061\n",
            "Degree 14: MSE (Training) = 0.0025, MSE (Test) = 0.6798\n",
            "Degree 15: MSE (Training) = 0.0017, MSE (Test) = 0.3085\n",
            "Degree 16: MSE (Training) = 0.0017, MSE (Test) = 4.2259\n",
            "Degree 17: MSE (Training) = 0.0017, MSE (Test) = 2.4675\n",
            "Degree 18: MSE (Training) = 0.0012, MSE (Test) = 124.1111\n",
            "Degree 19: MSE (Training) = 0.0012, MSE (Test) = 48.0589\n",
            "Degree 20: MSE (Training) = 0.0011, MSE (Test) = 19.3860\n",
            "Degree 21: MSE (Training) = 0.0006, MSE (Test) = 1496.9885\n",
            "Degree 22: MSE (Training) = 0.0006, MSE (Test) = 778.7948\n",
            "Degree 23: MSE (Training) = 0.0005, MSE (Test) = 416.3565\n",
            "Degree 24: MSE (Training) = 0.0004, MSE (Test) = 225.1700\n",
            "Degree 25: MSE (Training) = 0.0000, MSE (Test) = 1350.5742\n",
            "Degree 26: MSE (Training) = 0.0000, MSE (Test) = 449.7873\n",
            "Degree 27: MSE (Training) = 0.0000, MSE (Test) = 147.5507\n",
            "Degree 28: MSE (Training) = 0.0000, MSE (Test) = 46.7589\n",
            "Degree 29: MSE (Training) = 0.0000, MSE (Test) = 13.7997\n",
            "Degree 30: MSE (Training) = 0.0000, MSE (Test) = 3.5438\n",
            "\n",
            "The mean squared error on the test set is lowest for degree 6\n"
          ]
        }
      ],
      "source": [
        "#-----back to your task: -----------\n",
        "# Calculate and print for each of the polynomials on your list the mean squared error on the training set\n",
        "# and on the test set, i.e.\n",
        "#the sum over all j of (p_i(xtrain[j])-ytrain[j])^2.\n",
        "# You can do this either by hand or using sklearn.metrics.mean_squared_error,\n",
        "#or if you used np.polyfit above, you can activate the option 'full' and obtain part of the the data right away (I think)\n",
        "from sklearn.metrics import mean_squared_error\n",
        "\n",
        "m_train = [mean_squared_error(ytrain, poly(xtrain)) for poly in my_poly] # <--- list of mean squared errors on the training set here (should be a list of numbers, going through all the polynomials)\n",
        "#Also calculate and print the mean squared error of each of the polynomials on your test set xtest, ytest.\n",
        "m_test = [mean_squared_error(ytest, poly(xtest)) for poly in my_poly]# <--- mean squared error on the test set here (should be a list of numbers, going through all the polynomials)\n",
        "best_degree = np.argmin(m_test) + 1\n",
        "# the mean squared error of the training set should always go down with rising degree.\n",
        "# the mean squared errror of the test set should go down first, but then might go up again - that's\n",
        "# when you start overfitting!\n",
        "for degree, mse_train, mse_test in zip(range(1, 31), m_train, m_test):\n",
        "    print(f'Degree {degree}: MSE (Training) = {mse_train:.4f}, MSE (Test) = {mse_test:.4f}')\n",
        "#-----final task: write a function that takes the above data and prints------------\n",
        "print(f'\\nThe mean squared error on the test set is lowest for degree {best_degree}')"
      ]
    }
  ],
  "metadata": {
    "kernelspec": {
      "display_name": "Python 3 (ipykernel)",
      "language": "python",
      "name": "python3"
    },
    "language_info": {
      "codemirror_mode": {
        "name": "ipython",
        "version": 3
      },
      "file_extension": ".py",
      "mimetype": "text/x-python",
      "name": "python",
      "nbconvert_exporter": "python",
      "pygments_lexer": "ipython3",
      "version": "3.11.3"
    },
    "colab": {
      "provenance": []
    }
  },
  "nbformat": 4,
  "nbformat_minor": 0
}