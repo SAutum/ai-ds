{
 "cells": [
  {
   "cell_type": "code",
   "execution_count": 1,
   "metadata": {},
   "outputs": [],
   "source": [
    "import pandas as pd\n",
    "import numpy as np\n"
   ]
  },
  {
   "cell_type": "code",
   "execution_count": 2,
   "metadata": {},
   "outputs": [
    {
     "data": {
      "text/html": [
       "<div>\n",
       "<style scoped>\n",
       "    .dataframe tbody tr th:only-of-type {\n",
       "        vertical-align: middle;\n",
       "    }\n",
       "\n",
       "    .dataframe tbody tr th {\n",
       "        vertical-align: top;\n",
       "    }\n",
       "\n",
       "    .dataframe thead th {\n",
       "        text-align: right;\n",
       "    }\n",
       "</style>\n",
       "<table border=\"1\" class=\"dataframe\">\n",
       "  <thead>\n",
       "    <tr style=\"text-align: right;\">\n",
       "      <th></th>\n",
       "      <th>age</th>\n",
       "      <th>sex</th>\n",
       "      <th>bmi</th>\n",
       "      <th>children</th>\n",
       "      <th>smoker</th>\n",
       "      <th>region</th>\n",
       "      <th>charges</th>\n",
       "    </tr>\n",
       "  </thead>\n",
       "  <tbody>\n",
       "    <tr>\n",
       "      <th>0</th>\n",
       "      <td>19</td>\n",
       "      <td>female</td>\n",
       "      <td>27.900</td>\n",
       "      <td>0</td>\n",
       "      <td>yes</td>\n",
       "      <td>southwest</td>\n",
       "      <td>16884.92400</td>\n",
       "    </tr>\n",
       "    <tr>\n",
       "      <th>1</th>\n",
       "      <td>18</td>\n",
       "      <td>male</td>\n",
       "      <td>33.770</td>\n",
       "      <td>1</td>\n",
       "      <td>no</td>\n",
       "      <td>southeast</td>\n",
       "      <td>1725.55230</td>\n",
       "    </tr>\n",
       "    <tr>\n",
       "      <th>2</th>\n",
       "      <td>28</td>\n",
       "      <td>male</td>\n",
       "      <td>33.000</td>\n",
       "      <td>3</td>\n",
       "      <td>no</td>\n",
       "      <td>southeast</td>\n",
       "      <td>4449.46200</td>\n",
       "    </tr>\n",
       "    <tr>\n",
       "      <th>3</th>\n",
       "      <td>33</td>\n",
       "      <td>male</td>\n",
       "      <td>22.705</td>\n",
       "      <td>0</td>\n",
       "      <td>no</td>\n",
       "      <td>northwest</td>\n",
       "      <td>21984.47061</td>\n",
       "    </tr>\n",
       "    <tr>\n",
       "      <th>4</th>\n",
       "      <td>32</td>\n",
       "      <td>male</td>\n",
       "      <td>28.880</td>\n",
       "      <td>0</td>\n",
       "      <td>no</td>\n",
       "      <td>northwest</td>\n",
       "      <td>3866.85520</td>\n",
       "    </tr>\n",
       "  </tbody>\n",
       "</table>\n",
       "</div>"
      ],
      "text/plain": [
       "   age     sex     bmi  children smoker     region      charges\n",
       "0   19  female  27.900         0    yes  southwest  16884.92400\n",
       "1   18    male  33.770         1     no  southeast   1725.55230\n",
       "2   28    male  33.000         3     no  southeast   4449.46200\n",
       "3   33    male  22.705         0     no  northwest  21984.47061\n",
       "4   32    male  28.880         0     no  northwest   3866.85520"
      ]
     },
     "execution_count": 2,
     "metadata": {},
     "output_type": "execute_result"
    }
   ],
   "source": [
    "#read the data from the csv file into a dataframe object\n",
    "dataset = pd.read_csv('insurance.csv')\n",
    "\n",
    "#the data set comes from here:\n",
    "#https://github.com/stedy/Machine-Learning-with-R-datasets\n",
    "# It records age, sex, body mass index (bmi), nr. of children, whether a person smokes, where in the US they live,\n",
    "# and the costs of their health insurance\n",
    "# take a look at the raw csv file or here:\n",
    "dataset.head()\n"
   ]
  },
  {
   "cell_type": "code",
   "execution_count": 3,
   "metadata": {},
   "outputs": [
    {
     "name": "stdout",
     "output_type": "stream",
     "text": [
      "               age          bmi     children       charges\n",
      "count  1338.000000  1338.000000  1338.000000   1338.000000\n",
      "mean     39.207025    30.663397     1.094918  13270.422265\n",
      "std      14.049960     6.098187     1.205493  12110.011237\n",
      "min      18.000000    15.960000     0.000000   1121.873900\n",
      "25%      27.000000    26.296250     0.000000   4740.287150\n",
      "50%      39.000000    30.400000     1.000000   9382.033000\n",
      "75%      51.000000    34.693750     2.000000  16639.912515\n",
      "max      64.000000    53.130000     5.000000  63770.428010\n"
     ]
    }
   ],
   "source": [
    "#dataframes have methods producing the standard statistical numbers associated to their data,\n",
    "#e.g. mean and standard deviation:\n",
    "print(dataset.describe())\n",
    "# here only the numerical columns are shown because 'mean' etc. makes no sense for the other columns.\n",
    "\n",
    "#-----see the dataframe documentation for more\n",
    "# https://pandas.pydata.org/pandas-docs/stable/reference/api/pandas.DataFrame.html\n"
   ]
  },
  {
   "cell_type": "code",
   "execution_count": 4,
   "metadata": {},
   "outputs": [],
   "source": [
    "#produce new dataframes by selecting some columns from the given ones\n",
    "X = dataset[['age', 'bmi', 'children']]\n",
    "y = dataset['charges']\n",
    "#we will suppose that the numbers in y depend linearly on those in X\n"
   ]
  },
  {
   "cell_type": "code",
   "execution_count": 5,
   "metadata": {},
   "outputs": [
    {
     "data": {
      "text/html": [
       "<div>\n",
       "<style scoped>\n",
       "    .dataframe tbody tr th:only-of-type {\n",
       "        vertical-align: middle;\n",
       "    }\n",
       "\n",
       "    .dataframe tbody tr th {\n",
       "        vertical-align: top;\n",
       "    }\n",
       "\n",
       "    .dataframe thead th {\n",
       "        text-align: right;\n",
       "    }\n",
       "</style>\n",
       "<table border=\"1\" class=\"dataframe\">\n",
       "  <thead>\n",
       "    <tr style=\"text-align: right;\">\n",
       "      <th></th>\n",
       "      <th>age</th>\n",
       "      <th>bmi</th>\n",
       "      <th>children</th>\n",
       "    </tr>\n",
       "  </thead>\n",
       "  <tbody>\n",
       "    <tr>\n",
       "      <th>0</th>\n",
       "      <td>19</td>\n",
       "      <td>27.900</td>\n",
       "      <td>0</td>\n",
       "    </tr>\n",
       "    <tr>\n",
       "      <th>1</th>\n",
       "      <td>18</td>\n",
       "      <td>33.770</td>\n",
       "      <td>1</td>\n",
       "    </tr>\n",
       "    <tr>\n",
       "      <th>2</th>\n",
       "      <td>28</td>\n",
       "      <td>33.000</td>\n",
       "      <td>3</td>\n",
       "    </tr>\n",
       "    <tr>\n",
       "      <th>3</th>\n",
       "      <td>33</td>\n",
       "      <td>22.705</td>\n",
       "      <td>0</td>\n",
       "    </tr>\n",
       "    <tr>\n",
       "      <th>4</th>\n",
       "      <td>32</td>\n",
       "      <td>28.880</td>\n",
       "      <td>0</td>\n",
       "    </tr>\n",
       "  </tbody>\n",
       "</table>\n",
       "</div>"
      ],
      "text/plain": [
       "   age     bmi  children\n",
       "0   19  27.900         0\n",
       "1   18  33.770         1\n",
       "2   28  33.000         3\n",
       "3   33  22.705         0\n",
       "4   32  28.880         0"
      ]
     },
     "execution_count": 5,
     "metadata": {},
     "output_type": "execute_result"
    }
   ],
   "source": [
    "X.head()\n"
   ]
  },
  {
   "cell_type": "code",
   "execution_count": 6,
   "metadata": {},
   "outputs": [
    {
     "data": {
      "text/plain": [
       "0    16884.92400\n",
       "1     1725.55230\n",
       "2     4449.46200\n",
       "3    21984.47061\n",
       "4     3866.85520\n",
       "Name: charges, dtype: float64"
      ]
     },
     "execution_count": 6,
     "metadata": {},
     "output_type": "execute_result"
    }
   ],
   "source": [
    "y.head()\n"
   ]
  },
  {
   "cell_type": "code",
   "execution_count": 7,
   "metadata": {},
   "outputs": [
    {
     "name": "stdout",
     "output_type": "stream",
     "text": [
      "          Coefficient\n",
      "age        239.994474\n",
      "bmi        332.083365\n",
      "children   542.864652\n"
     ]
    }
   ],
   "source": [
    "#create a LinearRegression object, then invoke its methods on our data\n",
    "from sklearn.linear_model import LinearRegression\n",
    "our_model = LinearRegression()\n",
    "\n",
    "#The method fit() performs a linear regression, i.e. computes the 'best' linear function taking arguments as in X that approximates y\n",
    "#in the following the list of 4-tuples of numbers X is interpreted as inputs, the list of numbers y as outputs. This is taken as training data.\n",
    "our_model.fit(X, y)\n",
    "\n",
    "#the coefficients of our linear model are stored in our_model.coef_\n",
    "#we put this information into a new dataframe (for no good reason, just so you see how it's done):\n",
    "coeff_df = pd.DataFrame(our_model.coef_, X.columns, columns=['Coefficient'])\n",
    "print(coeff_df)\n",
    "\n",
    "#It should look like this:\n",
    "#           Coefficient\n",
    "#age        239.994474\n",
    "#bmi        332.083365\n",
    "#children   542.864652\n",
    "#\n",
    "#\n",
    "#This means that our approximate function is\n",
    "#  charges = 239.994474*age + 332.083365*bmi + 542.864652*children + some constant\n"
   ]
  },
  {
   "cell_type": "code",
   "execution_count": 8,
   "metadata": {},
   "outputs": [
    {
     "data": {
      "text/html": [
       "<div>\n",
       "<style scoped>\n",
       "    .dataframe tbody tr th:only-of-type {\n",
       "        vertical-align: middle;\n",
       "    }\n",
       "\n",
       "    .dataframe tbody tr th {\n",
       "        vertical-align: top;\n",
       "    }\n",
       "\n",
       "    .dataframe thead th {\n",
       "        text-align: right;\n",
       "    }\n",
       "</style>\n",
       "<table border=\"1\" class=\"dataframe\">\n",
       "  <thead>\n",
       "    <tr style=\"text-align: right;\">\n",
       "      <th></th>\n",
       "      <th>age</th>\n",
       "      <th>bmi</th>\n",
       "      <th>children</th>\n",
       "      <th>smoker</th>\n",
       "      <th>sex</th>\n",
       "    </tr>\n",
       "  </thead>\n",
       "  <tbody>\n",
       "    <tr>\n",
       "      <th>0</th>\n",
       "      <td>19</td>\n",
       "      <td>27.900</td>\n",
       "      <td>0</td>\n",
       "      <td>1</td>\n",
       "      <td>1</td>\n",
       "    </tr>\n",
       "    <tr>\n",
       "      <th>1</th>\n",
       "      <td>18</td>\n",
       "      <td>33.770</td>\n",
       "      <td>1</td>\n",
       "      <td>0</td>\n",
       "      <td>0</td>\n",
       "    </tr>\n",
       "    <tr>\n",
       "      <th>2</th>\n",
       "      <td>28</td>\n",
       "      <td>33.000</td>\n",
       "      <td>3</td>\n",
       "      <td>0</td>\n",
       "      <td>0</td>\n",
       "    </tr>\n",
       "    <tr>\n",
       "      <th>3</th>\n",
       "      <td>33</td>\n",
       "      <td>22.705</td>\n",
       "      <td>0</td>\n",
       "      <td>0</td>\n",
       "      <td>0</td>\n",
       "    </tr>\n",
       "    <tr>\n",
       "      <th>4</th>\n",
       "      <td>32</td>\n",
       "      <td>28.880</td>\n",
       "      <td>0</td>\n",
       "      <td>0</td>\n",
       "      <td>0</td>\n",
       "    </tr>\n",
       "  </tbody>\n",
       "</table>\n",
       "</div>"
      ],
      "text/plain": [
       "   age     bmi  children  smoker  sex\n",
       "0   19  27.900         0       1    1\n",
       "1   18  33.770         1       0    0\n",
       "2   28  33.000         3       0    0\n",
       "3   33  22.705         0       0    0\n",
       "4   32  28.880         0       0    0"
      ]
     },
     "execution_count": 8,
     "metadata": {},
     "output_type": "execute_result"
    }
   ],
   "source": [
    "# Here we didn't make use of the non-numerical columns, but surely they influence the insurance costs\n",
    "# To take this into account we encode them by numbers:\n",
    "def sex_numerical(s):\n",
    "    if s=='female':\n",
    "        return 1\n",
    "    elif s=='male':\n",
    "        return 0\n",
    "\n",
    "def smoker_numerical(s):\n",
    "    if s=='yes':\n",
    "        return 1\n",
    "    elif s=='no':\n",
    "        return 0\n",
    "    else:\n",
    "        print('Schrödinger\\'s smoker')\n",
    "\n",
    "X = dataset.copy()[['age', 'bmi', 'children', 'smoker', 'sex']]\n",
    "X['sex']=[sex_numerical(x) for x in dataset['sex']]\n",
    "X['smoker']=[smoker_numerical(x) for x in dataset['smoker']]\n",
    "X.head()\n"
   ]
  },
  {
   "cell_type": "code",
   "execution_count": 9,
   "metadata": {},
   "outputs": [
    {
     "name": "stdout",
     "output_type": "stream",
     "text": [
      "           Coefficient\n",
      "age         257.734988\n",
      "bmi         322.364214\n",
      "children    474.411121\n",
      "smoker    23823.392531\n",
      "sex         128.639854\n"
     ]
    }
   ],
   "source": [
    "our_model.fit(X, y)\n",
    "\n",
    "#the coefficients of our linear model are stored in our_model.coef_\n",
    "#we put this information into a new dataframe\n",
    "coeff_df = pd.DataFrame(our_model.coef_, X.columns, columns=['Coefficient'])\n",
    "print(coeff_df)\n"
   ]
  },
  {
   "cell_type": "markdown",
   "metadata": {},
   "source": [
    "This means that our approximate function is \n",
    "  $$charge = 257.734988*age + 322.364214*bmi + 474.411121*children + 23823.392531*smoker + 128.639854*sex + some\\  constant$$\n",
    " Think about what these coefficients tell us: \n",
    " e.g. Smoking drives up your insurane cost a lot\n",
    " and that the last coefficient is positive tells us that women pay more"
   ]
  },
  {
   "cell_type": "code",
   "execution_count": 10,
   "metadata": {},
   "outputs": [
    {
     "name": "stdout",
     "output_type": "stream",
     "text": [
      "Model predictions:  [25661.85689486  3818.77858262  7096.73025538 ...  4465.88909619\n",
      "  1676.96948913 36863.89250792]\n",
      "Actual values: 0       16884.92400\n",
      "1        1725.55230\n",
      "2        4449.46200\n",
      "3       21984.47061\n",
      "4        3866.85520\n",
      "           ...     \n",
      "1333    10600.54830\n",
      "1334     2205.98080\n",
      "1335     1629.83350\n",
      "1336     2007.94500\n",
      "1337    29141.36030\n",
      "Name: charges, Length: 1338, dtype: float64\n"
     ]
    }
   ],
   "source": [
    "# The predictions of our model can be shown with the .predict() function.\n",
    "# you can pass any data matrix to the function - here we just took\n",
    "# the given data to compare with the actual values\n",
    "print('Model predictions: ',our_model.predict(X))\n",
    "# Actual values for comparison:\n",
    "print('Actual values:',y)\n",
    "# Summary: The order of magnitude of the predictions is ok, but it's not super precise\n",
    "\n",
    "# Additionally, let's save the score of the regression\n",
    "score_wo_region = our_model.score(X, y)\n"
   ]
  },
  {
   "cell_type": "code",
   "execution_count": 11,
   "metadata": {},
   "outputs": [
    {
     "name": "stdout",
     "output_type": "stream",
     "text": [
      "[-12181.10183923]\n"
     ]
    },
    {
     "name": "stderr",
     "output_type": "stream",
     "text": [
      "/home/hongli/anaconda3/envs/APAlg/lib/python3.9/site-packages/sklearn/base.py:464: UserWarning: X does not have valid feature names, but LinearRegression was fitted with feature names\n",
      "  warnings.warn(\n"
     ]
    }
   ],
   "source": [
    "# find out the constant term of our model:\n",
    "print(our_model.predict([[0,0,0,0,0]]))\n"
   ]
  },
  {
   "cell_type": "code",
   "execution_count": 12,
   "metadata": {},
   "outputs": [
    {
     "data": {
      "text/plain": [
       "0       25661.856888\n",
       "1        3818.778573\n",
       "2        7096.730250\n",
       "3        3643.432244\n",
       "4        5376.296277\n",
       "            ...     \n",
       "1333    12112.500631\n",
       "1334     2876.633510\n",
       "1335     4465.889085\n",
       "1336     1676.969484\n",
       "1337    36863.892515\n",
       "Length: 1338, dtype: float64"
      ]
     },
     "execution_count": 12,
     "metadata": {},
     "output_type": "execute_result"
    }
   ],
   "source": [
    "#Check that the coefficients really are used as claimed above\n",
    "predictions=-12181.10183923 + 257.734988*X['age'] + 322.364214*X['bmi'] + 474.411121*X['children'] + 23823.392531*X['smoker'] + 128.639854*X['sex']\n",
    "predictions\n",
    "# The numbers should be the same as those from the model predictions above.\n"
   ]
  },
  {
   "cell_type": "markdown",
   "metadata": {},
   "source": [
    "## (a) also use the location data (4 points)"
   ]
  },
  {
   "cell_type": "markdown",
   "metadata": {},
   "source": [
    "$\\to$ Your task: Now also use the location data for the linear model\n",
    " \n",
    " Again you will have to encode it by numbers. For 'sex' and 'smoker' we only had two possible values each, which we could encode by 0 or 1. In this way in the linear model we get an extra coefficient which e.g. is used for smokers (value 1) but not for non-smokers.\n",
    " \n",
    "1) For the region we have several possible values. Find out how many - by programming not or by just looking into the .csv file.\n",
    "\n",
    "2) If there are n possible values for 'region', you could create n new columns whose value you set to 1 if that is the region, and to 0 if not. This is slightly redundant: You can also get away with n-1 columns. Then there will be one region without an assigned column, and if all region values are 0 it means it is that left out region. This is what we did with 'sex' and 'smoker'. Choose either way.\n",
    " \n",
    "3) Check whether the predictions get better"
   ]
  },
  {
   "cell_type": "code",
   "execution_count": 13,
   "metadata": {},
   "outputs": [
    {
     "name": "stdout",
     "output_type": "stream",
     "text": [
      "['southwest', 'southeast', 'northwest', 'northeast']\n"
     ]
    }
   ],
   "source": [
    "regions = list(dataset.region.unique())\n",
    "print(regions)\n",
    "# We may use this:\n",
    "# pd.get_dummies(dataset, columns=['region']).drop(columns='region_northeast')\n",
    "\n",
    "# This method is somehow called One-Hot encoding(独热编码)\n",
    "for i in range(len(regions)-1):\n",
    "    X[regions[i]] = (dataset['region'] == regions[i])*1\n"
   ]
  },
  {
   "cell_type": "code",
   "execution_count": 14,
   "metadata": {},
   "outputs": [
    {
     "name": "stdout",
     "output_type": "stream",
     "text": [
      "Model predictions:  [25293.7130284   3448.60283431  6706.9884907  ...  4149.13248568\n",
      "  1246.58493898 37085.62326757]\n",
      "Actual values: 0       16884.92400\n",
      "1        1725.55230\n",
      "2        4449.46200\n",
      "3       21984.47061\n",
      "4        3866.85520\n",
      "           ...     \n",
      "1333    10600.54830\n",
      "1334     2205.98080\n",
      "1335     1629.83350\n",
      "1336     2007.94500\n",
      "1337    29141.36030\n",
      "Name: charges, Length: 1338, dtype: float64\n"
     ]
    }
   ],
   "source": [
    "our_model.fit(X,y)\n",
    "print('Model predictions: ',our_model.predict(X))\n",
    "# Actual values for comparison:\n",
    "print('Actual values:',y)\n",
    "# Summary: The order of magnitude of the predictions is ok, but it's not super precise\n"
   ]
  },
  {
   "cell_type": "code",
   "execution_count": 15,
   "metadata": {},
   "outputs": [
    {
     "name": "stdout",
     "output_type": "stream",
     "text": [
      "Score without region: 0.7497225098709179\n",
      "Score with region: 0.7509130345985207\n"
     ]
    }
   ],
   "source": [
    "score_w_region = our_model.score(X,y)\n",
    "\n",
    "print(\"Score without region: {}\".format(score_wo_region))\n",
    "print(\"Score with region: {}\".format(score_w_region))\n"
   ]
  },
  {
   "cell_type": "markdown",
   "metadata": {},
   "source": [
    "## (b) Linear regression via pseudoinverse (2 points)"
   ]
  },
  {
   "cell_type": "markdown",
   "metadata": {},
   "source": [
    " $\\to$ Your task: Do the linear regression again by computing a pseudoinverse \n",
    "\n",
    "1)  A linear model also has a constant term (it is an affine function in math terminology). \n",
    "The data matrix would encode a linear function, i.e. with constant term 0.\n",
    "\n",
    "To acommodate the constant term, you should first add  a column of 1s to the dataframe - think about why this will produce a constant! You can use the dataframe methods .insert() or .assign()\n",
    " https://pandas.pydata.org/pandas-docs/stable/reference/api/pandas.DataFrame.insert.html\n",
    "\n",
    "2) There is a method computing pseudoinverses:  numpy.linalg.pinv\n",
    "Compare the coefficients you obtain from this second regression method with the ones from above. They should be equal, if you use the version with $n-1$ new columns (where $n$ is the number of possible values of 'region')!"
   ]
  },
  {
   "cell_type": "code",
   "execution_count": 16,
   "metadata": {},
   "outputs": [],
   "source": [
    "X['constant'] = 1\n"
   ]
  },
  {
   "cell_type": "code",
   "execution_count": 17,
   "metadata": {},
   "outputs": [],
   "source": [
    "# Find the pseudoinverse and multiply by Y to find their coefficients\n",
    "W = np.linalg.pinv(X.to_numpy())@y\n",
    "coef_ = W[:-1]; intercept_ = W[-1]\n",
    "\n",
    "# Check if the result is the same as what we get from linear regression\n",
    "assert(np.allclose(coef_, our_model.coef_))\n",
    "assert(np.allclose(intercept_, our_model.intercept_))\n"
   ]
  },
  {
   "cell_type": "markdown",
   "metadata": {},
   "source": [
    "Note: with $n$ new columns, one can still find the pseudoinverse of the data matrix using Singular Value Decomposition. I believe it will still find the best coefficient (shortest distance) possible."
   ]
  }
 ],
 "metadata": {
  "kernelspec": {
   "display_name": "Python 3 (ipykernel)",
   "language": "python",
   "name": "python3"
  },
  "language_info": {
   "codemirror_mode": {
    "name": "ipython",
    "version": 3
   },
   "file_extension": ".py",
   "mimetype": "text/x-python",
   "name": "python",
   "nbconvert_exporter": "python",
   "pygments_lexer": "ipython3",
   "version": "3.9.18"
  }
 },
 "nbformat": 4,
 "nbformat_minor": 4
}
