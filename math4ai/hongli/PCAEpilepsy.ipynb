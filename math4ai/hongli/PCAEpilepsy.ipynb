{
 "cells": [
  {
   "cell_type": "code",
   "execution_count": 2,
   "metadata": {},
   "outputs": [],
   "source": [
    "#Code mostly taken from here:\n",
    "#https://medium.com/analytics-vidhya/implementing-pca-in-python-with-sklearn-4f757fb4429e\n",
    "\n",
    "import numpy as np\n",
    "#Pandas is the standard pythn package for working with spreadsheets:\n",
    "import pandas as pd\n",
    "\n",
    "# Visualization\n",
    "import matplotlib.pyplot as plt\n",
    "\n",
    "# Data processing, modeling, and model evaluation\n",
    "from sklearn.preprocessing import StandardScaler\n",
    "from sklearn.decomposition import PCA\n",
    "from sklearn.neighbors import KNeighborsClassifier\n",
    "from sklearn.model_selection import train_test_split\n",
    "from sklearn.metrics import f1_score, classification_report, ConfusionMatrixDisplay\n",
    "\n",
    "# Randomization\n",
    "import random"
   ]
  },
  {
   "cell_type": "code",
   "execution_count": 3,
   "metadata": {
    "scrolled": true
   },
   "outputs": [
    {
     "name": "stdout",
     "output_type": "stream",
     "text": [
      "\n",
      "Data Type:  <class 'pandas.core.frame.DataFrame'>\n",
      "Shape of the data:  (11500, 180)\n"
     ]
    },
    {
     "data": {
      "text/html": [
       "<div>\n",
       "<style scoped>\n",
       "    .dataframe tbody tr th:only-of-type {\n",
       "        vertical-align: middle;\n",
       "    }\n",
       "\n",
       "    .dataframe tbody tr th {\n",
       "        vertical-align: top;\n",
       "    }\n",
       "\n",
       "    .dataframe thead th {\n",
       "        text-align: right;\n",
       "    }\n",
       "</style>\n",
       "<table border=\"1\" class=\"dataframe\">\n",
       "  <thead>\n",
       "    <tr style=\"text-align: right;\">\n",
       "      <th></th>\n",
       "      <th>Unnamed: 0</th>\n",
       "      <th>X1</th>\n",
       "      <th>X2</th>\n",
       "      <th>X3</th>\n",
       "      <th>X4</th>\n",
       "      <th>X5</th>\n",
       "      <th>X6</th>\n",
       "      <th>X7</th>\n",
       "      <th>X8</th>\n",
       "      <th>X9</th>\n",
       "      <th>...</th>\n",
       "      <th>X170</th>\n",
       "      <th>X171</th>\n",
       "      <th>X172</th>\n",
       "      <th>X173</th>\n",
       "      <th>X174</th>\n",
       "      <th>X175</th>\n",
       "      <th>X176</th>\n",
       "      <th>X177</th>\n",
       "      <th>X178</th>\n",
       "      <th>y</th>\n",
       "    </tr>\n",
       "  </thead>\n",
       "  <tbody>\n",
       "    <tr>\n",
       "      <th>0</th>\n",
       "      <td>X21.V1.791</td>\n",
       "      <td>135</td>\n",
       "      <td>190</td>\n",
       "      <td>229</td>\n",
       "      <td>223</td>\n",
       "      <td>192</td>\n",
       "      <td>125</td>\n",
       "      <td>55</td>\n",
       "      <td>-9</td>\n",
       "      <td>-33</td>\n",
       "      <td>...</td>\n",
       "      <td>-17</td>\n",
       "      <td>-15</td>\n",
       "      <td>-31</td>\n",
       "      <td>-77</td>\n",
       "      <td>-103</td>\n",
       "      <td>-127</td>\n",
       "      <td>-116</td>\n",
       "      <td>-83</td>\n",
       "      <td>-51</td>\n",
       "      <td>4</td>\n",
       "    </tr>\n",
       "    <tr>\n",
       "      <th>1</th>\n",
       "      <td>X15.V1.924</td>\n",
       "      <td>386</td>\n",
       "      <td>382</td>\n",
       "      <td>356</td>\n",
       "      <td>331</td>\n",
       "      <td>320</td>\n",
       "      <td>315</td>\n",
       "      <td>307</td>\n",
       "      <td>272</td>\n",
       "      <td>244</td>\n",
       "      <td>...</td>\n",
       "      <td>164</td>\n",
       "      <td>150</td>\n",
       "      <td>146</td>\n",
       "      <td>152</td>\n",
       "      <td>157</td>\n",
       "      <td>156</td>\n",
       "      <td>154</td>\n",
       "      <td>143</td>\n",
       "      <td>129</td>\n",
       "      <td>1</td>\n",
       "    </tr>\n",
       "    <tr>\n",
       "      <th>2</th>\n",
       "      <td>X8.V1.1</td>\n",
       "      <td>-32</td>\n",
       "      <td>-39</td>\n",
       "      <td>-47</td>\n",
       "      <td>-37</td>\n",
       "      <td>-32</td>\n",
       "      <td>-36</td>\n",
       "      <td>-57</td>\n",
       "      <td>-73</td>\n",
       "      <td>-85</td>\n",
       "      <td>...</td>\n",
       "      <td>57</td>\n",
       "      <td>64</td>\n",
       "      <td>48</td>\n",
       "      <td>19</td>\n",
       "      <td>-12</td>\n",
       "      <td>-30</td>\n",
       "      <td>-35</td>\n",
       "      <td>-35</td>\n",
       "      <td>-36</td>\n",
       "      <td>5</td>\n",
       "    </tr>\n",
       "    <tr>\n",
       "      <th>3</th>\n",
       "      <td>X16.V1.60</td>\n",
       "      <td>-105</td>\n",
       "      <td>-101</td>\n",
       "      <td>-96</td>\n",
       "      <td>-92</td>\n",
       "      <td>-89</td>\n",
       "      <td>-95</td>\n",
       "      <td>-102</td>\n",
       "      <td>-100</td>\n",
       "      <td>-87</td>\n",
       "      <td>...</td>\n",
       "      <td>-82</td>\n",
       "      <td>-81</td>\n",
       "      <td>-80</td>\n",
       "      <td>-77</td>\n",
       "      <td>-85</td>\n",
       "      <td>-77</td>\n",
       "      <td>-72</td>\n",
       "      <td>-69</td>\n",
       "      <td>-65</td>\n",
       "      <td>5</td>\n",
       "    </tr>\n",
       "    <tr>\n",
       "      <th>4</th>\n",
       "      <td>X20.V1.54</td>\n",
       "      <td>-9</td>\n",
       "      <td>-65</td>\n",
       "      <td>-98</td>\n",
       "      <td>-102</td>\n",
       "      <td>-78</td>\n",
       "      <td>-48</td>\n",
       "      <td>-16</td>\n",
       "      <td>0</td>\n",
       "      <td>-21</td>\n",
       "      <td>...</td>\n",
       "      <td>4</td>\n",
       "      <td>2</td>\n",
       "      <td>-12</td>\n",
       "      <td>-32</td>\n",
       "      <td>-41</td>\n",
       "      <td>-65</td>\n",
       "      <td>-83</td>\n",
       "      <td>-89</td>\n",
       "      <td>-73</td>\n",
       "      <td>5</td>\n",
       "    </tr>\n",
       "  </tbody>\n",
       "</table>\n",
       "<p>5 rows × 180 columns</p>\n",
       "</div>"
      ],
      "text/plain": [
       "   Unnamed: 0   X1   X2   X3   X4   X5   X6   X7   X8   X9  ...  X170  X171  \\\n",
       "0  X21.V1.791  135  190  229  223  192  125   55   -9  -33  ...   -17   -15   \n",
       "1  X15.V1.924  386  382  356  331  320  315  307  272  244  ...   164   150   \n",
       "2     X8.V1.1  -32  -39  -47  -37  -32  -36  -57  -73  -85  ...    57    64   \n",
       "3   X16.V1.60 -105 -101  -96  -92  -89  -95 -102 -100  -87  ...   -82   -81   \n",
       "4   X20.V1.54   -9  -65  -98 -102  -78  -48  -16    0  -21  ...     4     2   \n",
       "\n",
       "   X172  X173  X174  X175  X176  X177  X178  y  \n",
       "0   -31   -77  -103  -127  -116   -83   -51  4  \n",
       "1   146   152   157   156   154   143   129  1  \n",
       "2    48    19   -12   -30   -35   -35   -36  5  \n",
       "3   -80   -77   -85   -77   -72   -69   -65  5  \n",
       "4   -12   -32   -41   -65   -83   -89   -73  5  \n",
       "\n",
       "[5 rows x 180 columns]"
      ]
     },
     "metadata": {},
     "output_type": "display_data"
    }
   ],
   "source": [
    "# Load data:insert the relative path here, to wherever you stored the file EpilepticData.csv\n",
    "df = pd.read_csv('../original_files/exercises/Sheet03/EpilepticData.csv')\n",
    "\n",
    "# .csv files are a common file type for storing spreadsheets.\n",
    "#The above line creates a 'dataframe' object - that is what spreadsheets become in Python\n",
    "\n",
    "# check some basic properties of your data\n",
    "print(\"\\nData Type: \", type(df))\n",
    "#This shows how many samples we have and how many features each sample has (i.e. what is n in R^n)\n",
    "print(\"Shape of the data: \",df.shape)\n",
    "\n",
    "#Show the beginning of the table\n",
    "display(df.head())\n",
    "#Note that unlike in the lecture, each sample is given by a row vector and the colmuns are the features\n",
    "#That is the way you usually find it in spreadsheets, if you think about it.\n"
   ]
  },
  {
   "cell_type": "markdown",
   "metadata": {},
   "source": [
    "The numbers in the X1, X2, X3, etc. columns are EEG data from which one hopes to infer an upcoming\n",
    "epileptic seizure. The last column labeled 'y' codifies the state of the patient. The first column just contains identifiers for the patients/measurements."
   ]
  },
  {
   "cell_type": "code",
   "execution_count": 4,
   "metadata": {},
   "outputs": [
    {
     "name": "stdout",
     "output_type": "stream",
     "text": [
      "5\n",
      "-102\n",
      "-102\n"
     ]
    }
   ],
   "source": [
    "#One can access entries of a dataframe like an array, using row and column numbers, or by using labels:\n",
    "print(df.iloc[2]['y'])\n",
    "print(df.iloc[3]['X7'])\n",
    "print(df.iloc[3][7])"
   ]
  },
  {
   "cell_type": "code",
   "execution_count": 5,
   "metadata": {},
   "outputs": [
    {
     "name": "stdout",
     "output_type": "stream",
     "text": [
      "X1     -11.581391\n",
      "X2     -10.911565\n",
      "X3     -10.187130\n",
      "X4      -9.143043\n",
      "X5      -8.009739\n",
      "          ...    \n",
      "X175   -13.045043\n",
      "X176   -12.705130\n",
      "X177   -12.426000\n",
      "X178   -12.195652\n",
      "y        3.000000\n",
      "Length: 179, dtype: float64\n"
     ]
    },
    {
     "name": "stderr",
     "output_type": "stream",
     "text": [
      "/tmp/ipykernel_129013/2763278007.py:2: FutureWarning: Dropping of nuisance columns in DataFrame reductions (with 'numeric_only=None') is deprecated; in a future version this will raise TypeError.  Select only valid columns before calling the reduction.\n",
      "  print(df.mean())\n"
     ]
    }
   ],
   "source": [
    "# df.mean() is a list with the mean value of each column:\n",
    "print(df.mean())"
   ]
  },
  {
   "cell_type": "code",
   "execution_count": 6,
   "metadata": {},
   "outputs": [
    {
     "name": "stdout",
     "output_type": "stream",
     "text": [
      "0        223\n",
      "1        331\n",
      "2        -37\n",
      "3        -92\n",
      "4       -102\n",
      "        ... \n",
      "11495    -26\n",
      "11496     77\n",
      "11497    -16\n",
      "11498    -12\n",
      "11499     72\n",
      "Name: X4, Length: 11500, dtype: int64\n"
     ]
    }
   ],
   "source": [
    "##a dataframe instance has fields whose name is the column label:\n",
    "print(df.X4)"
   ]
  },
  {
   "cell_type": "code",
   "execution_count": 7,
   "metadata": {},
   "outputs": [],
   "source": [
    "#'Scrubbing data'\n",
    "\n",
    "# The first column just contains identifiers for the patients/measurements\n",
    "# since this is not data that we want to analyse, we drop the first column \n",
    "df = df.drop('Unnamed: 0', axis=1)\n",
    "\n",
    "# The last column labeled 'y' codifies the state of the patient. \n",
    "#'1' means that there was an epileptic seizure, the other numbers mean other things\n",
    "# Re-cast the target variable (y) as either having a seizure (1) and all else (0)\n",
    "for i in range(len(df)):\n",
    "    if df.iloc[i]['y'] != 1:\n",
    "        df.at[i, 'y'] = 0"
   ]
  },
  {
   "cell_type": "code",
   "execution_count": 8,
   "metadata": {},
   "outputs": [
    {
     "data": {
      "text/plain": [
       "0"
      ]
     },
     "execution_count": 8,
     "metadata": {},
     "output_type": "execute_result"
    }
   ],
   "source": [
    "#check if entries are missing\n",
    "#pandas.DataFrame.isna() returns another dataframe of booleans \n",
    "# this dataframe contains 'True' at places where the entry of the original dataframe was missing\n",
    "# details on isna() here:\n",
    "# https://pandas.pydata.org/pandas-docs/stable/reference/api/pandas.DataFrame.isna.html\n",
    "\n",
    "#sum() sums over a list - here the rows of the table; \n",
    "#for booleans 'True' is counted as 1, 'False' as 0\n",
    "#details on sum() here:\n",
    "# https://pandas.pydata.org/pandas-docs/stable/reference/api/pandas.DataFrame.sum.html\n",
    "\n",
    "#the following should give the total number of missing entries: \n",
    "df.isna().sum().sum()"
   ]
  },
  {
   "cell_type": "code",
   "execution_count": 9,
   "metadata": {},
   "outputs": [],
   "source": [
    "#if there are missing values, one has to decide what to do with them, e.g. drop that row or column\n",
    "# the following inserts at missing places the mean value of that column\n",
    "df = df.fillna(df.mean())\n",
    "# if the number before was zero, then nothing should happen here."
   ]
  },
  {
   "cell_type": "code",
   "execution_count": 10,
   "metadata": {},
   "outputs": [
    {
     "data": {
      "image/png": "[encoded data removed]",
      "text/plain": [
       "<Figure size 640x480 with 1 Axes>"
      ]
     },
     "metadata": {},
     "output_type": "display_data"
    }
   ],
   "source": [
    "#we select the y-column and have a look at how many seizures actually happened - just for curiosity\n",
    "y = df.y\n",
    "y.value_counts().plot(kind='bar')\n",
    "plt.xticks([0,1], ['No Seizure', 'Seizure'])\n",
    "plt.ylabel('Count');"
   ]
  },
  {
   "cell_type": "code",
   "execution_count": 11,
   "metadata": {},
   "outputs": [],
   "source": [
    "#################################################\n",
    "######                 PCA                  #####\n",
    "#################################################\n",
    "#We create a new dataframe without the 'y'-column because the 'y'-column does not \n",
    "# contain numerical values that we want to do PCA on.\n",
    "X = df.drop('y', axis=1)"
   ]
  },
  {
   "cell_type": "code",
   "execution_count": 12,
   "metadata": {
    "scrolled": true
   },
   "outputs": [],
   "source": [
    "#################################################\n",
    "######               Important              #####\n",
    "#################################################\n",
    "#\n",
    "# With PCA we try to find the directions of biggest variance.\n",
    "# If we do it right away, this is highly dependent on the units. \n",
    "# E.g. if we have time measurements, we could measure them in seconds, getting large numbers, \n",
    "# or in hours, getting small numbers. The variation around the mean would be big in the first case\n",
    "# and small in the second case.\n",
    "#\n",
    "# To escape that dependency, we normalize the data, using sklearn.preprocessing.StandardScaler\n",
    "# details here:\n",
    "# https://scikit-learn.org/stable/modules/generated/sklearn.preprocessing.StandardScaler.html\n",
    "\n",
    "# create a Scaler object on which we can call the normalizing method\n",
    "scaler = StandardScaler()\n",
    "# then do it and replace our X by the normalized X\n",
    "X = scaler.fit_transform(X)"
   ]
  },
  {
   "cell_type": "code",
   "execution_count": 13,
   "metadata": {},
   "outputs": [
    {
     "name": "stdout",
     "output_type": "stream",
     "text": [
      "<class 'numpy.ndarray'>\n",
      "[[-1.37474913e-01 -1.14641937e+00  8.36892734e-01 ...  3.11259333e-02\n",
      "  -3.30288374e-02  2.33216823e-02]\n",
      " [-1.70379440e+00 -3.64319465e+00  6.15382229e+00 ...  6.23005922e-02\n",
      "  -5.86306632e-03 -4.49057067e-03]\n",
      " [ 4.95650002e-01 -2.61660144e-01  9.31210184e-01 ... -1.26348257e-02\n",
      "  -1.91443144e-03  3.83408791e-03]\n",
      " ...\n",
      " [-2.89068405e-01 -2.01161410e-01 -3.56597039e-01 ... -1.02337086e-02\n",
      "   5.05472804e-03 -1.09128673e-02]\n",
      " [-1.75793096e-01 -1.15579805e+00  5.41456238e-01 ...  2.56130392e-02\n",
      "   1.05294373e-02  1.89406435e-02]\n",
      " [-4.34794119e-02  3.12822080e-01  2.01408663e-01 ... -3.97709687e-03\n",
      "   2.19745214e-03  1.55542907e-02]]\n"
     ]
    }
   ],
   "source": [
    "# Now we can do PCA\n",
    "# Of course this has been implemented somwhere. Namely here: sklearn.decomposition.PCA\n",
    "# https://scikit-learn.org/stable/modules/generated/sklearn.decomposition.PCA.html\n",
    "\n",
    "# The following is the standard pattern of how the package sklearn works with data:\n",
    "# First create an instance of an object where the right methods are implemented\n",
    "pca = PCA(n_components=178)\n",
    "#The parameter n_components=178 sets the dimension to which we want to project down our feature space. \n",
    "#Here we choose the number of features equal to the total number of columns in our data set.\n",
    "#This way we just are given a basis for which the features are uncorrelated, but we don't loose any dimensions.\n",
    "#If you choose a smaller number, your data gets projected down to the correponding subspace.\n",
    "\n",
    "# Again a standard pattern of sklearn: you call a method of your new object, typically called fit(),\n",
    "#     giving it the data that you want to work on:\n",
    "pca.fit(X)\n",
    "\n",
    "#the following creates an array containing the projections to the first n_components (here: 178, i.e. all)\n",
    "# of the row vectors i the original dataframe\n",
    "X_pca = pca.transform(X)\n",
    "print(type(X_pca))\n",
    "print(X_pca)"
   ]
  },
  {
   "cell_type": "code",
   "execution_count": 14,
   "metadata": {},
   "outputs": [
    {
     "name": "stdout",
     "output_type": "stream",
     "text": [
      "[[ 0.0013952   0.00837304  0.01641921 ... -0.06724678 -0.06073839\n",
      "  -0.05214166]\n",
      " [-0.03035457 -0.03686639 -0.0452056  ... -0.09298611 -0.08273729\n",
      "  -0.06734102]\n",
      " [ 0.01415224  0.00800553  0.00103555 ... -0.04066602 -0.04688284\n",
      "  -0.04642837]\n",
      " ...\n",
      " [ 0.00081126  0.00156049 -0.00288184 ...  0.03021855 -0.02901933\n",
      "   0.00995934]\n",
      " [-0.01166241  0.03706982 -0.02761195 ... -0.01237273 -0.03489458\n",
      "   0.02032617]\n",
      " [ 0.00203486 -0.00928443  0.01881239 ...  0.01157808 -0.03595711\n",
      "   0.01716547]]\n"
     ]
    }
   ],
   "source": [
    "#If you want to know the new basis, after the transformation, here is how:\n",
    "basis = pca.components_\n",
    "print(basis)"
   ]
  },
  {
   "cell_type": "code",
   "execution_count": 15,
   "metadata": {},
   "outputs": [
    {
     "data": {
      "image/png": "[encoded data removed]",
      "text/plain": [
       "<Figure size 800x600 with 1 Axes>"
      ]
     },
     "metadata": {},
     "output_type": "display_data"
    }
   ],
   "source": [
    "# a PCA object comes with an array called explained_variance_ratio_ which\n",
    "# keeps track of the variance that each component displays \n",
    "# (they say that each component 'explains' a part of the variance)\n",
    "\n",
    "# The components are ordered by size of this explained_variance_ratio\n",
    "\n",
    "# we now look at how much of the variance is captured by the first n components for all n \n",
    "cumulative_explained_variance = []\n",
    "var_exp = 0\n",
    "for i in pca.explained_variance_ratio_:\n",
    "    var_exp += i\n",
    "    cumulative_explained_variance.append(var_exp)\n",
    "\n",
    "# Plot cumulative explained variance for all PCs\n",
    "# never mind how this here works\n",
    "fig, ax = plt.subplots(figsize=(8,6))\n",
    "ax.bar(range(1,179), cumulative_explained_variance)\n",
    "ax.set_xlabel('# Principal Components')\n",
    "ax.set_ylabel('% Cumulative Variance Explained');"
   ]
  },
  {
   "cell_type": "code",
   "execution_count": 24,
   "metadata": {},
   "outputs": [
    {
     "name": "stdout",
     "output_type": "stream",
     "text": [
      "To get at least 30% of the total variance, we need 8 components\n",
      "To get at least 50% of the total variance, we need 13 components\n",
      "To get at least 80% of the total variance, we need 27 components\n",
      "To get at least 95% of the total variance, we need 40 components\n"
     ]
    }
   ],
   "source": [
    "# Ok, the main task here was for you to read this and see a somewhat realistic example.\n",
    "# Just so you have to do something, here is an exercise (has not much to do with PCA, just write some Python):\n",
    "\n",
    "# Assume that there is a PCA object called 'pca' (so that you can run the function after the above code).\n",
    "\n",
    "# a) (4 points) Write a function that receives one parameter, a float between zero and one, \n",
    "# and returns the number of components that you need to explain at least that percentage of the total variance.\n",
    "\n",
    "''' Obviously, the contribution of each component to the total variance is different. Therefore, the function\n",
    "might be sorted from maximum to minimum firstly. However, to compare the output with the plot above, we tend not\n",
    "to change the sequence.'''\n",
    "\n",
    "def no_of_components(percentage):\n",
    "    partial_variance = pca.explained_variance_ratio_\n",
    "    var_exp = 0; i = 1\n",
    "    for var in partial_variance:\n",
    "        var_exp += var\n",
    "        i+=1\n",
    "        if var_exp > percentage: break\n",
    "    return i\n",
    "\n",
    "\n",
    "\n",
    "# b) (1 point) Apply the function to the above PCA object and compute how many components \n",
    "# you need to get at least 30 / 50 / 80 / 95 % of the total variance\n",
    "# You can check with the chart above whether your results are reasonable.\n",
    "for i in [0.3, 0.5, 0.8, 0.95]:\n",
    "    print(\"To get at least {}% of the total variance, we need {} components\".format(int(i*100), no_of_components(i)))"
   ]
  },
  {
   "cell_type": "code",
   "execution_count": 46,
   "metadata": {},
   "outputs": [
    {
     "name": "stdout",
     "output_type": "stream",
     "text": [
      "Analyzing Iris dataset\n",
      "The dataset has 0 missing entries\n",
      "Dropping Y column\n",
      "Normalizing input\n",
      "Starting PCA\n",
      "To get at least 30% of the total variance, we need 2 components\n",
      "To get at least 50% of the total variance, we need 2 components\n",
      "To get at least 80% of the total variance, we need 3 components\n",
      "To get at least 95% of the total variance, we need 3 components\n",
      "Plotting the cumulative variance\n"
     ]
    },
    {
     "data": {
      "image/png": "[encoded data removed]",
      "text/plain": [
       "<Figure size 800x600 with 1 Axes>"
      ]
     },
     "metadata": {},
     "output_type": "display_data"
    }
   ],
   "source": [
    "# c) (5 points) Perform the same analysis, i.e. compute how many components \n",
    "# you need to get at least  30 / 50 / 80 / 95 % of the total variance, for the iris data set. \n",
    "# Just reuse the above code: Copy _only the necessary parts_ here and change them in the few appropriate places.\n",
    "print(\"Analyzing Iris dataset\")\n",
    "df = pd.read_csv('../original_files/exercises/Sheet03/iris.csv')\n",
    "print('The dataset has {} missing entries'.format(df.isna().sum().sum()))\n",
    "print('Dropping Y column')\n",
    "X = df.drop('variety', axis=1)\n",
    "\n",
    "print('Normalizing input')\n",
    "scaler = StandardScaler()\n",
    "X = scaler.fit_transform(X)\n",
    "print('Starting PCA')\n",
    "pca = PCA(n_components= min(X.shape))\n",
    "pca.fit(X)\n",
    "X_pca = pca.transform(X)\n",
    "\n",
    "for i in [0.3, 0.5, 0.8, 0.95]:\n",
    "    print(\"To get at least {}% of the total variance, we need {} components\".format(int(i*100), no_of_components(i)))\n",
    "\n",
    "print('Plotting the cumulative variance')\n",
    "cumulative_explained_variance = []\n",
    "var_exp = 0\n",
    "for i in pca.explained_variance_ratio_:\n",
    "    var_exp += i\n",
    "    cumulative_explained_variance.append(var_exp)\n",
    "fig, ax = plt.subplots(figsize=(8,6))\n",
    "ax.bar(range(1, 5), cumulative_explained_variance)\n",
    "ax.set_xlabel('# Principal Components')\n",
    "ax.set_ylabel('% Cumulative Variance Explained');"
   ]
  }
 ],
 "metadata": {
  "kernelspec": {
   "display_name": "Python 3 (ipykernel)",
   "language": "python",
   "name": "python3"
  },
  "language_info": {
   "codemirror_mode": {
    "name": "ipython",
    "version": 3
   },
   "file_extension": ".py",
   "mimetype": "text/x-python",
   "name": "python",
   "nbconvert_exporter": "python",
   "pygments_lexer": "ipython3",
   "version": "3.9.18"
  },
  "latex_envs": {
   "LaTeX_envs_menu_present": true,
   "autoclose": true,
   "autocomplete": true,
   "bibliofile": "biblio.bib",
   "cite_by": "apalike",
   "current_citInitial": 1,
   "eqLabelWithNumbers": true,
   "eqNumInitial": 1,
   "hotkeys": {
    "equation": "Ctrl-E",
    "itemize": "Ctrl-I"
   },
   "labels_anchors": false,
   "latex_user_defs": false,
   "report_style_numbering": false,
   "user_envs_cfg": false
  },
  "toc": {
   "base_numbering": 1,
   "nav_menu": {},
   "number_sections": true,
   "sideBar": true,
   "skip_h1_title": false,
   "title_cell": "Table of Contents",
   "title_sidebar": "Contents",
   "toc_cell": false,
   "toc_position": {},
   "toc_section_display": true,
   "toc_window_display": false
  },
  "varInspector": {
   "cols": {
    "lenName": 16,
    "lenType": 16,
    "lenVar": 40
   },
   "kernels_config": {
    "python": {
     "delete_cmd_postfix": "",
     "delete_cmd_prefix": "del ",
     "library": "var_list.py",
     "varRefreshCmd": "print(var_dic_list())"
    },
    "r": {
     "delete_cmd_postfix": ") ",
     "delete_cmd_prefix": "rm(",
     "library": "var_list.r",
     "varRefreshCmd": "cat(var_dic_list()) "
    }
   },
   "types_to_exclude": [
    "module",
    "function",
    "builtin_function_or_method",
    "instance",
    "_Feature"
   ],
   "window_display": false
  }
 },
 "nbformat": 4,
 "nbformat_minor": 4
}
