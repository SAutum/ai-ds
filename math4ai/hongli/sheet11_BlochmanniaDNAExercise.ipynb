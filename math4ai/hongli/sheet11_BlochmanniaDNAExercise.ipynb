{
 "cells": [
  {
   "cell_type": "code",
   "execution_count": 25,
   "metadata": {},
   "outputs": [
    {
     "name": "stdout",
     "output_type": "stream",
     "text": [
      "Length of DNA sequence: 791654\n"
     ]
    }
   ],
   "source": [
    "#install the Pomegranate package by typing 'pip install pomegranate' or following other instructions from here:\n",
    "#     https://pomegranate.readthedocs.io/en/latest/install.html\n",
    "from pomegranate import *\n",
    "import numpy as np\n",
    "\n",
    "#copy the file containing the DNA sequence into the folder of this notebook (or add a path below)\n",
    "#read the DNA sequence into a string\n",
    "file = open('../original_files/exercises/Sheet11/BlochmannDNA.txt', 'r')\n",
    "dna = file.readline()\n",
    "print('Length of DNA sequence:',len(dna))\n",
    "file.close()\n",
    "# Fun fact: Python can handle enormous strings. You could do the same with much larger genomes. See\n",
    "# https://stackoverflow.com/questions/1739913/what-is-the-max-length-of-a-python-string"
   ]
  },
  {
   "cell_type": "markdown",
   "metadata": {},
   "source": [
    "Your task: \n",
    "Set up a Hidden Markov Model describing the distribution of a,c,g,t nucleotids in exon and intron states.\n",
    "The nucleotids are the observable states, being exon or intron are the hidden states. Do this as follows:"
   ]
  },
  {
   "cell_type": "markdown",
   "metadata": {},
   "source": [
    "### A) \n",
    "You know that positions 405000 to 405071 and 690040 to 690159 are exons. Compute the percentages of a,c,g,t nucleotids in those positions. The results can later be taken as emission probabilities for the exon state.\n",
    "\n",
    "Likewise you know that positions 1040 to 1111, 2060 to 2151, and 386370 to 386449 are introns. Compute the percentages of a,c,g,t nucleotids in those positions. The results can later be taken as emission probabilities for the intron state.\n",
    "\n",
    "The outcomes should be probability distributions, so make sure that everything sums up to 1 (just round somewhere if necessary).\n",
    "\n",
    "Print out your results."
   ]
  },
  {
   "cell_type": "code",
   "execution_count": 26,
   "metadata": {},
   "outputs": [
    {
     "data": {
      "text/plain": [
       "{'exons': {'a': 0.2842, 'c': 0.2211, 'g': 0.2579, 't': 0.2368},\n",
       " 'introns': {'a': 0.2365, 'c': 0.083, 'g': 0.1494, 't': 0.5311}}"
      ]
     },
     "execution_count": 26,
     "metadata": {},
     "output_type": "execute_result"
    }
   ],
   "source": [
    "exons = dna[405000:405071]+dna[690040:690159]\n",
    "introns = dna[1040:1111]+dna[2060:2151]+dna[386370:386449]\n",
    "\n",
    "dna_strings = {'exons':exons, 'introns':introns}\n",
    "b = {'exons':{}, 'introns':{}}\n",
    "for i in ['exons', 'introns']:\n",
    "    for j in ['a', 'c', 'g', 't']:\n",
    "        b[i][j] = (round(dna_strings[i].count(j)/len(dna_strings[i]), 4))\n",
    "\n",
    "b"
   ]
  },
  {
   "cell_type": "markdown",
   "metadata": {},
   "source": [
    "### B) \n",
    "Define a Pomegranate Hidden Markov Model. The probability of passing from an intron to an exon state or vice versa is 0.1. As starting probabilities take 0.5 for both states (not true in biology, but we do this because in part C) we want to analyze pieces from the middle of our whole DNA sequence, not just initial segments...)"
   ]
  },
  {
   "cell_type": "code",
   "execution_count": 27,
   "metadata": {},
   "outputs": [],
   "source": [
    "model = HiddenMarkovModel(name = \"DNA model\")\n",
    "\n",
    "# emission matrix\n",
    "exons_em = DiscreteDistribution(b['exons'])\n",
    "exons_st = State(exons_em, name = 'exons')\n",
    "introns_em = DiscreteDistribution(b['introns'])\n",
    "introns_st = State(introns_em, name = 'introns')\n",
    "# add states to the model\n",
    "model.add_states(exons_st, introns_st)\n",
    "\n",
    "\n",
    "# initial distribution\n",
    "model.add_transition(model.start, exons_st, 1/2)\n",
    "model.add_transition(model.start, introns_st, 1/2)\n",
    "\n",
    "# transition\n",
    "model.add_transition(exons_st, exons_st, 0.9)\n",
    "model.add_transition(introns_st, introns_st, 0.9)\n",
    "model.add_transition(exons_st, introns_st, 0.1)\n",
    "model.add_transition(introns_st, exons_st, 0.1)\n",
    "\n",
    "# finalize\n",
    "model.bake()\n"
   ]
  },
  {
   "cell_type": "code",
   "execution_count": 28,
   "metadata": {},
   "outputs": [
    {
     "data": {
      "text/plain": [
       "array([[0.9, 0.1, 0. , 0. ],\n",
       "       [0.1, 0.9, 0. , 0. ],\n",
       "       [0.5, 0.5, 0. , 0. ],\n",
       "       [0. , 0. , 0. , 0. ]])"
      ]
     },
     "execution_count": 28,
     "metadata": {},
     "output_type": "execute_result"
    }
   ],
   "source": [
    "model.dense_transition_matrix()"
   ]
  },
  {
   "cell_type": "markdown",
   "metadata": {},
   "source": [
    "### C) \n",
    "Print out the most likely underlying hidden state sequences for the following observed sequences:"
   ]
  },
  {
   "cell_type": "code",
   "execution_count": 34,
   "metadata": {},
   "outputs": [
    {
     "name": "stdout",
     "output_type": "stream",
     "text": [
      "The most likely underlying series of exons/introns states is ['exons', 'exons', 'exons', 'exons', 'exons', 'exons', 'exons', 'exons', 'exons', 'exons', 'exons', 'exons', 'exons', 'exons', 'exons', 'exons', 'exons', 'exons', 'exons', 'exons', 'exons', 'introns', 'introns', 'introns', 'introns', 'introns', 'introns', 'introns', 'introns', 'introns', 'introns', 'introns', 'introns', 'introns', 'introns', 'introns', 'introns', 'introns', 'introns'] at 2.0097848153611882792928659323301341577734262987639678293950128151745815330286859534680843353271484375e-21%.\n",
      "The most likely underlying series of exons/introns states is ['introns', 'introns', 'introns', 'introns', 'introns', 'introns', 'introns', 'introns', 'introns', 'introns', 'introns', 'introns', 'introns', 'introns', 'introns', 'exons', 'exons', 'exons', 'exons', 'exons', 'exons', 'exons', 'exons', 'exons', 'exons', 'exons', 'exons', 'exons', 'exons', 'exons', 'exons', 'exons', 'exons', 'exons', 'exons', 'exons', 'exons', 'exons', 'exons', 'exons', 'exons', 'exons', 'exons', 'exons', 'exons', 'exons', 'introns', 'introns', 'introns', 'introns', 'introns', 'introns', 'introns', 'introns', 'introns', 'introns', 'introns', 'introns', 'introns'] at 6.251161623421507242996635315972089067050967813940976747968872753035138764057813528444811079776144424613448791205883026123046875e-33%.\n"
     ]
    }
   ],
   "source": [
    "seq1='aaaagcgcgttgagactagcattttattatttttgggtt'\n",
    "seq2='catttatttttatatactaaaggcgggcgcttaatgtgcgatgaaataatttttttatt'\n",
    "\n",
    "for seq in [seq1, seq2]:\n",
    "    log_likelihood, path = model.viterbi([*seq])\n",
    "    print(\"The most likely underlying series of exons/introns states is {} at {:.250}%.\"\n",
    "        .format([s[1].name for s in path[1:]], np.exp(log_likelihood)*100))"
   ]
  },
  {
   "cell_type": "markdown",
   "metadata": {},
   "source": [
    "> Remark: the likelihood is extremely small because of the strict conditions of the probability"
   ]
  }
 ],
 "metadata": {
  "kernelspec": {
   "display_name": "Python 3",
   "language": "python",
   "name": "python3"
  },
  "language_info": {
   "codemirror_mode": {
    "name": "ipython",
    "version": 3
   },
   "file_extension": ".py",
   "mimetype": "text/x-python",
   "name": "python",
   "nbconvert_exporter": "python",
   "pygments_lexer": "ipython3",
   "version": "3.11.5"
  }
 },
 "nbformat": 4,
 "nbformat_minor": 4
}
