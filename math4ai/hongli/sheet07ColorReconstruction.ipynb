{
 "cells": [
  {
   "cell_type": "code",
   "execution_count": 1,
   "metadata": {},
   "outputs": [],
   "source": [
    "from sympy import MatrixSymbol, Matrix\n",
    "\n",
    "R = Matrix(MatrixSymbol(\"r\", 3,3)).vec()\n",
    "G = Matrix(MatrixSymbol(\"g\", 3,3)).vec()\n",
    "B = Matrix(MatrixSymbol(\"b\", 3,3)).vec()\n",
    "X = Matrix.vstack(R,G,B)\n"
   ]
  },
  {
   "cell_type": "code",
   "execution_count": 2,
   "metadata": {},
   "outputs": [
    {
     "data": {
      "text/latex": [
       "$\\displaystyle \\left[\\begin{matrix}1 & 0 & 0 & -1 & 0 & 0 & 0 & 0 & 0\\\\0 & 1 & 0 & 0 & -1 & 0 & 0 & 0 & 0\\\\0 & 0 & 1 & 0 & 0 & -1 & 0 & 0 & 0\\\\0 & 0 & 0 & 1 & 0 & 0 & -1 & 0 & 0\\\\0 & 0 & 0 & 0 & 1 & 0 & 0 & -1 & 0\\\\0 & 0 & 0 & 0 & 0 & 1 & 0 & 0 & -1\\end{matrix}\\right]$"
      ],
      "text/plain": [
       "Matrix([\n",
       "[1, 0, 0, -1,  0,  0,  0,  0,  0],\n",
       "[0, 1, 0,  0, -1,  0,  0,  0,  0],\n",
       "[0, 0, 1,  0,  0, -1,  0,  0,  0],\n",
       "[0, 0, 0,  1,  0,  0, -1,  0,  0],\n",
       "[0, 0, 0,  0,  1,  0,  0, -1,  0],\n",
       "[0, 0, 0,  0,  0,  1,  0,  0, -1]])"
      ]
     },
     "execution_count": 2,
     "metadata": {},
     "output_type": "execute_result"
    }
   ],
   "source": [
    "D1 = Matrix.zeros(6, 9)\n",
    "for i in range(D1.shape[0]):\n",
    "    D1[i, i] = 1\n",
    "    D1[i, i+3] = -1\n",
    "D1\n"
   ]
  },
  {
   "cell_type": "code",
   "execution_count": 3,
   "metadata": {},
   "outputs": [
    {
     "data": {
      "text/latex": [
       "$\\displaystyle \\left[\\begin{matrix}1 & -1 & 0 & 0 & 0 & 0 & 0 & 0 & 0\\\\0 & 1 & -1 & 0 & 0 & 0 & 0 & 0 & 0\\\\0 & 0 & 0 & 1 & -1 & 0 & 0 & 0 & 0\\\\0 & 0 & 0 & 0 & 1 & -1 & 0 & 0 & 0\\\\0 & 0 & 0 & 0 & 0 & 0 & 1 & -1 & 0\\\\0 & 0 & 0 & 0 & 0 & 0 & 0 & 1 & -1\\end{matrix}\\right]$"
      ],
      "text/plain": [
       "Matrix([\n",
       "[1, -1,  0, 0,  0,  0, 0,  0,  0],\n",
       "[0,  1, -1, 0,  0,  0, 0,  0,  0],\n",
       "[0,  0,  0, 1, -1,  0, 0,  0,  0],\n",
       "[0,  0,  0, 0,  1, -1, 0,  0,  0],\n",
       "[0,  0,  0, 0,  0,  0, 1, -1,  0],\n",
       "[0,  0,  0, 0,  0,  0, 0,  1, -1]])"
      ]
     },
     "execution_count": 3,
     "metadata": {},
     "output_type": "execute_result"
    }
   ],
   "source": [
    "D2 = Matrix.zeros(6, 9)\n",
    "n = 0\n",
    "for i in range(D1.shape[0]):\n",
    "    if (i+n+1)%3 == 0: n+=1\n",
    "    D2[i, i+n] = 1\n",
    "    D2[i, i+n+1] = -1\n",
    "D2\n"
   ]
  },
  {
   "cell_type": "markdown",
   "metadata": {},
   "source": [
    "Interesting part coming in. Let's design some weired matrices."
   ]
  },
  {
   "cell_type": "code",
   "execution_count": 4,
   "metadata": {},
   "outputs": [
    {
     "data": {
      "text/latex": [
       "$\\displaystyle \\left[\\begin{array}{ccccccccccccccccccccccccccc}1 & 0 & 0 & 0 & 0 & 0 & 0 & 0 & 0 & 0 & 0 & 0 & 0 & 0 & 0 & 0 & 0 & 0 & 0 & 0 & 0 & 0 & 0 & 0 & 0 & 0 & 0\\\\0 & 1 & 0 & 0 & 0 & 0 & 0 & 0 & 0 & 0 & 0 & 0 & 0 & 0 & 0 & 0 & 0 & 0 & 0 & 0 & 0 & 0 & 0 & 0 & 0 & 0 & 0\\\\0 & 0 & 1 & 0 & 0 & 0 & 0 & 0 & 0 & 0 & 0 & 0 & 0 & 0 & 0 & 0 & 0 & 0 & 0 & 0 & 0 & 0 & 0 & 0 & 0 & 0 & 0\\\\0 & 0 & 0 & 1 & 0 & 0 & 0 & 0 & 0 & 0 & 0 & 0 & 0 & 0 & 0 & 0 & 0 & 0 & 0 & 0 & 0 & 0 & 0 & 0 & 0 & 0 & 0\\\\0 & 0 & 0 & 0 & 1 & 0 & 0 & 0 & 0 & 0 & 0 & 0 & 0 & 0 & 0 & 0 & 0 & 0 & 0 & 0 & 0 & 0 & 0 & 0 & 0 & 0 & 0\\\\0 & 0 & 0 & 0 & 0 & 1 & 0 & 0 & 0 & 0 & 0 & 0 & 0 & 0 & 0 & 0 & 0 & 0 & 0 & 0 & 0 & 0 & 0 & 0 & 0 & 0 & 0\\\\0 & 0 & 0 & 0 & 0 & 0 & 1 & 0 & 0 & 0 & 0 & 0 & 0 & 0 & 0 & 0 & 0 & 0 & 0 & 0 & 0 & 0 & 0 & 0 & 0 & 0 & 0\\\\0 & 0 & 0 & 0 & 0 & 0 & 0 & 1 & 0 & 0 & 0 & 0 & 0 & 0 & 0 & 0 & 0 & 0 & 0 & 0 & 0 & 0 & 0 & 0 & 0 & 0 & 0\\\\0 & 0 & 0 & 0 & 0 & 0 & 0 & 0 & 1 & 0 & 0 & 0 & 0 & 0 & 0 & 0 & 0 & 0 & 0 & 0 & 0 & 0 & 0 & 0 & 0 & 0 & 0\\end{array}\\right]$"
      ],
      "text/plain": [
       "Matrix([\n",
       "[1, 0, 0, 0, 0, 0, 0, 0, 0, 0, 0, 0, 0, 0, 0, 0, 0, 0, 0, 0, 0, 0, 0, 0, 0, 0, 0],\n",
       "[0, 1, 0, 0, 0, 0, 0, 0, 0, 0, 0, 0, 0, 0, 0, 0, 0, 0, 0, 0, 0, 0, 0, 0, 0, 0, 0],\n",
       "[0, 0, 1, 0, 0, 0, 0, 0, 0, 0, 0, 0, 0, 0, 0, 0, 0, 0, 0, 0, 0, 0, 0, 0, 0, 0, 0],\n",
       "[0, 0, 0, 1, 0, 0, 0, 0, 0, 0, 0, 0, 0, 0, 0, 0, 0, 0, 0, 0, 0, 0, 0, 0, 0, 0, 0],\n",
       "[0, 0, 0, 0, 1, 0, 0, 0, 0, 0, 0, 0, 0, 0, 0, 0, 0, 0, 0, 0, 0, 0, 0, 0, 0, 0, 0],\n",
       "[0, 0, 0, 0, 0, 1, 0, 0, 0, 0, 0, 0, 0, 0, 0, 0, 0, 0, 0, 0, 0, 0, 0, 0, 0, 0, 0],\n",
       "[0, 0, 0, 0, 0, 0, 1, 0, 0, 0, 0, 0, 0, 0, 0, 0, 0, 0, 0, 0, 0, 0, 0, 0, 0, 0, 0],\n",
       "[0, 0, 0, 0, 0, 0, 0, 1, 0, 0, 0, 0, 0, 0, 0, 0, 0, 0, 0, 0, 0, 0, 0, 0, 0, 0, 0],\n",
       "[0, 0, 0, 0, 0, 0, 0, 0, 1, 0, 0, 0, 0, 0, 0, 0, 0, 0, 0, 0, 0, 0, 0, 0, 0, 0, 0]])"
      ]
     },
     "execution_count": 4,
     "metadata": {},
     "output_type": "execute_result"
    }
   ],
   "source": [
    "I = Matrix.eye(9,9); zero = Matrix.zeros(9,9)\n",
    "r_v = Matrix.hstack(I, zero, zero)\n",
    "g_v = Matrix.hstack(zero, I, zero)\n",
    "b_v = Matrix.hstack(zero, zero, I)\n",
    "\n",
    "r_v\n",
    "# this matrix can help to build up the matrix D\n"
   ]
  },
  {
   "cell_type": "code",
   "execution_count": 5,
   "metadata": {},
   "outputs": [
    {
     "data": {
      "text/latex": [
       "$\\displaystyle \\left[\\begin{matrix}b_{0, 0} & b_{1, 0} & b_{2, 0} & b_{0, 1} & b_{1, 1} & b_{2, 1} & b_{0, 2} & b_{1, 2} & b_{2, 2}\\end{matrix}\\right]$"
      ],
      "text/plain": [
       "Matrix([[b[0, 0], b[1, 0], b[2, 0], b[0, 1], b[1, 1], b[2, 1], b[0, 2], b[1, 2], b[2, 2]]])"
      ]
     },
     "execution_count": 5,
     "metadata": {},
     "output_type": "execute_result"
    }
   ],
   "source": [
    "X.T*b_v.T\n"
   ]
  },
  {
   "cell_type": "code",
   "execution_count": 6,
   "metadata": {},
   "outputs": [
    {
     "data": {
      "text/latex": [
       "$\\displaystyle \\left[\\begin{matrix}\\left(b_{0, 0} - b_{0, 1}\\right)^{2} + \\left(b_{0, 0} - b_{1, 0}\\right)^{2} + \\left(b_{0, 1} - b_{0, 2}\\right)^{2} + \\left(b_{0, 1} - b_{1, 1}\\right)^{2} + \\left(b_{0, 2} - b_{1, 2}\\right)^{2} + \\left(b_{1, 0} - b_{1, 1}\\right)^{2} + \\left(b_{1, 0} - b_{2, 0}\\right)^{2} + \\left(b_{1, 1} - b_{1, 2}\\right)^{2} + \\left(b_{1, 1} - b_{2, 1}\\right)^{2} + \\left(b_{1, 2} - b_{2, 2}\\right)^{2} + \\left(b_{2, 0} - b_{2, 1}\\right)^{2} + \\left(b_{2, 1} - b_{2, 2}\\right)^{2} + \\left(g_{0, 0} - g_{0, 1}\\right)^{2} + \\left(g_{0, 0} - g_{1, 0}\\right)^{2} + \\left(g_{0, 1} - g_{0, 2}\\right)^{2} + \\left(g_{0, 1} - g_{1, 1}\\right)^{2} + \\left(g_{0, 2} - g_{1, 2}\\right)^{2} + \\left(g_{1, 0} - g_{1, 1}\\right)^{2} + \\left(g_{1, 0} - g_{2, 0}\\right)^{2} + \\left(g_{1, 1} - g_{1, 2}\\right)^{2} + \\left(g_{1, 1} - g_{2, 1}\\right)^{2} + \\left(g_{1, 2} - g_{2, 2}\\right)^{2} + \\left(g_{2, 0} - g_{2, 1}\\right)^{2} + \\left(g_{2, 1} - g_{2, 2}\\right)^{2} + \\left(r_{0, 0} - r_{0, 1}\\right)^{2} + \\left(r_{0, 0} - r_{1, 0}\\right)^{2} + \\left(r_{0, 1} - r_{0, 2}\\right)^{2} + \\left(r_{0, 1} - r_{1, 1}\\right)^{2} + \\left(r_{0, 2} - r_{1, 2}\\right)^{2} + \\left(r_{1, 0} - r_{1, 1}\\right)^{2} + \\left(r_{1, 0} - r_{2, 0}\\right)^{2} + \\left(r_{1, 1} - r_{1, 2}\\right)^{2} + \\left(r_{1, 1} - r_{2, 1}\\right)^{2} + \\left(r_{1, 2} - r_{2, 2}\\right)^{2} + \\left(r_{2, 0} - r_{2, 1}\\right)^{2} + \\left(r_{2, 1} - r_{2, 2}\\right)^{2}\\end{matrix}\\right]$"
      ],
      "text/plain": [
       "Matrix([[(b[0, 0] - b[0, 1])**2 + (b[0, 0] - b[1, 0])**2 + (b[0, 1] - b[0, 2])**2 + (b[0, 1] - b[1, 1])**2 + (b[0, 2] - b[1, 2])**2 + (b[1, 0] - b[1, 1])**2 + (b[1, 0] - b[2, 0])**2 + (b[1, 1] - b[1, 2])**2 + (b[1, 1] - b[2, 1])**2 + (b[1, 2] - b[2, 2])**2 + (b[2, 0] - b[2, 1])**2 + (b[2, 1] - b[2, 2])**2 + (g[0, 0] - g[0, 1])**2 + (g[0, 0] - g[1, 0])**2 + (g[0, 1] - g[0, 2])**2 + (g[0, 1] - g[1, 1])**2 + (g[0, 2] - g[1, 2])**2 + (g[1, 0] - g[1, 1])**2 + (g[1, 0] - g[2, 0])**2 + (g[1, 1] - g[1, 2])**2 + (g[1, 1] - g[2, 1])**2 + (g[1, 2] - g[2, 2])**2 + (g[2, 0] - g[2, 1])**2 + (g[2, 1] - g[2, 2])**2 + (r[0, 0] - r[0, 1])**2 + (r[0, 0] - r[1, 0])**2 + (r[0, 1] - r[0, 2])**2 + (r[0, 1] - r[1, 1])**2 + (r[0, 2] - r[1, 2])**2 + (r[1, 0] - r[1, 1])**2 + (r[1, 0] - r[2, 0])**2 + (r[1, 1] - r[1, 2])**2 + (r[1, 1] - r[2, 1])**2 + (r[1, 2] - r[2, 2])**2 + (r[2, 0] - r[2, 1])**2 + (r[2, 1] - r[2, 2])**2]])"
      ]
     },
     "execution_count": 6,
     "metadata": {},
     "output_type": "execute_result"
    }
   ],
   "source": [
    "# divide and conquer!\n",
    "(X.T*r_v.T*D1.T)*(D1*r_v*X) + (X.T*r_v.T*D2.T)*(D2*r_v*X) +\\\n",
    "    (X.T*g_v.T*D1.T)*(D1*g_v*X) + (X.T*g_v.T*D2.T)*(D2*g_v*X) + \\\n",
    "        (X.T*b_v.T*D1.T)*(D1*b_v*X) + (X.T*b_v.T*D2.T)*(D2*b_v*X)\n"
   ]
  },
  {
   "cell_type": "markdown",
   "metadata": {},
   "source": [
    "# Here come the real deal"
   ]
  },
  {
   "cell_type": "code",
   "execution_count": 7,
   "metadata": {},
   "outputs": [],
   "source": [
    "# program taken from https://stanford.edu/~boyd/cvxbook/cvxbook_additional_exercises/\n",
    "# ...and slightly adapted\n",
    "\n",
    "# Also look at the description of exercise 22 on the exercise sheet!\n",
    "\n",
    "import matplotlib.image as mpimg\n",
    "import matplotlib.pyplot as plt\n",
    "import numpy as np\n",
    "from cvxopt import matrix, solvers\n"
   ]
  },
  {
   "cell_type": "code",
   "execution_count": 8,
   "metadata": {},
   "outputs": [],
   "source": [
    "# an auxiliary function interpreting three given arrays as red/green/blue values\n",
    "# and showing the resulting image\n",
    "def show_img(R,G,B):\n",
    "  img = np.stack((np.array(R),np.array(G),np.array(B)), axis=2)\n",
    "  # turn off ticks and labels of the figure\n",
    "  plt.tick_params(\n",
    "    axis='both', which='both', labelleft='off', labelbottom='off',\n",
    "    bottom='off', top='off', right='off', left='off'\n",
    "  )\n",
    "  fig = plt.imshow(img)\n"
   ]
  },
  {
   "cell_type": "code",
   "execution_count": 9,
   "metadata": {},
   "outputs": [],
   "source": [
    "#read image\n",
    "img = mpimg.imread(\"flower.png\")\n",
    "img = img[:,:,0:3]  # img is a triple of matrices, storing the intensity values for red, green and blue\n",
    "m,n,_ = img.shape\n",
    "\n",
    "# make into greyscale image\n",
    "M = 0.299*img[:,:,0]+0.587*img[:,:,1]+0.114*img[:,:,2]\n",
    "\n",
    "# record some color values which we will assume as known later for reconstruction\n",
    "np.random.seed(0)\n",
    "known_ind = np.where(np.random.rand(m,n) >= 0.90)\n",
    "R_known = img[:,:,0]\n",
    "G_known = img[:,:,1]\n",
    "B_known = img[:,:,2]\n",
    "R_known = R_known[known_ind]\n",
    "G_known = G_known[known_ind]\n",
    "B_known = B_known[known_ind]\n"
   ]
  },
  {
   "cell_type": "code",
   "execution_count": 10,
   "metadata": {},
   "outputs": [
    {
     "data": {
      "image/png": "[encoded data removed]",
      "text/plain": [
       "<Figure size 640x480 with 1 Axes>"
      ]
     },
     "metadata": {},
     "output_type": "display_data"
    }
   ],
   "source": [
    "# sprinkle the greyscale picture with the pixels of known color\n",
    "R_given = np.copy(M);\n",
    "R_given[known_ind] = R_known;\n",
    "G_given = np.copy(M);\n",
    "G_given[known_ind] = G_known;\n",
    "B_given = np.copy(M);\n",
    "B_given[known_ind] = B_known;\n",
    "\n",
    "# show the picture that we are starting with for our reconstruction task\n",
    "show_img(R_given, G_given, B_given)\n"
   ]
  },
  {
   "cell_type": "code",
   "execution_count": 11,
   "metadata": {},
   "outputs": [
    {
     "data": {
      "text/plain": [
       "array([[ 2., -1.,  0., ...,  0.,  0.,  0.],\n",
       "       [-1.,  3., -1., ...,  0.,  0.,  0.],\n",
       "       [ 0., -1.,  3., ...,  0.,  0.,  0.],\n",
       "       ...,\n",
       "       [ 0.,  0.,  0., ...,  3., -1.,  0.],\n",
       "       [ 0.,  0.,  0., ..., -1.,  3., -1.],\n",
       "       [ 0.,  0.,  0., ...,  0., -1.,  2.]])"
      ]
     },
     "execution_count": 11,
     "metadata": {},
     "output_type": "execute_result"
    }
   ],
   "source": [
    "n = M.shape[0]\n",
    "\n",
    "# 2*3 = 6, 3*3 = 9\n",
    "D1 = np.zeros(((n-1)*n, n*n))\n",
    "for i in range(D1.shape[0]):\n",
    "    D1[i, i] = 1\n",
    "    D1[i, i+n] = -1\n",
    "\n",
    "D2 = np.zeros(((n-1)*n, n*n))\n",
    "jump = 0\n",
    "for i in range(D2.shape[0]):\n",
    "    if (i+jump+1)%n == 0: jump+=1\n",
    "    D2[i, i+jump] = 1\n",
    "    D2[i, i+jump+1] = -1\n",
    "\n",
    "I = np.eye(n*n); zero = np.zeros((n*n, n*n))\n",
    "\n",
    "r_v = np.hstack((I, zero, zero))\n",
    "g_v = np.hstack((zero, I, zero))\n",
    "b_v = np.hstack((zero, zero, I))\n",
    "\n",
    "r_v.T@(D1.T@D1 + D2.T@D2)@r_v + g_v.T@(D1.T@D1 + D2.T@D2)@g_v + b_v.T@(D1.T@D1 + D2.T@D2)@b_v\n"
   ]
  },
  {
   "cell_type": "code",
   "execution_count": 14,
   "metadata": {},
   "outputs": [],
   "source": [
    "indices = np.ravel_multi_index(known_ind, (n,n))\n"
   ]
  },
  {
   "cell_type": "code",
   "execution_count": 15,
   "metadata": {},
   "outputs": [],
   "source": [
    "#------------your task starts here-----------------------------\n",
    "\n",
    "# set up the matrices and vectors to feed into cvxopt.solvers.qp\n",
    "# the names are chosen as in the API here:\n",
    "#  http://cvxopt.org/userguide/coneprog.html#quadratic-programming\n",
    "\n",
    "\n",
    "# these give the 'objective function' that needs to be minimized\n",
    "P= r_v.T@(D1.T@D1 + D2.T@D2)@r_v + g_v.T@(D1.T@D1 + D2.T@D2)@g_v + b_v.T@(D1.T@D1 + D2.T@D2)@b_v\n",
    "q= np.zeros(3*n*n)\n",
    "\n",
    "# these give the inequality constraints -- brightness values should be between 0 and 1\n",
    "G= np.vstack((np.eye(3*n*n), -np.eye(3*n*n)))\n",
    "h= np.hstack((np.ones(3*n*n), np.zeros(3*n*n)))\n",
    "\n",
    "# these give the equality constraints --\n",
    "#     1. some colours are known and\n",
    "#     2. our known greyscale value M_ij = 0.299*red_ij + 0.587*green_ij + 0.114*blue_ij\n",
    "A= np.vstack((r_v[indices], g_v[indices], b_v[indices], \\\n",
    "    np.delete((0.299*r_v+0.587*g_v+0.114*b_v), indices, axis=0)))\n",
    "b= np.hstack((R_known, G_known, B_known, np.delete(M.reshape(1,-1).squeeze(), indices))).astype(np.double)\n",
    "\n",
    "#the cvxopt package has its own matrix class - this is what you need to feed into the qp solver\n",
    "my_P=matrix(P)\n",
    "my_q=matrix(q)\n",
    "my_G=matrix(G)\n",
    "my_h=matrix(h)\n",
    "my_A=matrix(A)\n",
    "my_b=matrix(b)\n"
   ]
  },
  {
   "cell_type": "code",
   "execution_count": 16,
   "metadata": {},
   "outputs": [
    {
     "name": "stdout",
     "output_type": "stream",
     "text": [
      "     pcost       dcost       gap    pres   dres\n",
      " 0:  1.0040e+02 -1.1206e+04  4e+04  2e+00  1e-13\n",
      " 1:  1.0529e+02 -5.6206e+03  7e+03  1e-01  3e-14\n",
      " 2:  8.9244e+01 -5.0466e+02  6e+02  6e-03  4e-14\n",
      " 3:  6.8955e+01 -6.3888e+01  1e+02  1e-03  2e-14\n",
      " 4:  6.2662e+01  1.5253e+01  5e+01  3e-04  2e-14\n",
      " 5:  6.0560e+01  4.9716e+01  1e+01  3e-06  2e-14\n",
      " 6:  6.0302e+01  5.8800e+01  2e+00  4e-07  2e-14\n",
      " 7:  6.0277e+01  6.0017e+01  3e-01  5e-08  3e-14\n",
      " 8:  6.0275e+01  6.0247e+01  3e-02  5e-09  4e-14\n",
      " 9:  6.0275e+01  6.0274e+01  8e-04  1e-10  3e-14\n",
      "10:  6.0275e+01  6.0275e+01  2e-05  2e-12  3e-14\n",
      "Optimal solution found.\n"
     ]
    }
   ],
   "source": [
    "# this is where the optimization problem is solved:\n",
    "sol = solvers.qp(my_P,my_q,my_G,my_h,my_A,my_b)\n",
    "# 'sol' is now a dictionary with several kinds of information\n",
    "# the actual solution vector of values r_{ij}, g_{ij}, b_{ij} is the following:\n",
    "x = sol['x']\n"
   ]
  },
  {
   "cell_type": "code",
   "execution_count": 17,
   "metadata": {},
   "outputs": [
    {
     "name": "stderr",
     "output_type": "stream",
     "text": [
      "Clipping input data to the valid range for imshow with RGB data ([0..1] for floats or [0..255] for integers).\n"
     ]
    },
    {
     "data": {
      "image/png": "[encoded data removed]",
      "text/plain": [
       "<Figure size 640x480 with 1 Axes>"
      ]
     },
     "metadata": {},
     "output_type": "display_data"
    }
   ],
   "source": [
    "\n",
    "# now repackage this solution vector into 3 matrices of size 50x50 encoding the red/green/blue values\n",
    "R_reconstructed= (r_v@x).reshape((n,n))\n",
    "G_reconstructed= (g_v@x).reshape((n,n))\n",
    "B_reconstructed= (b_v@x).reshape((n,n))\n",
    "\n",
    "# see what we have got\n",
    "show_img(R_reconstructed, G_reconstructed, B_reconstructed)\n"
   ]
  }
 ],
 "metadata": {
  "kernelspec": {
   "display_name": "Python 3",
   "language": "python",
   "name": "python3"
  },
  "language_info": {
   "codemirror_mode": {
    "name": "ipython",
    "version": 3
   },
   "file_extension": ".py",
   "mimetype": "text/x-python",
   "name": "python",
   "nbconvert_exporter": "python",
   "pygments_lexer": "ipython3",
   "version": "3.11.5"
  }
 },
 "nbformat": 4,
 "nbformat_minor": 4
}
