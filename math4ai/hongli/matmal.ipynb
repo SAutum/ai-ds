{
 "cells": [
  {
   "attachments": {},
   "cell_type": "markdown",
   "metadata": {},
   "source": [
    "This is a small application to check the result of matrix multiplications."
   ]
  },
  {
   "cell_type": "code",
   "execution_count": 2,
   "metadata": {},
   "outputs": [],
   "source": [
    "import numpy as np\n",
    "\n",
    "U = np.matrix([[0, 1],\n",
    "                [-1, 0]])\n",
    "\n",
    "Sigma = np.matrix([[12, 0, 0],\n",
    "                [0, 3, 0]])\n",
    "\n",
    "V = np.matrix([ [ 1/3,  2/3, 2/3],\n",
    "                [ 2/3, -2/3, 1/3],\n",
    "                [-2/3, -1/3, 2/3]])"
   ]
  },
  {
   "cell_type": "code",
   "execution_count": 6,
   "metadata": {},
   "outputs": [
    {
     "data": {
      "text/plain": [
       "matrix([[ 2., -2.,  1.],\n",
       "        [-4., -8., -8.]])"
      ]
     },
     "execution_count": 6,
     "metadata": {},
     "output_type": "execute_result"
    }
   ],
   "source": [
    "U*Sigma*V"
   ]
  },
  {
   "cell_type": "code",
   "execution_count": 4,
   "metadata": {},
   "outputs": [],
   "source": [
    "U = np.matrix([[0, 1],\n",
    "                [1, 0]])\n",
    "\n",
    "Sigma = np.matrix([[12, 0, 0],\n",
    "                [0, 3, 0]])\n",
    "\n",
    "V = np.matrix([[-1/3, -2/3, -2/3],\n",
    "               [ 2/3, -2/3,  1/3],\n",
    "               [ 2/3,  1/3, -2/3]])"
   ]
  },
  {
   "cell_type": "code",
   "execution_count": 7,
   "metadata": {},
   "outputs": [
    {
     "data": {
      "text/plain": [
       "matrix([[ 2., -2.,  1.],\n",
       "        [-4., -8., -8.]])"
      ]
     },
     "execution_count": 7,
     "metadata": {},
     "output_type": "execute_result"
    }
   ],
   "source": [
    "U*Sigma*V"
   ]
  }
 ],
 "metadata": {
  "kernelspec": {
   "display_name": "APAlg",
   "language": "python",
   "name": "python3"
  },
  "language_info": {
   "codemirror_mode": {
    "name": "ipython",
    "version": 3
   },
   "file_extension": ".py",
   "mimetype": "text/x-python",
   "name": "python",
   "nbconvert_exporter": "python",
   "pygments_lexer": "ipython3",
   "version": "3.9.18"
  },
  "orig_nbformat": 4
 },
 "nbformat": 4,
 "nbformat_minor": 2
}
