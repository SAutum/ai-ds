{
 "cells": [
  {
   "cell_type": "code",
   "execution_count": 1,
   "metadata": {},
   "outputs": [
    {
     "name": "stdout",
     "output_type": "stream",
     "text": [
      "Data points normally distributed with mean zero and the following covariance matrix:\n",
      " [[4. 0.]\n",
      " [0. 1.]]\n",
      "Mean of the data:\n",
      "[ 0.02737964342451363 ,  0.017560645648099074 ]\n",
      "Empirical covariance matrix:\n",
      " [[4.14156863 0.12668981]\n",
      " [0.12668981 0.85031433]]\n",
      "\n",
      " Outliers normally distributed with mean zero and the following covariance matrix:\n",
      " [[ 1.  0.]\n",
      " [ 0. 49.]]\n"
     ]
    }
   ],
   "source": [
    "#---- parts taken from https://scikit-learn.org/stable/auto_examples/covariance/plot_mahalanobis_distances.html#sphx-glr-auto-examples-covariance-plot-mahalanobis-distances-py\n",
    "#--- look there for nice graphics!\n",
    "\n",
    "import numpy as np\n",
    "import matplotlib.pyplot as plt\n",
    "\n",
    "n_samples = 225\n",
    "n_outliers = 25\n",
    "n_features = 2\n",
    "\n",
    "#------ the following generates a collection of data in R^2, the \"inliers\", mostly coming from one\n",
    "#------ normal distribution, then adds \"erroneous\" data, the \"outliers\", from another distribution\n",
    "\n",
    "# generate data\n",
    "gen_cov = np.eye(n_features)\n",
    "gen_cov[0, 0] = 2.\n",
    "# the following generates n_samples many vectors in R^{n_features}=R^2 using a\n",
    "# normal distribution with mean (0,0) (because not specified otherwise) and\n",
    "# covariance matrix gen_cov times gen_cov^T\n",
    "X = np.dot(np.random.randn(n_samples, n_features), gen_cov)\n",
    "# I don't know of a command that directly produces normal distributions with given mean and covariance matrix.\n",
    "# Instead one can produce _standard_ normally distributed data (i.e. mean zero, covariance matrix I),\n",
    "# in other words a sequence of independent normally distributed univariate data,\n",
    "# with the above command: np.random.randn(n_samples, n_features)\n",
    "# Then transform the result by multiplying with the \"square root\" of the desired covariance matrix\n",
    "# using the following formula: If X ~ N(x|m,S) then AX ~ N(x|Am, ASA^T) -- see the paragraph\n",
    "# before Remark 4.8.10 of the notes.\n",
    "print('Data points normally distributed with mean zero and the following covariance matrix:\\n',np.dot(gen_cov,gen_cov.T))\n",
    "\n",
    "# As a check let's compute the empirical mean vector and the empirical covariance matrix of the data\n",
    "# that we generated:\n",
    "print('Mean of the data:\\n[',np.mean(X.T[0]),', ',np.mean(X.T[1]), ']')\n",
    "print('Empirical covariance matrix:\\n',np.cov(X.T))\n",
    "# I use the transpose because np.cov by default interprets the elements of the nth row\n",
    "# as the nth coordinates of the samples, but our X is the other way round.\n",
    "# One could also use np.cov(X, rowvar=False) with the same effect.\n",
    "\n",
    "# we replace the last 25 data points by some outliers\n",
    "outliers_cov = np.eye(n_features)\n",
    "outliers_cov[np.arange(1, n_features), np.arange(1, n_features)] = 7.\n",
    "print('\\n Outliers normally distributed with mean zero and the following covariance matrix:\\n',np.dot(outliers_cov,outliers_cov.T))\n",
    "X[-n_outliers:] = np.dot(np.random.randn(n_outliers, n_features), outliers_cov)\n"
   ]
  },
  {
   "cell_type": "code",
   "execution_count": 67,
   "metadata": {},
   "outputs": [
    {
     "data": {
      "image/png": "[encoded data removed]",
      "text/plain": [
       "<Figure size 1000x500 with 1 Axes>"
      ]
     },
     "metadata": {},
     "output_type": "display_data"
    }
   ],
   "source": [
    "# Draw the data set in a scatter plot\n",
    "# This function takes two arrays of vectors of length 2 and draws them in a scatter plot\n",
    "# the first list is drawn as black points, labeled 'inliers',\n",
    "# the second list is drawn as red points, labeled 'outliers'\n",
    "# one only needs to pass one list, the second is optional\n",
    "\n",
    "def draw_points(Points,Outliers=None):\n",
    "    fig, ax = plt.subplots(figsize=(10, 5))\n",
    "    # Plot data set\n",
    "    inlier_plot = ax.scatter(Points[:, 0], Points[:, 1],\n",
    "                         color='black', label='inliers', s=1)\n",
    "    if not(Outliers is None):\n",
    "        outlier_plot = ax.scatter(Outliers[:, 0], Outliers[:, 1],\n",
    "                          color='red', label='outliers',s=2)\n",
    "    ax.set_xlim(ax.get_xlim()[0], 10.)\n",
    "\n",
    "\n",
    "    # Create meshgrid of feature 1 and feature 2 values\n",
    "    xx, yy = np.meshgrid(np.linspace(plt.xlim()[0], plt.xlim()[1], 100),\n",
    "                     np.linspace(plt.ylim()[0], plt.ylim()[1], 100))\n",
    "    zz = np.c_[xx.ravel(), yy.ravel()]\n",
    "\n",
    "    # Add legend\n",
    "    if not(Outliers is None):\n",
    "        ax.legend([inlier_plot, outlier_plot],\n",
    "                  ['inliers', 'outliers'],\n",
    "                  loc=\"upper right\", borderaxespad=0)\n",
    "\n",
    "    ax.grid()\n",
    "    ax.set_xlim(-10, 10)\n",
    "    ax.set_aspect(\"equal\")\n",
    "    plt.show()\n",
    "\n",
    "\n",
    "draw_points(X, X[-n_outliers: ,:])\n"
   ]
  },
  {
   "cell_type": "code",
   "execution_count": 68,
   "metadata": {},
   "outputs": [
    {
     "name": "stdout",
     "output_type": "stream",
     "text": [
      "1. Mean of the contaminated data:\n",
      "[ -0.02064438485434053 ,  -0.110654578206426 ]\n",
      "2. Empirical covariance matrix of the contaminated data:\n",
      " [[3.76456378 0.05933763]\n",
      " [0.05933763 6.92966405]]\n"
     ]
    },
    {
     "data": {
      "image/png": "[encoded data removed]",
      "text/plain": [
       "<Figure size 1000x500 with 1 Axes>"
      ]
     },
     "metadata": {},
     "output_type": "display_data"
    }
   ],
   "source": [
    "#-- X is now the collection of all the data vectors.\n",
    "# Your task: Try to filter out the outliers from X, at least the bad ones,\n",
    "# without using that you know which elements of X are outliers.\n",
    "\n",
    "# ------------ General idea for finding outliers:-------------\n",
    "# 1. Compute the mean m of the data\n",
    "# 2. Compute the empirical covariance matrix C of the data\n",
    "# 3. Use it to define a distance between data points x and y:\n",
    "#     the square root of (x-y)^T C^(-1) (x-y) is called the Mahalanobis distance from x to y)\n",
    "# # The Mahalanobis distance can be seen as a metric (coming from an inner product given by C)\n",
    "# that is inherent in the data. This point of view is very nicely explained in the first answer of this forum post:\n",
    "# https://stats.stackexchange.com/questions/62092/bottom-to-top-explanation-of-the-mahalanobis-distance?rq=1&newreg=bc22f22ed57045d6be2d6adbee05e3a1\n",
    "#\n",
    "# 4. Now the idea is that outliers are those points that lie \"far away\" from the mean according to this metric.\n",
    "# \"Far away\" is of course not precise, but for example if one can safely assume that not more than 1/5 of\n",
    "# the data points are outliers, one can simply take the 4/5 of the points that are closest to the mean\n",
    "# and declare this subset free of outliers.\n",
    "# For this exercise we just search for 100 points of which we want to be pretty sure that they are not outliers.\n",
    "\n",
    "print('1. Mean of the contaminated data:\\n[',np.mean(X.T[0]),', ',np.mean(X.T[1]), ']')\n",
    "print('2. Empirical covariance matrix of the contaminated data:\\n',np.cov(X.T))\n",
    "\n",
    "\n",
    "# -------Your task (part a):--------\n",
    "# a)  Find the 100 points that are closest to the mean, in the sense described above, and plot them.\n",
    "C = np.cov(X.T, ddof=1)\n",
    "mean = np.mean(X,axis=0)\n",
    "C_inv = np.linalg.inv(C)\n",
    "dist = np.sqrt(np.diagonal(X@C_inv@X.T))\n",
    "top_100_indices = dist.argsort()[:100]\n",
    "draw_points(X[top_100_indices], X[-n_outliers:, :])\n"
   ]
  },
  {
   "cell_type": "code",
   "execution_count": 113,
   "metadata": {},
   "outputs": [
    {
     "name": "stdout",
     "output_type": "stream",
     "text": [
      "\n"
     ]
    },
    {
     "data": {
      "image/png": "[encoded data removed]",
      "text/plain": [
       "<Figure size 1000x500 with 1 Axes>"
      ]
     },
     "metadata": {},
     "output_type": "display_data"
    }
   ],
   "source": [
    "# The problem with this procedure is that the covariance matrix, which we use to define the distance\n",
    "# by which we then want to detect outliers, already is itself defined in terms of the contaminated data.\n",
    "# You can see above that is pretty different from the covariance matrix of the uncontaminated data.\n",
    "\n",
    "# A remedy that seems to work well in practice is to first find a better estimator for the uncontaminated\n",
    "# covariance matrix.\n",
    "\n",
    "\n",
    "# This estimator is called the Minimum Covariance Determinant Estimator.\n",
    "# It is computed as follows:\n",
    "\n",
    "# 1. Try to find that 100-element subset of X whose covariance matrix has the smallest determinant\n",
    "# Instead of really checking through all subsets, rather choose randomly 10000 such subsets\n",
    "# and take the one with smallest covariance matrix determinant out of these. Call it X_1.\n",
    "# --- you can e.g. use  sklearn.model_selection.train_test_split  for this random subset picking,\n",
    "# or np.random.choice for randomly picking indices between 0 and 124.\n",
    "\n",
    "# Then:\n",
    "# 2. compute the mean of X_1; call it m_1\n",
    "# 3. compute the empirical covariance matrix of X_1; call it C_1\n",
    "# This is the estimate for the covariance matrix of the uncontaminated data.\n",
    "\n",
    "# To remove outliers go on as follows:\n",
    "# 4. For each point x of our original X compute (x-m_1)^T C_1^(-1) (x-m_1)\n",
    "#        (let's call the square root of this number the C_1-Mahalanobis distance from x to m_1)\n",
    "# 5. Take the 100 points with smallest C_1-Mahalanobis distance from m_1.\n",
    "\n",
    "\n",
    "# -------Your task (part b):--------\n",
    "# b) Do these steps.\n",
    "#    Then plot the resulting set of 100 points.\n",
    "det = np.inf\n",
    "for i in range(10000):\n",
    "    indices = np.random.choice(range(len(X)), 100)\n",
    "    det_temp = np.linalg.det(np.cov(X[indices].T, ddof=1))\n",
    "    if det >= det_temp:\n",
    "        det = det_temp\n",
    "        selected_indices = indices\n",
    "\n",
    "X_1 = X[selected_indices]\n",
    "m_1 = np.mean(X_1)\n",
    "C_1 = np.cov(X_1.T, ddof=1)\n",
    "print(C_1)\n",
    "C_1inv = np.linalg.inv(C_1)\n",
    "dist = np.sqrt(np.diagonal(X@C_1inv@X.T))\n",
    "top_100_indices = dist.argsort()[:100]\n",
    "draw_points(X[top_100_indices], X[-n_outliers:, :])\n"
   ]
  },
  {
   "cell_type": "code",
   "execution_count": 71,
   "metadata": {},
   "outputs": [
    {
     "data": {
      "text/plain": [
       "array([[3.72315755, 0.11620868],\n",
       "       [0.11620868, 0.93786839]])"
      ]
     },
     "execution_count": 71,
     "metadata": {},
     "output_type": "execute_result"
    }
   ],
   "source": [
    "# ABOUT USING THE Minimum Covariance Determinant Estimator IN PRACTICE:\n",
    "# In practice for this whole procedure one would simply use the following command:\n",
    "from sklearn.covariance import MinCovDet\n",
    "robust_cov = MinCovDet().fit(X)\n",
    "# This directly does several iterations of the above process, I think...\n",
    "robust_cov.covariance_\n"
   ]
  },
  {
   "cell_type": "markdown",
   "metadata": {},
   "source": [
    "The results are still a bit off from [[4, 0], [0, 1]]"
   ]
  }
 ],
 "metadata": {
  "kernelspec": {
   "display_name": "Python 3 (ipykernel)",
   "language": "python",
   "name": "python3"
  },
  "language_info": {
   "codemirror_mode": {
    "name": "ipython",
    "version": 3
   },
   "file_extension": ".py",
   "mimetype": "text/x-python",
   "name": "python",
   "nbconvert_exporter": "python",
   "pygments_lexer": "ipython3",
   "version": "3.9.18"
  }
 },
 "nbformat": 4,
 "nbformat_minor": 4
}
