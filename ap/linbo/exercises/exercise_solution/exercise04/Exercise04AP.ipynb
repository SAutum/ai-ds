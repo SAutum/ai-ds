{
  "nbformat": 4,
  "nbformat_minor": 0,
  "metadata": {
    "colab": {
      "provenance": []
    },
    "kernelspec": {
      "name": "python3",
      "display_name": "Python 3"
    },
    "language_info": {
      "name": "python"
    }
  },
  "cells": [
    {
      "cell_type": "code",
      "execution_count": 1,
      "metadata": {
        "id": "F1_TFNaKzwVv"
      },
      "outputs": [],
      "source": [
        "def is_prime(num):\n",
        "  if num < 2:\n",
        "    return False\n",
        "  for i in range(2,int((num+1)/2)+1):\n",
        "    if num % i == 0:\n",
        "      return False\n",
        "  return True"
      ]
    },
    {
      "cell_type": "code",
      "source": [
        "def is_one_less_than_power_of_two(num):\n",
        "  n = 1\n",
        "  while 2**n - 1 <= num:\n",
        "    if abs(2**n - num) == 1:\n",
        "      return True\n",
        "    n += 1\n",
        "  return False"
      ],
      "metadata": {
        "id": "iMuI9S5Q0i3X"
      },
      "execution_count": 8,
      "outputs": []
    },
    {
      "cell_type": "code",
      "source": [
        "def main(num):\n",
        "  p = []\n",
        "  for i in range(2,num):\n",
        "    if is_prime(i) == True and is_one_less_than_power_of_two(i) == True:\n",
        "      p.append(i)\n",
        "  return p\n"
      ],
      "metadata": {
        "id": "bufiAPGY1RGv"
      },
      "execution_count": 9,
      "outputs": []
    },
    {
      "cell_type": "code",
      "source": [
        "main(100)"
      ],
      "metadata": {
        "colab": {
          "base_uri": "https://localhost:8080/"
        },
        "id": "SFzpcPBN2PeQ",
        "outputId": "652136a2-49a8-4c53-857a-4b5085675eda"
      },
      "execution_count": 10,
      "outputs": [
        {
          "output_type": "execute_result",
          "data": {
            "text/plain": [
              "[3, 5, 7, 17, 31]"
            ]
          },
          "metadata": {},
          "execution_count": 10
        }
      ]
    },
    {
      "cell_type": "code",
      "source": [],
      "metadata": {
        "id": "I55rPvjBSi3T"
      },
      "execution_count": null,
      "outputs": []
    }
  ]
}