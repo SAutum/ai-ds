{
 "cells": [
  {
   "cell_type": "markdown",
   "id": "4a059115",
   "metadata": {},
   "source": [
    "# Measuring Time"
   ]
  },
  {
   "cell_type": "markdown",
   "id": "929c3901",
   "metadata": {},
   "source": [
    "## Insertion Sort"
   ]
  },
  {
   "cell_type": "code",
   "execution_count": null,
   "id": "c7c1851c",
   "metadata": {},
   "outputs": [],
   "source": [
    "def insertion_sort(sequence):\n",
    "    for j in range(1, len(sequence)):\n",
    "        key = sequence[j]\n",
    "        print(f'j = {j}, key = {key}')\n",
    "        i = j - 1\n",
    "        while i >= 0 and sequence[i] > key:\n",
    "            print(f'i = {i}, sequence = {sequence}')\n",
    "            sequence[i + 1] = sequence[i]\n",
    "            i = i - 1\n",
    "        sequence[i + 1] = key"
   ]
  },
  {
   "cell_type": "code",
   "execution_count": null,
   "id": "66161baf",
   "metadata": {},
   "outputs": [],
   "source": [
    "sequence = [3, 5, 4, 6, 7, 1, 2]\n",
    "insertion_sort(sequence)\n",
    "sequence"
   ]
  },
  {
   "cell_type": "code",
   "execution_count": null,
   "id": "42932fb2",
   "metadata": {},
   "outputs": [],
   "source": [
    "insertion_sort(sequence)"
   ]
  },
  {
   "cell_type": "code",
   "execution_count": null,
   "id": "582e6e70",
   "metadata": {},
   "outputs": [],
   "source": []
  },
  {
   "cell_type": "markdown",
   "id": "f4b1493a",
   "metadata": {},
   "source": [
    "## Time"
   ]
  },
  {
   "cell_type": "markdown",
   "id": "8e16856f",
   "metadata": {},
   "source": [
    "different functions measuring time"
   ]
  },
  {
   "cell_type": "code",
   "execution_count": null,
   "id": "73b41753",
   "metadata": {},
   "outputs": [],
   "source": [
    "import time\n",
    "start = time.time()\n",
    "print('hello')\n",
    "end = time.time()\n",
    "print(end - start)"
   ]
  },
  {
   "cell_type": "code",
   "execution_count": null,
   "id": "6ed1dd65",
   "metadata": {},
   "outputs": [],
   "source": [
    "start = time.process_time()\n",
    "print('hello')\n",
    "end = time.process_time()\n",
    "print(end - start)"
   ]
  },
  {
   "cell_type": "code",
   "execution_count": null,
   "id": "82e258fa",
   "metadata": {},
   "outputs": [],
   "source": [
    "from datetime import timedelta\n",
    "start = time.process_time()\n",
    "print('hello')\n",
    "end = time.process_time()\n",
    "print(timedelta(seconds = end - start))"
   ]
  },
  {
   "cell_type": "code",
   "execution_count": null,
   "id": "5da07b3f",
   "metadata": {},
   "outputs": [],
   "source": [
    "start = time.perf_counter()\n",
    "print('hello')\n",
    "end = time.perf_counter()\n",
    "print(f'{end - start:.20f}')"
   ]
  },
  {
   "cell_type": "markdown",
   "id": "49017f3c",
   "metadata": {},
   "source": [
    "For our usecase, we can use perf_counter"
   ]
  },
  {
   "cell_type": "code",
   "execution_count": null,
   "id": "7b8bc0c9",
   "metadata": {},
   "outputs": [],
   "source": [
    "for i in range(10):\n",
    "    start = time.perf_counter()\n",
    "    print('hello')\n",
    "    end = time.perf_counter()\n",
    "    print(f'{end - start:.16f}')"
   ]
  },
  {
   "cell_type": "code",
   "execution_count": null,
   "id": "2372cd92",
   "metadata": {},
   "outputs": [],
   "source": [
    "start = time.perf_counter()\n",
    "pass\n",
    "end = time.perf_counter()\n",
    "print(f'{end - start:.16f}')"
   ]
  },
  {
   "cell_type": "code",
   "execution_count": null,
   "id": "be044c4c",
   "metadata": {},
   "outputs": [],
   "source": []
  },
  {
   "cell_type": "markdown",
   "id": "093abd99",
   "metadata": {},
   "source": [
    "Let's use the following function to measure time of an arbitrary function."
   ]
  },
  {
   "cell_type": "code",
   "execution_count": null,
   "id": "ccdf3aa9",
   "metadata": {},
   "outputs": [],
   "source": [
    "def measure_time(function, arg):\n",
    "    start = time.perf_counter()\n",
    "    function(arg)\n",
    "    end = time.perf_counter()\n",
    "    print(f'{end - start:.16f}')"
   ]
  },
  {
   "cell_type": "markdown",
   "id": "1060a7c1",
   "metadata": {},
   "source": [
    "Note: You can also use lambda functions here!"
   ]
  },
  {
   "cell_type": "code",
   "execution_count": null,
   "id": "cb9ecfbd",
   "metadata": {},
   "outputs": [],
   "source": [
    "measure_time(insertion_sort, list(range(1000)))"
   ]
  },
  {
   "cell_type": "markdown",
   "id": "ff7df5ef",
   "metadata": {},
   "source": [
    "leaving out the print statements"
   ]
  },
  {
   "cell_type": "code",
   "execution_count": null,
   "id": "773ae491",
   "metadata": {},
   "outputs": [],
   "source": [
    "def insertion_sort(sequence):\n",
    "    for j in range(1, len(sequence)):\n",
    "        key = sequence[j]\n",
    "        i = j - 1\n",
    "        while i >= 0 and sequence[i] > key:\n",
    "            sequence[i + 1] = sequence[i]\n",
    "            i = i - 1\n",
    "        sequence[i + 1] = key\n",
    "    return sequence"
   ]
  },
  {
   "cell_type": "code",
   "execution_count": null,
   "id": "7356f50d",
   "metadata": {},
   "outputs": [],
   "source": [
    "for i in range(5):\n",
    "    measure_time(insertion_sort, list(range(1000)))"
   ]
  },
  {
   "cell_type": "code",
   "execution_count": null,
   "id": "4bcc9e86",
   "metadata": {},
   "outputs": [],
   "source": [
    "sorted_increasing = list(range(1000))\n",
    "for i in range(5):\n",
    "    measure_time(insertion_sort, sorted_increasing)"
   ]
  },
  {
   "cell_type": "code",
   "execution_count": null,
   "id": "6c0f1568",
   "metadata": {},
   "outputs": [],
   "source": [
    "for i in range(5):\n",
    "    measure_time(insertion_sort, list(range(1000, 1, -1)))"
   ]
  },
  {
   "cell_type": "code",
   "execution_count": null,
   "id": "33cab2ac",
   "metadata": {
    "scrolled": true
   },
   "outputs": [],
   "source": [
    "for i in range(5):\n",
    "    sorted_decreasing = list(range(10000, 1, -1))\n",
    "    measure_time(insertion_sort, sorted_decreasing)"
   ]
  },
  {
   "cell_type": "code",
   "execution_count": null,
   "id": "e858838e",
   "metadata": {},
   "outputs": [],
   "source": [
    "import random\n",
    "\n",
    "random.shuffle(sorted_decreasing)\n",
    "sorted_decreasing"
   ]
  },
  {
   "cell_type": "code",
   "execution_count": null,
   "id": "f3937669",
   "metadata": {},
   "outputs": [],
   "source": [
    "for i in range(5):\n",
    "    random.shuffle(sorted_decreasing)\n",
    "    measure_time(insertion_sort, sorted_decreasing)"
   ]
  },
  {
   "cell_type": "markdown",
   "id": "461e7753",
   "metadata": {},
   "source": [
    "Observe slight differences if we assign variables, define functions..."
   ]
  },
  {
   "cell_type": "code",
   "execution_count": null,
   "id": "ff26f828",
   "metadata": {},
   "outputs": [],
   "source": [
    "shuffled = list(range(10000))\n",
    "random.shuffle(shuffled)\n",
    "measure_time(insertion_sort, list(range(10000)))\n",
    "measure_time(insertion_sort, shuffled)\n",
    "measure_time(insertion_sort, list(range(10000, 1, -1)))"
   ]
  },
  {
   "cell_type": "code",
   "execution_count": null,
   "id": "c9a422c9",
   "metadata": {},
   "outputs": [],
   "source": [
    "shuffled = list(range(20000))\n",
    "random.shuffle(shuffled)\n",
    "measure_time(insertion_sort, list(range(20000)))\n",
    "measure_time(insertion_sort, shuffled)\n",
    "measure_time(insertion_sort, list(range(20000, 1, -1)))"
   ]
  },
  {
   "cell_type": "code",
   "execution_count": null,
   "id": "bf39af15",
   "metadata": {},
   "outputs": [],
   "source": [
    "shuffled = list(range(100000))\n",
    "random.shuffle(shuffled)\n",
    "measure_time(insertion_sort, list(range(100000)))\n",
    "measure_time(insertion_sort, shuffled)\n",
    "measure_time(insertion_sort, list(range(100000, 1, -1)))"
   ]
  },
  {
   "cell_type": "markdown",
   "id": "6ba2fd60",
   "metadata": {},
   "source": [
    "## Preview: Refactoring"
   ]
  },
  {
   "cell_type": "code",
   "execution_count": null,
   "id": "918127c3",
   "metadata": {},
   "outputs": [],
   "source": [
    "def insertion_sort(sequence):\n",
    "    for j in range(1, len(sequence)):\n",
    "        key = sequence[j]\n",
    "        i = j - 1\n",
    "        while i >= 0 and sequence[i] > key:\n",
    "            sequence[i + 1] = sequence[i]\n",
    "            i = i - 1\n",
    "        sequence[i + 1] = key"
   ]
  },
  {
   "cell_type": "code",
   "execution_count": null,
   "id": "561bf590",
   "metadata": {},
   "outputs": [],
   "source": [
    "def insertion_sort_short(sequence):\n",
    "    for j in range(1, len(sequence)):\n",
    "        key = sequence[j]\n",
    "        insert_key(sequence, j, key)"
   ]
  },
  {
   "cell_type": "code",
   "execution_count": null,
   "id": "ec449c4f",
   "metadata": {},
   "outputs": [],
   "source": [
    "def insert_key(sequence, j, key):\n",
    "    i = j - 1\n",
    "    while i >= 0 and sequence[i] > key:\n",
    "        sequence[i + 1] = sequence[i]\n",
    "        i = i - 1\n",
    "    sequence[i + 1] = key"
   ]
  },
  {
   "cell_type": "markdown",
   "id": "92db8f27",
   "metadata": {},
   "source": [
    "4 lines? extract while loop body? while condition as one function? idea: readability and meaning"
   ]
  },
  {
   "cell_type": "code",
   "execution_count": null,
   "id": "13e8d908",
   "metadata": {},
   "outputs": [],
   "source": [
    "a = list(range(5, 1, -1))\n",
    "insertion_sort_short(a)\n",
    "print(a)"
   ]
  },
  {
   "cell_type": "code",
   "execution_count": null,
   "id": "20abf3d2",
   "metadata": {},
   "outputs": [],
   "source": [
    "measure_time(insertion_sort_short, list(range(10000, 1, -1)))"
   ]
  },
  {
   "cell_type": "code",
   "execution_count": null,
   "id": "c9cf87f0",
   "metadata": {},
   "outputs": [],
   "source": [
    "list.sort"
   ]
  },
  {
   "cell_type": "code",
   "execution_count": null,
   "id": "8643c430",
   "metadata": {},
   "outputs": [],
   "source": [
    "start = time.perf_counter()\n",
    "list(range(1000000, 1, -1)).sort()\n",
    "end = time.perf_counter()\n",
    "print(f'{end - start:.16f}')"
   ]
  },
  {
   "cell_type": "code",
   "execution_count": null,
   "id": "bd52b89b",
   "metadata": {},
   "outputs": [],
   "source": [
    "shuffled = list(range(1000000))\n",
    "random.shuffle(shuffled)\n",
    "\n",
    "start = time.perf_counter()\n",
    "shuffled.sort()\n",
    "end = time.perf_counter()\n",
    "print(f'{end - start:.16f}')"
   ]
  },
  {
   "cell_type": "markdown",
   "id": "8052a9d7",
   "metadata": {},
   "source": [
    "Note: In terms of efficiency, it is often a good idea to use build-in methods.\n",
    "However, from an algorithmic point of view, we want to know what happens.\n",
    "Preview: more sorting algorithms in Part II."
   ]
  },
  {
   "cell_type": "code",
   "execution_count": null,
   "id": "19544684",
   "metadata": {},
   "outputs": [],
   "source": []
  }
 ],
 "metadata": {
  "kernelspec": {
   "display_name": "Python 3 (ipykernel)",
   "language": "python",
   "name": "python3"
  },
  "language_info": {
   "codemirror_mode": {
    "name": "ipython",
    "version": 3
   },
   "file_extension": ".py",
   "mimetype": "text/x-python",
   "name": "python",
   "nbconvert_exporter": "python",
   "pygments_lexer": "ipython3",
   "version": "3.9.18"
  }
 },
 "nbformat": 4,
 "nbformat_minor": 5
}
