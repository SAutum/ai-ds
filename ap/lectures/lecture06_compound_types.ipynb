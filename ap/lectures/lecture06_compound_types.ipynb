{
 "cells": [
  {
   "cell_type": "markdown",
   "id": "6d9bd2d2",
   "metadata": {},
   "source": [
    "# Compound Types"
   ]
  },
  {
   "cell_type": "markdown",
   "id": "74218b7d",
   "metadata": {},
   "source": [
    "## Tuples"
   ]
  },
  {
   "cell_type": "markdown",
   "id": "0f2ff20f",
   "metadata": {},
   "source": [
    "we have seen tuples in the context of multiple return values:"
   ]
  },
  {
   "cell_type": "code",
   "execution_count": null,
   "id": "350877b4",
   "metadata": {},
   "outputs": [],
   "source": [
    "def divide_remainder(dividend, divisor):\n",
    "    if divisor != 0:\n",
    "        division = dividend // divisor\n",
    "        remainder = dividend % divisor\n",
    "        return division, remainder"
   ]
  },
  {
   "cell_type": "code",
   "execution_count": null,
   "id": "f2caa7a3",
   "metadata": {},
   "outputs": [],
   "source": [
    "divide_remainder(103, 4)"
   ]
  },
  {
   "cell_type": "code",
   "execution_count": null,
   "id": "28c373b5",
   "metadata": {},
   "outputs": [],
   "source": [
    "division, remainder = divide_remainder(103, 4)\n",
    "print(f'103 equals {division} times {4} plus {remainder}')"
   ]
  },
  {
   "cell_type": "markdown",
   "id": "aa140dbd",
   "metadata": {},
   "source": [
    "tuples can be written in two ways:"
   ]
  },
  {
   "cell_type": "code",
   "execution_count": null,
   "id": "01060193",
   "metadata": {},
   "outputs": [],
   "source": [
    "t = (3, 4, 'a', (1, 2))\n",
    "r = 3, 4, 'a', (1, 2)"
   ]
  },
  {
   "cell_type": "code",
   "execution_count": null,
   "id": "cd656ca2",
   "metadata": {},
   "outputs": [],
   "source": [
    "r == r"
   ]
  },
  {
   "cell_type": "code",
   "execution_count": null,
   "id": "17542620",
   "metadata": {},
   "outputs": [],
   "source": [
    "t is r"
   ]
  },
  {
   "cell_type": "code",
   "execution_count": null,
   "id": "8632394a",
   "metadata": {},
   "outputs": [],
   "source": [
    "type(t)"
   ]
  },
  {
   "cell_type": "code",
   "execution_count": null,
   "id": "8ea50c0d",
   "metadata": {},
   "outputs": [],
   "source": [
    "for element in t:\n",
    "    print(type(element).__name__, end=' ')"
   ]
  },
  {
   "cell_type": "markdown",
   "id": "2e991651",
   "metadata": {},
   "source": [
    "indexing: access to single elements"
   ]
  },
  {
   "cell_type": "code",
   "execution_count": null,
   "id": "96a93469",
   "metadata": {},
   "outputs": [],
   "source": [
    "t[1]"
   ]
  },
  {
   "cell_type": "code",
   "execution_count": null,
   "id": "c2571604",
   "metadata": {},
   "outputs": [],
   "source": [
    "t[-1]"
   ]
  },
  {
   "cell_type": "code",
   "execution_count": null,
   "id": "1355cdc3",
   "metadata": {
    "scrolled": true
   },
   "outputs": [],
   "source": [
    "for index in range(len(t)):\n",
    "    print(t[index])"
   ]
  },
  {
   "cell_type": "code",
   "execution_count": null,
   "id": "38d6c50d",
   "metadata": {},
   "outputs": [],
   "source": [
    "for item in enumerate(t):\n",
    "    print(item)"
   ]
  },
  {
   "cell_type": "markdown",
   "id": "daee4da0",
   "metadata": {},
   "source": [
    "slicing: access to subtuples"
   ]
  },
  {
   "cell_type": "code",
   "execution_count": null,
   "id": "b212076c",
   "metadata": {},
   "outputs": [],
   "source": [
    "t[1:4]"
   ]
  },
  {
   "cell_type": "markdown",
   "id": "5974949d",
   "metadata": {},
   "source": [
    "similar to ranges [\\<start including this number>:\\<end excluding this number>:\\<steps>]"
   ]
  },
  {
   "cell_type": "code",
   "execution_count": null,
   "id": "3d3e3c1a",
   "metadata": {},
   "outputs": [],
   "source": [
    "t[:2]"
   ]
  },
  {
   "cell_type": "code",
   "execution_count": null,
   "id": "3af443c4",
   "metadata": {},
   "outputs": [],
   "source": [
    "t[1:]"
   ]
  },
  {
   "cell_type": "code",
   "execution_count": null,
   "id": "fef11eee",
   "metadata": {},
   "outputs": [],
   "source": [
    "t[1:4:2]"
   ]
  },
  {
   "cell_type": "markdown",
   "id": "455a86a4",
   "metadata": {},
   "source": [
    "What does this mean? t[::-1]"
   ]
  },
  {
   "cell_type": "code",
   "execution_count": null,
   "id": "c7f38fe1",
   "metadata": {},
   "outputs": [],
   "source": []
  },
  {
   "cell_type": "markdown",
   "id": "400bb8cb",
   "metadata": {},
   "source": [
    "We can create empty tuples, and tuples of a given size"
   ]
  },
  {
   "cell_type": "code",
   "execution_count": null,
   "id": "da42d9ef",
   "metadata": {},
   "outputs": [],
   "source": [
    "r = ()"
   ]
  },
  {
   "cell_type": "code",
   "execution_count": null,
   "id": "44542f1f",
   "metadata": {},
   "outputs": [],
   "source": [
    "len(r)"
   ]
  },
  {
   "cell_type": "code",
   "execution_count": null,
   "id": "d08d82fb",
   "metadata": {},
   "outputs": [],
   "source": [
    "r = 1, "
   ]
  },
  {
   "cell_type": "code",
   "execution_count": null,
   "id": "37a2c348",
   "metadata": {},
   "outputs": [],
   "source": [
    "type(r)"
   ]
  },
  {
   "cell_type": "code",
   "execution_count": null,
   "id": "987e999f",
   "metadata": {},
   "outputs": [],
   "source": [
    "len(r)"
   ]
  },
  {
   "cell_type": "code",
   "execution_count": null,
   "id": "9e45394b",
   "metadata": {},
   "outputs": [],
   "source": [
    "r = (1,) * 10"
   ]
  },
  {
   "cell_type": "code",
   "execution_count": null,
   "id": "c225c955",
   "metadata": {},
   "outputs": [],
   "source": [
    "r"
   ]
  },
  {
   "cell_type": "markdown",
   "id": "28e05c42",
   "metadata": {},
   "source": [
    "tuples are immutable:"
   ]
  },
  {
   "cell_type": "code",
   "execution_count": null,
   "id": "dd5e6d8a",
   "metadata": {},
   "outputs": [],
   "source": [
    "r[0] = 5"
   ]
  },
  {
   "cell_type": "code",
   "execution_count": null,
   "id": "1433c0b6",
   "metadata": {},
   "outputs": [],
   "source": [
    "t.append(5)"
   ]
  },
  {
   "cell_type": "markdown",
   "id": "b69fce4e",
   "metadata": {},
   "source": [
    "However, we can use tuples, whenever we want to consider multiple variables at once:"
   ]
  },
  {
   "cell_type": "code",
   "execution_count": null,
   "id": "48687aa7",
   "metadata": {},
   "outputs": [],
   "source": [
    "a = 1\n",
    "b = 2"
   ]
  },
  {
   "cell_type": "code",
   "execution_count": null,
   "id": "9de8f515",
   "metadata": {},
   "outputs": [],
   "source": [
    "a, b"
   ]
  },
  {
   "cell_type": "code",
   "execution_count": null,
   "id": "b0efc0fa",
   "metadata": {},
   "outputs": [],
   "source": [
    "type((a, b))"
   ]
  },
  {
   "cell_type": "markdown",
   "id": "b2829b47",
   "metadata": {},
   "source": [
    "swap:"
   ]
  },
  {
   "cell_type": "code",
   "execution_count": null,
   "id": "2fef6795",
   "metadata": {},
   "outputs": [],
   "source": [
    "a, b = b, a"
   ]
  },
  {
   "cell_type": "code",
   "execution_count": null,
   "id": "ec2100a0",
   "metadata": {},
   "outputs": [],
   "source": [
    "a, b"
   ]
  },
  {
   "cell_type": "markdown",
   "id": "b795d70c",
   "metadata": {},
   "source": [
    "## Lists"
   ]
  },
  {
   "cell_type": "markdown",
   "id": "04568244",
   "metadata": {},
   "source": [
    "So far, we have used lists to specify a sequence. They have advantages of both, arrays and linked lists."
   ]
  },
  {
   "cell_type": "code",
   "execution_count": null,
   "id": "0d75115d",
   "metadata": {},
   "outputs": [],
   "source": [
    "l = ['a', 'b', 'c', 'd', 'e']"
   ]
  },
  {
   "cell_type": "markdown",
   "id": "c1b11d95",
   "metadata": {},
   "source": [
    "Lists are as flexible in their element types as tuples. We can also cast tuples into lists."
   ]
  },
  {
   "cell_type": "code",
   "execution_count": null,
   "id": "19b752a8",
   "metadata": {},
   "outputs": [],
   "source": [
    "l = list(t)\n",
    "l"
   ]
  },
  {
   "cell_type": "code",
   "execution_count": null,
   "id": "70733f2d",
   "metadata": {},
   "outputs": [],
   "source": [
    "type(t), type(l)"
   ]
  },
  {
   "cell_type": "markdown",
   "id": "0ef7f0ef",
   "metadata": {},
   "source": [
    "Index access and slicing work in the same way:"
   ]
  },
  {
   "cell_type": "code",
   "execution_count": null,
   "id": "ca5cf34a",
   "metadata": {},
   "outputs": [],
   "source": [
    "l[0:-1:2]"
   ]
  },
  {
   "cell_type": "code",
   "execution_count": null,
   "id": "c5d2f0aa",
   "metadata": {},
   "outputs": [],
   "source": [
    "len(l)"
   ]
  },
  {
   "cell_type": "markdown",
   "id": "ec4a2019",
   "metadata": {},
   "source": [
    "Lists are mutable! We can use a lot of built-in methods for lists."
   ]
  },
  {
   "cell_type": "code",
   "execution_count": null,
   "id": "10f63e28",
   "metadata": {},
   "outputs": [],
   "source": [
    "print(id(l))"
   ]
  },
  {
   "cell_type": "code",
   "execution_count": null,
   "id": "dd1f7a7f",
   "metadata": {},
   "outputs": [],
   "source": [
    "l.append(5)"
   ]
  },
  {
   "cell_type": "code",
   "execution_count": null,
   "id": "179d2231",
   "metadata": {},
   "outputs": [],
   "source": [
    "len(l)"
   ]
  },
  {
   "cell_type": "code",
   "execution_count": null,
   "id": "0e13cdfe",
   "metadata": {},
   "outputs": [],
   "source": [
    "l.insert(2, 'new')"
   ]
  },
  {
   "cell_type": "code",
   "execution_count": null,
   "id": "d92a98a6",
   "metadata": {},
   "outputs": [],
   "source": [
    "l.remove('a')"
   ]
  },
  {
   "cell_type": "code",
   "execution_count": null,
   "id": "692f7c4e",
   "metadata": {},
   "outputs": [],
   "source": [
    "l += l[:1]"
   ]
  },
  {
   "cell_type": "code",
   "execution_count": null,
   "id": "8381026f",
   "metadata": {},
   "outputs": [],
   "source": [
    "l[-2] = 9"
   ]
  },
  {
   "cell_type": "markdown",
   "id": "5cd51be8",
   "metadata": {},
   "source": [
    "What does list l look like now? Think about it, before you look it up."
   ]
  },
  {
   "cell_type": "code",
   "execution_count": null,
   "id": "b0e87e38",
   "metadata": {},
   "outputs": [],
   "source": []
  },
  {
   "cell_type": "code",
   "execution_count": null,
   "id": "aa1dd55d",
   "metadata": {},
   "outputs": [],
   "source": [
    "print(id(l))"
   ]
  },
  {
   "cell_type": "markdown",
   "id": "76494251",
   "metadata": {},
   "source": [
    "Take a look at other built-in methods, e.g., via l.\\<tab>"
   ]
  },
  {
   "cell_type": "code",
   "execution_count": null,
   "id": "4aea7925",
   "metadata": {},
   "outputs": [],
   "source": []
  },
  {
   "cell_type": "markdown",
   "id": "a34d5ab3",
   "metadata": {},
   "source": [
    "iter and next (often implicitly used)"
   ]
  },
  {
   "cell_type": "code",
   "execution_count": null,
   "id": "4ac84171",
   "metadata": {},
   "outputs": [],
   "source": [
    "iterator = iter(l)"
   ]
  },
  {
   "cell_type": "code",
   "execution_count": null,
   "id": "6ceb4dd2",
   "metadata": {},
   "outputs": [],
   "source": [
    "next(iterator)"
   ]
  },
  {
   "cell_type": "code",
   "execution_count": null,
   "id": "7fa987c4",
   "metadata": {},
   "outputs": [],
   "source": [
    "next(iterator)"
   ]
  },
  {
   "cell_type": "code",
   "execution_count": null,
   "id": "50cf69f3",
   "metadata": {},
   "outputs": [],
   "source": [
    "for item in enumerate(l):\n",
    "    print(item)"
   ]
  },
  {
   "cell_type": "code",
   "execution_count": null,
   "id": "19f6c319",
   "metadata": {},
   "outputs": [],
   "source": [
    "for item in enumerate(l[2:4]):\n",
    "    print(item)"
   ]
  },
  {
   "cell_type": "code",
   "execution_count": null,
   "id": "1ccb9fd7",
   "metadata": {},
   "outputs": [],
   "source": []
  },
  {
   "cell_type": "markdown",
   "id": "68d45c19",
   "metadata": {},
   "source": [
    "## List comprehensions"
   ]
  },
  {
   "cell_type": "markdown",
   "id": "85a0e3b9",
   "metadata": {},
   "source": [
    "Lists are quite expressive! Amongst others, we can use the following abbreviations."
   ]
  },
  {
   "cell_type": "markdown",
   "id": "4b870c25",
   "metadata": {},
   "source": [
    "Instead of"
   ]
  },
  {
   "cell_type": "code",
   "execution_count": null,
   "id": "bb04d535",
   "metadata": {},
   "outputs": [],
   "source": [
    "ones = []\n",
    "for i in range(100):\n",
    "    ones.append(1)"
   ]
  },
  {
   "cell_type": "markdown",
   "id": "d6f3ae67",
   "metadata": {},
   "source": [
    "... we can write:"
   ]
  },
  {
   "cell_type": "code",
   "execution_count": null,
   "id": "18bc495e",
   "metadata": {},
   "outputs": [],
   "source": [
    "ones = [1 for i in range(100)]"
   ]
  },
  {
   "cell_type": "code",
   "execution_count": null,
   "id": "870b678b",
   "metadata": {},
   "outputs": [],
   "source": [
    "print(ones)"
   ]
  },
  {
   "cell_type": "code",
   "execution_count": null,
   "id": "ca671ac8",
   "metadata": {},
   "outputs": [],
   "source": [
    "every_second_squared_number = [a ** 2 for a in range(100) if a % 2 == 0]"
   ]
  },
  {
   "cell_type": "markdown",
   "id": "ecd50cac",
   "metadata": {},
   "source": [
    "What does that do?"
   ]
  },
  {
   "cell_type": "code",
   "execution_count": null,
   "id": "876f55ca",
   "metadata": {},
   "outputs": [],
   "source": [
    "print(every_second_squared_number)"
   ]
  },
  {
   "cell_type": "markdown",
   "id": "b23afede",
   "metadata": {},
   "source": [
    "Caution: one line in python code is does not necessarily run in constant time!"
   ]
  },
  {
   "cell_type": "markdown",
   "id": "09270eb3",
   "metadata": {},
   "source": [
    "### Exercises:"
   ]
  },
  {
   "cell_type": "markdown",
   "id": "e2969829",
   "metadata": {},
   "source": [
    "Can you think of a different way to express the above list of every second squared number?"
   ]
  },
  {
   "cell_type": "code",
   "execution_count": null,
   "id": "e58a7a88",
   "metadata": {},
   "outputs": [],
   "source": []
  },
  {
   "cell_type": "markdown",
   "id": "e383b290",
   "metadata": {},
   "source": [
    "Write a function that uses list comprehensions to return a list of all powers of two up to a given size."
   ]
  },
  {
   "cell_type": "code",
   "execution_count": null,
   "id": "9b34dc45",
   "metadata": {},
   "outputs": [],
   "source": []
  },
  {
   "cell_type": "markdown",
   "id": "800e5477",
   "metadata": {},
   "source": [
    "Write a function that, given a size $m$, uses list comprehensions to return a list of all neighbours of a power of two, i.e., $2^k - 1$ and $2^k + 1$, for $0\\leq k\\leq m$."
   ]
  },
  {
   "cell_type": "code",
   "execution_count": null,
   "id": "b1188713",
   "metadata": {},
   "outputs": [],
   "source": []
  },
  {
   "cell_type": "markdown",
   "id": "0f89f773",
   "metadata": {},
   "source": [
    "Using this, try to write your code for Exercise 4 (all prime numbers with distance 1 to a power of two) with as few lines a possible."
   ]
  },
  {
   "cell_type": "code",
   "execution_count": null,
   "id": "fb1fb0ce",
   "metadata": {},
   "outputs": [],
   "source": []
  },
  {
   "cell_type": "code",
   "execution_count": null,
   "id": "e1bf85cb",
   "metadata": {},
   "outputs": [],
   "source": []
  },
  {
   "cell_type": "code",
   "execution_count": null,
   "id": "3b92e847",
   "metadata": {},
   "outputs": [],
   "source": []
  },
  {
   "cell_type": "markdown",
   "id": "95d60d30",
   "metadata": {},
   "source": [
    "## Sets"
   ]
  },
  {
   "cell_type": "markdown",
   "id": "9a22d0a8",
   "metadata": {},
   "source": [
    "mathmatical sets, unordered, mutable, unique elements, duplicates ignored"
   ]
  },
  {
   "cell_type": "code",
   "execution_count": null,
   "id": "30c232a8",
   "metadata": {},
   "outputs": [],
   "source": [
    "s = {1, 3, 2}"
   ]
  },
  {
   "cell_type": "code",
   "execution_count": null,
   "id": "74c5b79a",
   "metadata": {},
   "outputs": [],
   "source": [
    "print(s)"
   ]
  },
  {
   "cell_type": "code",
   "execution_count": null,
   "id": "e2c5b219",
   "metadata": {},
   "outputs": [],
   "source": [
    "type(s)"
   ]
  },
  {
   "cell_type": "code",
   "execution_count": null,
   "id": "a3ba233e",
   "metadata": {},
   "outputs": [],
   "source": [
    "s.add(2)"
   ]
  },
  {
   "cell_type": "code",
   "execution_count": null,
   "id": "a4169588",
   "metadata": {},
   "outputs": [],
   "source": [
    "s"
   ]
  },
  {
   "cell_type": "markdown",
   "id": "4e2d8bf6",
   "metadata": {},
   "source": [
    "try out the following built-in methods: union (|), intersection (&), difference (-), and symmetric difference (^)"
   ]
  },
  {
   "cell_type": "code",
   "execution_count": null,
   "id": "bc093d07",
   "metadata": {},
   "outputs": [],
   "source": []
  },
  {
   "cell_type": "code",
   "execution_count": null,
   "id": "dabfd57e",
   "metadata": {},
   "outputs": [],
   "source": []
  },
  {
   "cell_type": "code",
   "execution_count": null,
   "id": "99b61333",
   "metadata": {},
   "outputs": [],
   "source": []
  },
  {
   "cell_type": "markdown",
   "id": "cd99b39c",
   "metadata": {},
   "source": [
    "simiar to list comprehensions, we can also use set comprehensions:"
   ]
  },
  {
   "cell_type": "code",
   "execution_count": null,
   "id": "b3a961a8",
   "metadata": {},
   "outputs": [],
   "source": [
    "odd_numbers = {a for a in range(100**2) if a%2 == 1}"
   ]
  },
  {
   "cell_type": "markdown",
   "id": "45504b8c",
   "metadata": {},
   "source": [
    "now we can use set-specific methods:"
   ]
  },
  {
   "cell_type": "code",
   "execution_count": null,
   "id": "2ea2f335",
   "metadata": {},
   "outputs": [],
   "source": [
    "a = set(every_second_squared_number) & odd_numbers\n",
    "a"
   ]
  },
  {
   "cell_type": "code",
   "execution_count": null,
   "id": "e0ee928a",
   "metadata": {},
   "outputs": [],
   "source": [
    "bool(a)"
   ]
  },
  {
   "cell_type": "markdown",
   "id": "b79e1079",
   "metadata": {},
   "source": [
    "Since in the above exercise, we don't care about the order of elements, we can implement the above collection of neighbours of a power of two as a set. How?"
   ]
  },
  {
   "cell_type": "code",
   "execution_count": null,
   "id": "4cac9a63",
   "metadata": {},
   "outputs": [],
   "source": []
  },
  {
   "cell_type": "markdown",
   "id": "717a5338",
   "metadata": {},
   "source": [
    "For many set-related problems, we need to iterate over all possible subsets of a set, i.e., the power set.\n",
    "How can you do that in Python?"
   ]
  },
  {
   "cell_type": "code",
   "execution_count": null,
   "id": "1c33ae9b",
   "metadata": {},
   "outputs": [],
   "source": []
  },
  {
   "cell_type": "markdown",
   "id": "c81b5280",
   "metadata": {},
   "source": [
    "## Dictionaries"
   ]
  },
  {
   "cell_type": "markdown",
   "id": "39342653",
   "metadata": {},
   "source": [
    "everything at once: sets with flexibly indexed elements"
   ]
  },
  {
   "cell_type": "code",
   "execution_count": null,
   "id": "34b73009",
   "metadata": {},
   "outputs": [],
   "source": [
    "house = {'en': 'house', 'ger': 'Haus', 'level': 1, 0: 5, True: 4}"
   ]
  },
  {
   "cell_type": "code",
   "execution_count": null,
   "id": "50ee1fbb",
   "metadata": {},
   "outputs": [],
   "source": [
    "type(house)"
   ]
  },
  {
   "cell_type": "code",
   "execution_count": null,
   "id": "90b3cfe1",
   "metadata": {},
   "outputs": [],
   "source": [
    "print(house)"
   ]
  },
  {
   "cell_type": "code",
   "execution_count": null,
   "id": "128564db",
   "metadata": {},
   "outputs": [],
   "source": [
    "house.keys()"
   ]
  },
  {
   "cell_type": "code",
   "execution_count": null,
   "id": "ab846b01",
   "metadata": {},
   "outputs": [],
   "source": [
    "house.values()"
   ]
  },
  {
   "cell_type": "code",
   "execution_count": null,
   "id": "9162dd0e",
   "metadata": {},
   "outputs": [],
   "source": [
    "house.items()"
   ]
  },
  {
   "cell_type": "code",
   "execution_count": null,
   "id": "5cfeb13e",
   "metadata": {},
   "outputs": [],
   "source": [
    "house['ger']"
   ]
  },
  {
   "cell_type": "code",
   "execution_count": null,
   "id": "9e875914",
   "metadata": {},
   "outputs": [],
   "source": [
    "house.get('ger', 0)"
   ]
  },
  {
   "cell_type": "markdown",
   "id": "a210eb28",
   "metadata": {},
   "source": [
    "editing, adding, and deleting an element via a new key:"
   ]
  },
  {
   "cell_type": "code",
   "execution_count": null,
   "id": "1dd885a0",
   "metadata": {},
   "outputs": [],
   "source": [
    "house[True] = 42"
   ]
  },
  {
   "cell_type": "code",
   "execution_count": null,
   "id": "fa6668c5",
   "metadata": {},
   "outputs": [],
   "source": [
    "house['esp']"
   ]
  },
  {
   "cell_type": "code",
   "execution_count": null,
   "id": "91c0c79a",
   "metadata": {},
   "outputs": [],
   "source": [
    "house.get('esp', 0)"
   ]
  },
  {
   "cell_type": "code",
   "execution_count": null,
   "id": "b1d155cf",
   "metadata": {},
   "outputs": [],
   "source": [
    "house['esp'] = 'casa'"
   ]
  },
  {
   "cell_type": "code",
   "execution_count": null,
   "id": "cb1918be",
   "metadata": {},
   "outputs": [],
   "source": [
    "del(house[0])"
   ]
  },
  {
   "cell_type": "code",
   "execution_count": null,
   "id": "e87076c1",
   "metadata": {},
   "outputs": [],
   "source": [
    "house"
   ]
  },
  {
   "cell_type": "markdown",
   "id": "8a1e094b",
   "metadata": {},
   "source": [
    "different forms of access:"
   ]
  },
  {
   "cell_type": "code",
   "execution_count": null,
   "id": "e490ccf4",
   "metadata": {},
   "outputs": [],
   "source": [
    "for key, value in house.items():\n",
    "    print(key, value, end='; ')\n",
    "    print(f'{key}: {value}', end='; ')\n",
    "    print('{}: {}'.format(key, value))"
   ]
  },
  {
   "cell_type": "code",
   "execution_count": null,
   "id": "42155f5a",
   "metadata": {},
   "outputs": [],
   "source": [
    "for item in enumerate(house):\n",
    "    print(item)"
   ]
  },
  {
   "cell_type": "code",
   "execution_count": null,
   "id": "501a748d",
   "metadata": {},
   "outputs": [],
   "source": [
    "list(house)"
   ]
  },
  {
   "cell_type": "code",
   "execution_count": null,
   "id": "a5c27c34",
   "metadata": {},
   "outputs": [],
   "source": [
    "list(house.items())"
   ]
  },
  {
   "cell_type": "markdown",
   "id": "c05acd7a",
   "metadata": {},
   "source": [
    "We can also use comprehensions for dictionaries:"
   ]
  },
  {
   "cell_type": "code",
   "execution_count": null,
   "id": "fe5fb718",
   "metadata": {},
   "outputs": [],
   "source": [
    "d = {i: 2 * i for i in range(100) if i % 2 == 0}\n",
    "print(d)"
   ]
  },
  {
   "cell_type": "code",
   "execution_count": null,
   "id": "4184d5dd",
   "metadata": {},
   "outputs": [],
   "source": []
  },
  {
   "cell_type": "markdown",
   "id": "cb2eb39b",
   "metadata": {},
   "source": [
    "Discussion: In the above example of a (language) dictionary, we might as well have defined a class Word with different attributes for languages. What are the advantages and disadvantages of both variants?"
   ]
  },
  {
   "cell_type": "code",
   "execution_count": null,
   "id": "d55c352b",
   "metadata": {},
   "outputs": [],
   "source": []
  }
 ],
 "metadata": {
  "kernelspec": {
   "display_name": "Python 3 (ipykernel)",
   "language": "python",
   "name": "python3"
  },
  "language_info": {
   "codemirror_mode": {
    "name": "ipython",
    "version": 3
   },
   "file_extension": ".py",
   "mimetype": "text/x-python",
   "name": "python",
   "nbconvert_exporter": "python",
   "pygments_lexer": "ipython3",
   "version": "3.9.12"
  }
 },
 "nbformat": 4,
 "nbformat_minor": 5
}
