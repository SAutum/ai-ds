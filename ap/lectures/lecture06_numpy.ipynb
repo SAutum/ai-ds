{
 "cells": [
  {
   "cell_type": "markdown",
   "id": "60ddfdcc",
   "metadata": {},
   "source": [
    "# NumPy"
   ]
  },
  {
   "cell_type": "code",
   "execution_count": null,
   "id": "33c0e2eb",
   "metadata": {},
   "outputs": [],
   "source": [
    "import numpy as np"
   ]
  },
  {
   "cell_type": "code",
   "execution_count": null,
   "id": "0561edcf",
   "metadata": {},
   "outputs": [],
   "source": [
    "np.__version__"
   ]
  },
  {
   "cell_type": "code",
   "execution_count": null,
   "id": "f5116661",
   "metadata": {},
   "outputs": [],
   "source": [
    "np?"
   ]
  },
  {
   "cell_type": "markdown",
   "id": "c19f0c24",
   "metadata": {},
   "source": [
    "documentation, book numpy chapter, tutorials http://www.numpy.org"
   ]
  },
  {
   "cell_type": "markdown",
   "id": "c1af137c",
   "metadata": {},
   "source": [
    "## compare list and numpy array"
   ]
  },
  {
   "cell_type": "code",
   "execution_count": null,
   "id": "12de75ef",
   "metadata": {},
   "outputs": [],
   "source": [
    "example_list_int = list(range(10000))\n",
    "example_str = [str(c) for c in example_list_int]\n",
    "example_different_types = [3, True, 'a', 1.2, '\\U0001F914', [1,2,3]]"
   ]
  },
  {
   "cell_type": "code",
   "execution_count": null,
   "id": "8e11ca61",
   "metadata": {},
   "outputs": [],
   "source": [
    "print(type(example_list_int))\n",
    "print(type(example_str))\n",
    "print(type(example_different_types))\n",
    "print(type(example_list_int[0]))\n",
    "print(type(example_str[0]))\n",
    "[type(item) for item in example_different_types]"
   ]
  },
  {
   "cell_type": "code",
   "execution_count": null,
   "id": "2170b041",
   "metadata": {},
   "outputs": [],
   "source": [
    "example_array = np.array(example_list_int)"
   ]
  },
  {
   "cell_type": "code",
   "execution_count": null,
   "id": "5092b631",
   "metadata": {},
   "outputs": [],
   "source": [
    "type(example_array)"
   ]
  },
  {
   "cell_type": "markdown",
   "id": "c009314f",
   "metadata": {},
   "source": [
    "### memory consumption"
   ]
  },
  {
   "cell_type": "code",
   "execution_count": null,
   "id": "05b458fe",
   "metadata": {},
   "outputs": [],
   "source": [
    "import sys\n",
    "\n",
    "sys.getsizeof(example_list_int)"
   ]
  },
  {
   "cell_type": "code",
   "execution_count": null,
   "id": "29a1b6de",
   "metadata": {},
   "outputs": [],
   "source": [
    "sys.getsizeof(example_array)"
   ]
  },
  {
   "cell_type": "code",
   "execution_count": null,
   "id": "dfd7babd",
   "metadata": {},
   "outputs": [],
   "source": [
    "example_array.dtype"
   ]
  },
  {
   "cell_type": "code",
   "execution_count": null,
   "id": "764a0d7d",
   "metadata": {},
   "outputs": [],
   "source": [
    "smaller_array = np.array(range(10000), dtype='int32')"
   ]
  },
  {
   "cell_type": "code",
   "execution_count": null,
   "id": "bfcc26d1",
   "metadata": {},
   "outputs": [],
   "source": [
    "sys.getsizeof(smaller_array)"
   ]
  },
  {
   "cell_type": "code",
   "execution_count": null,
   "id": "1db870a5",
   "metadata": {},
   "outputs": [],
   "source": [
    "float_array = np.array(range(10000), dtype='float32')"
   ]
  },
  {
   "cell_type": "code",
   "execution_count": null,
   "id": "fa2ffae7",
   "metadata": {},
   "outputs": [],
   "source": [
    "sys.getsizeof(float_array)"
   ]
  },
  {
   "cell_type": "code",
   "execution_count": null,
   "id": "e167d150",
   "metadata": {},
   "outputs": [],
   "source": [
    "example_arange = np.arange(10000)\n",
    "example_arange"
   ]
  },
  {
   "cell_type": "code",
   "execution_count": null,
   "id": "84296b2e",
   "metadata": {},
   "outputs": [],
   "source": [
    "sys.getsizeof(example_arange)"
   ]
  },
  {
   "cell_type": "code",
   "execution_count": null,
   "id": "c6da8a38",
   "metadata": {},
   "outputs": [],
   "source": [
    "example_arange.itemsize"
   ]
  },
  {
   "cell_type": "code",
   "execution_count": null,
   "id": "da3880a4",
   "metadata": {
    "scrolled": true
   },
   "outputs": [],
   "source": [
    "a16 = np.array(example_arange, dtype='int16')\n",
    "a16.itemsize"
   ]
  },
  {
   "cell_type": "code",
   "execution_count": null,
   "id": "610463c7",
   "metadata": {},
   "outputs": [],
   "source": [
    "a16.nbytes"
   ]
  },
  {
   "cell_type": "markdown",
   "id": "5e007837",
   "metadata": {},
   "source": [
    "We can save some space, depending on the data type, but only by a small factor. What about time?"
   ]
  },
  {
   "cell_type": "markdown",
   "id": "1e7ae3c2",
   "metadata": {},
   "source": [
    "### time"
   ]
  },
  {
   "cell_type": "code",
   "execution_count": null,
   "id": "36b64b87",
   "metadata": {},
   "outputs": [],
   "source": [
    "def compute_squares_list(l):\n",
    "    squares = list(l)\n",
    "    for index, value in enumerate(l):\n",
    "        squares[index] = value ** 2\n",
    "    return squares"
   ]
  },
  {
   "cell_type": "code",
   "execution_count": null,
   "id": "ed3425d7",
   "metadata": {},
   "outputs": [],
   "source": [
    "r = 10000000\n",
    "%time squares_list = compute_squares_list(list(range(r)))"
   ]
  },
  {
   "cell_type": "code",
   "execution_count": null,
   "id": "f1cf4775",
   "metadata": {},
   "outputs": [],
   "source": [
    "%time squares_list_comprehension = [a ** 2 for a in range(r)]"
   ]
  },
  {
   "cell_type": "code",
   "execution_count": null,
   "id": "2b31f963",
   "metadata": {},
   "outputs": [],
   "source": [
    "def compute_squares_array(a):\n",
    "    squares = np.empty(len(a))\n",
    "    for index, value in enumerate(a):\n",
    "        squares[index] = value ** 2\n",
    "    return squares"
   ]
  },
  {
   "cell_type": "code",
   "execution_count": null,
   "id": "55365a3a",
   "metadata": {},
   "outputs": [],
   "source": [
    "%time squares_array = compute_squares_array(np.arange(r))"
   ]
  },
  {
   "cell_type": "markdown",
   "id": "8af4b981",
   "metadata": {},
   "source": [
    "However, there are fast numpy operations! Details below (see universal functions)"
   ]
  },
  {
   "cell_type": "code",
   "execution_count": null,
   "id": "c2fc6f5b",
   "metadata": {},
   "outputs": [],
   "source": [
    "%time squares_numpy = np.arange(r) ** 2"
   ]
  },
  {
   "cell_type": "markdown",
   "id": "c44b7823",
   "metadata": {},
   "source": [
    "## create arrays and matrices"
   ]
  },
  {
   "cell_type": "markdown",
   "id": "d22180da",
   "metadata": {},
   "source": [
    "multidimensional array: matrix: inner arrays rows, outer arrays columns"
   ]
  },
  {
   "cell_type": "code",
   "execution_count": null,
   "id": "ba98162f",
   "metadata": {},
   "outputs": [],
   "source": [
    "np.array([[0, 1, 2], [3, 4, 5], [6, 7, 8], [9, 10, 11]])"
   ]
  },
  {
   "cell_type": "code",
   "execution_count": null,
   "id": "7997d0ae",
   "metadata": {},
   "outputs": [],
   "source": [
    "np.array([range(i, i + 3) for i in range(0, 10, 3)])"
   ]
  },
  {
   "cell_type": "markdown",
   "id": "3b16a3b6",
   "metadata": {},
   "source": [
    "How do we create this without a list or a for-loop?"
   ]
  },
  {
   "cell_type": "markdown",
   "id": "06d2f6ce",
   "metadata": {},
   "source": [
    "#### Let's start with special forms..."
   ]
  },
  {
   "cell_type": "code",
   "execution_count": null,
   "id": "903d2fa9",
   "metadata": {},
   "outputs": [],
   "source": [
    "np.empty(10)"
   ]
  },
  {
   "cell_type": "code",
   "execution_count": null,
   "id": "921a945d",
   "metadata": {},
   "outputs": [],
   "source": [
    "np.zeros(10, dtype=int)"
   ]
  },
  {
   "cell_type": "code",
   "execution_count": null,
   "id": "dbcdc5f9",
   "metadata": {},
   "outputs": [],
   "source": [
    "np.zeros(10, dtype=bool)"
   ]
  },
  {
   "cell_type": "code",
   "execution_count": null,
   "id": "5d95bd5d",
   "metadata": {},
   "outputs": [],
   "source": [
    "np.ones((3, 5))"
   ]
  },
  {
   "cell_type": "code",
   "execution_count": null,
   "id": "239d9df5",
   "metadata": {},
   "outputs": [],
   "source": [
    "np.ones((3, 5), dtype=np.int16)"
   ]
  },
  {
   "cell_type": "code",
   "execution_count": null,
   "id": "06bb601d",
   "metadata": {},
   "outputs": [],
   "source": [
    "np.full(10, 4)"
   ]
  },
  {
   "cell_type": "code",
   "execution_count": null,
   "id": "b60bc8f6",
   "metadata": {},
   "outputs": [],
   "source": [
    "np.full((20,10), 'spam')"
   ]
  },
  {
   "cell_type": "code",
   "execution_count": null,
   "id": "e56a00de",
   "metadata": {},
   "outputs": [],
   "source": [
    "np.eye(3)"
   ]
  },
  {
   "cell_type": "code",
   "execution_count": null,
   "id": "b4c006fe",
   "metadata": {},
   "outputs": [],
   "source": [
    "np.ones((2, 3, 4), dtype='int')"
   ]
  },
  {
   "cell_type": "markdown",
   "id": "a2eb309f",
   "metadata": {},
   "source": [
    "#### ranges, equidistant sequences, ..."
   ]
  },
  {
   "cell_type": "code",
   "execution_count": null,
   "id": "d07b24b3",
   "metadata": {},
   "outputs": [],
   "source": [
    "np.arange(20)"
   ]
  },
  {
   "cell_type": "code",
   "execution_count": null,
   "id": "dd60f75c",
   "metadata": {},
   "outputs": [],
   "source": [
    "np.arange(3, 20, 4)"
   ]
  },
  {
   "cell_type": "code",
   "execution_count": null,
   "id": "d1c867aa",
   "metadata": {},
   "outputs": [],
   "source": [
    "np.linspace(0, 1, 5)"
   ]
  },
  {
   "cell_type": "markdown",
   "id": "c844e737",
   "metadata": {},
   "source": [
    "#### random arrays"
   ]
  },
  {
   "cell_type": "code",
   "execution_count": null,
   "id": "3dec9d01",
   "metadata": {},
   "outputs": [],
   "source": [
    "np.random.random((4))"
   ]
  },
  {
   "cell_type": "markdown",
   "id": "97161ea6",
   "metadata": {},
   "source": [
    "random: uniform distribution in $[0,1]$, randint(a, b, size): uniform in $[a,b-1]$, normal(a, b, size): $(a,b)$-normal distribution, "
   ]
  },
  {
   "cell_type": "code",
   "execution_count": null,
   "id": "1e81fc63",
   "metadata": {},
   "outputs": [],
   "source": [
    "np.random.randint(-1, 2, (3,4))"
   ]
  },
  {
   "cell_type": "markdown",
   "id": "6b77f39d",
   "metadata": {},
   "source": [
    "Note: These are pseudo-random numbers.. select a seed: init seed(0) for reproducibility. default seed() based on time stamp "
   ]
  },
  {
   "cell_type": "code",
   "execution_count": null,
   "id": "c65d2434",
   "metadata": {},
   "outputs": [],
   "source": [
    "np.random.seed()"
   ]
  },
  {
   "cell_type": "code",
   "execution_count": null,
   "id": "42d19191",
   "metadata": {},
   "outputs": [],
   "source": [
    "np.random.seed(0)"
   ]
  },
  {
   "cell_type": "code",
   "execution_count": null,
   "id": "d0b5c527",
   "metadata": {},
   "outputs": [],
   "source": [
    "np.random.random(4)"
   ]
  },
  {
   "cell_type": "markdown",
   "id": "df1c5cf5",
   "metadata": {},
   "source": [
    "#### reshaping"
   ]
  },
  {
   "cell_type": "code",
   "execution_count": null,
   "id": "2135c768",
   "metadata": {
    "scrolled": true
   },
   "outputs": [],
   "source": [
    "a = np.arange(12)\n",
    "a"
   ]
  },
  {
   "cell_type": "code",
   "execution_count": null,
   "id": "5e159bc0",
   "metadata": {},
   "outputs": [],
   "source": [
    "a = a.reshape(4, 3)\n",
    "a"
   ]
  },
  {
   "cell_type": "markdown",
   "id": "8296077a",
   "metadata": {},
   "source": [
    "#### access numpy arrays by indexing, slicing, ... just like lists"
   ]
  },
  {
   "cell_type": "markdown",
   "id": "ec5d9abf",
   "metadata": {},
   "source": [
    "What are a.shape, a. size, a.ndim, a[2, 1], a[-1, -1], a[:2, 1:3], a[3], a[3, :], a[:, 1]?"
   ]
  },
  {
   "cell_type": "code",
   "execution_count": null,
   "id": "16ba9747",
   "metadata": {},
   "outputs": [],
   "source": [
    "a.shape"
   ]
  },
  {
   "cell_type": "code",
   "execution_count": null,
   "id": "b7b0b10d",
   "metadata": {},
   "outputs": [],
   "source": [
    "a.size"
   ]
  },
  {
   "cell_type": "code",
   "execution_count": null,
   "id": "0cbf741b",
   "metadata": {},
   "outputs": [],
   "source": [
    "a.ndim"
   ]
  },
  {
   "cell_type": "code",
   "execution_count": null,
   "id": "345480c6",
   "metadata": {},
   "outputs": [],
   "source": [
    "np.ones((2, 3, 4)).ndim"
   ]
  },
  {
   "cell_type": "code",
   "execution_count": null,
   "id": "95de5ff6",
   "metadata": {},
   "outputs": [],
   "source": [
    "a[2, 1]"
   ]
  },
  {
   "cell_type": "code",
   "execution_count": null,
   "id": "c3076c94",
   "metadata": {},
   "outputs": [],
   "source": [
    "a[:2, 1:3]"
   ]
  },
  {
   "cell_type": "code",
   "execution_count": null,
   "id": "b398f5df",
   "metadata": {},
   "outputs": [],
   "source": [
    "a[3]"
   ]
  },
  {
   "cell_type": "code",
   "execution_count": null,
   "id": "6069d1b0",
   "metadata": {},
   "outputs": [],
   "source": [
    "a[3, :]"
   ]
  },
  {
   "cell_type": "code",
   "execution_count": null,
   "id": "7dc76680",
   "metadata": {},
   "outputs": [],
   "source": [
    "a[:, 1]"
   ]
  },
  {
   "cell_type": "markdown",
   "id": "055c9c45",
   "metadata": {},
   "source": [
    "Note that in contrast to lists, for np arrays slicing creates views, not copies!"
   ]
  },
  {
   "cell_type": "code",
   "execution_count": null,
   "id": "e04110df",
   "metadata": {},
   "outputs": [],
   "source": [
    "a_slice = a[3, :]\n",
    "a_slice"
   ]
  },
  {
   "cell_type": "code",
   "execution_count": null,
   "id": "c150a592",
   "metadata": {},
   "outputs": [],
   "source": [
    "a_slice[2] = 0\n",
    "a_slice"
   ]
  },
  {
   "cell_type": "code",
   "execution_count": null,
   "id": "4bdcee7a",
   "metadata": {},
   "outputs": [],
   "source": [
    "a"
   ]
  },
  {
   "cell_type": "code",
   "execution_count": null,
   "id": "0230052b",
   "metadata": {},
   "outputs": [],
   "source": [
    "a_slice is a[3, :]"
   ]
  },
  {
   "cell_type": "code",
   "execution_count": null,
   "id": "c472e57e",
   "metadata": {},
   "outputs": [],
   "source": [
    "id(a[3, :])"
   ]
  },
  {
   "cell_type": "code",
   "execution_count": null,
   "id": "ecbb6b4c",
   "metadata": {},
   "outputs": [],
   "source": [
    "id(a_slice)"
   ]
  },
  {
   "cell_type": "code",
   "execution_count": null,
   "id": "bf894896",
   "metadata": {},
   "outputs": [],
   "source": [
    "a_slice_copy = a[3, :].copy()"
   ]
  },
  {
   "cell_type": "code",
   "execution_count": null,
   "id": "308a510f",
   "metadata": {},
   "outputs": [],
   "source": [
    "a_slice_copy is a[3, :]"
   ]
  },
  {
   "cell_type": "code",
   "execution_count": null,
   "id": "aa62c484",
   "metadata": {},
   "outputs": [],
   "source": [
    "a_slice_copy[2] = -1\n",
    "a_slice_copy"
   ]
  },
  {
   "cell_type": "code",
   "execution_count": null,
   "id": "b7259c31",
   "metadata": {},
   "outputs": [],
   "source": [
    "a"
   ]
  },
  {
   "cell_type": "code",
   "execution_count": null,
   "id": "15537b62",
   "metadata": {},
   "outputs": [],
   "source": [
    "a.reshape(a.size, 1)"
   ]
  },
  {
   "cell_type": "code",
   "execution_count": null,
   "id": "19f5d49a",
   "metadata": {},
   "outputs": [],
   "source": [
    "a[np.newaxis, :]"
   ]
  },
  {
   "cell_type": "markdown",
   "id": "8085757e",
   "metadata": {},
   "source": [
    "#### joining and splitting"
   ]
  },
  {
   "cell_type": "code",
   "execution_count": null,
   "id": "15662b90",
   "metadata": {},
   "outputs": [],
   "source": [
    "a = np.arange(1, 4)\n",
    "b = np.arange(4, 7)\n",
    "a, b"
   ]
  },
  {
   "cell_type": "code",
   "execution_count": null,
   "id": "c0f1b86d",
   "metadata": {},
   "outputs": [],
   "source": [
    "np.concatenate([a, b])"
   ]
  },
  {
   "cell_type": "code",
   "execution_count": null,
   "id": "66c46b71",
   "metadata": {},
   "outputs": [],
   "source": [
    "np.concatenate([b, a, a])"
   ]
  },
  {
   "cell_type": "code",
   "execution_count": null,
   "id": "f7ea6a72",
   "metadata": {},
   "outputs": [],
   "source": [
    "a = a[:, np.newaxis]\n",
    "b = b[:, np.newaxis]\n",
    "a, b"
   ]
  },
  {
   "cell_type": "code",
   "execution_count": null,
   "id": "5214cf93",
   "metadata": {},
   "outputs": [],
   "source": [
    "np.concatenate([a, b], axis=0)"
   ]
  },
  {
   "cell_type": "code",
   "execution_count": null,
   "id": "0a3b547f",
   "metadata": {},
   "outputs": [],
   "source": [
    "np.concatenate([a, b], axis=1)"
   ]
  },
  {
   "cell_type": "code",
   "execution_count": null,
   "id": "41140da4",
   "metadata": {},
   "outputs": [],
   "source": [
    "np.vstack([a, b])"
   ]
  },
  {
   "cell_type": "code",
   "execution_count": null,
   "id": "b0d431ab",
   "metadata": {},
   "outputs": [],
   "source": [
    "np.hstack([b, a])"
   ]
  },
  {
   "cell_type": "code",
   "execution_count": null,
   "id": "94ceee11",
   "metadata": {},
   "outputs": [],
   "source": [
    "a = np.arange(10)"
   ]
  },
  {
   "cell_type": "code",
   "execution_count": null,
   "id": "547971e7",
   "metadata": {},
   "outputs": [],
   "source": [
    "np.split(a, [2, 5])"
   ]
  },
  {
   "cell_type": "code",
   "execution_count": null,
   "id": "a298457a",
   "metadata": {},
   "outputs": [],
   "source": [
    "b = np.arange(12).reshape((4, 3))\n",
    "b"
   ]
  },
  {
   "cell_type": "code",
   "execution_count": null,
   "id": "b11ec1ee",
   "metadata": {},
   "outputs": [],
   "source": [
    "first, second, third = np.hsplit(b, [1, 2])\n",
    "print(second)"
   ]
  },
  {
   "cell_type": "code",
   "execution_count": null,
   "id": "8348d890",
   "metadata": {},
   "outputs": [],
   "source": [
    "upper, lower = np.vsplit(b, [2])\n",
    "print(upper)"
   ]
  },
  {
   "cell_type": "code",
   "execution_count": null,
   "id": "75cc27d3",
   "metadata": {},
   "outputs": [],
   "source": [
    "np.dsplit(b[np.newaxis], [1])"
   ]
  },
  {
   "cell_type": "markdown",
   "id": "ed8ff314",
   "metadata": {},
   "source": [
    "## Universal Functions - computation on numpy arrays"
   ]
  },
  {
   "cell_type": "markdown",
   "id": "61333541",
   "metadata": {},
   "source": [
    "Interpretability makes python very flexibly, but also quite slow, e.g. for loops.   vectorised operations are implemented by universal functions - they are much more efficient, especially for repeated calculations."
   ]
  },
  {
   "cell_type": "markdown",
   "id": "8340978d",
   "metadata": {},
   "source": [
    "### array arithmetic functions: unary and binary ufuncs"
   ]
  },
  {
   "cell_type": "markdown",
   "id": "88aed563",
   "metadata": {},
   "source": [
    "What do +, -, *, /, //, **, % and - do?"
   ]
  },
  {
   "cell_type": "code",
   "execution_count": null,
   "id": "38ed2ce6",
   "metadata": {},
   "outputs": [],
   "source": [
    "a = np.arange(4)"
   ]
  },
  {
   "cell_type": "code",
   "execution_count": null,
   "id": "d839c0be",
   "metadata": {},
   "outputs": [],
   "source": [
    "b = a + 5"
   ]
  },
  {
   "cell_type": "code",
   "execution_count": null,
   "id": "0b7f88d8",
   "metadata": {},
   "outputs": [],
   "source": [
    "-b"
   ]
  },
  {
   "cell_type": "code",
   "execution_count": null,
   "id": "009437a2",
   "metadata": {},
   "outputs": [],
   "source": [
    "a + b"
   ]
  },
  {
   "cell_type": "code",
   "execution_count": null,
   "id": "8c6d0a44",
   "metadata": {},
   "outputs": [],
   "source": [
    "np.add(a, b)"
   ]
  },
  {
   "cell_type": "markdown",
   "id": "6a8f7064",
   "metadata": {},
   "source": [
    "further bitwise functions: abs, sin, cos, tan, ..., log, log2, log10, exp, exp2, power, expm1, log1p"
   ]
  },
  {
   "cell_type": "code",
   "execution_count": null,
   "id": "30021095",
   "metadata": {},
   "outputs": [],
   "source": [
    "np.empty(5)"
   ]
  },
  {
   "cell_type": "code",
   "execution_count": null,
   "id": "e85c7b32",
   "metadata": {},
   "outputs": [],
   "source": [
    "a / 5"
   ]
  },
  {
   "cell_type": "code",
   "execution_count": null,
   "id": "53761705",
   "metadata": {},
   "outputs": [],
   "source": [
    "c = np.linspace(0, np.pi, 5)\n",
    "c"
   ]
  },
  {
   "cell_type": "code",
   "execution_count": null,
   "id": "a6bdaa4d",
   "metadata": {},
   "outputs": [],
   "source": [
    "np.sin(c) ** 2 + np.cos(c) ** 2"
   ]
  },
  {
   "cell_type": "markdown",
   "id": "09a23f67",
   "metadata": {},
   "source": [
    "machine precision"
   ]
  },
  {
   "cell_type": "code",
   "execution_count": null,
   "id": "43cd9426",
   "metadata": {},
   "outputs": [],
   "source": [
    "np.log2(c[1:])"
   ]
  },
  {
   "cell_type": "code",
   "execution_count": null,
   "id": "8feea176",
   "metadata": {},
   "outputs": [],
   "source": [
    "np.log(c[1:]) / np.log(2)"
   ]
  },
  {
   "cell_type": "markdown",
   "id": "c791dddf",
   "metadata": {},
   "source": [
    "further special functions: from scipy import special"
   ]
  },
  {
   "cell_type": "markdown",
   "id": "02eff1b8",
   "metadata": {},
   "source": [
    "### Aggregation"
   ]
  },
  {
   "cell_type": "code",
   "execution_count": null,
   "id": "bd90e5a7",
   "metadata": {},
   "outputs": [],
   "source": [
    "a = np.arange(5)\n",
    "sum(a)"
   ]
  },
  {
   "cell_type": "code",
   "execution_count": null,
   "id": "dab89f77",
   "metadata": {},
   "outputs": [],
   "source": [
    "np.add.reduce(a)"
   ]
  },
  {
   "cell_type": "code",
   "execution_count": null,
   "id": "d4356d41",
   "metadata": {},
   "outputs": [],
   "source": [
    "r = np.random.random(10000000)\n",
    "%time sum(r)\n",
    "%time np.add.reduce(r)\n",
    "%time np.sum(r)"
   ]
  },
  {
   "cell_type": "code",
   "execution_count": null,
   "id": "ef7089bf",
   "metadata": {},
   "outputs": [],
   "source": [
    "min(a)"
   ]
  },
  {
   "cell_type": "code",
   "execution_count": null,
   "id": "bc89fef5",
   "metadata": {},
   "outputs": [],
   "source": [
    "max(a)"
   ]
  },
  {
   "cell_type": "markdown",
   "id": "85823028",
   "metadata": {},
   "source": [
    "Caution: these functions are really fast in python, but still require a linear running time depending on the array size"
   ]
  },
  {
   "cell_type": "code",
   "execution_count": null,
   "id": "ac9a04b0",
   "metadata": {},
   "outputs": [],
   "source": [
    "a.sum()"
   ]
  },
  {
   "cell_type": "code",
   "execution_count": null,
   "id": "3b8924f5",
   "metadata": {},
   "outputs": [],
   "source": [
    "a = np.concatenate([a * 2] * 5).reshape(5, 5)"
   ]
  },
  {
   "cell_type": "code",
   "execution_count": null,
   "id": "032c7a57",
   "metadata": {},
   "outputs": [],
   "source": [
    "a"
   ]
  },
  {
   "cell_type": "code",
   "execution_count": null,
   "id": "f3df1ebb",
   "metadata": {},
   "outputs": [],
   "source": [
    "type(a)"
   ]
  },
  {
   "cell_type": "code",
   "execution_count": null,
   "id": "0851d9f9",
   "metadata": {},
   "outputs": [],
   "source": [
    "a = np.arange(5)\n",
    "np.concatenate([a, a, a, a, a])"
   ]
  },
  {
   "cell_type": "code",
   "execution_count": null,
   "id": "d4b2b6cb",
   "metadata": {},
   "outputs": [],
   "source": [
    "np.vstack([a] * 5)"
   ]
  },
  {
   "cell_type": "code",
   "execution_count": null,
   "id": "a300862c",
   "metadata": {},
   "outputs": [],
   "source": [
    "b = np.vstack([a, a, a, a, a])"
   ]
  },
  {
   "cell_type": "code",
   "execution_count": null,
   "id": "dd49c5ea",
   "metadata": {},
   "outputs": [],
   "source": [
    "b.sum()"
   ]
  },
  {
   "cell_type": "code",
   "execution_count": null,
   "id": "5eb537f6",
   "metadata": {},
   "outputs": [],
   "source": [
    "b.sum(axis = 0)"
   ]
  },
  {
   "cell_type": "code",
   "execution_count": null,
   "id": "86502654",
   "metadata": {},
   "outputs": [],
   "source": [
    "b.sum(axis = 1)"
   ]
  },
  {
   "cell_type": "markdown",
   "id": "70a14ed2",
   "metadata": {},
   "source": [
    "## Statistics"
   ]
  },
  {
   "cell_type": "code",
   "execution_count": null,
   "id": "b208736d",
   "metadata": {},
   "outputs": [],
   "source": [
    "x = np.random.random(50)\n",
    "x"
   ]
  },
  {
   "cell_type": "code",
   "execution_count": null,
   "id": "35fd8ec9",
   "metadata": {},
   "outputs": [],
   "source": [
    "x.mean()"
   ]
  },
  {
   "cell_type": "code",
   "execution_count": null,
   "id": "9b666aaa",
   "metadata": {},
   "outputs": [],
   "source": [
    "x.std()"
   ]
  },
  {
   "cell_type": "code",
   "execution_count": null,
   "id": "de40deee",
   "metadata": {},
   "outputs": [],
   "source": [
    "x.var()"
   ]
  },
  {
   "cell_type": "code",
   "execution_count": null,
   "id": "6a3095ed",
   "metadata": {},
   "outputs": [],
   "source": [
    "np.median(x)"
   ]
  },
  {
   "cell_type": "code",
   "execution_count": null,
   "id": "3a834444",
   "metadata": {},
   "outputs": [],
   "source": [
    "np.percentile(x, 50)"
   ]
  },
  {
   "cell_type": "code",
   "execution_count": null,
   "id": "35ba0bef",
   "metadata": {},
   "outputs": [],
   "source": [
    "np.percentile(x, 0)"
   ]
  },
  {
   "cell_type": "code",
   "execution_count": null,
   "id": "4ef40178",
   "metadata": {},
   "outputs": [],
   "source": [
    "np.min(x, 0)"
   ]
  },
  {
   "cell_type": "code",
   "execution_count": null,
   "id": "19e6bd5e",
   "metadata": {},
   "outputs": [],
   "source": [
    "np.percentile(x, 5)"
   ]
  },
  {
   "cell_type": "markdown",
   "id": "00007ab9",
   "metadata": {},
   "source": [
    "binary masks for computations on partial data"
   ]
  },
  {
   "cell_type": "code",
   "execution_count": null,
   "id": "e806522d",
   "metadata": {},
   "outputs": [],
   "source": [
    "x > 0.5"
   ]
  },
  {
   "cell_type": "code",
   "execution_count": null,
   "id": "5fe6f165",
   "metadata": {},
   "outputs": [],
   "source": [
    "x[x > 0.5]"
   ]
  },
  {
   "cell_type": "code",
   "execution_count": null,
   "id": "7b1ff07b",
   "metadata": {},
   "outputs": [],
   "source": [
    "x[x > 0.5].mean()"
   ]
  },
  {
   "cell_type": "code",
   "execution_count": null,
   "id": "c1f1a05a",
   "metadata": {},
   "outputs": [],
   "source": [
    "x[(x < 0.1) | (x > 0.9)]"
   ]
  },
  {
   "cell_type": "code",
   "execution_count": null,
   "id": "55987d77",
   "metadata": {},
   "outputs": [],
   "source": [
    "x[(x < 0.1) | (x > 0.9)].size"
   ]
  },
  {
   "cell_type": "code",
   "execution_count": null,
   "id": "6937b415",
   "metadata": {},
   "outputs": [],
   "source": []
  },
  {
   "cell_type": "code",
   "execution_count": null,
   "id": "7336128f",
   "metadata": {},
   "outputs": [],
   "source": []
  }
 ],
 "metadata": {
  "kernelspec": {
   "display_name": "Python 3 (ipykernel)",
   "language": "python",
   "name": "python3"
  },
  "language_info": {
   "codemirror_mode": {
    "name": "ipython",
    "version": 3
   },
   "file_extension": ".py",
   "mimetype": "text/x-python",
   "name": "python",
   "nbconvert_exporter": "python",
   "pygments_lexer": "ipython3",
   "version": "3.9.18"
  }
 },
 "nbformat": 4,
 "nbformat_minor": 5
}
