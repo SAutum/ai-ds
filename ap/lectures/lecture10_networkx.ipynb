{
 "cells": [
  {
   "cell_type": "markdown",
   "id": "76bec505",
   "metadata": {},
   "source": [
    "# Graphs with NetworkX"
   ]
  },
  {
   "cell_type": "markdown",
   "id": "3cc40b5e",
   "metadata": {},
   "source": [
    "This is a brief introduction into networkx. See also https://networkx.org/documentation/stable"
   ]
  },
  {
   "cell_type": "code",
   "execution_count": null,
   "id": "88b79906",
   "metadata": {},
   "outputs": [],
   "source": [
    "import networkx as nx"
   ]
  },
  {
   "cell_type": "code",
   "execution_count": null,
   "id": "31aca7be",
   "metadata": {},
   "outputs": [],
   "source": [
    "nx?"
   ]
  },
  {
   "cell_type": "markdown",
   "id": "ca2100cf",
   "metadata": {},
   "source": [
    "## (Undirected) Graphs"
   ]
  },
  {
   "cell_type": "markdown",
   "id": "d01ea03c",
   "metadata": {},
   "source": [
    "A graph consists of nodes (or vertices) and edges."
   ]
  },
  {
   "cell_type": "code",
   "execution_count": null,
   "id": "4a54497b",
   "metadata": {},
   "outputs": [],
   "source": [
    "G = nx.Graph()\n",
    "G"
   ]
  },
  {
   "cell_type": "code",
   "execution_count": null,
   "id": "ea4a3450",
   "metadata": {},
   "outputs": [],
   "source": [
    "print(G)"
   ]
  },
  {
   "cell_type": "markdown",
   "id": "9064bb8c",
   "metadata": {},
   "source": [
    "Nodes can be any (hashable) object, added individually or from an iterable collection of objects. Edges can be added individually or from a collection of tuples (so far)."
   ]
  },
  {
   "cell_type": "code",
   "execution_count": null,
   "id": "a3f68e85",
   "metadata": {},
   "outputs": [],
   "source": [
    "G.add_node(1)\n",
    "G.add_nodes_from(['s', 't'])\n",
    "G.add_node('abc')\n",
    "G.add_nodes_from('abc')\n",
    "G.add_edge('s', 'a')\n",
    "G.add_edges_from([('s', 1), (1, 't')])\n",
    "print(G)\n",
    "print(G.nodes)\n",
    "print(G.edges)\n",
    "print(G.adj)"
   ]
  },
  {
   "cell_type": "markdown",
   "id": "c1408ee1",
   "metadata": {},
   "source": [
    "By default this graph is undirected. For directed graphs, weights and other properties see below."
   ]
  },
  {
   "cell_type": "code",
   "execution_count": null,
   "id": "406cc7ef",
   "metadata": {},
   "outputs": [],
   "source": [
    "print(G.number_of_nodes())\n",
    "G.add_node('a')\n",
    "print(G.number_of_nodes())\n",
    "G.remove_node('abc')\n",
    "print(G.number_of_nodes())"
   ]
  },
  {
   "cell_type": "code",
   "execution_count": null,
   "id": "deca1d8c",
   "metadata": {},
   "outputs": [],
   "source": [
    "edge = ('a', 'b')\n",
    "G.add_edge(*edge)\n",
    "edges = [('c', x) for x in G.nodes]\n",
    "G.add_edges_from(edges)\n",
    "print(G.number_of_edges())\n",
    "print(G.edges)\n",
    "G.remove_edge('c', 'c')\n",
    "print(G.number_of_edges())\n",
    "print(G.adj['c'])\n",
    "print(list(G.adj['c']))\n",
    "G.adj"
   ]
  },
  {
   "cell_type": "markdown",
   "id": "dbe14543",
   "metadata": {},
   "source": [
    "We can even add an edge between nodes that don't exist, yet. The new nodes are added to the end of the nodes list. If an edge is removed, the nodes stay in the graph."
   ]
  },
  {
   "cell_type": "code",
   "execution_count": null,
   "id": "b6285a03",
   "metadata": {},
   "outputs": [],
   "source": [
    "G.add_edge(1, 2)\n",
    "print(G.number_of_nodes())\n",
    "G.remove_edge(1, 2)\n",
    "print(G.nodes)\n",
    "G.add_edges_from([('s', 2), (2, 't')])"
   ]
  },
  {
   "cell_type": "markdown",
   "id": "6ec20b2f",
   "metadata": {},
   "source": [
    "### Visualisation"
   ]
  },
  {
   "cell_type": "markdown",
   "id": "73948d1c",
   "metadata": {},
   "source": [
    "In order to draw our graph, networkx is not the the desired tool (according to its own documentation). Look, e.g., for Graphviz etc. However, there is a basic drawing function (using matplotlib). Note that when we repeat this, the graph can look different."
   ]
  },
  {
   "cell_type": "code",
   "execution_count": null,
   "id": "51ed1504",
   "metadata": {},
   "outputs": [],
   "source": [
    "import matplotlib.pyplot as plt\n",
    "nx.draw(G, with_labels=True)"
   ]
  },
  {
   "cell_type": "code",
   "execution_count": null,
   "id": "33486ef9",
   "metadata": {},
   "outputs": [],
   "source": [
    "nx.draw(G, with_labels=True)"
   ]
  },
  {
   "cell_type": "code",
   "execution_count": null,
   "id": "14540a67",
   "metadata": {},
   "outputs": [],
   "source": [
    "colours = ['orange' if node in {'a', 'b', 'c'} else 'violet' for node in G.nodes]\n",
    "sizes = [500 if node in {'s', 't'} else 300 for node in G.nodes]\n",
    "nx.draw(G, with_labels=True, node_size=sizes, node_color=colours, node_shape='h', alpha=0.7)"
   ]
  },
  {
   "cell_type": "markdown",
   "id": "6bc6d527",
   "metadata": {},
   "source": [
    "### Degrees and Substructures"
   ]
  },
  {
   "cell_type": "code",
   "execution_count": null,
   "id": "617a27ff",
   "metadata": {},
   "outputs": [],
   "source": [
    "G.degree"
   ]
  },
  {
   "cell_type": "code",
   "execution_count": null,
   "id": "7db58d64",
   "metadata": {
    "scrolled": true
   },
   "outputs": [],
   "source": [
    "print(G.edges('s'))\n",
    "print(list(nx.neighbors(G, 's')))\n",
    "G.degree['s']"
   ]
  },
  {
   "cell_type": "code",
   "execution_count": null,
   "id": "0dd7644b",
   "metadata": {},
   "outputs": [],
   "source": [
    "nx.degree_histogram(G)"
   ]
  },
  {
   "cell_type": "code",
   "execution_count": null,
   "id": "af8d81e0",
   "metadata": {},
   "outputs": [],
   "source": [
    "S = nx.subgraph(G, [v for v in G.nodes if G.degree[v] > 2])\n",
    "print(G)\n",
    "print(S)\n",
    "nx.draw(S)"
   ]
  },
  {
   "cell_type": "markdown",
   "id": "499da83f",
   "metadata": {},
   "source": [
    "Let's compare graphs:"
   ]
  },
  {
   "cell_type": "code",
   "execution_count": null,
   "id": "b83a71c4",
   "metadata": {},
   "outputs": [],
   "source": [
    "A = nx.Graph([{1, 2}, {1, 3}])\n",
    "B = A"
   ]
  },
  {
   "cell_type": "code",
   "execution_count": null,
   "id": "281f87a5",
   "metadata": {},
   "outputs": [],
   "source": [
    "A == B"
   ]
  },
  {
   "cell_type": "code",
   "execution_count": null,
   "id": "0e55225c",
   "metadata": {},
   "outputs": [],
   "source": [
    "A = nx.Graph([{1, 2}, {1, 3}])\n",
    "B = nx.Graph({1: {2, 3}})"
   ]
  },
  {
   "cell_type": "code",
   "execution_count": null,
   "id": "56d3a7d9",
   "metadata": {},
   "outputs": [],
   "source": [
    "A == B"
   ]
  },
  {
   "cell_type": "code",
   "execution_count": null,
   "id": "45d8b08a",
   "metadata": {},
   "outputs": [],
   "source": [
    "A.edges == B.edges"
   ]
  },
  {
   "cell_type": "code",
   "execution_count": null,
   "id": "c2c0c86c",
   "metadata": {},
   "outputs": [],
   "source": [
    "print(nx.symmetric_difference(A, B).edges)"
   ]
  },
  {
   "cell_type": "code",
   "execution_count": null,
   "id": "395dd942",
   "metadata": {},
   "outputs": [],
   "source": [
    "B = nx.Graph({1: {2}, 2: {3}})"
   ]
  },
  {
   "cell_type": "code",
   "execution_count": null,
   "id": "e36326d8",
   "metadata": {},
   "outputs": [],
   "source": [
    "print(nx.symmetric_difference(A, B).edges)"
   ]
  },
  {
   "cell_type": "markdown",
   "id": "9324a249",
   "metadata": {},
   "source": [
    "Two graphs $G = (V_G, E_G)$ and $H = (V_H, E_H)$ are called isomorphic if for each bijection $f: V_G \\to V_H$ it holds that $\\{u, v\\}$ is an edge in $E_G$ if and only if $\\{f(u), f(v)\\}$ is an edge in $E_H$."
   ]
  },
  {
   "cell_type": "code",
   "execution_count": null,
   "id": "d2a70983",
   "metadata": {},
   "outputs": [],
   "source": [
    "nx.is_isomorphic(A, B)"
   ]
  },
  {
   "cell_type": "code",
   "execution_count": null,
   "id": "20449a62",
   "metadata": {},
   "outputs": [],
   "source": []
  },
  {
   "cell_type": "markdown",
   "id": "b96ec5be",
   "metadata": {},
   "source": [
    "## Directed Graphs"
   ]
  },
  {
   "cell_type": "code",
   "execution_count": null,
   "id": "89a60b60",
   "metadata": {},
   "outputs": [],
   "source": [
    "D = nx.DiGraph()\n",
    "D"
   ]
  },
  {
   "cell_type": "code",
   "execution_count": null,
   "id": "a73527c2",
   "metadata": {},
   "outputs": [],
   "source": [
    "D.add_edges_from([(1, 2), (2, 3), (3, 4)])\n",
    "D.adj"
   ]
  },
  {
   "cell_type": "code",
   "execution_count": null,
   "id": "cee053aa",
   "metadata": {},
   "outputs": [],
   "source": [
    "print(D.edges)"
   ]
  },
  {
   "cell_type": "code",
   "execution_count": null,
   "id": "7dacfc86",
   "metadata": {
    "scrolled": true
   },
   "outputs": [],
   "source": [
    "D.edges == [(1, 2), (2, 3), (3, 4)]"
   ]
  },
  {
   "cell_type": "code",
   "execution_count": null,
   "id": "f51ad5bd",
   "metadata": {},
   "outputs": [],
   "source": [
    "type(D.edges)"
   ]
  },
  {
   "cell_type": "code",
   "execution_count": null,
   "id": "1ddcf93d",
   "metadata": {},
   "outputs": [],
   "source": [
    "list(D.edges) == [(1, 2), (2, 3), (3, 4)]"
   ]
  },
  {
   "cell_type": "code",
   "execution_count": null,
   "id": "dd529e94",
   "metadata": {
    "scrolled": true
   },
   "outputs": [],
   "source": [
    "nx.draw(D)"
   ]
  },
  {
   "cell_type": "code",
   "execution_count": null,
   "id": "ea51763c",
   "metadata": {},
   "outputs": [],
   "source": [
    "D.clear()"
   ]
  },
  {
   "cell_type": "code",
   "execution_count": null,
   "id": "e1056dba",
   "metadata": {},
   "outputs": [],
   "source": [
    "print(D.edges)"
   ]
  },
  {
   "cell_type": "code",
   "execution_count": null,
   "id": "e175bd4b",
   "metadata": {
    "scrolled": false
   },
   "outputs": [],
   "source": [
    "D.add_edges_from([(i, i+1) for i in range(1, 100)])\n",
    "nx.draw(D)"
   ]
  },
  {
   "cell_type": "code",
   "execution_count": null,
   "id": "ce7d370c",
   "metadata": {},
   "outputs": [],
   "source": [
    "D.is_directed()"
   ]
  },
  {
   "cell_type": "code",
   "execution_count": null,
   "id": "0a0df537",
   "metadata": {
    "scrolled": false
   },
   "outputs": [],
   "source": [
    "U = D.to_undirected()\n",
    "nx.draw(U, nodelist=[v for v in range(1, 10)], edgelist=[(i, i+1) for i in range(1, 10)])"
   ]
  },
  {
   "cell_type": "code",
   "execution_count": null,
   "id": "a9a134d0",
   "metadata": {},
   "outputs": [],
   "source": [
    "U.is_directed()"
   ]
  },
  {
   "cell_type": "code",
   "execution_count": null,
   "id": "86af45bd",
   "metadata": {},
   "outputs": [],
   "source": [
    "DU = U.to_directed()\n",
    "nx.draw(DU)"
   ]
  },
  {
   "cell_type": "code",
   "execution_count": null,
   "id": "c2488ece",
   "metadata": {},
   "outputs": [],
   "source": [
    "DU.is_directed()"
   ]
  },
  {
   "cell_type": "code",
   "execution_count": null,
   "id": "663b6c5d",
   "metadata": {},
   "outputs": [],
   "source": [
    "print(list(D.successors(5)))\n",
    "print(list(DU.successors(5)))"
   ]
  },
  {
   "cell_type": "code",
   "execution_count": null,
   "id": "3e508f44",
   "metadata": {
    "scrolled": true
   },
   "outputs": [],
   "source": [
    "print(D.degree(5))\n",
    "print(DU.degree(5))\n",
    "print(D.in_degree(5))\n",
    "print(D.out_degree(5))"
   ]
  },
  {
   "cell_type": "code",
   "execution_count": null,
   "id": "51274789",
   "metadata": {},
   "outputs": [],
   "source": []
  },
  {
   "cell_type": "code",
   "execution_count": null,
   "id": "a2b9d9b2",
   "metadata": {},
   "outputs": [],
   "source": []
  },
  {
   "cell_type": "code",
   "execution_count": null,
   "id": "6d423ec4",
   "metadata": {},
   "outputs": [],
   "source": []
  },
  {
   "cell_type": "markdown",
   "id": "9961f445",
   "metadata": {},
   "source": [
    "## Special Graphs and Graph Properties"
   ]
  },
  {
   "cell_type": "markdown",
   "id": "5a624716",
   "metadata": {},
   "source": [
    "There are lots of built-in methods to verify certain graph properties and to construct graphs that fulfil these properties. For instance, graph D above is structured as a path."
   ]
  },
  {
   "cell_type": "code",
   "execution_count": null,
   "id": "e554bb30",
   "metadata": {},
   "outputs": [],
   "source": [
    "nx.is_path(D, D.nodes)"
   ]
  },
  {
   "cell_type": "code",
   "execution_count": null,
   "id": "46f5776b",
   "metadata": {},
   "outputs": [],
   "source": [
    "P = nx.path_graph(30)\n",
    "print(P.edges)"
   ]
  },
  {
   "cell_type": "code",
   "execution_count": null,
   "id": "11929755",
   "metadata": {},
   "outputs": [],
   "source": [
    "C = nx.cycle_graph(50)"
   ]
  },
  {
   "cell_type": "code",
   "execution_count": null,
   "id": "739f710b",
   "metadata": {},
   "outputs": [],
   "source": [
    "nx.draw(P)"
   ]
  },
  {
   "cell_type": "code",
   "execution_count": null,
   "id": "b858feff",
   "metadata": {},
   "outputs": [],
   "source": [
    "nx.draw(C)"
   ]
  },
  {
   "cell_type": "code",
   "execution_count": null,
   "id": "e7d3563a",
   "metadata": {},
   "outputs": [],
   "source": [
    "nx.draw_circular(C)"
   ]
  },
  {
   "cell_type": "code",
   "execution_count": null,
   "id": "432ae11f",
   "metadata": {},
   "outputs": [],
   "source": [
    "K = nx.complete_graph(10)\n",
    "nx.draw(K)"
   ]
  },
  {
   "cell_type": "markdown",
   "id": "bd3e710c",
   "metadata": {},
   "source": [
    "A graph is called bipartite, if its vertex set can be partitioned into two sets such that all edges have one vertex in one set and one vertex in the other set."
   ]
  },
  {
   "cell_type": "code",
   "execution_count": null,
   "id": "6e7c89c2",
   "metadata": {
    "scrolled": false
   },
   "outputs": [],
   "source": [
    "B = nx.complete_bipartite_graph(5, 5)\n",
    "nx.draw(B)"
   ]
  },
  {
   "cell_type": "code",
   "execution_count": null,
   "id": "ca5203fb",
   "metadata": {
    "scrolled": true
   },
   "outputs": [],
   "source": [
    "nx.is_bipartite(B)"
   ]
  },
  {
   "cell_type": "markdown",
   "id": "21a8da5e",
   "metadata": {},
   "source": [
    "A graph is called planar if it can be drawn on the plane without crossing edges."
   ]
  },
  {
   "cell_type": "code",
   "execution_count": null,
   "id": "f1ce329e",
   "metadata": {},
   "outputs": [],
   "source": [
    "nx.check_planarity(B, counterexample=True)"
   ]
  },
  {
   "cell_type": "code",
   "execution_count": null,
   "id": "479c9f71",
   "metadata": {},
   "outputs": [],
   "source": [
    "is_planar, counterexample = nx.check_planarity(B, counterexample=True)\n",
    "counterexample.edges"
   ]
  },
  {
   "cell_type": "code",
   "execution_count": null,
   "id": "3edd6399",
   "metadata": {},
   "outputs": [],
   "source": [
    "while not is_planar:\n",
    "    B.remove_edge(*list(counterexample.edges)[0])\n",
    "    is_planar, counterexample = nx.check_planarity(B, counterexample=True)"
   ]
  },
  {
   "cell_type": "code",
   "execution_count": null,
   "id": "b7de3b53",
   "metadata": {},
   "outputs": [],
   "source": [
    "nx.draw(B)"
   ]
  },
  {
   "cell_type": "code",
   "execution_count": null,
   "id": "bf1b4226",
   "metadata": {},
   "outputs": [],
   "source": [
    "nx.draw_planar(B)"
   ]
  },
  {
   "cell_type": "code",
   "execution_count": null,
   "id": "01f127dc",
   "metadata": {},
   "outputs": [],
   "source": []
  },
  {
   "cell_type": "markdown",
   "id": "1e400f8f",
   "metadata": {},
   "source": [
    "A graph is called regular if each vertex has the same degree.\n",
    "A graph is called 3-regular if each vertex has a degree of exactly 3."
   ]
  },
  {
   "cell_type": "code",
   "execution_count": null,
   "id": "88145a40",
   "metadata": {},
   "outputs": [],
   "source": [
    "nx.is_regular(K)"
   ]
  },
  {
   "cell_type": "code",
   "execution_count": null,
   "id": "4632c048",
   "metadata": {},
   "outputs": [],
   "source": [
    "R = nx.random_regular_graph(3, 6)\n",
    "nx.draw(R)"
   ]
  },
  {
   "cell_type": "markdown",
   "id": "3813f26f",
   "metadata": {},
   "source": [
    "### Exercise:\n",
    "a) Find all 3-regular (undirected) graphs with 6 vertices\n",
    "(up to isomorphism)\n",
    "\n",
    "b) Which of the graphs are planar? Which are bipartite?\n",
    "\n",
    "c) Provide an argument of why there aren't any 3-regular\n",
    "graphs with an odd number of vertices."
   ]
  },
  {
   "cell_type": "code",
   "execution_count": null,
   "id": "18fd4b16",
   "metadata": {},
   "outputs": [],
   "source": []
  },
  {
   "cell_type": "code",
   "execution_count": null,
   "id": "c049d8f8",
   "metadata": {},
   "outputs": [],
   "source": []
  },
  {
   "cell_type": "code",
   "execution_count": null,
   "id": "599489af",
   "metadata": {},
   "outputs": [],
   "source": []
  },
  {
   "cell_type": "markdown",
   "id": "58284603",
   "metadata": {},
   "source": [
    "There are many other graph properties and lots of ways to check graph properties. Moreover, there are lots of ways to generate random or specific graphs with certain properties. "
   ]
  },
  {
   "cell_type": "code",
   "execution_count": null,
   "id": "c2a10f1c",
   "metadata": {},
   "outputs": [],
   "source": []
  },
  {
   "cell_type": "code",
   "execution_count": null,
   "id": "05c8981b",
   "metadata": {},
   "outputs": [],
   "source": []
  },
  {
   "cell_type": "markdown",
   "id": "1b0b8bf0",
   "metadata": {},
   "source": [
    "## Weights and other Attributes"
   ]
  },
  {
   "cell_type": "markdown",
   "id": "9ddd5002",
   "metadata": {},
   "source": [
    "Graphs can also have attributes auch as weights attached to nodes or edges."
   ]
  },
  {
   "cell_type": "code",
   "execution_count": null,
   "id": "611ed9cc",
   "metadata": {},
   "outputs": [],
   "source": [
    "import datetime"
   ]
  },
  {
   "cell_type": "code",
   "execution_count": null,
   "id": "142c7b78",
   "metadata": {},
   "outputs": [],
   "source": [
    "edge = ('a', 'b', {'weight': 3})\n",
    "edgelist = [edge]\n",
    "W = nx.Graph(edgelist)\n",
    "W.graph['time'] = datetime.datetime.now()\n",
    "W.add_node('s', weight=17)\n",
    "W.nodes['a']['weight'] = 5\n",
    "W.nodes['a']['visited'] = False\n",
    "W.add_node('s', visited=True)\n",
    "W.add_edges_from([('s', 'a'), ('s', 'b')], weight=1)\n",
    "W.edges['s', 'a']['weight'] = 2\n",
    "W['s']['a']['weight'] = 4\n",
    "print(W)\n",
    "print(W.adj)"
   ]
  },
  {
   "cell_type": "code",
   "execution_count": null,
   "id": "a2be58a7",
   "metadata": {},
   "outputs": [],
   "source": [
    "node_weights = nx.get_node_attributes(W, 'weight')\n",
    "edge_weights = nx.get_edge_attributes(W, 'weight')"
   ]
  },
  {
   "cell_type": "code",
   "execution_count": null,
   "id": "93d2faef",
   "metadata": {},
   "outputs": [],
   "source": [
    "node_weights"
   ]
  },
  {
   "cell_type": "code",
   "execution_count": null,
   "id": "a32b96e1",
   "metadata": {},
   "outputs": [],
   "source": [
    "edge_weights"
   ]
  },
  {
   "cell_type": "code",
   "execution_count": null,
   "id": "c09a674b",
   "metadata": {},
   "outputs": [],
   "source": [
    "nx.draw(W, with_labels=True, labels=node_weights)\n",
    "nx.draw_networkx_edge_labels(W, pos=nx.spring_layout(W), edge_labels=edge_weights)"
   ]
  },
  {
   "cell_type": "markdown",
   "id": "5a519517",
   "metadata": {},
   "source": [
    "There are different ways to access the attribute information."
   ]
  },
  {
   "cell_type": "code",
   "execution_count": null,
   "id": "756743f0",
   "metadata": {},
   "outputs": [],
   "source": [
    "print(W.edges['s', 'a']['weight'])\n",
    "print(W['s']['a']['weight'])\n",
    "W.edges['s', 'a']['weight'] is W['s']['a']['weight']"
   ]
  },
  {
   "cell_type": "code",
   "execution_count": null,
   "id": "c460e962",
   "metadata": {},
   "outputs": [],
   "source": [
    "print(nx.get_edge_attributes(W, 'weight'))\n",
    "print(W.adj.items())\n",
    "W.edges.data('weight')"
   ]
  },
  {
   "cell_type": "code",
   "execution_count": null,
   "id": "cce802a9",
   "metadata": {},
   "outputs": [],
   "source": [
    "print(W.nodes.data())\n",
    "print(nx.get_node_attributes(W, 'weight'))"
   ]
  },
  {
   "cell_type": "code",
   "execution_count": null,
   "id": "90aed1a1",
   "metadata": {},
   "outputs": [],
   "source": [
    "min(nx.get_edge_attributes(W, 'weight').values())"
   ]
  },
  {
   "cell_type": "code",
   "execution_count": null,
   "id": "059edfd3",
   "metadata": {},
   "outputs": [],
   "source": []
  },
  {
   "cell_type": "markdown",
   "id": "73c16e8f",
   "metadata": {},
   "source": [
    "## Graph Algorithms"
   ]
  },
  {
   "cell_type": "markdown",
   "id": "f7ab609f",
   "metadata": {},
   "source": [
    "### Exercise:\n",
    "Implement the algorithm from Exercise Sheet 10 to determine if all connected components of an undirected, unweighted graph are smaller than a given number of vertices."
   ]
  },
  {
   "cell_type": "code",
   "execution_count": null,
   "id": "87b51802",
   "metadata": {},
   "outputs": [],
   "source": []
  },
  {
   "cell_type": "code",
   "execution_count": null,
   "id": "255042d9",
   "metadata": {},
   "outputs": [],
   "source": []
  },
  {
   "cell_type": "code",
   "execution_count": null,
   "id": "9a0e4dbf",
   "metadata": {},
   "outputs": [],
   "source": []
  },
  {
   "cell_type": "code",
   "execution_count": null,
   "id": "55f2eca4",
   "metadata": {},
   "outputs": [],
   "source": []
  },
  {
   "cell_type": "markdown",
   "id": "77166428",
   "metadata": {},
   "source": [
    "There are also many built-in methods for graph algorithms. In particular, take a look at the algorithms from the lecture like BFS"
   ]
  },
  {
   "cell_type": "code",
   "execution_count": null,
   "id": "dd64e756",
   "metadata": {},
   "outputs": [],
   "source": [
    "T = nx.bfs_tree(G, 's')\n",
    "T.edges"
   ]
  },
  {
   "cell_type": "code",
   "execution_count": null,
   "id": "7e2f59f0",
   "metadata": {
    "scrolled": true
   },
   "outputs": [],
   "source": [
    "list(nx.bfs_edges(G, 's'))"
   ]
  },
  {
   "cell_type": "markdown",
   "id": "d26a8843",
   "metadata": {},
   "source": [
    "Which information can we obtain from this? What do the following methods do?"
   ]
  },
  {
   "cell_type": "code",
   "execution_count": null,
   "id": "05331229",
   "metadata": {},
   "outputs": [],
   "source": []
  },
  {
   "cell_type": "code",
   "execution_count": null,
   "id": "85a65af9",
   "metadata": {},
   "outputs": [],
   "source": [
    "nx.shortest_path?"
   ]
  },
  {
   "cell_type": "code",
   "execution_count": null,
   "id": "b803d32d",
   "metadata": {},
   "outputs": [],
   "source": []
  },
  {
   "cell_type": "code",
   "execution_count": null,
   "id": "62c809e5",
   "metadata": {},
   "outputs": [],
   "source": [
    "nx.single_source_shortest_path?"
   ]
  },
  {
   "cell_type": "code",
   "execution_count": null,
   "id": "fabf7cf7",
   "metadata": {},
   "outputs": [],
   "source": []
  },
  {
   "cell_type": "code",
   "execution_count": null,
   "id": "0e6603c2",
   "metadata": {},
   "outputs": [],
   "source": [
    "nx.single_source_dijkstra_path_length?"
   ]
  },
  {
   "cell_type": "code",
   "execution_count": null,
   "id": "2fdaf2b4",
   "metadata": {},
   "outputs": [],
   "source": []
  },
  {
   "cell_type": "code",
   "execution_count": null,
   "id": "e00cd67d",
   "metadata": {},
   "outputs": [],
   "source": [
    "nx.dijkstra_predecessor_and_distance?"
   ]
  },
  {
   "cell_type": "code",
   "execution_count": null,
   "id": "489aed40",
   "metadata": {},
   "outputs": [],
   "source": [
    "nx.dijkstra_predecessor_and_distance(G, 's')"
   ]
  },
  {
   "cell_type": "code",
   "execution_count": null,
   "id": "7c3759aa",
   "metadata": {},
   "outputs": [],
   "source": [
    "nx.minimum_spanning_tree?"
   ]
  },
  {
   "cell_type": "code",
   "execution_count": null,
   "id": "50a18005",
   "metadata": {},
   "outputs": [],
   "source": []
  }
 ],
 "metadata": {
  "kernelspec": {
   "display_name": "Python 3 (ipykernel)",
   "language": "python",
   "name": "python3"
  },
  "language_info": {
   "codemirror_mode": {
    "name": "ipython",
    "version": 3
   },
   "file_extension": ".py",
   "mimetype": "text/x-python",
   "name": "python",
   "nbconvert_exporter": "python",
   "pygments_lexer": "ipython3",
   "version": "3.9.12"
  }
 },
 "nbformat": 4,
 "nbformat_minor": 5
}
