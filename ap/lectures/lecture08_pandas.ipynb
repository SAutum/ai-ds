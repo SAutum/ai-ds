{
 "cells": [
  {
   "cell_type": "markdown",
   "id": "7ab1a909",
   "metadata": {},
   "source": [
    "# pandas"
   ]
  },
  {
   "cell_type": "markdown",
   "id": "19c7a2c5",
   "metadata": {},
   "source": [
    "Information based on former lecture material, the 'Python Data Science Handbook', and new examples"
   ]
  },
  {
   "cell_type": "markdown",
   "id": "13edd41b",
   "metadata": {},
   "source": [
    "use cases: Data management, data manipulation, incomplete data, ..."
   ]
  },
  {
   "cell_type": "markdown",
   "id": "de5973de",
   "metadata": {},
   "source": [
    "## Series"
   ]
  },
  {
   "cell_type": "code",
   "execution_count": null,
   "id": "c77afec0",
   "metadata": {},
   "outputs": [],
   "source": [
    "import numpy as np\n",
    "import pandas as pd"
   ]
  },
  {
   "cell_type": "code",
   "execution_count": null,
   "id": "90919d7e",
   "metadata": {},
   "outputs": [],
   "source": [
    "pd?"
   ]
  },
  {
   "cell_type": "code",
   "execution_count": null,
   "id": "a202d7a0",
   "metadata": {},
   "outputs": [],
   "source": [
    "pd."
   ]
  },
  {
   "cell_type": "markdown",
   "id": "43449c2a",
   "metadata": {},
   "source": [
    "pandas Series object: one-dimensional array of indexed data"
   ]
  },
  {
   "cell_type": "code",
   "execution_count": null,
   "id": "13a7c85d",
   "metadata": {},
   "outputs": [],
   "source": [
    "numbers_data = pd.Series([0.1, 0.2, 0.3, 0.4, 0.5])\n",
    "print(numbers_data)"
   ]
  },
  {
   "cell_type": "markdown",
   "id": "a1f87e78",
   "metadata": {},
   "source": [
    "A series consists of an index and a numpy array."
   ]
  },
  {
   "cell_type": "code",
   "execution_count": null,
   "id": "cbec8731",
   "metadata": {},
   "outputs": [],
   "source": [
    "print(type(numbers_data))\n",
    "print(type(numbers_data.index))\n",
    "print(numbers_data.index)\n",
    "print(type(numbers_data.values))\n",
    "print(numbers_data.values)"
   ]
  },
  {
   "cell_type": "markdown",
   "id": "f36a7283",
   "metadata": {},
   "source": [
    "Here, we can access the data in the array via the range index."
   ]
  },
  {
   "cell_type": "code",
   "execution_count": null,
   "id": "4ef543fa",
   "metadata": {},
   "outputs": [],
   "source": [
    "print(numbers_data[0])\n",
    "print(numbers_data[3])"
   ]
  },
  {
   "cell_type": "markdown",
   "id": "642a192b",
   "metadata": {},
   "source": [
    "A range index is only one option. We can also define a different index to access our data via more intuitive keys. This works similar to dictionaries."
   ]
  },
  {
   "cell_type": "code",
   "execution_count": null,
   "id": "6359cb0a",
   "metadata": {
    "scrolled": false
   },
   "outputs": [],
   "source": [
    "numbers_data = pd.Series(np.linspace(0.1, 0.5, 5), index=['A', 'B', 'C', 'D', 'E'])\n",
    "print(numbers_data)\n",
    "print(numbers_data['A'])"
   ]
  },
  {
   "cell_type": "code",
   "execution_count": null,
   "id": "88af2c89",
   "metadata": {},
   "outputs": [],
   "source": [
    "print(numbers_data.index)"
   ]
  },
  {
   "cell_type": "code",
   "execution_count": null,
   "id": "93dbee87",
   "metadata": {
    "scrolled": false
   },
   "outputs": [],
   "source": [
    "numbers_data.index = [4, 8, 15, 16, 23]\n",
    "print(numbers_data)\n",
    "print(numbers_data[4])"
   ]
  },
  {
   "cell_type": "markdown",
   "id": "e1da7e21",
   "metadata": {},
   "source": [
    "Try out other indices and data examples."
   ]
  },
  {
   "cell_type": "code",
   "execution_count": null,
   "id": "01450fa1",
   "metadata": {},
   "outputs": [],
   "source": [
    "pd.Series?"
   ]
  },
  {
   "cell_type": "code",
   "execution_count": null,
   "id": "4a91529e",
   "metadata": {},
   "outputs": [],
   "source": []
  },
  {
   "cell_type": "markdown",
   "id": "1cc8bfe7",
   "metadata": {},
   "source": [
    "Note that due to the similar key: value structure, we can create a Series from a dictionary."
   ]
  },
  {
   "cell_type": "code",
   "execution_count": null,
   "id": "3c12ca44",
   "metadata": {},
   "outputs": [],
   "source": [
    "python_ds_book_dict = {'author': 'J. VanderPlas', 'title': 'Python Data Science Handbook', 'publisher': 'O\\'Reilly', 'year': 2016}\n",
    "python_ds_book_dict"
   ]
  },
  {
   "cell_type": "code",
   "execution_count": null,
   "id": "848bad87",
   "metadata": {},
   "outputs": [],
   "source": [
    "python_ds_book_series = pd.Series(python_ds_book_dict, dtype = 'str')\n",
    "python_ds_book_series"
   ]
  },
  {
   "cell_type": "markdown",
   "id": "9ceb276e",
   "metadata": {},
   "source": [
    "Note that the dictionary values can contain different types. The numpy array, however, should be of a fixed type. Above this is interpreted as type object in general. If the dictionary only contains numerical values, this will be a numerical numpy array as we are used to."
   ]
  },
  {
   "cell_type": "code",
   "execution_count": null,
   "id": "8d88327c",
   "metadata": {},
   "outputs": [],
   "source": []
  },
  {
   "cell_type": "code",
   "execution_count": null,
   "id": "6a9d8e88",
   "metadata": {},
   "outputs": [],
   "source": []
  },
  {
   "cell_type": "markdown",
   "id": "67e4bc3a",
   "metadata": {},
   "source": [
    "## DataFrames"
   ]
  },
  {
   "cell_type": "markdown",
   "id": "0c7b86b9",
   "metadata": {},
   "source": [
    "Data Frames are a two-dimensional generalisation of a Series. Can be seen as a sort of indexed 2-dim numpy array, or a fixed-type 2-dim dictionary."
   ]
  },
  {
   "cell_type": "code",
   "execution_count": null,
   "id": "e9faedbb",
   "metadata": {},
   "outputs": [],
   "source": [
    "apalg_in_progress = {'Course': 58,\n",
    "                     'Exercise Sheets': 55,\n",
    "                     'Quiz 1': 43,\n",
    "                     'Quiz 2': 37,\n",
    "                     'Quiz 3': 28,\n",
    "                     'Quiz 4': 31,\n",
    "                     'Quiz 5': 24,\n",
    "                     'Quiz 6': 20,\n",
    "                     'Mini Project': 20}\n",
    "\n",
    "apalg_passed = {'Course': 0,\n",
    "                'Exercise Sheets': 39,\n",
    "                'Quiz 1': 42,\n",
    "                'Quiz 2': 31,\n",
    "                'Quiz 3': 25,\n",
    "                'Quiz 4': 30,\n",
    "                'Quiz 5': 21,\n",
    "                'Quiz 6': 18,\n",
    "                'Mini Project': 0}"
   ]
  },
  {
   "cell_type": "markdown",
   "id": "a87e53bd",
   "metadata": {},
   "source": [
    "So far, we can create two Series from these two dictionaries"
   ]
  },
  {
   "cell_type": "code",
   "execution_count": null,
   "id": "417bd3d5",
   "metadata": {},
   "outputs": [],
   "source": [
    "in_progress = pd.Series(apalg_in_progress, dtype='int16')\n",
    "passed = pd.Series(apalg_passed, dtype='int16')\n",
    "\n",
    "print(\"Learning in progress:\\n\")\n",
    "print(in_progress)\n",
    "print(\"\\nLearning progress -- numbers passed:\\n\")\n",
    "print(passed)"
   ]
  },
  {
   "cell_type": "markdown",
   "id": "bda9d38d",
   "metadata": {},
   "source": [
    "To comprise the information, get a better overview, and have more options to work with, we can create a data frame."
   ]
  },
  {
   "cell_type": "code",
   "execution_count": null,
   "id": "ab3cdd8b",
   "metadata": {},
   "outputs": [],
   "source": [
    "learning_progress = pd.DataFrame({'in progress': in_progress, 'passed': passed})\n",
    "learning_progress"
   ]
  },
  {
   "cell_type": "markdown",
   "id": "d7477d80",
   "metadata": {},
   "source": [
    "or directly from the dictionary:"
   ]
  },
  {
   "cell_type": "code",
   "execution_count": null,
   "id": "486e107c",
   "metadata": {},
   "outputs": [],
   "source": [
    "learning_progress = pd.DataFrame({'in progress': apalg_in_progress, 'passed': apalg_passed})\n",
    "learning_progress"
   ]
  },
  {
   "cell_type": "markdown",
   "id": "2e0c3286",
   "metadata": {},
   "source": [
    "Let's take a closer look at the structure."
   ]
  },
  {
   "cell_type": "code",
   "execution_count": null,
   "id": "8b50d05b",
   "metadata": {},
   "outputs": [],
   "source": [
    "tmp1 = {'in progress': in_progress, 'passed': passed}\n",
    "print(type(tmp1))\n",
    "print(type(tmp1['in progress']))\n",
    "print(type(tmp1['passed']))"
   ]
  },
  {
   "cell_type": "code",
   "execution_count": null,
   "id": "859025e1",
   "metadata": {},
   "outputs": [],
   "source": [
    "tmp2 = {'in progress': apalg_in_progress, 'passed': apalg_passed}\n",
    "print(type(tmp2))\n",
    "print(type(tmp2['in progress']))\n",
    "print(type(tmp2['passed']))"
   ]
  },
  {
   "cell_type": "markdown",
   "id": "6c18a760",
   "metadata": {},
   "source": [
    "That means, tmp1 is a dictionary of two Series, and tmp2 a dictionary of two dictionaries. In both cases the result is a Data Frame of Series."
   ]
  },
  {
   "cell_type": "code",
   "execution_count": null,
   "id": "fc41ef7c",
   "metadata": {
    "scrolled": false
   },
   "outputs": [],
   "source": [
    "print(type(learning_progress))\n",
    "print(type(learning_progress['in progress']))\n",
    "print(type(learning_progress['passed']))"
   ]
  },
  {
   "cell_type": "markdown",
   "id": "6f08ac04",
   "metadata": {},
   "source": [
    "A first approach to access the data is via indices as for dictionaries."
   ]
  },
  {
   "cell_type": "code",
   "execution_count": null,
   "id": "33af52a7",
   "metadata": {},
   "outputs": [],
   "source": [
    "print(tmp2['passed']['Quiz 1'])\n",
    "print(learning_progress['passed']['Quiz 1'])"
   ]
  },
  {
   "cell_type": "markdown",
   "id": "d629bef5",
   "metadata": {},
   "source": [
    " However, we can handle data in a more concised way with DataFrames (more compact, efficient, and other functionality)."
   ]
  },
  {
   "cell_type": "code",
   "execution_count": null,
   "id": "4077873f",
   "metadata": {
    "scrolled": true
   },
   "outputs": [],
   "source": [
    "print(learning_progress.values)\n",
    "print(type(learning_progress.values))"
   ]
  },
  {
   "cell_type": "code",
   "execution_count": null,
   "id": "9926e3b9",
   "metadata": {},
   "outputs": [],
   "source": [
    "print(learning_progress.size)\n",
    "print(learning_progress.shape)"
   ]
  },
  {
   "cell_type": "markdown",
   "id": "ca8ae969",
   "metadata": {},
   "source": [
    "There is one common index that indicates the rows."
   ]
  },
  {
   "cell_type": "code",
   "execution_count": null,
   "id": "4e76bdc5",
   "metadata": {},
   "outputs": [],
   "source": [
    "print(learning_progress.index)\n",
    "print(type(learning_progress.index))"
   ]
  },
  {
   "cell_type": "markdown",
   "id": "d6e2cf4a",
   "metadata": {},
   "source": [
    "There is a second index that indicates the columns."
   ]
  },
  {
   "cell_type": "code",
   "execution_count": null,
   "id": "970f4baf",
   "metadata": {
    "scrolled": true
   },
   "outputs": [],
   "source": [
    "print(learning_progress.columns)\n",
    "print(type(learning_progress.columns)) "
   ]
  },
  {
   "cell_type": "code",
   "execution_count": null,
   "id": "d1c66c02",
   "metadata": {},
   "outputs": [],
   "source": []
  },
  {
   "cell_type": "markdown",
   "id": "7dd200d4",
   "metadata": {},
   "source": [
    "As stated above there are two perspectives: a DataFrame as a generalization of a two-dimensional NumPy array with row and column indices; or a table from a dictionary with the advantages of a NumPy array. A DataFrame can be created from both perspectives."
   ]
  },
  {
   "cell_type": "code",
   "execution_count": null,
   "id": "ea97faf7",
   "metadata": {},
   "outputs": [],
   "source": [
    "A = np.random.randint(1, 5, (3,3))\n",
    "print(A)\n",
    "\n",
    "data_from_matrix = pd.DataFrame(A, \n",
    "                                columns=['col1', 'col2', 'col3'],\n",
    "                                index=['row1', 'row2', 'row3'])\n",
    "data_from_matrix"
   ]
  },
  {
   "cell_type": "code",
   "execution_count": null,
   "id": "a9307ac4",
   "metadata": {
    "scrolled": true
   },
   "outputs": [],
   "source": [
    "D = [{'a': 3 * i, 'b': 3*i + 1, 'c': 3*i + 2} for i in range(3)]\n",
    "print(D)\n",
    "\n",
    "data_from_list_of_dict = pd.DataFrame(D)\n",
    "data_from_list_of_dict"
   ]
  },
  {
   "cell_type": "markdown",
   "id": "7f57afb9",
   "metadata": {},
   "source": [
    "We can also create a data frame directly from an external file, for example a csv table."
   ]
  },
  {
   "cell_type": "code",
   "execution_count": null,
   "id": "7098f554",
   "metadata": {},
   "outputs": [],
   "source": [
    "test_data = pd.read_csv('test_data.csv')\n",
    "test_data"
   ]
  },
  {
   "cell_type": "code",
   "execution_count": null,
   "id": "a503c40b",
   "metadata": {
    "scrolled": true
   },
   "outputs": [],
   "source": [
    "test_data.index"
   ]
  },
  {
   "cell_type": "markdown",
   "id": "3737cd14",
   "metadata": {},
   "source": [
    "We might want to change the index to the first column."
   ]
  },
  {
   "cell_type": "code",
   "execution_count": null,
   "id": "f06c6499",
   "metadata": {
    "scrolled": false
   },
   "outputs": [],
   "source": [
    "test_data = pd.read_csv('test_data.csv', index_col='rows')\n",
    "test_data"
   ]
  },
  {
   "cell_type": "code",
   "execution_count": null,
   "id": "23a67ef9",
   "metadata": {},
   "outputs": [],
   "source": [
    "test_data.index"
   ]
  },
  {
   "cell_type": "markdown",
   "id": "3ecf7f85",
   "metadata": {},
   "source": [
    "consider the format of the csv file!"
   ]
  },
  {
   "cell_type": "code",
   "execution_count": null,
   "id": "50c82f7d",
   "metadata": {},
   "outputs": [],
   "source": [
    "test_data = pd.read_csv('test_data_semicolon.csv')\n",
    "test_data"
   ]
  },
  {
   "cell_type": "code",
   "execution_count": null,
   "id": "27f0c756",
   "metadata": {
    "scrolled": false
   },
   "outputs": [],
   "source": [
    "pd.read_csv('test_data_semicolon.csv', delimiter=';')"
   ]
  },
  {
   "cell_type": "markdown",
   "id": "fb24d5f4",
   "metadata": {},
   "source": [
    "... and write data back into a file (e.g. csv)"
   ]
  },
  {
   "cell_type": "code",
   "execution_count": null,
   "id": "97e3f516",
   "metadata": {},
   "outputs": [],
   "source": [
    "data_from_list_of_dict.to_csv('test_data_new.csv')"
   ]
  },
  {
   "cell_type": "code",
   "execution_count": null,
   "id": "2d3868ee",
   "metadata": {},
   "outputs": [],
   "source": []
  },
  {
   "cell_type": "markdown",
   "id": "b001c1b7",
   "metadata": {},
   "source": [
    "Note that missing data ca be handled. See below."
   ]
  },
  {
   "cell_type": "code",
   "execution_count": null,
   "id": "1f09a3cc",
   "metadata": {},
   "outputs": [],
   "source": [
    "data1 = {'a': 1, 'b': 2}\n",
    "data2 = {'b': 4, 'c': 3}\n",
    "\n",
    "pd.DataFrame([data1, data2], index=['data 1', 'data 2'])"
   ]
  },
  {
   "cell_type": "code",
   "execution_count": null,
   "id": "93037fdb",
   "metadata": {},
   "outputs": [],
   "source": []
  },
  {
   "cell_type": "markdown",
   "id": "c53b0188",
   "metadata": {},
   "source": [
    "## The Pandas Index\n",
    "So far, we have seen indices as keys to describe columns and rows. Let's take a closer look at what they are capable of."
   ]
  },
  {
   "cell_type": "code",
   "execution_count": null,
   "id": "a4dcbcfd",
   "metadata": {},
   "outputs": [],
   "source": [
    "index = pd.Index([4, 8, 15, 16, 23, 42])\n",
    "print(index)"
   ]
  },
  {
   "cell_type": "markdown",
   "id": "8db4adc8",
   "metadata": {},
   "source": [
    "This Index has similar properties to a NumPy array."
   ]
  },
  {
   "cell_type": "code",
   "execution_count": null,
   "id": "778ee56e",
   "metadata": {},
   "outputs": [],
   "source": [
    "print(\"index.size =\", index.size)\n",
    "print(\"index.shape =\", index.shape)\n",
    "print(\"index.ndim =\", index.ndim)\n",
    "print(\"index.dtype =\", index.dtype)"
   ]
  },
  {
   "cell_type": "markdown",
   "id": "4bb7ca25",
   "metadata": {},
   "source": [
    "To access parts of an Index, we can use the indexing and slicing notation known from NumPy."
   ]
  },
  {
   "cell_type": "code",
   "execution_count": null,
   "id": "e412a3a9",
   "metadata": {},
   "outputs": [],
   "source": [
    "print(\"index[2] =\", index[2])\n",
    "print(\"index[3:] =\", index[3:])\n",
    "print(\"*index[3:] =\", *index[3:])"
   ]
  },
  {
   "cell_type": "markdown",
   "id": "db92804c",
   "metadata": {},
   "source": [
    "However, note that it is immutable."
   ]
  },
  {
   "cell_type": "code",
   "execution_count": null,
   "id": "796bc939",
   "metadata": {},
   "outputs": [],
   "source": [
    "index[3] = 103"
   ]
  },
  {
   "cell_type": "markdown",
   "id": "078d36a1",
   "metadata": {},
   "source": [
    "Moreover, a Pandas Index allows set operations, e.g., to join data sets. Note, however, that they are ordered."
   ]
  },
  {
   "cell_type": "markdown",
   "id": "dceb841e",
   "metadata": {},
   "source": [
    "Note that while the most concepts from the handbook remain valid, some operations are now deprecated. For instance, instead of index & other, use index.intersection(other)."
   ]
  },
  {
   "cell_type": "code",
   "execution_count": null,
   "id": "bb2529c2",
   "metadata": {
    "scrolled": true
   },
   "outputs": [],
   "source": [
    "index = pd.Index([1, 2, 3, 5, 4])\n",
    "other = pd.Index([7, 4, 3, 11])\n",
    "\n",
    "print(\"Intersection:\", index.intersection(other))\n",
    "print(\"Intersection:\", *index.intersection(other))\n",
    "print(\"Union:\", *index.union(other))\n",
    "print(\"Difference:\", *index.difference(other))\n",
    "print(\"Symmetric difference:\", *(index.symmetric_difference(other)))"
   ]
  },
  {
   "cell_type": "markdown",
   "id": "7e679a24",
   "metadata": {},
   "source": [
    "## Indexing a Series"
   ]
  },
  {
   "cell_type": "markdown",
   "id": "e6effbb2",
   "metadata": {},
   "source": [
    "An Index is now the underlying structure to set up a (one-dimensional) Series and (two-dimensional) DataFrame. Let's take a closer look."
   ]
  },
  {
   "cell_type": "code",
   "execution_count": null,
   "id": "49bacc70",
   "metadata": {},
   "outputs": [],
   "source": [
    "numbers_data = pd.Series(np.linspace(0.1, 0.5, 5), index=index)\n",
    "print(numbers_data)\n",
    "print(id(numbers_data))\n",
    "print(id(index))\n",
    "print(id(numbers_data.index))"
   ]
  },
  {
   "cell_type": "markdown",
   "id": "03ef7dbf",
   "metadata": {},
   "source": [
    "While an index itself is immutable, a Series can be extended with a new key like a dictionary. A new index is created."
   ]
  },
  {
   "cell_type": "code",
   "execution_count": null,
   "id": "4a0fd8dc",
   "metadata": {},
   "outputs": [],
   "source": [
    "numbers_data[6] = 0.6\n",
    "print(numbers_data)\n",
    "print(numbers_data.index)\n",
    "print(id(numbers_data))\n",
    "print(id(index))\n",
    "print(id(numbers_data.index))"
   ]
  },
  {
   "cell_type": "markdown",
   "id": "82200613",
   "metadata": {},
   "source": [
    "We can obtain some information similar to a dictionary..."
   ]
  },
  {
   "cell_type": "code",
   "execution_count": null,
   "id": "2602763b",
   "metadata": {},
   "outputs": [],
   "source": [
    "6 in numbers_data"
   ]
  },
  {
   "cell_type": "code",
   "execution_count": null,
   "id": "d8cc8a3d",
   "metadata": {},
   "outputs": [],
   "source": [
    "numbers_data.keys()"
   ]
  },
  {
   "cell_type": "code",
   "execution_count": null,
   "id": "9c37c91d",
   "metadata": {
    "scrolled": true
   },
   "outputs": [],
   "source": [
    "list(numbers_data.items())"
   ]
  },
  {
   "cell_type": "markdown",
   "id": "ac16a5d8",
   "metadata": {},
   "source": [
    "... and others like a NumPy array (because the Index is ordered). Let's begin with an alphabetical index and distinguish different access types."
   ]
  },
  {
   "cell_type": "code",
   "execution_count": null,
   "id": "3eb77d83",
   "metadata": {},
   "outputs": [],
   "source": [
    "numbers_data.index = ['A', 'B', 'C', 'D', 'E', 'F']\n",
    "numbers_data"
   ]
  },
  {
   "cell_type": "markdown",
   "id": "4c88fa6a",
   "metadata": {},
   "source": [
    "### Explicit Access\n",
    "Slicing: Caution: in contrast to the range notion, the last index is included!"
   ]
  },
  {
   "cell_type": "code",
   "execution_count": null,
   "id": "02ebce87",
   "metadata": {},
   "outputs": [],
   "source": [
    "print(numbers_data[:'C'])\n",
    "print(numbers_data['B':'D'])"
   ]
  },
  {
   "cell_type": "markdown",
   "id": "5ae50f7c",
   "metadata": {},
   "source": [
    "Fancy Indexing:"
   ]
  },
  {
   "cell_type": "code",
   "execution_count": null,
   "id": "242cb3cd",
   "metadata": {
    "scrolled": false
   },
   "outputs": [],
   "source": [
    "print(numbers_data[['B','D','F']])"
   ]
  },
  {
   "cell_type": "markdown",
   "id": "392a9e33",
   "metadata": {},
   "source": [
    "Masking:"
   ]
  },
  {
   "cell_type": "code",
   "execution_count": null,
   "id": "a6799872",
   "metadata": {},
   "outputs": [],
   "source": [
    "print(numbers_data[numbers_data > .3])"
   ]
  },
  {
   "cell_type": "markdown",
   "id": "d0b4452b",
   "metadata": {},
   "source": [
    "### Implicit Access"
   ]
  },
  {
   "cell_type": "markdown",
   "id": "f66d040a",
   "metadata": {},
   "source": [
    "Remember that each index also has an implicit index from 0 to its length - 1. We can use this to access data implicitly."
   ]
  },
  {
   "cell_type": "markdown",
   "id": "9a8d677c",
   "metadata": {},
   "source": [
    "Caution: now, for slicing, the last index is excluded!"
   ]
  },
  {
   "cell_type": "code",
   "execution_count": null,
   "id": "07656b72",
   "metadata": {},
   "outputs": [],
   "source": [
    "print(numbers_data[:2])\n",
    "print(numbers_data[1:3])\n",
    "print(numbers_data[[1, 3, 5]])"
   ]
  },
  {
   "cell_type": "code",
   "execution_count": null,
   "id": "40b2d4eb",
   "metadata": {},
   "outputs": [],
   "source": []
  },
  {
   "cell_type": "markdown",
   "id": "da58d9e9",
   "metadata": {},
   "source": [
    "So, what happens if we a numerical index?"
   ]
  },
  {
   "cell_type": "code",
   "execution_count": null,
   "id": "c85834f9",
   "metadata": {},
   "outputs": [],
   "source": [
    "numbers_data.index = [1, 2, 3, 4, 5, 6]\n",
    "print(numbers_data[1])\n",
    "print(numbers_data[1:])\n",
    "print(numbers_data[1:3])"
   ]
  },
  {
   "cell_type": "markdown",
   "id": "f9bd486b",
   "metadata": {},
   "source": [
    "Caution! the first case [1] uses the *explicit* index 1! Slicing, however, uses the *implicit* indices (excluding the last entry)."
   ]
  },
  {
   "cell_type": "markdown",
   "id": "ad8692e6",
   "metadata": {},
   "source": [
    "This calls for confusion, errors and misunderstandings!"
   ]
  },
  {
   "cell_type": "markdown",
   "id": "9c5b2118",
   "metadata": {},
   "source": [
    "The common practice around this is to use the so-called Indexers *loc* (for the explicit index) and *iloc* (for the implicit index)."
   ]
  },
  {
   "cell_type": "code",
   "execution_count": null,
   "id": "6bef4262",
   "metadata": {},
   "outputs": [],
   "source": [
    "print(numbers_data.loc[1])\n",
    "print(numbers_data.iloc[1])\n",
    "\n",
    "print(numbers_data.loc[1:3])\n",
    "print(numbers_data.iloc[1:3])\n",
    "\n",
    "print(numbers_data.loc[[1, 3, 5]])\n",
    "print(numbers_data.iloc[[1, 3, 5]])"
   ]
  },
  {
   "cell_type": "code",
   "execution_count": null,
   "id": "22f33061",
   "metadata": {},
   "outputs": [],
   "source": [
    "numbers_data.loc"
   ]
  },
  {
   "cell_type": "code",
   "execution_count": null,
   "id": "4ee6a6f2",
   "metadata": {},
   "outputs": [],
   "source": [
    "numbers_data.loc.obj"
   ]
  },
  {
   "cell_type": "code",
   "execution_count": null,
   "id": "83651383",
   "metadata": {
    "scrolled": true
   },
   "outputs": [],
   "source": [
    "numbers_data.loc[:]"
   ]
  },
  {
   "cell_type": "code",
   "execution_count": null,
   "id": "5f8a2fd9",
   "metadata": {},
   "outputs": [],
   "source": [
    "numbers_data.loc[1:6]"
   ]
  },
  {
   "cell_type": "code",
   "execution_count": null,
   "id": "cf52224a",
   "metadata": {
    "scrolled": true
   },
   "outputs": [],
   "source": [
    "numbers_data.iloc[0:6]"
   ]
  },
  {
   "cell_type": "code",
   "execution_count": null,
   "id": "5ead92f4",
   "metadata": {},
   "outputs": [],
   "source": []
  },
  {
   "cell_type": "code",
   "execution_count": null,
   "id": "564ced95",
   "metadata": {},
   "outputs": [],
   "source": []
  },
  {
   "cell_type": "markdown",
   "id": "0bdc2adb",
   "metadata": {},
   "source": [
    "## Indexing a DataFrames"
   ]
  },
  {
   "cell_type": "code",
   "execution_count": null,
   "id": "d79c2139",
   "metadata": {},
   "outputs": [],
   "source": [
    "learning_progress"
   ]
  },
  {
   "cell_type": "code",
   "execution_count": null,
   "id": "91136120",
   "metadata": {},
   "outputs": [],
   "source": [
    "print(learning_progress['in progress']['Course'])"
   ]
  },
  {
   "cell_type": "code",
   "execution_count": null,
   "id": "da1e7847",
   "metadata": {},
   "outputs": [],
   "source": [
    "print(learning_progress['in progress'])\n",
    "print(learning_progress.passed)\n",
    "print(learning_progress.values[0])"
   ]
  },
  {
   "cell_type": "markdown",
   "id": "608c6d8e",
   "metadata": {},
   "source": [
    "main point of confusion: single index: sometimes rows (slicing), sometimes columns (one index)"
   ]
  },
  {
   "cell_type": "markdown",
   "id": "0668d799",
   "metadata": {},
   "source": [
    "TODO: slicing, loc vs iloc; add a column"
   ]
  },
  {
   "cell_type": "markdown",
   "id": "9149643b",
   "metadata": {},
   "source": []
  },
  {
   "cell_type": "code",
   "execution_count": null,
   "id": "ea7d62c4",
   "metadata": {},
   "outputs": [],
   "source": [
    "print(learning_progress.loc['Quiz 1':'Quiz 3', :'in progress'])"
   ]
  },
  {
   "cell_type": "code",
   "execution_count": null,
   "id": "e03b80ef",
   "metadata": {},
   "outputs": [],
   "source": [
    "print(learning_progress.iloc[2:5, :1])"
   ]
  },
  {
   "cell_type": "code",
   "execution_count": null,
   "id": "0a9bdaf1",
   "metadata": {},
   "outputs": [],
   "source": []
  },
  {
   "cell_type": "code",
   "execution_count": null,
   "id": "075fe8a5",
   "metadata": {},
   "outputs": [],
   "source": []
  },
  {
   "cell_type": "code",
   "execution_count": null,
   "id": "2fbad3ce",
   "metadata": {},
   "outputs": [],
   "source": []
  },
  {
   "cell_type": "markdown",
   "id": "91e2c85d",
   "metadata": {},
   "source": [
    "# Pandas time series\n",
    "TODO"
   ]
  },
  {
   "cell_type": "code",
   "execution_count": null,
   "id": "a56a3a23",
   "metadata": {},
   "outputs": [],
   "source": []
  }
 ],
 "metadata": {
  "kernelspec": {
   "display_name": "Python 3 (ipykernel)",
   "language": "python",
   "name": "python3"
  },
  "language_info": {
   "codemirror_mode": {
    "name": "ipython",
    "version": 3
   },
   "file_extension": ".py",
   "mimetype": "text/x-python",
   "name": "python",
   "nbconvert_exporter": "python",
   "pygments_lexer": "ipython3",
   "version": "3.9.18"
  }
 },
 "nbformat": 4,
 "nbformat_minor": 5
}
