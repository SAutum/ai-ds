{
 "cells": [
  {
   "cell_type": "markdown",
   "id": "6f8d06ff",
   "metadata": {},
   "source": [
    "# Object-Oriented Programming"
   ]
  },
  {
   "cell_type": "markdown",
   "id": "c4a40052",
   "metadata": {},
   "source": [
    "What is an object?"
   ]
  },
  {
   "cell_type": "markdown",
   "id": "42ac952a",
   "metadata": {},
   "source": [
    "todo: text examples.."
   ]
  },
  {
   "cell_type": "code",
   "execution_count": null,
   "id": "44618b7a",
   "metadata": {},
   "outputs": [],
   "source": [
    "x = 5"
   ]
  },
  {
   "cell_type": "code",
   "execution_count": null,
   "id": "a2861351",
   "metadata": {
    "scrolled": true
   },
   "outputs": [],
   "source": [
    "type(x)"
   ]
  },
  {
   "cell_type": "code",
   "execution_count": null,
   "id": "d90f0a2f",
   "metadata": {},
   "outputs": [],
   "source": [
    "isinstance(x, int)"
   ]
  },
  {
   "cell_type": "code",
   "execution_count": null,
   "id": "fdf3ae03",
   "metadata": {},
   "outputs": [],
   "source": [
    "x.bit_length()"
   ]
  },
  {
   "cell_type": "code",
   "execution_count": null,
   "id": "3de90f55",
   "metadata": {},
   "outputs": [],
   "source": [
    "x.denominator"
   ]
  },
  {
   "cell_type": "code",
   "execution_count": null,
   "id": "5af1f8a8",
   "metadata": {},
   "outputs": [],
   "source": [
    "A = [3, 1, 2]"
   ]
  },
  {
   "cell_type": "code",
   "execution_count": null,
   "id": "de6bd84e",
   "metadata": {},
   "outputs": [],
   "source": [
    "A.sort()\n",
    "A"
   ]
  },
  {
   "cell_type": "code",
   "execution_count": null,
   "id": "5409157e",
   "metadata": {},
   "outputs": [],
   "source": [
    "A."
   ]
  },
  {
   "cell_type": "markdown",
   "id": "670b1a1c",
   "metadata": {},
   "source": [
    "## Classes, Methods, Attributes, & Instances"
   ]
  },
  {
   "cell_type": "code",
   "execution_count": null,
   "id": "0c5499de",
   "metadata": {},
   "outputs": [],
   "source": [
    "class Course:\n",
    "    \n",
    "    def __init__(self, title, semester):\n",
    "        self.title = title\n",
    "        self.semester = semester\n",
    "    \n",
    "    def __str__(self):\n",
    "        return f\"{self.title} takes place in {self.semester}\""
   ]
  },
  {
   "cell_type": "code",
   "execution_count": null,
   "id": "3cd34f4e",
   "metadata": {},
   "outputs": [],
   "source": [
    "apalg23 = Course(\"Advance Programming and Algorithms Part I\", \"Winter 23/24\")\n",
    "apalg24 = Course(\"Advance Programming and Algorithms Part II\", \"Summer 24\")"
   ]
  },
  {
   "cell_type": "code",
   "execution_count": null,
   "id": "d26c26e8",
   "metadata": {},
   "outputs": [],
   "source": [
    "apalg23"
   ]
  },
  {
   "cell_type": "code",
   "execution_count": null,
   "id": "e574236f",
   "metadata": {},
   "outputs": [],
   "source": [
    "print(apalg23)"
   ]
  },
  {
   "cell_type": "code",
   "execution_count": null,
   "id": "e4560eac",
   "metadata": {},
   "outputs": [],
   "source": [
    "apalg23.semester"
   ]
  },
  {
   "cell_type": "code",
   "execution_count": null,
   "id": "0fed61c0",
   "metadata": {},
   "outputs": [],
   "source": [
    "class semester:\n",
    "    \n",
    "    def __init__(self, season, year):\n",
    "        self.season = season\n",
    "        self.year = year\n",
    "    \n",
    "    def __lt__(self, other):\n",
    "        return ((self.year < other.year)\n",
    "                or ((self.year == other.year)\n",
    "                    and (self.season == \"summer\")\n",
    "                    and (other.season == \"winter\")))"
   ]
  },
  {
   "cell_type": "code",
   "execution_count": null,
   "id": "c65284aa",
   "metadata": {},
   "outputs": [],
   "source": [
    "apalg23 = Course(\"Advance Programming and Algorithms Part I\", semester(\"winter\", 2023))\n",
    "apalg24 = Course(\"Advance Programming and Algorithms Part II\", semester(\"summer\", 2024))"
   ]
  },
  {
   "cell_type": "code",
   "execution_count": null,
   "id": "274a6671",
   "metadata": {},
   "outputs": [],
   "source": [
    "apalg23.semester < apalg24.semester"
   ]
  },
  {
   "cell_type": "code",
   "execution_count": null,
   "id": "6e624a3d",
   "metadata": {},
   "outputs": [],
   "source": [
    "print(apalg23)"
   ]
  },
  {
   "cell_type": "markdown",
   "id": "c8776f44",
   "metadata": {},
   "source": [
    "How can this string be repaired to human-readable text?"
   ]
  },
  {
   "cell_type": "markdown",
   "id": "7d048313",
   "metadata": {},
   "source": [
    "### Exercise:"
   ]
  },
  {
   "cell_type": "markdown",
   "id": "773fb4ee",
   "metadata": {},
   "source": [
    "Add further course methods, e.g., is_earlier_than that can check whether a course takes place earlier than another. Practice with this example: Which other methods are useful? Which other attributes?"
   ]
  },
  {
   "cell_type": "code",
   "execution_count": null,
   "id": "ac6c62c2",
   "metadata": {},
   "outputs": [],
   "source": [
    "class Course:\n",
    "    \n",
    "    def __init__(self, title, semester):\n",
    "        self.title = title\n",
    "        self.semester = semester\n",
    "    \n",
    "    def __str__(self):\n",
    "        return f\"{self.title} takes place in {self.semester}\"\n",
    "    \n",
    "    def is_earlier_than(self, other):\n",
    "        pass"
   ]
  },
  {
   "cell_type": "code",
   "execution_count": null,
   "id": "81f84316",
   "metadata": {},
   "outputs": [],
   "source": [
    "assert apalg23.is_earlier_than(apalg24) == True"
   ]
  },
  {
   "cell_type": "code",
   "execution_count": null,
   "id": "1e44ce1a",
   "metadata": {},
   "outputs": [],
   "source": [
    "apalg23 = Course(\"Advance Programming and Algorithms Part I\", semester(\"winter\", 2023))\n",
    "apalg24 = Course(\"Advance Programming and Algorithms Part II\", semester(\"summer\", 2024))"
   ]
  },
  {
   "cell_type": "code",
   "execution_count": null,
   "id": "354e355a",
   "metadata": {},
   "outputs": [],
   "source": [
    "assert apalg23.is_earlier_than(apalg24) == True"
   ]
  },
  {
   "cell_type": "markdown",
   "id": "b8138d98",
   "metadata": {},
   "source": [
    "## Inheritance and Polymorphism"
   ]
  },
  {
   "cell_type": "markdown",
   "id": "e8730e4c",
   "metadata": {},
   "source": [
    "everything in Python inherits from Object.."
   ]
  },
  {
   "cell_type": "code",
   "execution_count": null,
   "id": "87a40e9d",
   "metadata": {},
   "outputs": [],
   "source": [
    "class Something:\n",
    "    \n",
    "    pass"
   ]
  },
  {
   "cell_type": "code",
   "execution_count": null,
   "id": "8fe74843",
   "metadata": {},
   "outputs": [],
   "source": [
    "a = Something()"
   ]
  },
  {
   "cell_type": "code",
   "execution_count": null,
   "id": "5b410568",
   "metadata": {},
   "outputs": [],
   "source": [
    "print(a)"
   ]
  },
  {
   "cell_type": "code",
   "execution_count": null,
   "id": "f7c5857f",
   "metadata": {},
   "outputs": [],
   "source": [
    "help(object)"
   ]
  },
  {
   "cell_type": "code",
   "execution_count": null,
   "id": "ebe736c8",
   "metadata": {},
   "outputs": [],
   "source": [
    "class Lecture(Course):\n",
    "    \n",
    "    def __init__(self, title, semester, room):\n",
    "        self.room = room\n",
    "        super().__init__(title, semester)\n",
    "    \n",
    "    \n",
    "class Seminar(Course):\n",
    "    \n",
    "    def __init__(self, title, semester, room, participants=15):\n",
    "        self.room = room\n",
    "        self.participants = participants\n",
    "        super().__init__(title, semester)\n",
    "    \n",
    "    def __str__(self):\n",
    "        return f\"{self.title} is a seminar...\"\n",
    "    \n",
    "    def add_participants(self, other_seminar):\n",
    "        return self.participants + other_seminar.participants\n",
    "    \n",
    "    def __add__(self, other_seminar):\n",
    "        return self.participants + other_seminar.participants"
   ]
  },
  {
   "cell_type": "code",
   "execution_count": null,
   "id": "644b9ca7",
   "metadata": {},
   "outputs": [],
   "source": [
    "a = Seminar(\"a\", semester(\"winter\", 2023), \"SR 33\", 10)\n",
    "b = Seminar(\"b\", semester(\"winter\", 2023), \"SR 33\")"
   ]
  },
  {
   "cell_type": "code",
   "execution_count": null,
   "id": "413ce58e",
   "metadata": {},
   "outputs": [],
   "source": [
    "a.add_participants(b)"
   ]
  },
  {
   "cell_type": "code",
   "execution_count": null,
   "id": "5bd2f0ef",
   "metadata": {},
   "outputs": [],
   "source": [
    "a.__add__(b)"
   ]
  },
  {
   "cell_type": "code",
   "execution_count": null,
   "id": "a26fc4ea",
   "metadata": {},
   "outputs": [],
   "source": [
    "a + b"
   ]
  },
  {
   "cell_type": "markdown",
   "id": "c5664e69",
   "metadata": {},
   "source": [
    "Which properties does the class Lecture inherit from the class Course? Which methods are available for which type of course format? What is the difference between add_participants and __add__ for seminars?"
   ]
  },
  {
   "cell_type": "code",
   "execution_count": null,
   "id": "859ba05a",
   "metadata": {},
   "outputs": [],
   "source": []
  },
  {
   "cell_type": "markdown",
   "id": "b0dc5de5",
   "metadata": {},
   "source": [
    "### Exercise:"
   ]
  },
  {
   "cell_type": "markdown",
   "id": "2ae358fa",
   "metadata": {},
   "source": [
    "Add further classes and their attributes and methods (and adapt the ones above if needed) to structure your study plan. How can you sort a list of courses, lexicographically or by semester?"
   ]
  },
  {
   "cell_type": "markdown",
   "id": "69e803f1",
   "metadata": {},
   "source": [
    "## Data Encapsulation"
   ]
  },
  {
   "cell_type": "markdown",
   "id": "3430246e",
   "metadata": {},
   "source": [
    "private attributes: with __\n",
    "\n",
    "convention: _ for internal use only"
   ]
  },
  {
   "cell_type": "code",
   "execution_count": null,
   "id": "db11b6db",
   "metadata": {},
   "outputs": [],
   "source": [
    "class Student:\n",
    "    def __init__(self, name, immatriculation_number):\n",
    "        self.__name = name\n",
    "        self._immatriculation_number = immatriculation_number\n",
    "    \n",
    "    def get_name(self):\n",
    "        return self.__name\n",
    "    \n",
    "    def set_name(self, name):\n",
    "        self.__name = name"
   ]
  },
  {
   "cell_type": "code",
   "execution_count": null,
   "id": "b89540b4",
   "metadata": {},
   "outputs": [],
   "source": [
    "participant = Student(\"anja\", 1234)"
   ]
  },
  {
   "cell_type": "code",
   "execution_count": null,
   "id": "720c6a86",
   "metadata": {},
   "outputs": [],
   "source": [
    "participant.__name"
   ]
  },
  {
   "cell_type": "code",
   "execution_count": null,
   "id": "bfc0ddd3",
   "metadata": {},
   "outputs": [],
   "source": [
    "participant.get_name()"
   ]
  },
  {
   "cell_type": "markdown",
   "id": "8aaabde2",
   "metadata": {},
   "source": [
    "more common in Python: use property decorator"
   ]
  },
  {
   "cell_type": "code",
   "execution_count": null,
   "id": "3c2d90b4",
   "metadata": {},
   "outputs": [],
   "source": [
    "class Student:\n",
    "    def __init__(self, name):\n",
    "        self._name = name\n",
    "    \n",
    "    @property\n",
    "    def name(self):\n",
    "        return self._name\n",
    "    \n",
    "    @name.setter\n",
    "    def name(self, value):\n",
    "        self._name = value\n",
    "   \n",
    "    @name.getter\n",
    "    def name(self):\n",
    "        return self._name"
   ]
  },
  {
   "cell_type": "code",
   "execution_count": null,
   "id": "e85f1d37",
   "metadata": {},
   "outputs": [],
   "source": [
    "participant = Student(\"anja\")"
   ]
  },
  {
   "cell_type": "code",
   "execution_count": null,
   "id": "cf8e4aea",
   "metadata": {},
   "outputs": [],
   "source": [
    "participant.name"
   ]
  },
  {
   "cell_type": "code",
   "execution_count": null,
   "id": "7ad43fad",
   "metadata": {},
   "outputs": [],
   "source": []
  },
  {
   "cell_type": "code",
   "execution_count": null,
   "id": "32b3cd01",
   "metadata": {},
   "outputs": [],
   "source": []
  }
 ],
 "metadata": {
  "kernelspec": {
   "display_name": "Python 3 (ipykernel)",
   "language": "python",
   "name": "python3"
  },
  "language_info": {
   "codemirror_mode": {
    "name": "ipython",
    "version": 3
   },
   "file_extension": ".py",
   "mimetype": "text/x-python",
   "name": "python",
   "nbconvert_exporter": "python",
   "pygments_lexer": "ipython3",
   "version": "3.9.12"
  }
 },
 "nbformat": 4,
 "nbformat_minor": 5
}
