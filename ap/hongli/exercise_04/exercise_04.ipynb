{
 "cells": [
  {
   "cell_type": "code",
   "execution_count": 59,
   "metadata": {},
   "outputs": [],
   "source": [
    "def add_prime(A, p):\n",
    "    for i in range(2, p):\n",
    "        if p % i == 0:\n",
    "            return A\n",
    "    return A.union({p})\n",
    "\n",
    "def main(n):\n",
    "    A = set({})\n",
    "    i = 2\n",
    "    while True:\n",
    "        if 2**i - 1 > n:\n",
    "            return list(A)\n",
    "        else:\n",
    "            if 2**i + 1 < n:\n",
    "                A = add_prime(A, 2**i + 1)\n",
    "            A = add_prime(A, 2**i - 1)\n",
    "            i +=1\n"
   ]
  },
  {
   "cell_type": "code",
   "execution_count": 61,
   "metadata": {},
   "outputs": [
    {
     "data": {
      "text/plain": [
       "[1, 17, 3, 5, 7, 31]"
      ]
     },
     "execution_count": 61,
     "metadata": {},
     "output_type": "execute_result"
    }
   ],
   "source": [
    "main(100)\n"
   ]
  },
  {
   "cell_type": "code",
   "execution_count": null,
   "metadata": {},
   "outputs": [],
   "source": []
  }
 ],
 "metadata": {
  "kernelspec": {
   "display_name": "APAlg",
   "language": "python",
   "name": "python3"
  },
  "language_info": {
   "codemirror_mode": {
    "name": "ipython",
    "version": 3
   },
   "file_extension": ".py",
   "mimetype": "text/x-python",
   "name": "python",
   "nbconvert_exporter": "python",
   "pygments_lexer": "ipython3",
   "version": "3.9.18"
  }
 },
 "nbformat": 4,
 "nbformat_minor": 2
}
