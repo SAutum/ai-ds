{
 "cells": [
  {
   "cell_type": "markdown",
   "metadata": {},
   "source": [
    "# Problem 3\n",
    "\n",
    "a)"
   ]
  },
  {
   "cell_type": "code",
   "execution_count": 58,
   "metadata": {},
   "outputs": [],
   "source": [
    "# input test\n",
    "def prime_number_test(a):\n",
    "    assert a >= 0\n",
    "    assert isinstance(a, int)\n",
    "\n",
    "# main function\n",
    "def prime_number(a):\n",
    "    prime_number_test(a)\n",
    "    if a == 0 or a == 1:\n",
    "        return False\n",
    "    else:\n",
    "        for i in range(2, a-1):\n",
    "            if a%(i+1) == 0:\n",
    "                return False\n",
    "    return True\n"
   ]
  },
  {
   "cell_type": "code",
   "execution_count": 59,
   "metadata": {},
   "outputs": [],
   "source": [
    "# a basic output test\n",
    "assert isinstance(prime_number(3), bool)\n",
    "# two special case tests\n",
    "assert prime_number(0) == False\n",
    "assert prime_number(1) == False\n",
    "# a false test\n",
    "assert prime_number(14) == False\n",
    "# a true test\n",
    "assert prime_number(97) == True\n"
   ]
  },
  {
   "cell_type": "markdown",
   "metadata": {},
   "source": [
    "b)"
   ]
  },
  {
   "cell_type": "code",
   "execution_count": 80,
   "metadata": {},
   "outputs": [],
   "source": [
    "# input test\n",
    "def partial_sum_test(b, n):\n",
    "    assert isinstance(b, float)\n",
    "    assert b > 0\n",
    "    assert isinstance(n, int)\n",
    "    assert n > 0\n",
    "\n",
    "# main function\n",
    "def partial_sum(b, n):\n",
    "    b = float(b)\n",
    "    partial_sum_test(b, n)\n",
    "    sum = 0\n",
    "    for i in range(n+1):\n",
    "        sum += b**i\n",
    "    return sum\n"
   ]
  },
  {
   "cell_type": "code",
   "execution_count": 62,
   "metadata": {},
   "outputs": [],
   "source": [
    "assert isinstance(partial_sum(1, 5), float)\n",
    "assert partial_sum(2, 3) == 15\n"
   ]
  },
  {
   "cell_type": "markdown",
   "metadata": {},
   "source": [
    "c)"
   ]
  },
  {
   "cell_type": "code",
   "execution_count": 85,
   "metadata": {},
   "outputs": [],
   "source": [
    "def non_negative_test(c):\n",
    "    assert isinstance(c, int)\n",
    "    assert c >= 0\n",
    "\n",
    "def random_multiply(c):\n",
    "    non_negative_test(c)\n",
    "    import random\n",
    "    return random.randint(1,100)*c\n"
   ]
  },
  {
   "cell_type": "code",
   "execution_count": 86,
   "metadata": {},
   "outputs": [
    {
     "data": {
      "text/plain": [
       "0"
      ]
     },
     "execution_count": 86,
     "metadata": {},
     "output_type": "execute_result"
    }
   ],
   "source": [
    "# construct a function to test the value range of the output\n",
    "def random_multiply_output_range_test(n):\n",
    "    for i in range(n):\n",
    "        assert random_multiply(1)<=100\n",
    "        assert random_multiply(1)>=1\n",
    "\n",
    "random_multiply_output_range_test(10000)\n",
    "\n",
    "random_multiply(0)\n"
   ]
  },
  {
   "cell_type": "markdown",
   "metadata": {},
   "source": [
    "d)"
   ]
  },
  {
   "cell_type": "code",
   "execution_count": 113,
   "metadata": {},
   "outputs": [],
   "source": [
    "def binary_1(d):\n",
    "    non_negative_test(d)\n",
    "    remain = d\n",
    "    num_of_1 = 0\n",
    "    while remain > 0:\n",
    "        if remain % 2 == 1:\n",
    "            num_of_1 +=1\n",
    "        remain = remain//2\n",
    "    return num_of_1\n"
   ]
  },
  {
   "cell_type": "code",
   "execution_count": 114,
   "metadata": {},
   "outputs": [
    {
     "ename": "AssertionError",
     "evalue": "",
     "output_type": "error",
     "traceback": [
      "\u001b[0;31m---------------------------------------------------------------------------\u001b[0m",
      "\u001b[0;31mAssertionError\u001b[0m                            Traceback (most recent call last)",
      "\u001b[1;32m/home/hongli/MyApps/aids/ap/hongli/exercise_03/exercise_03.ipynb Cell 12\u001b[0m line \u001b[0;36m6\n\u001b[1;32m      <a href='vscode-notebook-cell://ssh-remote%2B212.227.183.90/home/hongli/MyApps/aids/ap/hongli/exercise_03/exercise_03.ipynb#X36sdnNjb2RlLXJlbW90ZQ%3D%3D?line=3'>4</a>\u001b[0m \u001b[39massert\u001b[39;00m binary_1(\u001b[39m5\u001b[39m) \u001b[39m==\u001b[39m \u001b[39m2\u001b[39m\n\u001b[1;32m      <a href='vscode-notebook-cell://ssh-remote%2B212.227.183.90/home/hongli/MyApps/aids/ap/hongli/exercise_03/exercise_03.ipynb#X36sdnNjb2RlLXJlbW90ZQ%3D%3D?line=4'>5</a>\u001b[0m \u001b[39m# a negative number\u001b[39;00m\n\u001b[0;32m----> <a href='vscode-notebook-cell://ssh-remote%2B212.227.183.90/home/hongli/MyApps/aids/ap/hongli/exercise_03/exercise_03.ipynb#X36sdnNjb2RlLXJlbW90ZQ%3D%3D?line=5'>6</a>\u001b[0m binary_1(\u001b[39m-\u001b[39;49m\u001b[39m5\u001b[39;49m)\n",
      "\u001b[1;32m/home/hongli/MyApps/aids/ap/hongli/exercise_03/exercise_03.ipynb Cell 12\u001b[0m line \u001b[0;36m2\n\u001b[1;32m      <a href='vscode-notebook-cell://ssh-remote%2B212.227.183.90/home/hongli/MyApps/aids/ap/hongli/exercise_03/exercise_03.ipynb#X36sdnNjb2RlLXJlbW90ZQ%3D%3D?line=0'>1</a>\u001b[0m \u001b[39mdef\u001b[39;00m \u001b[39mbinary_1\u001b[39m(d):\n\u001b[0;32m----> <a href='vscode-notebook-cell://ssh-remote%2B212.227.183.90/home/hongli/MyApps/aids/ap/hongli/exercise_03/exercise_03.ipynb#X36sdnNjb2RlLXJlbW90ZQ%3D%3D?line=1'>2</a>\u001b[0m     non_negative_test(d)\n\u001b[1;32m      <a href='vscode-notebook-cell://ssh-remote%2B212.227.183.90/home/hongli/MyApps/aids/ap/hongli/exercise_03/exercise_03.ipynb#X36sdnNjb2RlLXJlbW90ZQ%3D%3D?line=2'>3</a>\u001b[0m     remain \u001b[39m=\u001b[39m d\n\u001b[1;32m      <a href='vscode-notebook-cell://ssh-remote%2B212.227.183.90/home/hongli/MyApps/aids/ap/hongli/exercise_03/exercise_03.ipynb#X36sdnNjb2RlLXJlbW90ZQ%3D%3D?line=3'>4</a>\u001b[0m     num_of_1 \u001b[39m=\u001b[39m \u001b[39m0\u001b[39m\n",
      "\u001b[1;32m/home/hongli/MyApps/aids/ap/hongli/exercise_03/exercise_03.ipynb Cell 12\u001b[0m line \u001b[0;36m3\n\u001b[1;32m      <a href='vscode-notebook-cell://ssh-remote%2B212.227.183.90/home/hongli/MyApps/aids/ap/hongli/exercise_03/exercise_03.ipynb#X36sdnNjb2RlLXJlbW90ZQ%3D%3D?line=0'>1</a>\u001b[0m \u001b[39mdef\u001b[39;00m \u001b[39mnon_negative_test\u001b[39m(c):\n\u001b[1;32m      <a href='vscode-notebook-cell://ssh-remote%2B212.227.183.90/home/hongli/MyApps/aids/ap/hongli/exercise_03/exercise_03.ipynb#X36sdnNjb2RlLXJlbW90ZQ%3D%3D?line=1'>2</a>\u001b[0m     \u001b[39massert\u001b[39;00m \u001b[39misinstance\u001b[39m(c, \u001b[39mint\u001b[39m)\n\u001b[0;32m----> <a href='vscode-notebook-cell://ssh-remote%2B212.227.183.90/home/hongli/MyApps/aids/ap/hongli/exercise_03/exercise_03.ipynb#X36sdnNjb2RlLXJlbW90ZQ%3D%3D?line=2'>3</a>\u001b[0m     \u001b[39massert\u001b[39;00m c \u001b[39m>\u001b[39m\u001b[39m=\u001b[39m \u001b[39m0\u001b[39m\n",
      "\u001b[0;31mAssertionError\u001b[0m: "
     ]
    }
   ],
   "source": [
    "# a even number\n",
    "assert binary_1(4) == 1\n",
    "# an odd number\n",
    "assert binary_1(5) == 2\n",
    "# a negative number\n",
    "binary_1(-5)\n"
   ]
  }
 ],
 "metadata": {
  "kernelspec": {
   "display_name": "APAlg",
   "language": "python",
   "name": "python3"
  },
  "language_info": {
   "codemirror_mode": {
    "name": "ipython",
    "version": 3
   },
   "file_extension": ".py",
   "mimetype": "text/x-python",
   "name": "python",
   "nbconvert_exporter": "python",
   "pygments_lexer": "ipython3",
   "version": "3.9.18"
  }
 },
 "nbformat": 4,
 "nbformat_minor": 2
}
