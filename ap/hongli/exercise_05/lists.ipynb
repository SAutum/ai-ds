{
 "cells": [
  {
   "cell_type": "markdown",
   "metadata": {},
   "source": [
    "# Simple List"
   ]
  },
  {
   "cell_type": "code",
   "execution_count": 25,
   "metadata": {},
   "outputs": [],
   "source": [
    "# no import\n",
    "\n",
    "class simple_element:\n",
    "    def __init__(self, x):\n",
    "        self.key = x\n",
    "        self._next = None\n",
    "\n",
    "    @property\n",
    "    def next(self):\n",
    "        return self._next\n",
    "\n",
    "    @next.setter\n",
    "    def next(self, e):\n",
    "        self._next = e\n",
    "\n",
    "class simple_list:\n",
    "    def __init__(self):\n",
    "        self._head = None\n",
    "\n",
    "    def __str__(self):\n",
    "        li = ''\n",
    "        e = self._head\n",
    "        while e != None:\n",
    "            li = li + ' ' + str(e.key)\n",
    "            e = e.next\n",
    "        return li\n",
    "\n",
    "    def insert(self, x):\n",
    "        e = simple_element(x)\n",
    "        e.next = self._head\n",
    "        self._head = e\n",
    "\n",
    "    def search(self, x):\n",
    "        e = self._head\n",
    "        while (e != None) and (e.key != x):\n",
    "            e = e.next\n",
    "        return e\n",
    "\n",
    "    def delete(self, x):\n",
    "        e, p = self.__search_predecessor(x)\n",
    "        if p!= None:\n",
    "            p.next = e.next\n",
    "        else:\n",
    "            self._head = e.next\n",
    "\n",
    "    def __search_predecessor(self, x):\n",
    "        if self.head.key == x:\n",
    "            return self.head, None\n",
    "        p = self.head\n",
    "        e = p.next\n",
    "        while (e != None) and (e.key != x):\n",
    "            p = e\n",
    "            e = e.next\n",
    "        return e, p\n",
    "\n",
    "    @property\n",
    "    def head(self):\n",
    "        return self._head\n",
    "\n",
    "    @head.setter\n",
    "    def head(self, e):\n",
    "        self._head = e\n"
   ]
  },
  {
   "cell_type": "code",
   "execution_count": 47,
   "metadata": {},
   "outputs": [],
   "source": [
    "l = simple_list()\n",
    "import random\n",
    "random.seed(10)\n",
    "for i in range(30):\n",
    "    l.insert(random.randint(1, 100))\n"
   ]
  },
  {
   "cell_type": "code",
   "execution_count": 48,
   "metadata": {},
   "outputs": [
    {
     "name": "stdout",
     "output_type": "stream",
     "text": [
      " 34 87 37 54 49 46 78 18 54 6 47 96 32 10 42 63 67 5 21 84 36 63 60 27 2 74 62 55 5 74\n"
     ]
    }
   ],
   "source": [
    "print(l)\n"
   ]
  },
  {
   "cell_type": "code",
   "execution_count": 50,
   "metadata": {},
   "outputs": [
    {
     "name": "stdout",
     "output_type": "stream",
     "text": [
      "None\n",
      "49\n"
     ]
    }
   ],
   "source": [
    "print(l.search(89))\n",
    "print(l.search(49).key)\n"
   ]
  },
  {
   "cell_type": "code",
   "execution_count": 51,
   "metadata": {},
   "outputs": [],
   "source": [
    "l.delete(49)\n"
   ]
  },
  {
   "cell_type": "code",
   "execution_count": 52,
   "metadata": {},
   "outputs": [
    {
     "name": "stdout",
     "output_type": "stream",
     "text": [
      " 34 87 37 54 46 78 18 54 6 47 96 32 10 42 63 67 5 21 84 36 63 60 27 2 74 62 55 5 74\n"
     ]
    }
   ],
   "source": [
    "print(l)\n"
   ]
  },
  {
   "cell_type": "markdown",
   "metadata": {},
   "source": [
    "# Doubly Linked List"
   ]
  },
  {
   "cell_type": "code",
   "execution_count": null,
   "metadata": {},
   "outputs": [],
   "source": [
    "# no import\n",
    "\n",
    "class simple_element:\n",
    "    def __init__(self, x):\n",
    "        self.key = x\n",
    "        self._next = None\n",
    "\n",
    "    @property\n",
    "    def next(self):\n",
    "        return self._next\n",
    "\n",
    "    @next.setter\n",
    "    def next(self, e):\n",
    "        self._next = e\n",
    "\n",
    "class simple_list:\n",
    "    def __init__(self):\n",
    "        self._head = None\n",
    "\n",
    "    def __str__(self):\n",
    "        li = ''\n",
    "        e = self._head\n",
    "        while e != None:\n",
    "            li = li + ' ' + str(e.key)\n",
    "            e = e.next\n",
    "        return li\n",
    "\n",
    "    def insert(self, x):\n",
    "        e = simple_element(x)\n",
    "        e.next = self._head\n",
    "        self._head = e\n",
    "\n",
    "    def search(self, x):\n",
    "        e = self._head\n",
    "        while (e != None) and (e.key != x):\n",
    "            e = e.next\n",
    "        return e\n",
    "\n",
    "    def delete(self, x):\n",
    "        e, p = self.__search_predecessor(x)\n",
    "        if p!= None:\n",
    "            p.next = e.next\n",
    "        else:\n",
    "            self._head = e.next\n",
    "\n",
    "    def __search_predecessor(self, x):\n",
    "        if self.head.key == x:\n",
    "            return self.head, None\n",
    "        p = self.head\n",
    "        e = p.next\n",
    "        while (e != None) and (e.key != x):\n",
    "            p = e\n",
    "            e = e.next\n",
    "        return e, p\n",
    "\n",
    "    @property\n",
    "    def head(self):\n",
    "        return self._head\n",
    "\n",
    "    @head.setter\n",
    "    def head(self, e):\n",
    "        self._head = e\n"
   ]
  }
 ],
 "metadata": {
  "kernelspec": {
   "display_name": "dl",
   "language": "python",
   "name": "python3"
  },
  "language_info": {
   "codemirror_mode": {
    "name": "ipython",
    "version": 3
   },
   "file_extension": ".py",
   "mimetype": "text/x-python",
   "name": "python",
   "nbconvert_exporter": "python",
   "pygments_lexer": "ipython3",
   "version": "3.11.5"
  }
 },
 "nbformat": 4,
 "nbformat_minor": 2
}
