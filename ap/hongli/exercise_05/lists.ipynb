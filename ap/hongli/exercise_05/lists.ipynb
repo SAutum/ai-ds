{
 "cells": [
  {
   "cell_type": "markdown",
   "metadata": {},
   "source": [
    "# Simple List"
   ]
  },
  {
   "cell_type": "code",
   "execution_count": 45,
   "metadata": {},
   "outputs": [],
   "source": [
    "# no import\n",
    "\n",
    "class simple_element:\n",
    "    def __init__(self, x):\n",
    "        self.key = x\n",
    "        self._next = None\n",
    "\n",
    "    # comparison methods\n",
    "    def __le__(self, other):\n",
    "        if other == None:\n",
    "            return False\n",
    "        return self.key <= other.key\n",
    "\n",
    "    def __gt__(self, other):\n",
    "        if other == None:\n",
    "            return False\n",
    "        return self.key > other.key\n",
    "\n",
    "    # additional pointers\n",
    "    @property\n",
    "    def next(self):\n",
    "        return self._next\n",
    "\n",
    "    @next.setter\n",
    "    def next(self, e):\n",
    "        self._next = e\n",
    "\n",
    "# The methods are exactly the same as in the lecture\n",
    "class simple_list:\n",
    "    def __init__(self):\n",
    "        self._head = None\n",
    "\n",
    "    # printout the numbers by built-in print method\n",
    "    def __str__(self):\n",
    "        li = ''\n",
    "        e = self._head\n",
    "        while e != None:\n",
    "            li = li + ' ' + str(e.key)\n",
    "            e = e.next\n",
    "        return li\n",
    "\n",
    "    def insert(self, x):\n",
    "        e = simple_element(x)\n",
    "        e.next = self._head\n",
    "        self._head = e\n",
    "\n",
    "    def search(self, x):\n",
    "        e = self._head\n",
    "        while (e != None) and (e.key != x):\n",
    "            e = e.next\n",
    "        return e\n",
    "\n",
    "    def delete(self, x):\n",
    "        e, p = self.__search_predecessor(x)\n",
    "        if p!= None:\n",
    "            p.next = e.next\n",
    "        else:\n",
    "            self._head = e.next\n",
    "\n",
    "    def __search_predecessor(self, x):\n",
    "        if self.head.key == x:\n",
    "            return self.head, None\n",
    "        p = self.head\n",
    "        e = p.next\n",
    "        while (e != None) and (e.key != x):\n",
    "            p = e\n",
    "            e = e.next\n",
    "        return e, p\n",
    "\n",
    "    @property\n",
    "    def head(self):\n",
    "        return self._head\n",
    "\n",
    "    @head.setter\n",
    "    def head(self, e):\n",
    "        self._head = e\n"
   ]
  },
  {
   "cell_type": "code",
   "execution_count": 3,
   "metadata": {},
   "outputs": [],
   "source": [
    "l = simple_list()\n",
    "import random\n",
    "random.seed(10)\n",
    "for i in range(30):\n",
    "    l.insert(random.randint(1, 100))\n"
   ]
  },
  {
   "cell_type": "code",
   "execution_count": 4,
   "metadata": {},
   "outputs": [
    {
     "name": "stdout",
     "output_type": "stream",
     "text": [
      " 34 87 37 54 49 46 78 18 54 6 47 96 32 10 42 63 67 5 21 84 36 63 60 27 2 74 62 55 5 74\n"
     ]
    }
   ],
   "source": [
    "print(l)\n"
   ]
  },
  {
   "cell_type": "code",
   "execution_count": 5,
   "metadata": {},
   "outputs": [
    {
     "name": "stdout",
     "output_type": "stream",
     "text": [
      "None\n",
      "49\n"
     ]
    }
   ],
   "source": [
    "print(l.search(89))\n",
    "print(l.search(49).key)\n"
   ]
  },
  {
   "cell_type": "code",
   "execution_count": 6,
   "metadata": {},
   "outputs": [],
   "source": [
    "l.delete(49)\n"
   ]
  },
  {
   "cell_type": "code",
   "execution_count": 7,
   "metadata": {},
   "outputs": [
    {
     "name": "stdout",
     "output_type": "stream",
     "text": [
      " 34 87 37 54 46 78 18 54 6 47 96 32 10 42 63 67 5 21 84 36 63 60 27 2 74 62 55 5 74\n"
     ]
    }
   ],
   "source": [
    "print(l)\n"
   ]
  },
  {
   "cell_type": "markdown",
   "metadata": {},
   "source": [
    "# Merge"
   ]
  },
  {
   "cell_type": "code",
   "execution_count": 38,
   "metadata": {},
   "outputs": [],
   "source": [
    "class sorted_list(simple_list):\n",
    "    def __init__(self):\n",
    "        super().__init__()\n",
    "\n",
    "    def insert(self, x):\n",
    "        e = simple_element(x)\n",
    "        temp = self._head\n",
    "        temp_pred = None\n",
    "        while e > temp:\n",
    "            temp_pred = temp\n",
    "            temp = temp.next\n",
    "        e.next = temp\n",
    "        if temp_pred == None:\n",
    "            self._head = e\n",
    "        else:\n",
    "            temp_pred.next = e\n"
   ]
  },
  {
   "cell_type": "code",
   "execution_count": 124,
   "metadata": {},
   "outputs": [],
   "source": [
    "def merge_list(A, B):\n",
    "    # Here we suppose A and B are not empty\n",
    "    # initialization\n",
    "    a = A._head; b = B._head\n",
    "    new_list = sorted_list()\n",
    "\n",
    "    while a != None:\n",
    "        new_list.insert(a.key)\n",
    "        a = a.next\n",
    "    while b != None:\n",
    "        new_list.insert(b.key)\n",
    "        b = b.next\n",
    "\n",
    "    return new_list\n"
   ]
  },
  {
   "cell_type": "code",
   "execution_count": 125,
   "metadata": {},
   "outputs": [],
   "source": [
    "A = sorted_list()\n",
    "B = sorted_list()\n",
    "for i in range(10):\n",
    "    A.insert(random.randint(1, 100))\n",
    "    B.insert(random.randint(1, 100))\n"
   ]
  },
  {
   "cell_type": "code",
   "execution_count": 126,
   "metadata": {},
   "outputs": [
    {
     "name": "stdout",
     "output_type": "stream",
     "text": [
      " 13 25 28 30 46 50 52 66 72 98\n",
      " 9 13 37 61 68 74 75 80 82 89\n"
     ]
    }
   ],
   "source": [
    "print(A)\n",
    "print(B)\n"
   ]
  },
  {
   "cell_type": "code",
   "execution_count": 127,
   "metadata": {},
   "outputs": [
    {
     "name": "stdout",
     "output_type": "stream",
     "text": [
      " 9 13 13 25 28 30 37 46 50 52 61 66 68 72 74 75 80 82 89 98\n"
     ]
    }
   ],
   "source": [
    "print(merge_list(A, B))\n"
   ]
  },
  {
   "cell_type": "markdown",
   "metadata": {},
   "source": [
    "The merge algorithm iterates through the elements of both A and B, and sorting happens in every single insertion to the sorted_list. This means that, suppose A has $n$ elements and B has $m$ elements, the asymptotic running time of this function is in $O((m + n)^2)$\n",
    "\n",
    "The same thing happens if we use the simple list insertion algorithm: We may create a function which can **jump back-and-forth** between the list A and B, whenever the element in the list is smaller than the other, we insert the smaller element to the new list. However, the new list is in the end sorted **from greatest to least**! Then we need to sort the list again by traveling to the tail everytime and insert the element to the front right after the previous element. The asymptotic running time of the function is still in $O((m + n)^2)$\n",
    "\n",
    "The main reason is that, for a singly linked list, it's costly to find the previous element."
   ]
  },
  {
   "cell_type": "markdown",
   "metadata": {},
   "source": [
    "# Extra - Doubly Linked List\n",
    "\n",
    "not finished"
   ]
  },
  {
   "cell_type": "code",
   "execution_count": 9,
   "metadata": {},
   "outputs": [],
   "source": [
    "# no import\n",
    "\n",
    "class simple_element:\n",
    "    def __init__(self, x):\n",
    "        self.key = x\n",
    "        self._next = None\n",
    "\n",
    "    @property\n",
    "    def next(self):\n",
    "        return self._next\n",
    "\n",
    "    @next.setter\n",
    "    def next(self, e):\n",
    "        self._next = e\n",
    "\n",
    "class simple_list:\n",
    "    def __init__(self):\n",
    "        self._head = None\n",
    "\n",
    "    def __str__(self):\n",
    "        li = ''\n",
    "        e = self._head\n",
    "        while e != None:\n",
    "            li = li + ' ' + str(e.key)\n",
    "            e = e.next\n",
    "        return li\n",
    "\n",
    "    def insert(self, x):\n",
    "        e = simple_element(x)\n",
    "        e.next = self._head\n",
    "        self._head = e\n",
    "\n",
    "    def search(self, x):\n",
    "        e = self._head\n",
    "        while (e != None) and (e.key != x):\n",
    "            e = e.next\n",
    "        return e\n",
    "\n",
    "    def delete(self, x):\n",
    "        e, p = self.__search_predecessor(x)\n",
    "        if p!= None:\n",
    "            p.next = e.next\n",
    "        else:\n",
    "            self._head = e.next\n",
    "\n",
    "    def __search_predecessor(self, x):\n",
    "        if self.head.key == x:\n",
    "            return self.head, None\n",
    "        p = self.head\n",
    "        e = p.next\n",
    "        while (e != None) and (e.key != x):\n",
    "            p = e\n",
    "            e = e.next\n",
    "        return e, p\n",
    "\n",
    "    @property\n",
    "    def head(self):\n",
    "        return self._head\n",
    "\n",
    "    @head.setter\n",
    "    def head(self, e):\n",
    "        self._head = e\n"
   ]
  }
 ],
 "metadata": {
  "kernelspec": {
   "display_name": "dl",
   "language": "python",
   "name": "python3"
  },
  "language_info": {
   "codemirror_mode": {
    "name": "ipython",
    "version": 3
   },
   "file_extension": ".py",
   "mimetype": "text/x-python",
   "name": "python",
   "nbconvert_exporter": "python",
   "pygments_lexer": "ipython3",
   "version": "3.11.5"
  }
 },
 "nbformat": 4,
 "nbformat_minor": 2
}
