{
 "cells": [
  {
   "cell_type": "code",
   "execution_count": 36,
   "metadata": {},
   "outputs": [],
   "source": [
    "def bubble_sort(A):\n",
    "    n = len(A)\n",
    "    # j from n-1 to 1\n",
    "    for j in range(n-1, 0, -1):\n",
    "        # i from 0 to j-1\n",
    "        for i in range(0, j):\n",
    "            if A[i] > A[i+1]:\n",
    "                # swtich the positions of A_i and A_i+1\n",
    "                key = A[i]\n",
    "                A[i] = A[i+1]\n",
    "                A[i+1] = key\n",
    "    return A"
   ]
  },
  {
   "cell_type": "code",
   "execution_count": 37,
   "metadata": {},
   "outputs": [
    {
     "name": "stdout",
     "output_type": "stream",
     "text": [
      "[39 50 15  8 30  7 31 99 91  3 66 63 49 74 34]\n",
      "[ 3  7  8 15 30 31 34 39 49 50 63 66 74 91 99]\n"
     ]
    }
   ],
   "source": [
    "# test the validity of the algorithm\n",
    "import numpy as np\n",
    "\n",
    "n = 15\n",
    "A = np.random.randint(0, 100, size=n)\n",
    "print(A)\n",
    "\n",
    "print(bubble_sort(A))\n"
   ]
  }
 ],
 "metadata": {
  "kernelspec": {
   "display_name": "APAlg",
   "language": "python",
   "name": "python3"
  },
  "language_info": {
   "codemirror_mode": {
    "name": "ipython",
    "version": 3
   },
   "file_extension": ".py",
   "mimetype": "text/x-python",
   "name": "python",
   "nbconvert_exporter": "python",
   "pygments_lexer": "ipython3",
   "version": "3.9.18"
  }
 },
 "nbformat": 4,
 "nbformat_minor": 2
}
