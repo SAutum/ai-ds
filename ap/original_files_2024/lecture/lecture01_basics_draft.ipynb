{
 "cells": [
  {
   "cell_type": "markdown",
   "id": "870e1074",
   "metadata": {},
   "source": [
    "# Jupyter Notebook Example: Python Introduction"
   ]
  },
  {
   "cell_type": "code",
   "execution_count": null,
   "id": "69da7bf4",
   "metadata": {},
   "outputs": [],
   "source": [
    "print('Hello')"
   ]
  },
  {
   "cell_type": "markdown",
   "id": "2104e8c0",
   "metadata": {},
   "source": [
    "Just get started! Code can be typed and interpreted dynamically."
   ]
  },
  {
   "cell_type": "code",
   "execution_count": null,
   "id": "8fe3d313",
   "metadata": {},
   "outputs": [],
   "source": [
    "1 + 1"
   ]
  },
  {
   "cell_type": "code",
   "execution_count": null,
   "id": "b85e5418",
   "metadata": {},
   "outputs": [],
   "source": [
    "True + False"
   ]
  },
  {
   "cell_type": "markdown",
   "id": "ee66a3e6",
   "metadata": {},
   "source": [
    "You can find help in the python documention, as well as here via: help, ?, find methods and attributes, auto-completion with tab, further info with shift+tab"
   ]
  },
  {
   "cell_type": "code",
   "execution_count": null,
   "id": "cf9ac981",
   "metadata": {},
   "outputs": [],
   "source": [
    "help(print)"
   ]
  },
  {
   "cell_type": "code",
   "execution_count": null,
   "id": "4145555c",
   "metadata": {},
   "outputs": [],
   "source": [
    "? print"
   ]
  },
  {
   "cell_type": "markdown",
   "id": "0b4d57f7",
   "metadata": {},
   "source": []
  },
  {
   "cell_type": "markdown",
   "id": "56f88b8a",
   "metadata": {},
   "source": [
    "## Structure"
   ]
  },
  {
   "cell_type": "code",
   "execution_count": null,
   "id": "72dd09be",
   "metadata": {},
   "outputs": [],
   "source": [
    "import this"
   ]
  },
  {
   "cell_type": "code",
   "execution_count": null,
   "id": "4562a612",
   "metadata": {},
   "outputs": [],
   "source": [
    "a = 7"
   ]
  },
  {
   "cell_type": "markdown",
   "id": "efec0493",
   "metadata": {},
   "source": [
    "Linebreaks start a new command!"
   ]
  },
  {
   "cell_type": "code",
   "execution_count": null,
   "id": "f46f2648",
   "metadata": {},
   "outputs": [],
   "source": [
    "b = 1 + 2\n",
    "+ 3\n",
    "print(b)"
   ]
  },
  {
   "cell_type": "markdown",
   "id": "6534f6bf",
   "metadata": {},
   "source": [
    "How can we fix this?"
   ]
  },
  {
   "cell_type": "code",
   "execution_count": null,
   "id": "d5774323",
   "metadata": {},
   "outputs": [],
   "source": [
    "print(f'a + b = {a + b}')"
   ]
  },
  {
   "cell_type": "markdown",
   "id": "51be6b4c",
   "metadata": {},
   "source": [
    "### Conditional Statements"
   ]
  },
  {
   "cell_type": "code",
   "execution_count": null,
   "id": "137353a6",
   "metadata": {},
   "outputs": [],
   "source": [
    "if True:\n",
    "    print('Condition holds.')\n",
    "else:\n",
    "    print('Condition does not hold.')"
   ]
  },
  {
   "cell_type": "markdown",
   "id": "2e4f85d1",
   "metadata": {},
   "source": [
    "Indentation (4 spaces) has syntactic meaning!"
   ]
  },
  {
   "cell_type": "code",
   "execution_count": null,
   "id": "e56abfc9",
   "metadata": {},
   "outputs": [],
   "source": [
    "if False:\n",
    "    a = 1\n",
    "print('Condition holds.')"
   ]
  },
  {
   "cell_type": "markdown",
   "id": "b7f7eff1",
   "metadata": {},
   "source": [
    "What went wrong here?"
   ]
  },
  {
   "cell_type": "code",
   "execution_count": null,
   "id": "ccbdfd46",
   "metadata": {},
   "outputs": [],
   "source": [
    "int."
   ]
  },
  {
   "cell_type": "code",
   "execution_count": null,
   "id": "52695e4e",
   "metadata": {},
   "outputs": [],
   "source": [
    "from __future__ import braces"
   ]
  },
  {
   "cell_type": "markdown",
   "id": "47b72d3d",
   "metadata": {},
   "source": [
    "### Loops"
   ]
  },
  {
   "cell_type": "markdown",
   "id": "c0c00ce7",
   "metadata": {},
   "source": []
  },
  {
   "cell_type": "code",
   "execution_count": null,
   "id": "0efe682d",
   "metadata": {},
   "outputs": [],
   "source": [
    "n = 1\n",
    "while n < 64:\n",
    "    n = 2 * n\n",
    "print(f'{n} ', end='')"
   ]
  },
  {
   "cell_type": "markdown",
   "id": "ed39037b",
   "metadata": {},
   "source": [
    "What happens if we change different aspects of this code?"
   ]
  },
  {
   "cell_type": "code",
   "execution_count": null,
   "id": "f7a8d7b4",
   "metadata": {},
   "outputs": [],
   "source": [
    "for i in range(5):\n",
    "    print(i)"
   ]
  },
  {
   "cell_type": "code",
   "execution_count": null,
   "id": "423196b2",
   "metadata": {},
   "outputs": [],
   "source": [
    "for i in range(0, 5):\n",
    "    print(i)"
   ]
  },
  {
   "cell_type": "markdown",
   "id": "6c1de132",
   "metadata": {},
   "source": [
    "How does range count? (Note: Details on lists and iterators later.)"
   ]
  },
  {
   "cell_type": "code",
   "execution_count": null,
   "id": "e915af8f",
   "metadata": {},
   "outputs": [],
   "source": [
    "for i in range(1, 3):\n",
    "    print(i)"
   ]
  },
  {
   "cell_type": "code",
   "execution_count": null,
   "id": "9fe22b1a",
   "metadata": {},
   "outputs": [],
   "source": [
    "for i in range(3, 1, -1):\n",
    "    print(i)"
   ]
  },
  {
   "cell_type": "code",
   "execution_count": null,
   "id": "7d873d11",
   "metadata": {},
   "outputs": [],
   "source": [
    "beginning_incl = 2\n",
    "end_excl = 12\n",
    "steps = 2\n",
    "for i in range(beginning_incl, end_excl, steps):\n",
    "    print(i)"
   ]
  },
  {
   "cell_type": "code",
   "execution_count": null,
   "id": "1b22455c",
   "metadata": {},
   "outputs": [],
   "source": []
  },
  {
   "cell_type": "code",
   "execution_count": null,
   "id": "f77f27ac",
   "metadata": {},
   "outputs": [],
   "source": []
  },
  {
   "cell_type": "markdown",
   "id": "e387a0ec",
   "metadata": {},
   "source": [
    "## Variables, Assignments, & Pointers"
   ]
  },
  {
   "cell_type": "markdown",
   "id": "cf1cf9e5",
   "metadata": {},
   "source": [
    "Variable assignments don't copy values, but point to an object.\n",
    "Integers are immutable: An integer variable points to an object with a fixed value."
   ]
  },
  {
   "cell_type": "code",
   "execution_count": null,
   "id": "bf3782a3",
   "metadata": {},
   "outputs": [],
   "source": [
    "first_value = 7\n",
    "second_value = 7\n",
    "third_value = first_value"
   ]
  },
  {
   "cell_type": "code",
   "execution_count": null,
   "id": "7af85720",
   "metadata": {},
   "outputs": [],
   "source": [
    "print(id(first_value))\n",
    "print(id(second_value))\n",
    "print(id(third_value))"
   ]
  },
  {
   "cell_type": "markdown",
   "id": "bc2391ad",
   "metadata": {},
   "source": [
    "Compare value with '=='"
   ]
  },
  {
   "cell_type": "code",
   "execution_count": null,
   "id": "5ffd8936",
   "metadata": {},
   "outputs": [],
   "source": [
    "print(first_value == second_value)\n",
    "print(first_value == third_value)"
   ]
  },
  {
   "cell_type": "markdown",
   "id": "9d66c867",
   "metadata": {},
   "source": [
    "Compare pointers with 'is'"
   ]
  },
  {
   "cell_type": "code",
   "execution_count": null,
   "id": "d66b07fb",
   "metadata": {},
   "outputs": [],
   "source": [
    "print(first_value is second_value)\n",
    "print(first_value is third_value)"
   ]
  },
  {
   "cell_type": "code",
   "execution_count": null,
   "id": "5084418d",
   "metadata": {},
   "outputs": [],
   "source": [
    "first_value += 1\n",
    "print(id(first_value))\n",
    "print(first_value is third_value)"
   ]
  },
  {
   "cell_type": "code",
   "execution_count": null,
   "id": "1187991d",
   "metadata": {},
   "outputs": [],
   "source": []
  },
  {
   "cell_type": "markdown",
   "id": "8fe1f557",
   "metadata": {},
   "source": [
    "This is different for, e.g., lists. They can be changed dynamically."
   ]
  },
  {
   "cell_type": "code",
   "execution_count": null,
   "id": "34170a61",
   "metadata": {},
   "outputs": [],
   "source": [
    "first_collection = [1, 2, 3]\n",
    "second_collection = [1, 2, 3]\n",
    "third_collection = first_collection"
   ]
  },
  {
   "cell_type": "code",
   "execution_count": null,
   "id": "e06d4eeb",
   "metadata": {},
   "outputs": [],
   "source": [
    "print(id(first_collection))\n",
    "print(id(second_collection))\n",
    "print(id(third_collection))"
   ]
  },
  {
   "cell_type": "code",
   "execution_count": null,
   "id": "9ea29634",
   "metadata": {},
   "outputs": [],
   "source": [
    "print(first_collection == second_collection)\n",
    "print(first_collection == third_collection)\n",
    "print(first_collection is second_collection)\n",
    "print(first_collection is third_collection)"
   ]
  },
  {
   "cell_type": "code",
   "execution_count": null,
   "id": "d63c73d6",
   "metadata": {},
   "outputs": [],
   "source": [
    "first_collection.append(4)\n",
    "print(first_collection)\n",
    "print(second_collection)\n",
    "print(third_collection)"
   ]
  },
  {
   "cell_type": "code",
   "execution_count": null,
   "id": "c1d1e33f",
   "metadata": {},
   "outputs": [],
   "source": []
  },
  {
   "cell_type": "code",
   "execution_count": null,
   "id": "9df43bf8",
   "metadata": {},
   "outputs": [],
   "source": [
    "first_collection = [0, 0, 0]\n",
    "second_collection.append(4)\n",
    "print(first_collection)\n",
    "print(second_collection)\n",
    "print(third_collection)"
   ]
  },
  {
   "cell_type": "code",
   "execution_count": null,
   "id": "a213f295",
   "metadata": {},
   "outputs": [],
   "source": [
    "print(second_collection == third_collection)\n",
    "print(second_collection is third_collection)"
   ]
  },
  {
   "cell_type": "code",
   "execution_count": null,
   "id": "55e51b2c",
   "metadata": {},
   "outputs": [],
   "source": []
  },
  {
   "cell_type": "code",
   "execution_count": null,
   "id": "2e8c775a",
   "metadata": {},
   "outputs": [],
   "source": []
  },
  {
   "cell_type": "markdown",
   "id": "8a4900dc",
   "metadata": {},
   "source": [
    "Note: More details on lists and other mutable objects later."
   ]
  },
  {
   "cell_type": "markdown",
   "id": "fddfa487",
   "metadata": {},
   "source": [
    "## Basic Types & Operators"
   ]
  },
  {
   "cell_type": "markdown",
   "id": "9af45366",
   "metadata": {},
   "source": [
    "Basic types include, e.g., integers, strings, and booleans."
   ]
  },
  {
   "cell_type": "code",
   "execution_count": null,
   "id": "c6a608b1",
   "metadata": {},
   "outputs": [],
   "source": [
    "a = 7\n",
    "b = 'Hello'\n",
    "c = True"
   ]
  },
  {
   "cell_type": "code",
   "execution_count": null,
   "id": "ee2c2240",
   "metadata": {},
   "outputs": [],
   "source": [
    "type(a)"
   ]
  },
  {
   "cell_type": "code",
   "execution_count": null,
   "id": "2f466460",
   "metadata": {},
   "outputs": [],
   "source": [
    "type(b)"
   ]
  },
  {
   "cell_type": "code",
   "execution_count": null,
   "id": "81cbe0b8",
   "metadata": {},
   "outputs": [],
   "source": [
    "type(c)"
   ]
  },
  {
   "cell_type": "markdown",
   "id": "5c71fc2b",
   "metadata": {},
   "source": [
    "Note: bool is a subtype of int"
   ]
  },
  {
   "cell_type": "markdown",
   "id": "2d70afcb",
   "metadata": {},
   "source": [
    "### Arithmetic Operators"
   ]
  },
  {
   "cell_type": "markdown",
   "id": "0dabd457",
   "metadata": {},
   "source": [
    "Let's take a look at some basic operators for numbers, type upcast, and precision"
   ]
  },
  {
   "cell_type": "code",
   "execution_count": null,
   "id": "6b5ee9a5",
   "metadata": {},
   "outputs": [],
   "source": [
    "a = 5\n",
    "b = 71023584681235487879412363647879451246412345879642312164794\n",
    "c = 5 - 7\n",
    "d = 5 / 7\n",
    "e = 5 // 7\n",
    "print(f'{c}, {d}, {e}')"
   ]
  },
  {
   "cell_type": "code",
   "execution_count": null,
   "id": "88329985",
   "metadata": {},
   "outputs": [],
   "source": [
    "type(a)"
   ]
  },
  {
   "cell_type": "code",
   "execution_count": null,
   "id": "273a2026",
   "metadata": {},
   "outputs": [],
   "source": [
    "type(b)"
   ]
  },
  {
   "cell_type": "code",
   "execution_count": null,
   "id": "1ee8fb18",
   "metadata": {},
   "outputs": [],
   "source": [
    "type(c)"
   ]
  },
  {
   "cell_type": "code",
   "execution_count": null,
   "id": "6830eb41",
   "metadata": {},
   "outputs": [],
   "source": [
    "type(d)"
   ]
  },
  {
   "cell_type": "markdown",
   "id": "adac27cb",
   "metadata": {},
   "source": [
    "integers have unlimited precision (unlike overflow in, e.g. 64 bit)\n",
    "\n",
    "float precision depends on machine on which programme is running\n",
    "\n",
    "there is also a type complex (real and im both float)"
   ]
  },
  {
   "cell_type": "code",
   "execution_count": null,
   "id": "95564a53",
   "metadata": {},
   "outputs": [],
   "source": [
    "type(e)"
   ]
  },
  {
   "cell_type": "code",
   "execution_count": null,
   "id": "11428432",
   "metadata": {},
   "outputs": [],
   "source": [
    "type(4 / 2)"
   ]
  },
  {
   "cell_type": "code",
   "execution_count": null,
   "id": "6afe2add",
   "metadata": {},
   "outputs": [],
   "source": [
    "a = 1 / 3"
   ]
  },
  {
   "cell_type": "code",
   "execution_count": null,
   "id": "f1bbbc67",
   "metadata": {},
   "outputs": [],
   "source": [
    "print(a * 3)"
   ]
  },
  {
   "cell_type": "code",
   "execution_count": null,
   "id": "25cfcfea",
   "metadata": {},
   "outputs": [],
   "source": [
    "1.2 * 3"
   ]
  },
  {
   "cell_type": "code",
   "execution_count": null,
   "id": "bb20bd38",
   "metadata": {},
   "outputs": [],
   "source": [
    "float.hex(1.2)"
   ]
  },
  {
   "cell_type": "code",
   "execution_count": null,
   "id": "064a9857",
   "metadata": {},
   "outputs": [],
   "source": [
    "-0"
   ]
  },
  {
   "cell_type": "code",
   "execution_count": null,
   "id": "db0d9eb5",
   "metadata": {},
   "outputs": [],
   "source": [
    "type(0)"
   ]
  },
  {
   "cell_type": "code",
   "execution_count": null,
   "id": "bf2b1048",
   "metadata": {},
   "outputs": [],
   "source": [
    "print(-a)"
   ]
  },
  {
   "cell_type": "code",
   "execution_count": null,
   "id": "a23ab262",
   "metadata": {},
   "outputs": [],
   "source": [
    "1 ** 0"
   ]
  },
  {
   "cell_type": "code",
   "execution_count": null,
   "id": "aea9445a",
   "metadata": {},
   "outputs": [],
   "source": [
    "0 ** 0"
   ]
  },
  {
   "cell_type": "code",
   "execution_count": null,
   "id": "70bbfb43",
   "metadata": {},
   "outputs": [],
   "source": [
    "bin(3)"
   ]
  },
  {
   "cell_type": "code",
   "execution_count": null,
   "id": "407d1d56",
   "metadata": {},
   "outputs": [],
   "source": [
    "type(bin(3))"
   ]
  },
  {
   "cell_type": "code",
   "execution_count": null,
   "id": "b4f7f06e",
   "metadata": {},
   "outputs": [],
   "source": [
    "int(0b1001)"
   ]
  },
  {
   "cell_type": "code",
   "execution_count": null,
   "id": "d2f6030d",
   "metadata": {},
   "outputs": [],
   "source": [
    "0b0011 * 3"
   ]
  },
  {
   "cell_type": "code",
   "execution_count": null,
   "id": "35b92059",
   "metadata": {},
   "outputs": [],
   "source": [
    "0b11 + 0b110"
   ]
  },
  {
   "cell_type": "code",
   "execution_count": null,
   "id": "db37a652",
   "metadata": {},
   "outputs": [],
   "source": []
  },
  {
   "cell_type": "markdown",
   "id": "c7c64723",
   "metadata": {},
   "source": [
    "Try out other operators like %, **"
   ]
  },
  {
   "cell_type": "code",
   "execution_count": null,
   "id": "7243f7ae",
   "metadata": {},
   "outputs": [],
   "source": []
  },
  {
   "cell_type": "code",
   "execution_count": null,
   "id": "b1ccbd89",
   "metadata": {},
   "outputs": [],
   "source": []
  },
  {
   "cell_type": "markdown",
   "id": "8fd261e0",
   "metadata": {},
   "source": [
    "### Bitwise Operators"
   ]
  },
  {
   "cell_type": "markdown",
   "id": "77b5dda0",
   "metadata": {},
   "source": [
    "Find out what these operators do: &, |, ^, <<, >>."
   ]
  },
  {
   "cell_type": "code",
   "execution_count": null,
   "id": "e74e844a",
   "metadata": {},
   "outputs": [],
   "source": []
  },
  {
   "cell_type": "code",
   "execution_count": null,
   "id": "868e99f0",
   "metadata": {},
   "outputs": [],
   "source": []
  },
  {
   "cell_type": "code",
   "execution_count": null,
   "id": "6ab5ddd1",
   "metadata": {},
   "outputs": [],
   "source": []
  },
  {
   "cell_type": "code",
   "execution_count": null,
   "id": "5cdf53a9",
   "metadata": {},
   "outputs": [],
   "source": []
  },
  {
   "cell_type": "code",
   "execution_count": null,
   "id": "e815c0d3",
   "metadata": {},
   "outputs": [],
   "source": []
  },
  {
   "cell_type": "code",
   "execution_count": null,
   "id": "d7574aaf",
   "metadata": {},
   "outputs": [],
   "source": []
  },
  {
   "cell_type": "markdown",
   "id": "b1e3eff3",
   "metadata": {},
   "source": [
    "### Boolean Comparison"
   ]
  },
  {
   "cell_type": "markdown",
   "id": "0661f388",
   "metadata": {},
   "source": [
    "In the context of conditional statements, we have already seen comparison operators like '==' and '<'. These map two objects to a boolean value."
   ]
  },
  {
   "cell_type": "code",
   "execution_count": null,
   "id": "66e41fbe",
   "metadata": {
    "scrolled": true
   },
   "outputs": [],
   "source": [
    "'a' != a"
   ]
  },
  {
   "cell_type": "code",
   "execution_count": null,
   "id": "d08dd266",
   "metadata": {},
   "outputs": [],
   "source": [
    "1 == True"
   ]
  },
  {
   "cell_type": "code",
   "execution_count": null,
   "id": "b6c8c5f9",
   "metadata": {},
   "outputs": [],
   "source": [
    "3 * 0.2 == 0.6"
   ]
  },
  {
   "cell_type": "code",
   "execution_count": null,
   "id": "c7c1851c",
   "metadata": {},
   "outputs": [],
   "source": [
    "abs(3 * 0.2 - 0.6) <= 0.0000000000000002"
   ]
  },
  {
   "cell_type": "code",
   "execution_count": null,
   "id": "9c2694cf",
   "metadata": {},
   "outputs": [],
   "source": [
    "round(3 * 0.2, 15) == 0.6"
   ]
  },
  {
   "cell_type": "code",
   "execution_count": null,
   "id": "68f0b55b",
   "metadata": {},
   "outputs": [],
   "source": []
  },
  {
   "cell_type": "markdown",
   "id": "c5313071",
   "metadata": {},
   "source": [
    "### Logical Operators"
   ]
  },
  {
   "cell_type": "markdown",
   "id": "16ca1686",
   "metadata": {},
   "source": [
    "There are also logical operators that map one or two boolean values to a boolean value."
   ]
  },
  {
   "cell_type": "code",
   "execution_count": null,
   "id": "42932fb2",
   "metadata": {},
   "outputs": [],
   "source": [
    "(True and True or False and (True or False)) ^ (False and True)"
   ]
  },
  {
   "cell_type": "code",
   "execution_count": null,
   "id": "cfc30fb3",
   "metadata": {},
   "outputs": [],
   "source": [
    "(1 != 2) ^ (not(0))"
   ]
  },
  {
   "cell_type": "code",
   "execution_count": null,
   "id": "582e6e70",
   "metadata": {},
   "outputs": [],
   "source": []
  },
  {
   "cell_type": "markdown",
   "id": "f4b1493a",
   "metadata": {},
   "source": [
    "### String Operators"
   ]
  },
  {
   "cell_type": "markdown",
   "id": "1943aec7",
   "metadata": {},
   "source": [
    "There are many operators for strings such as search, split, concatenate, convert, ...\n",
    "We'll take a closer look at them whenever relevant."
   ]
  },
  {
   "cell_type": "code",
   "execution_count": null,
   "id": "3ed68577",
   "metadata": {},
   "outputs": [],
   "source": []
  },
  {
   "cell_type": "code",
   "execution_count": null,
   "id": "9213c8a4",
   "metadata": {},
   "outputs": [],
   "source": []
  },
  {
   "cell_type": "markdown",
   "id": "c0a8da70",
   "metadata": {},
   "source": []
  },
  {
   "cell_type": "code",
   "execution_count": null,
   "id": "03e51096",
   "metadata": {},
   "outputs": [],
   "source": []
  },
  {
   "cell_type": "code",
   "execution_count": null,
   "id": "bc041477",
   "metadata": {},
   "outputs": [],
   "source": []
  },
  {
   "cell_type": "markdown",
   "id": "254b48ce",
   "metadata": {},
   "source": [
    "## Functions"
   ]
  },
  {
   "cell_type": "markdown",
   "id": "3c4b45df",
   "metadata": {},
   "source": [
    "Next to built-in functions (e.g., print, range), we can create our own functions."
   ]
  },
  {
   "cell_type": "code",
   "execution_count": null,
   "id": "cf1873c2",
   "metadata": {},
   "outputs": [],
   "source": [
    "def name(parameter):\n",
    "    pass"
   ]
  },
  {
   "cell_type": "code",
   "execution_count": null,
   "id": "73b41753",
   "metadata": {},
   "outputs": [],
   "source": [
    "def factorial(n: int):\n",
    "    x = 1\n",
    "    for i in range(2, n+1):\n",
    "        x = x * i\n",
    "        print(x)\n",
    "    return x"
   ]
  },
  {
   "cell_type": "code",
   "execution_count": null,
   "id": "6ed1dd65",
   "metadata": {},
   "outputs": [],
   "source": [
    "factorial('hello')"
   ]
  },
  {
   "cell_type": "code",
   "execution_count": null,
   "id": "5da07b3f",
   "metadata": {},
   "outputs": [],
   "source": [
    "factorial(True)"
   ]
  },
  {
   "cell_type": "code",
   "execution_count": null,
   "id": "be044c4c",
   "metadata": {},
   "outputs": [],
   "source": [
    "factorial(5)"
   ]
  },
  {
   "cell_type": "code",
   "execution_count": null,
   "id": "773ae491",
   "metadata": {},
   "outputs": [],
   "source": [
    "factorial(-4)\n",
    "        "
   ]
  },
  {
   "cell_type": "code",
   "execution_count": null,
   "id": "7356f50d",
   "metadata": {},
   "outputs": [],
   "source": [
    "def is_negative(n: int) -> bool:\n",
    "    if n < 0:\n",
    "        return True\n",
    "    else:\n",
    "        return False"
   ]
  },
  {
   "cell_type": "markdown",
   "id": "eccccadc",
   "metadata": {},
   "source": [
    "How can you write this function with one line?"
   ]
  },
  {
   "cell_type": "code",
   "execution_count": null,
   "id": "2c7c6ac4",
   "metadata": {},
   "outputs": [],
   "source": []
  },
  {
   "cell_type": "code",
   "execution_count": null,
   "id": "33cab2ac",
   "metadata": {},
   "outputs": [],
   "source": [
    "def factorial_recursive(n):\n",
    "    if is_negative(n):\n",
    "        return 'negative value'\n",
    "    if n == 1 or n == 0:\n",
    "        return 1\n",
    "    return n * factorial_recursive(n-1)"
   ]
  },
  {
   "cell_type": "code",
   "execution_count": null,
   "id": "ff8a951c",
   "metadata": {},
   "outputs": [],
   "source": [
    "factorial_recursive(-4)"
   ]
  },
  {
   "cell_type": "code",
   "execution_count": null,
   "id": "200ea7f5",
   "metadata": {},
   "outputs": [],
   "source": [
    "factorial_recursive(5)"
   ]
  },
  {
   "cell_type": "code",
   "execution_count": null,
   "id": "4b91a0ac",
   "metadata": {},
   "outputs": [],
   "source": [
    "import math\n",
    "factorial_recursive(1000) == math.factorial(1000)"
   ]
  },
  {
   "cell_type": "markdown",
   "id": "acd30b55",
   "metadata": {},
   "source": [
    "Note: Details on recursive functions and their algorithmic properties in Part II."
   ]
  },
  {
   "cell_type": "markdown",
   "id": "9bb1c20a",
   "metadata": {},
   "source": [
    "### Multiple return values and default values"
   ]
  },
  {
   "cell_type": "code",
   "execution_count": null,
   "id": "9f195d7c",
   "metadata": {},
   "outputs": [],
   "source": [
    "def division_remainder(number: int, divisor: int=3) -> (int, int, bool):\n",
    "    return (number // divisor, number % divisor, number % divisor == 0)"
   ]
  },
  {
   "cell_type": "code",
   "execution_count": null,
   "id": "c9a422c9",
   "metadata": {},
   "outputs": [],
   "source": [
    "division_remainder(6)"
   ]
  },
  {
   "cell_type": "code",
   "execution_count": null,
   "id": "81a3606a",
   "metadata": {},
   "outputs": [],
   "source": [
    "division_remainder(6, 4)"
   ]
  },
  {
   "cell_type": "code",
   "execution_count": null,
   "id": "bf39af15",
   "metadata": {},
   "outputs": [],
   "source": [
    "number = 103\n",
    "divisor = 4\n",
    "div, remainder, is_divisible = division_remainder(number, divisor)\n",
    "if is_divisible == 1:\n",
    "    print(f'{number} can be divided by {divisor}')\n",
    "else:\n",
    "    print(f'{number} equals {div} times {divisor} plus {remainder}')"
   ]
  },
  {
   "cell_type": "markdown",
   "id": "ac1c7a71",
   "metadata": {},
   "source": [
    "### Lambda Functions"
   ]
  },
  {
   "cell_type": "markdown",
   "id": "53f768ba",
   "metadata": {},
   "source": [
    "Define short, temporarily needed functions via: <name> = lambda <parameters>: expression"
   ]
  },
  {
   "cell_type": "code",
   "execution_count": null,
   "id": "263012ec",
   "metadata": {},
   "outputs": [],
   "source": [
    "def near(a, b, threshold):\n",
    "    if a > b:\n",
    "        distance = lambda a, b: a - b\n",
    "    else:\n",
    "        distance = lambda a, b: b - a\n",
    "    if distance(a,b) <= threshold:\n",
    "        return True\n",
    "    return False, f'{distance(a,b) - threshold} beyond threshold'"
   ]
  },
  {
   "cell_type": "code",
   "execution_count": null,
   "id": "13e8d908",
   "metadata": {},
   "outputs": [],
   "source": [
    "near(5, 100, 50)"
   ]
  },
  {
   "cell_type": "markdown",
   "id": "fe3d7af8",
   "metadata": {},
   "source": [
    "Note: Often used as input filters or quick mappings. Details later."
   ]
  },
  {
   "cell_type": "code",
   "execution_count": null,
   "id": "c83b7975",
   "metadata": {},
   "outputs": [],
   "source": []
  }
 ],
 "metadata": {
  "kernelspec": {
   "display_name": "Python 3 (ipykernel)",
   "language": "python",
   "name": "python3"
  },
  "language_info": {
   "codemirror_mode": {
    "name": "ipython",
    "version": 3
   },
   "file_extension": ".py",
   "mimetype": "text/x-python",
   "name": "python",
   "nbconvert_exporter": "python",
   "pygments_lexer": "ipython3",
   "version": "3.9.12"
  }
 },
 "nbformat": 4,
 "nbformat_minor": 5
}
