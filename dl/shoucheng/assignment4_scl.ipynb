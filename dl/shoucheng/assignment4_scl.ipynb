{
  "cells": [
    {
      "cell_type": "markdown",
      "metadata": {
        "id": "3A8c-iGuBY5c"
      },
      "source": [
        "*This assignment was done by group of ID*"
      ]
    },
    {
      "cell_type": "markdown",
      "metadata": {
        "id": "SZUql3AIBY5e"
      },
      "source": [
        "<YOUR_GROUP_ID> e.g. 10"
      ]
    },
    {
      "cell_type": "markdown",
      "metadata": {
        "id": "iaKOfyHtBY5e"
      },
      "source": [
        "<YOUR_GROUP_DAY> Tuesday or Wednesday"
      ]
    },
    {
      "cell_type": "markdown",
      "metadata": {
        "id": "cIzg3n-BBY5e"
      },
      "source": [
        "This assignment is based on the Tensor class. Your task is to train the MLP to perform classification on Fashion MNIST dataset. Your task is to perform hyperparameter search to look for the best hyperparameters for this specific task."
      ]
    },
    {
      "cell_type": "markdown",
      "metadata": {
        "id": "cYSsgE_eBY5e"
      },
      "source": [
        "*Important* - Rembmer that you should not use test set to fine-tune your parameters."
      ]
    },
    {
      "cell_type": "markdown",
      "metadata": {
        "id": "9QKL0oG3BY5f"
      },
      "source": [
        "In this assignment, you should apply both Grid Search and Random Search to illustrate the differences in their results. To ensure a fair comparison, the total number of model evaluations should be equal for both Grid Search and Random Search.\n",
        "Be sure to present your findings for both scenarios: using a simple train-validation split and employing cross-validation.\n",
        "Additionally, you are encouraged to experiment with any other hyperparameter optimization techniques you are familiar with."
      ]
    },
    {
      "cell_type": "markdown",
      "metadata": {
        "id": "nj4I9tnFBY5f"
      },
      "source": [
        "Try to find the best hyperparameters in space of:\n",
        "\n",
        "(1) Batch Size\n",
        "\n",
        "(2) Learning Rate\n",
        "\n",
        "(3) Number of Epochs\n",
        "\n",
        "(4) Activation Functions (here you need to modify MLP Class)\n",
        "\n",
        "(5) Architectures (Different number of layers, different number of neurons per layer)"
      ]
    },
    {
      "cell_type": "markdown",
      "metadata": {
        "id": "g4V0uIV2BY5f"
      },
      "source": [
        "Imports"
      ]
    },
    {
      "cell_type": "code",
      "execution_count": 1,
      "metadata": {
        "id": "X0vVeo9kBY5f"
      },
      "outputs": [],
      "source": [
        "from itertools import product\n",
        "from typing import List\n",
        "from Tensor import Tensor\n",
        "\n",
        "import matplotlib.pyplot as plt\n",
        "import numpy as np\n",
        "from tqdm import tqdm\n",
        "from sklearn.datasets import fetch_openml\n",
        "from sklearn.model_selection import train_test_split"
      ]
    },
    {
      "cell_type": "markdown",
      "metadata": {
        "id": "wWWSwJbFBY5g"
      },
      "source": [
        "MLP Class - here add possibility for using ReLU as a activation function."
      ]
    },
    {
      "cell_type": "code",
      "execution_count": 2,
      "metadata": {
        "id": "WpJCtA0jBY5g"
      },
      "outputs": [],
      "source": [
        "class MLP:\n",
        "    def __init__(self, n_in: int, n_out: int, hidden_dims: list, relu: bool=False):\n",
        "        sizes = [n_in] + hidden_dims + [n_out]\n",
        "        self.layers = []\n",
        "        self.relu = relu\n",
        "\n",
        "        for i in range(len(sizes)-1):\n",
        "            layer = Tensor(shape=(sizes[i+1], sizes[i]), label=f'layer {i}')\n",
        "            layer.data = np.random.uniform(low=-0.05, high=0.05, size=(sizes[i+1], sizes[i]))\n",
        "            self.layers.append(layer)\n",
        "\n",
        "    def __call__(self, x):\n",
        "        for idx, layer in enumerate(self.layers):\n",
        "            x = layer @ x\n",
        "            if idx < len(self.layers) - 1:\n",
        "              if self.relu:\n",
        "                x = x.relu()\n",
        "              else:\n",
        "                x = x.tanh()\n",
        "        return x\n",
        "\n",
        "    def parameters(self):\n",
        "        return self.layers"
      ]
    },
    {
      "cell_type": "markdown",
      "metadata": {
        "id": "Zt8o1fteBY5g"
      },
      "source": [
        "MNIST_Net class"
      ]
    },
    {
      "cell_type": "code",
      "execution_count": 3,
      "metadata": {
        "id": "_W6gkH-VBY5h"
      },
      "outputs": [],
      "source": [
        "class MNIST_Net:\n",
        "    def __init__(self, hidden_dims=[64]):\n",
        "        self.mlp = MLP(n_in=784, n_out=10, hidden_dims=hidden_dims)\n",
        "    def __call__(self, x):\n",
        "        return self.mlp(x).softmax()\n",
        "    def parameters(self):\n",
        "        return self.mlp.parameters()\n",
        "\n",
        "model = MNIST_Net()"
      ]
    },
    {
      "cell_type": "markdown",
      "metadata": {
        "id": "gvGip_PJBY5h"
      },
      "source": [
        "Validate auxilary function"
      ]
    },
    {
      "cell_type": "code",
      "execution_count": 4,
      "metadata": {
        "id": "CqTOlTXqBY5h"
      },
      "outputs": [],
      "source": [
        "def validate(model, X_set, Y_set):\n",
        "    \"\"\"\n",
        "    Evaluate the accuracy of the model on a given dataset.\n",
        "\n",
        "    This function performs a forward pass on each sample in the dataset,\n",
        "    predicts the class, and compares it to the true class to calculate\n",
        "    the overall accuracy.\n",
        "    \"\"\"\n",
        "    correct_predictions = 0\n",
        "    total_predictions = 0\n",
        "\n",
        "    for i in range(X_set.shape[0]):\n",
        "        x = X_set[i]\n",
        "        y_true = Y_set[i]\n",
        "\n",
        "        # Forward pass\n",
        "        y_pred = model(x)\n",
        "\n",
        "        # Get the predicted class (assuming y_pred is a Tensor with probabilities)\n",
        "        predicted_class = np.argmax(y_pred.data)\n",
        "\n",
        "        # Check if the prediction is correct\n",
        "        if predicted_class == y_true:\n",
        "            correct_predictions += 1\n",
        "\n",
        "        total_predictions += 1\n",
        "\n",
        "    # Calculate accuracy\n",
        "    accuracy = correct_predictions / total_predictions\n",
        "    return accuracy"
      ]
    },
    {
      "cell_type": "markdown",
      "metadata": {
        "id": "8nG8gwGUBY5h"
      },
      "source": [
        "Fashion MNIST Loading"
      ]
    },
    {
      "cell_type": "code",
      "execution_count": 10,
      "metadata": {
        "colab": {
          "base_uri": "https://localhost:8080/"
        },
        "id": "yYY-2sVdBY5h",
        "outputId": "b5c137da-1b57-4eac-9e47-d537435adb45"
      },
      "outputs": [
        {
          "output_type": "stream",
          "name": "stdout",
          "text": [
            "(60000, 28, 28) (60000,)\n"
          ]
        }
      ],
      "source": [
        "# Load Fashion MNIST\n",
        "fashion_mnist = fetch_openml('Fashion-MNIST', version=1)\n",
        "images, labels = fashion_mnist.data, fashion_mnist.target\n",
        "\n",
        "images = images.values.reshape(-1, 28, 28)\n",
        "labels = labels.values\n",
        "X_train, X_test, y_train, y_test = train_test_split(images, labels, train_size=60000, test_size=10000, stratify=labels, random_state=42)\n",
        "print(X_train.shape, y_train.shape)"
      ]
    },
    {
      "cell_type": "markdown",
      "metadata": {
        "id": "aLpyCw0oBY5i"
      },
      "source": [
        "Let's see how the datapoints look like"
      ]
    },
    {
      "cell_type": "code",
      "execution_count": null,
      "metadata": {
        "colab": {
          "base_uri": "https://localhost:8080/",
          "height": 807
        },
        "id": "V4DNOXuHBY5i",
        "outputId": "979c00f5-a20c-4401-e102-6031e8aaa0cc"
      },
      "outputs": [
        {
          "output_type": "display_data",
          "data": {
            "text/plain": [
              "<Figure size 1000x1000 with 9 Axes>"
            ],
            "image/png": "[encoded data removed]"
          },
          "metadata": {}
        }
      ],
      "source": [
        "fig, axs = plt.subplots(3, 3, figsize=(10, 10))\n",
        "for i in range(9):\n",
        "    ax = axs[i//3, i%3]\n",
        "    ax.imshow(X_train[i].reshape(28, 28), cmap='gray')\n",
        "    ax.axis('off')"
      ]
    },
    {
      "cell_type": "code",
      "execution_count": 11,
      "metadata": {
        "id": "xUfLFVw-BY5i"
      },
      "outputs": [],
      "source": [
        "# Normalize the input data:\n",
        "X_train = X_train.astype('float32').reshape(-1, 784)\n",
        "X_test = X_test.astype('float32').reshape(-1, 784)\n",
        "y_train = y_train.astype('int64')\n",
        "y_test = y_test.astype('int64')\n",
        "X_train /= 255.0\n",
        "X_test /= 255.0"
      ]
    },
    {
      "cell_type": "markdown",
      "metadata": {
        "id": "dj5MMHnRBY5i"
      },
      "source": [
        "**TRAIN-VAL-TEST**\n",
        "\n",
        " In this section, we will search for hyperparameters by splitting the data into a training set (50,000 samples) and a validation set (10,000 samples). We will conduct the hyperparameter search using both Grid Search and Random Search methods."
      ]
    },
    {
      "cell_type": "code",
      "execution_count": 12,
      "metadata": {
        "id": "nHsN4eWRBY5i"
      },
      "outputs": [],
      "source": [
        "X_train, X_val, y_train, y_val = train_test_split(X_train, y_train, train_size=50000, test_size=10000, random_state=42)"
      ]
    },
    {
      "cell_type": "markdown",
      "metadata": {
        "id": "QMiO77JuBY5j"
      },
      "source": [
        "Auxilary function to estimate the model"
      ]
    },
    {
      "cell_type": "code",
      "execution_count": 8,
      "metadata": {
        "id": "cmcROGMnBY5j"
      },
      "outputs": [],
      "source": [
        "def train_and_evaluate(batch_size:int=32, num_epochs:int=50, lr:float=0.001,\n",
        "                       hidden_dims:List[int]=[64], test_evaluation:bool=False):\n",
        "    \"\"\"\n",
        "    Train a neural network model and evaluate its performance on a validation set.\n",
        "\n",
        "    This function trains the `MNIST_Net` model using the given hyperparameters, including\n",
        "    batch size, number of epochs, learning rate, and hidden layer dimensions. It shuffles\n",
        "    the training data at the start of each epoch and performs a forward and backward pass\n",
        "    to update the model weights. The function then evaluates the model on a validation set\n",
        "    and optionally on a test set.\n",
        "    \"\"\"\n",
        "    model = MNIST_Net(hidden_dims)\n",
        "\n",
        "    # Training loop\n",
        "    for epoch in range(num_epochs):\n",
        "        indices = np.arange(X_train.shape[0])\n",
        "        np.random.shuffle(indices)\n",
        "        X_shuffled = X_train[indices]\n",
        "        y_shuffled = y_train[indices]\n",
        "\n",
        "        for i in range(0, X_shuffled.shape[0], batch_size):\n",
        "            X_batch = X_shuffled[i:i + batch_size]\n",
        "            y_batch = y_shuffled[i:i + batch_size]\n",
        "\n",
        "            # Convert entire batch to flattened Tensors\n",
        "            X_tensors = [Tensor(data=x.flatten()) for x in X_batch]\n",
        "            preds = [model(x) for x in X_tensors]\n",
        "\n",
        "            # Compute loss for the batch\n",
        "            mb_loss = sum([ypred.cross_entropy(ytrue) for ytrue, ypred in zip(y_batch, preds)]) / batch_size\n",
        "\n",
        "            # Zero gradients\n",
        "            for p in model.parameters():\n",
        "                p.grad = np.zeros_like(p.grad)\n",
        "\n",
        "            # Backward pass\n",
        "            mb_loss.backward()\n",
        "\n",
        "            # Update weights\n",
        "            for p in model.parameters():\n",
        "                p.data -= lr * p.grad\n",
        "\n",
        "    # Calculate validation accuracy\n",
        "    validation_accuracy = validate(model, X_val, y_val)\n",
        "\n",
        "    # Calculate test set accuracy\n",
        "    if test_evaluation:\n",
        "        test_accuracy = validate(model, X_test, y_test)\n",
        "        return validation_accuracy, test_accuracy\n",
        "    else:\n",
        "        return validation_accuracy"
      ]
    },
    {
      "cell_type": "markdown",
      "metadata": {
        "id": "5hHEyw07BY5j"
      },
      "source": [
        "Let's see the exemplary trainig..."
      ]
    },
    {
      "cell_type": "code",
      "execution_count": 13,
      "metadata": {
        "colab": {
          "base_uri": "https://localhost:8080/"
        },
        "id": "ERAGqFZ1BY5j",
        "outputId": "7eeb53ed-9810-49d1-ccc5-8126f75c6e09"
      },
      "outputs": [
        {
          "output_type": "stream",
          "name": "stdout",
          "text": [
            "Before training: test accuracy: 0.095\n",
            "Validation accuracy: 0.8412\n"
          ]
        }
      ],
      "source": [
        "model = MNIST_Net()\n",
        "\n",
        "val_acc = validate(model, X_test, y_test)\n",
        "print(f\"Before training: test accuracy: {val_acc}\")\n",
        "\n",
        "# Parameters\n",
        "batch_size = 64\n",
        "num_epochs = 1\n",
        "lr = 0.5\n",
        "\n",
        "val_acc = train_and_evaluate(batch_size, num_epochs, lr)\n",
        "print(f\"Validation accuracy: {val_acc}\")\n"
      ]
    },
    {
      "cell_type": "markdown",
      "metadata": {
        "id": "rSoJO0-QBY5j"
      },
      "source": [
        "*GRID SEARCH*"
      ]
    },
    {
      "cell_type": "code",
      "execution_count": null,
      "metadata": {
        "id": "8L2_pclsBY5j"
      },
      "outputs": [],
      "source": [
        "# Add here more possibilities\n",
        "hyperparameter_space = {\n",
        "    'batch_size': [256, 128],\n",
        "    'num_epochs': [10],\n",
        "    'lr': [0.01, 0.1, 0.001],\n",
        "    'hidden_dims': [[64], [128, 64], [64, 64, 64]]\n",
        "}\n",
        "\n",
        "\n",
        "all_combinations_grid_search = list(product(\n",
        "    hyperparameter_space['batch_size'],\n",
        "    hyperparameter_space['num_epochs'],\n",
        "    hyperparameter_space['lr'],\n",
        "    hyperparameter_space['hidden_dims']\n",
        "))"
      ]
    },
    {
      "cell_type": "code",
      "execution_count": null,
      "metadata": {
        "id": "6KYsOGdoBY5k"
      },
      "outputs": [],
      "source": [
        "best_accuracy = 0\n",
        "for batch_size, num_epochs, lr, hidden_size in all_combinations_grid_search:\n",
        "    accuracy = train_and_evaluate(batch_size, num_epochs, lr, hidden_size)\n",
        "    if accuracy > best_accuracy:\n",
        "        best_accuracy = accuracy\n",
        "        best_hyperparameters = (batch_size, num_epochs, lr, hidden_size)"
      ]
    },
    {
      "cell_type": "code",
      "source": [
        "best_batch_size, best_num_epochs, best_lr, best_hidden_size = best_hyperparameters\n",
        "best_batch_size, best_num_epochs, best_lr, best_hidden_size, best_accuracy"
      ],
      "metadata": {
        "colab": {
          "base_uri": "https://localhost:8080/"
        },
        "id": "A1CjB0db-xMi",
        "outputId": "69f8350c-0395-4c80-9364-6a2f58683592"
      },
      "execution_count": null,
      "outputs": [
        {
          "output_type": "execute_result",
          "data": {
            "text/plain": [
              "(128, 10, 0.1, [128, 64], 0.8715)"
            ]
          },
          "metadata": {},
          "execution_count": 17
        }
      ]
    },
    {
      "cell_type": "markdown",
      "metadata": {
        "id": "-VIJCizRBY5k"
      },
      "source": [
        "After finding the best hyperparameters we evaluate them on test set"
      ]
    },
    {
      "cell_type": "code",
      "execution_count": null,
      "metadata": {
        "id": "n4PD8IzOBY5k",
        "colab": {
          "base_uri": "https://localhost:8080/"
        },
        "outputId": "727c83b7-2c18-44cb-ae69-6e0ccf44decf"
      },
      "outputs": [
        {
          "output_type": "stream",
          "name": "stdout",
          "text": [
            "Final Validation Accuracy: 0.866\n",
            "Final Test Accuracy: 0.866\n"
          ]
        }
      ],
      "source": [
        "best_batch_size, best_num_epochs, best_lr, best_hidden_size = best_hyperparameters\n",
        "grid_search_train_val_validation, grid_search_train_val_test = train_and_evaluate(best_batch_size, best_num_epochs, best_lr, best_hidden_size, True)\n",
        "print(f\"Final Validation Accuracy: {round(grid_search_train_val_validation, 3)}\")\n",
        "print(f\"Final Test Accuracy: {round(grid_search_train_val_test, 3)}\")"
      ]
    },
    {
      "cell_type": "markdown",
      "metadata": {
        "id": "9Ufrg6NFBY5k"
      },
      "source": [
        "**TRAIN VAL TEST - Random Search**"
      ]
    },
    {
      "cell_type": "code",
      "source": [
        "#a function to choose random combination of parameters from all possible combination of parameters\n",
        "def sample(x):\n",
        "  l = len(x)\n",
        "  l = np.arange(len(x))\n",
        "  t = np.random.choice(l)\n",
        "  return x[t]"
      ],
      "metadata": {
        "id": "xIYAX0oqCKr-"
      },
      "execution_count": 53,
      "outputs": []
    },
    {
      "cell_type": "code",
      "execution_count": null,
      "metadata": {
        "id": "VWUseKHjBY5k"
      },
      "outputs": [],
      "source": [
        "# Expand the hyperparameter space with additional options if needed.\n",
        "# Implement a similar approach for random search, where hyperparameters are sampled randomly.\n",
        "# Note: The hyperparameter space for random search can be larger compared to grid search,\n",
        "# as you are not limited to predefined discrete values.\n",
        "# However, to ensure a fair comparison between grid search and random search,\n",
        "# make sure to evaluate the model the same number of times in both methods.\n",
        "hyperparameter_space_random_search = {\n",
        "    'batch_size': [256, 128],\n",
        "    'num_epochs': [1, 2],\n",
        "    'lr': [0.5, 0.1],\n",
        "    'hidden_dims': [[64], [64, 128]]\n",
        "}\n",
        "\n",
        "all_combinations_random_search = list(product(\n",
        "    hyperparameter_space_random_search['batch_size'],\n",
        "    hyperparameter_space_random_search['num_epochs'],\n",
        "    hyperparameter_space_random_search['lr'],\n",
        "    hyperparameter_space_random_search['hidden_dims']\n",
        "))\n",
        "\n",
        "best_accuracy = 0\n",
        "for _ in range(len(all_combinations_grid_search)):\n",
        "    #sampled_hyperparameters = sample(hyperparameter_space_random_search)\n",
        "    sampled_hyperparameters = sample(all_combinations_random_search)\n",
        "    batch_size, num_epochs, lr, hidden_size = sampled_hyperparameters\n",
        "    accuracy = train_and_evaluate(batch_size, num_epochs, lr, hidden_size)\n",
        "    if accuracy > best_accuracy:\n",
        "        best_accuracy = accuracy\n",
        "        best_hyperparameters = (batch_size, num_epochs, lr, hidden_size)"
      ]
    },
    {
      "cell_type": "code",
      "source": [
        "best_hyperparameters, best_accuracy"
      ],
      "metadata": {
        "colab": {
          "base_uri": "https://localhost:8080/"
        },
        "id": "e7UgEzDoJh4y",
        "outputId": "77e5b340-8885-46ae-c353-23c3de719db1"
      },
      "execution_count": null,
      "outputs": [
        {
          "output_type": "execute_result",
          "data": {
            "text/plain": [
              "((128, 2, 0.5, [64, 128]), 0.851)"
            ]
          },
          "metadata": {},
          "execution_count": 26
        }
      ]
    },
    {
      "cell_type": "markdown",
      "metadata": {
        "id": "c5kmMHFyBY5k"
      },
      "source": [
        "After finding the best hyperparameters with random search we evalute them"
      ]
    },
    {
      "cell_type": "code",
      "execution_count": null,
      "metadata": {
        "id": "X2BnILpfBY5l",
        "colab": {
          "base_uri": "https://localhost:8080/"
        },
        "outputId": "e810a84c-4a3a-436b-a2b6-3e41718fe54f"
      },
      "outputs": [
        {
          "output_type": "stream",
          "name": "stdout",
          "text": [
            "Final Validation Accuracy: 0.866\n",
            "Final Test Accuracy: 0.846\n"
          ]
        }
      ],
      "source": [
        "best_batch_size, best_num_epochs, best_lr, best_hidden_size = best_hyperparameters\n",
        "random_search_train_val_validation, random_search_train_val_test = train_and_evaluate(best_batch_size, best_num_epochs, best_lr, best_hidden_size, True)\n",
        "print(f\"Final Validation Accuracy: {round(grid_search_train_val_validation, 3)}\")\n",
        "print(f\"Final Test Accuracy: {round(random_search_train_val_test, 3)}\")"
      ]
    },
    {
      "cell_type": "markdown",
      "metadata": {
        "id": "0_fJu4hMBY5l"
      },
      "source": [
        "**Cross-Validation**\n",
        "\n",
        "In this section, we will perform hyperparameter tuning using cross-validation. We will explore both Grid Search and Random Search methods. To ensure a fair comparison, make sure to evaluate your model the same number of times as in previous searches. Keep in mind that cross-validation involves training and evaluating the model multiple times for each set of hyperparameters, which provides a more robust estimate of model performance."
      ]
    },
    {
      "cell_type": "markdown",
      "metadata": {
        "id": "Yb78G2FTBY5l"
      },
      "source": [
        "Let's load data once more"
      ]
    },
    {
      "cell_type": "code",
      "execution_count": 46,
      "metadata": {
        "id": "3hTIYEwLBY5l"
      },
      "outputs": [],
      "source": [
        "X_train, X_test, y_train, y_test = train_test_split(images, labels, train_size=10000, test_size=3000, stratify=labels, random_state=42)"
      ]
    },
    {
      "cell_type": "code",
      "source": [
        "# Normalize the input data:\n",
        "X_train = X_train.astype('float32').reshape(-1, 784)\n",
        "X_test = X_test.astype('float32').reshape(-1, 784)\n",
        "y_train = y_train.astype('int64')\n",
        "y_test = y_test.astype('int64')\n",
        "X_train /= 255.0\n",
        "X_test /= 255.0"
      ],
      "metadata": {
        "id": "d0QUYr8bJVcH"
      },
      "execution_count": 47,
      "outputs": []
    },
    {
      "cell_type": "markdown",
      "metadata": {
        "id": "ZpTJtmYxBY5l"
      },
      "source": [
        "Auxilary function for model estimation with cross validation"
      ]
    },
    {
      "cell_type": "code",
      "source": [
        "#a function that help split training dataset to train data and val data by n folds\n",
        "def split_data_into_folds(n):\n",
        "  l = len(X_train)\n",
        "  ind_list = np.arange(l)\n",
        "  va = int(np.floor(l/n))\n",
        "  t = list()\n",
        "  for i in range(n):\n",
        "    list1 = np.arange(i*va, (i+1)*va)\n",
        "    list2 = [x for x in ind_list if x not in list1]\n",
        "    t.append([list2, list1])\n",
        "  return t"
      ],
      "metadata": {
        "id": "kqTQaAQIKyeZ"
      },
      "execution_count": 24,
      "outputs": []
    },
    {
      "cell_type": "code",
      "execution_count": 29,
      "metadata": {
        "id": "XS4--reyBY5q"
      },
      "outputs": [],
      "source": [
        "# Complete this function.\n",
        "\n",
        "def train_and_evaluate_cv(batch_size: int = 32, num_epochs: int = 50, lr: float = 0.001,\n",
        "                       hidden_dims: List[int] = [64], folds: int = 5, test_evaluation: bool = False):\n",
        "\n",
        "    # Initialize K-Fold cross-validation\n",
        "    validation_accuracies = []\n",
        "\n",
        "    kf = split_data_into_folds(folds) # funciton that generates indicies of belonging to specific fold\n",
        "\n",
        "    # Cross-validation loop\n",
        "    for train_index, val_index in kf:\n",
        "        X_fold_train, X_fold_val = X_train[train_index], X_train[val_index]\n",
        "        y_fold_train, y_fold_val = y_train[train_index], y_train[val_index]\n",
        "\n",
        "        # Initialize the model for each fold\n",
        "        model = MNIST_Net(hidden_dims)\n",
        "\n",
        "        # Training loop\n",
        "        for epoch in range(num_epochs):\n",
        "            indices = np.arange(X_fold_train.shape[0])\n",
        "            np.random.shuffle(indices)\n",
        "            X_shuffled = X_fold_train[indices]\n",
        "            y_shuffled = y_fold_train[indices]\n",
        "\n",
        "            for i in range(0, X_shuffled.shape[0], batch_size):\n",
        "                X_batch = X_shuffled[i:i + batch_size]\n",
        "                y_batch = y_shuffled[i:i + batch_size]\n",
        "\n",
        "                # Convert entire batch to flattened Tensors\n",
        "                X_tensors = [Tensor(data=x.flatten()) for x in X_batch]\n",
        "                preds = [model(x) for x in X_tensors]\n",
        "\n",
        "                # Compute loss for the batch\n",
        "                mb_loss = sum([ypred.cross_entropy(ytrue) for ytrue, ypred in zip(y_batch, preds)]) / batch_size\n",
        "\n",
        "                # Zero gradients\n",
        "                for p in model.parameters():\n",
        "                    p.grad = np.zeros_like(p.grad)\n",
        "\n",
        "                # Backward pass\n",
        "                mb_loss.backward()\n",
        "\n",
        "                # Update weights\n",
        "                for p in model.parameters():\n",
        "                    p.data -= lr * p.grad\n",
        "\n",
        "        # Calculate validation accuracy for this fold\n",
        "        validation_accuracy = validate(model, X_fold_val, y_fold_val)\n",
        "        validation_accuracies.append(validation_accuracy)\n",
        "\n",
        "    # Compute the average validation accuracy across all folds\n",
        "    avg_validation_accuracy = np.mean(validation_accuracies)\n",
        "\n",
        "    # Calculate test set accuracy if required\n",
        "    if test_evaluation:\n",
        "        test_accuracy = validate(model, X_test, y_test)\n",
        "        return avg_validation_accuracy, test_accuracy\n",
        "    else:\n",
        "        return avg_validation_accuracy"
      ]
    },
    {
      "cell_type": "markdown",
      "metadata": {
        "id": "3zckG_RNBY5q"
      },
      "source": [
        "Grid Search"
      ]
    },
    {
      "cell_type": "code",
      "execution_count": 48,
      "metadata": {
        "id": "4Vq3FHBHBY5r"
      },
      "outputs": [],
      "source": [
        "# Define the hyperparameter search space. Note: it should be smaller than the one used in the train-val-test example.\n",
        "# To ensure a fair comparison, each technique should evaluate the exact same number of models.\n",
        "hyperparameter_space = {\n",
        "    'batch_size': [128, 256],\n",
        "    'num_epochs': [1,10],\n",
        "    'lr': [0.1, 0.5],\n",
        "    'hidden_dims': [[64]]\n",
        "}\n",
        "\n",
        "all_combinations_grid_search_cv = list(product(\n",
        "    hyperparameter_space['batch_size'],\n",
        "    hyperparameter_space['num_epochs'],\n",
        "    hyperparameter_space['lr'],\n",
        "    hyperparameter_space['hidden_dims']\n",
        "))\n",
        "\n",
        "best_accuracy = 0\n",
        "folds = 5\n",
        "for batch_size, num_epochs, lr, hidden_size in all_combinations_grid_search_cv:\n",
        "    accuracy = train_and_evaluate_cv(batch_size, num_epochs, lr, hidden_size, folds)\n",
        "    if accuracy > best_accuracy:\n",
        "        best_accuracy = accuracy\n",
        "        best_hyperparameters = (batch_size, num_epochs, lr, hidden_size)"
      ]
    },
    {
      "cell_type": "code",
      "source": [
        "best_hyperparameters, best_accuracy"
      ],
      "metadata": {
        "colab": {
          "base_uri": "https://localhost:8080/"
        },
        "id": "w0Fft3xRSuDy",
        "outputId": "f6360b6c-e191-411b-919b-627207210263"
      },
      "execution_count": 49,
      "outputs": [
        {
          "output_type": "execute_result",
          "data": {
            "text/plain": [
              "((128, 10, 0.5, [64]), 0.8343)"
            ]
          },
          "metadata": {},
          "execution_count": 49
        }
      ]
    },
    {
      "cell_type": "markdown",
      "metadata": {
        "id": "Fdg-_aDLBY5r"
      },
      "source": [
        "After identifying the optimal hyperparameters through a grid search with cross-validation, we evaluate their performance on the test set"
      ]
    },
    {
      "cell_type": "code",
      "execution_count": 50,
      "metadata": {
        "id": "_IIt1W2oBY5r",
        "colab": {
          "base_uri": "https://localhost:8080/"
        },
        "outputId": "0f77ef32-8c7e-47ae-dace-4860c7f4bc9d"
      },
      "outputs": [
        {
          "output_type": "stream",
          "name": "stdout",
          "text": [
            "Final Validation Accuracy: 0.834\n",
            "Final Test Accuracy: 0.83\n"
          ]
        }
      ],
      "source": [
        "best_batch_size, best_num_epochs, best_lr, best_hidden_size = best_hyperparameters\n",
        "#grid_search_cv_validation, grid_search_cv_test = estimate_model_and_evaluate(best_hyperparameters, test_evaluation=True)\n",
        "grid_search_cv_validation, grid_search_cv_test = train_and_evaluate(best_hyperparameters[0],best_hyperparameters[1],best_hyperparameters[2],best_hyperparameters[3], test_evaluation=True)\n",
        "print(f\"Final Validation Accuracy: {round(grid_search_cv_validation, 3)}\")\n",
        "print(f\"Final Test Accuracy: {round(grid_search_cv_test, 3)}\")"
      ]
    },
    {
      "cell_type": "markdown",
      "metadata": {
        "id": "CZc-a6UHBY5r"
      },
      "source": [
        "Random Search"
      ]
    },
    {
      "cell_type": "code",
      "execution_count": 55,
      "metadata": {
        "id": "cApJWh1FBY5r"
      },
      "outputs": [],
      "source": [
        "# Hyperparameter search space. Remember that it should be smaller than one used in the train-val-test example.\n",
        "# For a fair comparison we should estimate by each technique exactly the same number of models.\n",
        "hyperparameter_space_random_search_cv = {\n",
        "    'batch_size': [128, 256, 512],\n",
        "    'num_epochs': [1, 10, 20, 30],\n",
        "    'lr': [0.1, 0.2, 0.5],\n",
        "    'hidden_dims': [[64],[64, 64], [128], [64, 128]]\n",
        "}\n",
        "\n",
        "all_combinations_random_search_cv = list(product(\n",
        "    hyperparameter_space_random_search['batch_size'],\n",
        "    hyperparameter_space_random_search['num_epochs'],\n",
        "    hyperparameter_space_random_search['lr'],\n",
        "    hyperparameter_space_random_search['hidden_dims']\n",
        "))\n",
        "\n",
        "best_accuracy = 0\n",
        "for _ in range(len(all_combinations_grid_search_cv)):\n",
        "    sampled_hyperparameters = sample(all_combinations_random_search_cv)\n",
        "    batch_size, num_epochs, lr, hidden_size = sampled_hyperparameters\n",
        "    accuracy = train_and_evaluate_cv(batch_size, num_epochs, lr, hidden_size)\n",
        "    if accuracy > best_accuracy:\n",
        "        best_accuracy = accuracy\n",
        "        best_hyperparameters = (batch_size, num_epochs, lr, hidden_size)"
      ]
    },
    {
      "cell_type": "code",
      "source": [
        "best_hyperparameters, best_accuracy"
      ],
      "metadata": {
        "colab": {
          "base_uri": "https://localhost:8080/"
        },
        "id": "2zxF0C030jrt",
        "outputId": "519d082a-7f24-42e2-89a7-67982affb74b"
      },
      "execution_count": 56,
      "outputs": [
        {
          "output_type": "execute_result",
          "data": {
            "text/plain": [
              "((128, 30, 0.2, [64]), 0.8524)"
            ]
          },
          "metadata": {},
          "execution_count": 56
        }
      ]
    },
    {
      "cell_type": "markdown",
      "metadata": {
        "id": "6hky4iROBY5r"
      },
      "source": [
        "After identifying the optimal hyperparameters through a random search with cross-validation, we evaluate their performance on the test set."
      ]
    },
    {
      "cell_type": "code",
      "execution_count": 57,
      "metadata": {
        "id": "essuLcrGBY5s",
        "colab": {
          "base_uri": "https://localhost:8080/"
        },
        "outputId": "ace11428-6030-4c41-b790-cab43cf93f08"
      },
      "outputs": [
        {
          "output_type": "stream",
          "name": "stdout",
          "text": [
            "Final Validation Accuracy: 0.856\n",
            "Final Test Accuracy: 0.847\n"
          ]
        }
      ],
      "source": [
        "best_batch_size, best_num_epochs, best_lr, best_hidden_size = best_hyperparameters\n",
        "random_search_cv_validation, random_search_cv_test = train_and_evaluate(best_hyperparameters[0],best_hyperparameters[1],best_hyperparameters[2],best_hyperparameters[3], test_evaluation=True)\n",
        "print(f\"Final Validation Accuracy: {round(random_search_cv_validation, 3)}\")\n",
        "print(f\"Final Test Accuracy: {round(random_search_cv_test, 3)}\")"
      ]
    },
    {
      "cell_type": "markdown",
      "metadata": {
        "id": "l8TSTqPyBY5s"
      },
      "source": [
        "Another hyperparameter optimization technique (Optional)"
      ]
    },
    {
      "cell_type": "code",
      "execution_count": 58,
      "metadata": {
        "id": "qSfCZUPHBY5s",
        "colab": {
          "base_uri": "https://localhost:8080/"
        },
        "outputId": "54031e28-5f69-49f2-b2e7-4089ff037524"
      },
      "outputs": [
        {
          "output_type": "stream",
          "name": "stdout",
          "text": [
            "Final Test Accuracy: 0.89\n"
          ]
        }
      ],
      "source": [
        "optional_test = 0.89\n",
        "print(f\"Final Test Accuracy: {round(optional_test, 3)}\")"
      ]
    },
    {
      "cell_type": "markdown",
      "metadata": {
        "id": "wJvJuP3jBY5s"
      },
      "source": [
        "Summary of all our results:"
      ]
    },
    {
      "cell_type": "code",
      "execution_count": 59,
      "metadata": {
        "id": "1GNNI_r_BY5s",
        "outputId": "5e24eca3-84d3-449f-9fd6-8b56e827ce7c",
        "colab": {
          "base_uri": "https://localhost:8080/",
          "height": 607
        }
      },
      "outputs": [
        {
          "output_type": "display_data",
          "data": {
            "text/plain": [
              "<Figure size 1000x600 with 1 Axes>"
            ],
            "image/png": "[encoded data removed]"
          },
          "metadata": {}
        }
      ],
      "source": [
        "grid_search_train_val_test = 0.866\n",
        "random_search_train_val_test = 0.846\n",
        "grid_search_cv_test = 0.83\n",
        "random_search_cv_test = 0.847\n",
        "optional_test = 0.89\n",
        "\n",
        "\n",
        "# Data for the bar plot\n",
        "labels = ['Grid Search (Train+Val)', 'Random Search (Train+Val)',\n",
        "          'Grid Search (CV Test)', 'Random Search (CV Test)', 'Optional Test']\n",
        "values = [\n",
        "        grid_search_train_val_test,\n",
        "          random_search_train_val_test,\n",
        "          grid_search_cv_test,\n",
        "          random_search_cv_test,\n",
        "          optional_test\n",
        "          ]\n",
        "\n",
        "# Create the bar plot\n",
        "plt.figure(figsize=(10, 6))\n",
        "plt.bar(labels, values, color='skyblue')\n",
        "plt.xlabel('Search Methods and Test Types', fontsize=12)\n",
        "plt.ylabel('Accuracy', fontsize=12)\n",
        "plt.title('Comparison of Search Methods and Test Accuracies', fontsize=14)\n",
        "plt.xticks(rotation=30, ha='right', fontsize=10)\n",
        "plt.tight_layout()\n",
        "plt.show()\n"
      ]
    },
    {
      "cell_type": "code",
      "source": [],
      "metadata": {
        "id": "5f3vYYQ90iKR"
      },
      "execution_count": null,
      "outputs": []
    }
  ],
  "metadata": {
    "kernelspec": {
      "display_name": "gmacio",
      "language": "python",
      "name": "python3"
    },
    "language_info": {
      "codemirror_mode": {
        "name": "ipython",
        "version": 3
      },
      "file_extension": ".py",
      "mimetype": "text/x-python",
      "name": "python",
      "nbconvert_exporter": "python",
      "pygments_lexer": "ipython3",
      "version": "3.10.11"
    },
    "colab": {
      "provenance": []
    }
  },
  "nbformat": 4,
  "nbformat_minor": 0
}