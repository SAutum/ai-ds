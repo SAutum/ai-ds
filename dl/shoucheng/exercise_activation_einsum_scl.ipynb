{
  "cells": [
    {
      "cell_type": "markdown",
      "metadata": {
        "id": "_rOWiPvUdivl"
      },
      "source": [
        "# Exercise 3\n",
        "\n",
        "In this exercise you will extend the Tensor class by\n",
        "- additional activation functions\n",
        "- tensor contraction with the einsum (Einstein summation).\n",
        "For both, you will write both forward and backward pass and derive their derivatives."
      ]
    },
    {
      "cell_type": "markdown",
      "metadata": {
        "id": "Mt0iT2J-divm"
      },
      "source": [
        "## Additional activation functions\n",
        "\n",
        "### GeLU\n",
        "\n",
        "The Gaussian error linear unit (GeLU) is defined as\n",
        "\n",
        "$$ \\text{GeLU}(x) = x \\cdot P( X \\leq x) $$\n",
        "\n",
        "where $ X \\sim \\mathcal{N}(0,1) $ is normally distributed and $P(X \\leq x)$ is the cumulative distribution function (CDF) of the standard normal distribution.\n",
        "For implementation, you can use the Gaussian error function defined as\n",
        "\n",
        "$$\n",
        "\\text{erf}(x) = \\frac{2}{\\sqrt{\\pi}} \\int_0^x e^{-t^2} \\, dt\n",
        "$$\n",
        "\n",
        "- Derive (submit as PDF) the derivative of the GeLU function.\n",
        "- Implement GeLU in the Tensor class provided below. Use the error function in the math module. Hint: Use the fundamental theorem of calculus\n",
        "\n",
        "\n",
        "### Leaky ReLU\n",
        "\n",
        "The Leaky Rectified Linear Unit (Leaky ReLU) is defined as:\n",
        "\n",
        "$$\n",
        "\\text{Leaky ReLU}(x) = \\begin{cases}\n",
        "x & \\text{if } x \\geq 0 \\\\\n",
        "\\alpha x & \\text{if } x < 0\n",
        "\\end{cases}\n",
        "$$\n",
        "\n",
        "where \\( \\alpha \\) is a small constant (typically \\( \\alpha = 0.01 \\)) that determines the slope of the function for negative inputs.\n",
        "\n",
        "- Derive (submit as PDF) the derivative of the GeLU function.\n",
        "- Implement leaky ReLU in the Tensor class provided below. Use the error function in the math module.\n"
      ]
    },
    {
      "cell_type": "code",
      "execution_count": 5,
      "metadata": {
        "id": "MiJFJ-C5divn",
        "outputId": "e1675526-85b3-4ac2-c7bb-d58dd5730b12",
        "colab": {
          "base_uri": "https://localhost:8080/",
          "height": 448
        }
      },
      "outputs": [
        {
          "output_type": "execute_result",
          "data": {
            "text/plain": [
              "<matplotlib.legend.Legend at 0x7e9480ad2500>"
            ]
          },
          "metadata": {},
          "execution_count": 5
        },
        {
          "output_type": "display_data",
          "data": {
            "text/plain": [
              "<Figure size 640x480 with 1 Axes>"
            ],
            "image/png": "[encoded data removed]"
          },
          "metadata": {}
        }
      ],
      "source": [
        "# Visualizations\n",
        "\n",
        "import numpy as np\n",
        "import math\n",
        "import matplotlib.pyplot as plt\n",
        "import re\n",
        "\n",
        "x = np.arange(-2,2,0.01)\n",
        "y_relu = np.maximum(0,x)\n",
        "y_gelu = x * 0.5 * (1 + np.array([math.erf(i) for i in x]))\n",
        "y_leaky_relu = np.maximum(0.01*x,x)\n",
        "\n",
        "plt.plot(x,y_relu,label='ReLU')\n",
        "plt.plot(x,y_gelu,label='GELU')\n",
        "plt.plot(x,y_leaky_relu,label='Leaky ReLU')\n",
        "plt.legend()\n"
      ]
    },
    {
      "cell_type": "markdown",
      "metadata": {
        "id": "P9zBeHzfdivo"
      },
      "source": [
        "# Tensor contraction with einsum (Einstein summation)\n",
        "\n",
        "The einsum method is a general approach to arbitrary size tensor operations (including matrix multiplication and various contractions).\n",
        "We will implement einsum for the contraction of two tensors $A \\in \\mathbb{E}^{n_1 \\times \\ldots \\times n_{d_1}}$ and $B \\in \\mathbb{E}^{m_1 \\times \\ldots \\times m_{d_1}}$.\n",
        "Let us denote by $I$ a set of summation indices.\n",
        "Let us denote by `u`, `v` and `w` three strings that contain at most one of each summation indices. Then an einsum operation is given by a string\n",
        "`C = einsum(u,v->w,A,B)` that multiples $A$ and $B$ according to the indices in `u` and `w` and then contracts for all the indices not present in `w`.\n",
        "For example, we get\n",
        "\n",
        "- Scalar product: If we have two vectors $a,b \\in \\mathbb{R}^n$ we can get $\\langle a, b \\rangle$ by `np.einsum(\"i,i->\", a, b)`.\n",
        "- Elementwise multiplication: If we have two vectors $a,b \\in \\mathbb{R}^n$ we can get $a * b$, the elementwise multiplication, by `np.einsum(\"i,i->i\", a, b)`.\n",
        "- Matrix-vector multiplication: If we are given a matrix $A \\in \\mathbb{R}^{n \\times m}$ and a vector $x \\in \\mathbb{R}^m$ we can obtain matrix multiplication $Ax$ by `np.einsum(\"ij,j->i\",A,x)`.\n",
        "- Matrix-multiplication: If we have two matrices $A \\in \\mathbb{R}^{n \\times m}$ and $B \\in \\mathbb{R}^{m \\times k}$ we can get $C = A \\cdot B$ by `np.einsum(\"ij,jk->ik\", A, B)`\n",
        "- Transpose: Given a matrix $A \\in \\mathbb{R}^{n \\times m}$ we can get its transpose $A^{\\top}$ by `np.einsum(\"ij->ji\",A)`.\n",
        "\n",
        "See [here](https://numpy.org/doc/stable/reference/generated/numpy.einsum.html) for the numpy implementation.\n",
        "See additionally [here](https://rockt.github.io/2018/04/30/einsum) for a more detailed intro to einsum.\n",
        "\n",
        "- Prove that the derivative of the einsum operation is $\\nabla_A$`einsum(u,v->w)`$ = $`einsum(v,w->u,B,C)` and $\\nabla_B$`einsum(u,v->w)`$ = $`einsum(u,w->v,A,C)`.\n",
        "- Implement the forward and backward pass of the einsum operation in the Tensor class provided below.\n",
        "\n"
      ]
    },
    {
      "cell_type": "code",
      "execution_count": 6,
      "metadata": {
        "id": "459rQ8PNdivo"
      },
      "outputs": [],
      "source": [
        "class Tensor:\n",
        "\n",
        "    def __init__(self, data=None, shape=None, children: set=(), operation=\"\", label=None, requires_grad=True):\n",
        "        assert data is not None or shape is not None\n",
        "        assert data is None or shape is None\n",
        "\n",
        "        if data is not None:\n",
        "            if isinstance(data, list):\n",
        "                self.data = np.array(data, dtype=float)\n",
        "            elif isinstance(data, (int, float, list)):\n",
        "                self.data = np.array(data, dtype=float)\n",
        "            else:\n",
        "                assert isinstance(data, np.ndarray)\n",
        "                self.data = data\n",
        "        else:\n",
        "            self.data = np.zeros(shape)\n",
        "        self._requires_grad = requires_grad\n",
        "        self._backward = lambda: None\n",
        "        self._prev = set(children)\n",
        "        self._operation = operation\n",
        "        self._label = label\n",
        "        if self._requires_grad:\n",
        "            self.grad = np.zeros_like(self.data)\n",
        "        else:\n",
        "            self.grad = None\n",
        "\n",
        "    def __repr__(self):\n",
        "        return f\"Tensor(data={self.data})\"\n",
        "\n",
        "    def __matmul__(self, other):\n",
        "        other = Tensor(data=other) if not isinstance(other, Tensor) else other\n",
        "        #out_data = self.data @ other.data\n",
        "        if len(self.data.shape) == 1 and len(other.data.shape) == 1:\n",
        "            return self.einsum(\"i,i->\", other)\n",
        "        if len(self.data.shape) == 2 and len(other.data.shape) == 1:\n",
        "            return self.einsum(\"ij,j->i\", other)\n",
        "        if len(self.data.shape) == 1 and len(other.data.shape) == 2:\n",
        "            return self.einsum(\"i,ij->j\", other)\n",
        "        if len(self.data.shape) == 2 and len(other.data.shape) == 2:\n",
        "            return self.einsum(\"ij,jk->ik\", other)\n",
        "\n",
        "    def scalar_mul(self, scalar):\n",
        "        out_data = scalar * self.data\n",
        "        out = Tensor(data=out_data, children=(self,), requires_grad=self._requires_grad)\n",
        "\n",
        "        def _backward():\n",
        "            self.grad += scalar * out.grad\n",
        "\n",
        "        out._backward = _backward\n",
        "        return out\n",
        "\n",
        "    def __mul__(self, other):\n",
        "        if isinstance(other, (int, float)):\n",
        "            return self.scalar_mul(other)\n",
        "\n",
        "        if isinstance(other, np.ndarray):\n",
        "            other = Tensor(data=other.astype(np.float))\n",
        "        else:\n",
        "            assert isinstance(other, Tensor)\n",
        "\n",
        "        other = Tensor(data=other) if not isinstance(other, Tensor) else other\n",
        "        out_data = self.data * other.data\n",
        "        out = Tensor(data=out_data, children=(self, other), requires_grad=self._requires_grad)\n",
        "\n",
        "        def _backward():\n",
        "            self.grad += other.data * out.grad\n",
        "            other.grad += self.data * out.grad\n",
        "\n",
        "        out._backward = _backward\n",
        "        return out\n",
        "\n",
        "    def __rmul__(self, other):\n",
        "        return self * other\n",
        "\n",
        "    def __add__(self, other):\n",
        "        if isinstance(other, (int, float)):\n",
        "            other = Tensor(data=(other * np.ones(self.data.shape)))\n",
        "        elif isinstance(other, np.ndarray):\n",
        "            other = Tensor(data=other.astype(np.float))\n",
        "        else:\n",
        "            assert isinstance(other, Tensor)\n",
        "\n",
        "        out_data = self.data + other.data\n",
        "        out = Tensor(data=out_data, children=(self, other), requires_grad=self._requires_grad)\n",
        "\n",
        "        def _backward():\n",
        "            self.grad += out.grad\n",
        "            other.grad += out.grad\n",
        "\n",
        "        out._backward = _backward\n",
        "\n",
        "        return out\n",
        "\n",
        "    def __radd__(self, other):\n",
        "        return self + other\n",
        "\n",
        "    def __neg__(self):\n",
        "        ones_data = Tensor(data = -np.ones(self.shape))\n",
        "        return self * ones_data\n",
        "\n",
        "    def __sub__(self, other):\n",
        "        return self + (-other)\n",
        "\n",
        "    def __rsub__(self, other):\n",
        "        return self - other\n",
        "\n",
        "    def __pow__(self, exponent):\n",
        "        assert isinstance(exponent, (int, float)), \"Only int/float can be used\"\n",
        "        out_data = self.data ** exponent\n",
        "        out = Tensor(data=out_data, children=(self,), requires_grad=self._requires_grad)\n",
        "\n",
        "        def _backward():\n",
        "            self.grad += exponent * (self.data ** (exponent - 1)) * out.grad.data\n",
        "        out._backward = _backward\n",
        "        return out\n",
        "\n",
        "    def __truediv__(self, other):\n",
        "        return self * other**-1\n",
        "\n",
        "    def tanh(self):\n",
        "        x = self.data\n",
        "        t = (np.exp(2*x) - 1) / (np.exp(2*x) + 1)\n",
        "        out = Tensor(data=t, children=(self,), operation=\"tanh\")\n",
        "\n",
        "        def _backward():\n",
        "            self.grad += (1 - t ** 2) * out.grad\n",
        "        out._backward = _backward\n",
        "        return out\n",
        "\n",
        "    def relu(self):\n",
        "        out_data = np.maximum(0.0, self.data)\n",
        "        out = Tensor(data=out_data, children=(self,), operation='ReLU')\n",
        "\n",
        "        def _backward():\n",
        "            self.grad += (self.data > 0) * out.grad\n",
        "        out._backward = _backward\n",
        "        return out\n",
        "\n",
        "    def gelu(self):\n",
        "        out_data = self.data * 0.5 * (1 + np.array([math.erf(i / np.sqrt(2)) for i in self.data]))\n",
        "        out = Tensor(data=out_data, children=(self,), operation='GeLU')\n",
        "\n",
        "        def _backward():\n",
        "            self.grad += (out_data / self.data + np.sqrt(2 / math.pi) * self.data * np.exp(-self.data**2 / 2)) * out.grad\n",
        "\n",
        "        out._backward = _backward\n",
        "        return out\n",
        "\n",
        "    def leaky_relu(self, alpha = 0.01):\n",
        "        out_data = np.maximum(alpha * self.data, self.data)\n",
        "        out = Tensor(data=out_data, children=(self,), operation='Leaky ReLU')\n",
        "\n",
        "        def _backward():\n",
        "            self.grad += (self.data != 0)*(out_data / self.data) * out.grad\n",
        "\n",
        "        out._backward = _backward\n",
        "        return out\n",
        "\n",
        "    def einsum(self, string, *tensors):\n",
        "        assert len(tensors) <= 1, \"At most two tensors supported\"\n",
        "        if len(tensors) == 0:\n",
        "            out_data = np.einsum(string, self.data)\n",
        "            out = Tensor(data=out_data, children=(self,), operation='Einsum')\n",
        "\n",
        "            def _backward():\n",
        "                self.grad += np.ones_like(self.data) * out.grad\n",
        "\n",
        "            out._backward = _backward\n",
        "            return out\n",
        "\n",
        "\n",
        "        if len(tensors) == 1:\n",
        "            other = tensors[0]\n",
        "            out_data = np.einsum(string, self.data, other.data)\n",
        "            out = Tensor(data=out_data, children=(self, other), operation='Einsum')\n",
        "\n",
        "            def _backward():\n",
        "                u, v, w = re.split(',|->', string)\n",
        "                string1 = v + ',' + w + '->' + u\n",
        "                string2 = u + ',' + w + '->' + v\n",
        "                self.grad += np.einsum(string1, other.data, np.ones_like(out_data)) * out.grad\n",
        "                other.grad += np.einsum(string2, self.data, np.ones_like(out_data)) * out.grad\n",
        "\n",
        "            out._backward = _backward\n",
        "            return out\n",
        "\n",
        "    @property\n",
        "    def T(self):\n",
        "        return self.einsum(\"ij->ji\")\n",
        "\n",
        "    # The main backward method\n",
        "    def backward(self):\n",
        "        assert self.data.shape == (1,) or self.data.shape == ()\n",
        "        self.grad = np.ones_like(self.data)\n",
        "        topo = []\n",
        "        visited = set()\n",
        "\n",
        "        def build_topo(v):\n",
        "            if v not in visited:\n",
        "                visited.add(v)\n",
        "                for child in v._prev:\n",
        "                    build_topo(child)\n",
        "                topo.append(v)\n",
        "        build_topo(self)\n",
        "\n",
        "        self.grad = np.ones_like(self.data)\n",
        "        for node in reversed(topo):\n",
        "            node._backward()"
      ]
    },
    {
      "cell_type": "code",
      "execution_count": 7,
      "metadata": {
        "id": "ru4bMYhudivp"
      },
      "outputs": [],
      "source": [
        "from graphviz import Digraph\n",
        "\n",
        "\"\"\" JUST ADDING THE .grad TO THE VISUALIZATION\"\"\"\n",
        "def trace(root):\n",
        "  # builds a set of all nodes and edges in a graph\n",
        "  nodes, edges = set(), set()\n",
        "  def build(v):\n",
        "    if v not in nodes:\n",
        "      nodes.add(v)\n",
        "      for child in v._prev:\n",
        "        edges.add((child, v))\n",
        "        build(child)\n",
        "  build(root)\n",
        "  return nodes, edges\n",
        "\n",
        "def draw_node_label(tensor):\n",
        "  l = \"\"\n",
        "  assert len(tensor.shape) == 0 or len(tensor.shape) == 1 or len(tensor.shape) == 2\n",
        "  if len(tensor.shape) == 0:\n",
        "    return f'{tensor.item():.2f}'\n",
        "  elif len(tensor.shape) == 1:\n",
        "    return \" \".join([f'{tensor.data[i]:.2f}' for i in range(tensor.shape[0])])\n",
        "  else:\n",
        "    for i in range(tensor.shape[0]):\n",
        "      l += \" \".join([f'{tensor.data[i, j]:.2f}' for j in range(tensor.shape[1])]) + \"\\\\n\"\n",
        "    return l\n",
        "\n",
        "def draw_dot(root):\n",
        "  dot = Digraph(format='svg', graph_attr={'rankdir': 'LR'}) # LR = left to right\n",
        "\n",
        "  nodes, edges = trace(root)\n",
        "  for n in nodes:\n",
        "    uid = str(id(n))\n",
        "    # for any value in the graph, create a rectangular ('record') node for it\n",
        "    label = '{' + f' {n._label} | ' + draw_node_label(n.data) + \" | \" + draw_node_label(n.grad) + '}'\n",
        "    dot.node(name = uid, label = label, shape='record')\n",
        "    if n._operation:\n",
        "      # if this value is a result of some operation, create an op node for it\n",
        "      dot.node(name = uid + n._operation, label = n._operation)\n",
        "      # and connect this node to it\n",
        "      dot.edge(uid + n._operation, uid)\n",
        "\n",
        "  for n1, n2 in edges:\n",
        "    # connect n1 to the op node of n2\n",
        "    dot.edge(str(id(n1)), str(id(n2)) + n2._operation)\n",
        "\n",
        "  return dot"
      ]
    },
    {
      "cell_type": "code",
      "execution_count": 8,
      "metadata": {
        "id": "NRXu6FxMdivp",
        "outputId": "438a1aa3-e54b-45f2-e90e-e2c20485e326",
        "colab": {
          "base_uri": "https://localhost:8080/",
          "height": 160
        }
      },
      "outputs": [
        {
          "output_type": "execute_result",
          "data": {
            "image/svg+xml": "<?xml version=\"1.0\" encoding=\"UTF-8\" standalone=\"no\"?>\n<!DOCTYPE svg PUBLIC \"-//W3C//DTD SVG 1.1//EN\"\n \"http://www.w3.org/Graphics/SVG/1.1/DTD/svg11.dtd\">\n<!-- Generated by graphviz version 2.43.0 (0)\n -->\n<!-- Title: %3 Pages: 1 -->\n<svg width=\"549pt\" height=\"104pt\"\n viewBox=\"0.00 0.00 548.69 104.00\" xmlns=\"http://www.w3.org/2000/svg\" xmlns:xlink=\"http://www.w3.org/1999/xlink\">\n<g id=\"graph0\" class=\"graph\" transform=\"scale(1 1) rotate(0) translate(4 100)\">\n<title>%3</title>\n<polygon fill=\"white\" stroke=\"transparent\" points=\"-4,4 -4,-100 544.69,-100 544.69,4 -4,4\"/>\n<!-- 139176274604816 -->\n<g id=\"node1\" class=\"node\">\n<title>139176274604816</title>\n<polygon fill=\"none\" stroke=\"black\" points=\"0,-57.5 0,-95.5 196,-95.5 196,-57.5 0,-57.5\"/>\n<text text-anchor=\"middle\" x=\"23\" y=\"-72.8\" font-family=\"Times,serif\" font-size=\"14.00\">None</text>\n<polyline fill=\"none\" stroke=\"black\" points=\"46,-57.5 46,-95.5 \"/>\n<text text-anchor=\"middle\" x=\"80\" y=\"-80.3\" font-family=\"Times,serif\" font-size=\"14.00\">1.00 2.00</text>\n<text text-anchor=\"middle\" x=\"80\" y=\"-65.3\" font-family=\"Times,serif\" font-size=\"14.00\">3.00 4.00</text>\n<polyline fill=\"none\" stroke=\"black\" points=\"114,-57.5 114,-95.5 \"/>\n<text text-anchor=\"middle\" x=\"155\" y=\"-80.3\" font-family=\"Times,serif\" font-size=\"14.00\">11.00 15.00</text>\n<text text-anchor=\"middle\" x=\"155\" y=\"-65.3\" font-family=\"Times,serif\" font-size=\"14.00\">11.00 15.00</text>\n</g>\n<!-- 139176274602656Einsum -->\n<g id=\"node3\" class=\"node\">\n<title>139176274602656Einsum</title>\n<ellipse fill=\"none\" stroke=\"black\" cx=\"270.35\" cy=\"-47.5\" rx=\"38.19\" ry=\"18\"/>\n<text text-anchor=\"middle\" x=\"270.35\" y=\"-43.8\" font-family=\"Times,serif\" font-size=\"14.00\">Einsum</text>\n</g>\n<!-- 139176274604816&#45;&gt;139176274602656Einsum -->\n<g id=\"edge3\" class=\"edge\">\n<title>139176274604816&#45;&gt;139176274602656Einsum</title>\n<path fill=\"none\" stroke=\"black\" d=\"M196.12,-59.97C205.78,-58.32 215.24,-56.71 223.98,-55.22\"/>\n<polygon fill=\"black\" stroke=\"black\" points=\"224.6,-58.67 233.87,-53.54 223.42,-51.77 224.6,-58.67\"/>\n</g>\n<!-- 139176274602656 -->\n<g id=\"node2\" class=\"node\">\n<title>139176274602656</title>\n<polygon fill=\"none\" stroke=\"black\" points=\"344.69,-28.5 344.69,-66.5 540.69,-66.5 540.69,-28.5 344.69,-28.5\"/>\n<text text-anchor=\"middle\" x=\"367.69\" y=\"-43.8\" font-family=\"Times,serif\" font-size=\"14.00\">None</text>\n<polyline fill=\"none\" stroke=\"black\" points=\"390.69,-28.5 390.69,-66.5 \"/>\n<text text-anchor=\"middle\" x=\"431.69\" y=\"-51.3\" font-family=\"Times,serif\" font-size=\"14.00\">19.00 22.00</text>\n<text text-anchor=\"middle\" x=\"431.69\" y=\"-36.3\" font-family=\"Times,serif\" font-size=\"14.00\">43.00 50.00</text>\n<polyline fill=\"none\" stroke=\"black\" points=\"472.69,-28.5 472.69,-66.5 \"/>\n<text text-anchor=\"middle\" x=\"506.69\" y=\"-51.3\" font-family=\"Times,serif\" font-size=\"14.00\">1.00 1.00</text>\n<text text-anchor=\"middle\" x=\"506.69\" y=\"-36.3\" font-family=\"Times,serif\" font-size=\"14.00\">1.00 1.00</text>\n</g>\n<!-- 139176274602656Einsum&#45;&gt;139176274602656 -->\n<g id=\"edge1\" class=\"edge\">\n<title>139176274602656Einsum&#45;&gt;139176274602656</title>\n<path fill=\"none\" stroke=\"black\" d=\"M308.73,-47.5C316.56,-47.5 325.18,-47.5 334.16,-47.5\"/>\n<polygon fill=\"black\" stroke=\"black\" points=\"334.43,-51 344.43,-47.5 334.43,-44 334.43,-51\"/>\n</g>\n<!-- 139176274603280 -->\n<g id=\"node4\" class=\"node\">\n<title>139176274603280</title>\n<polygon fill=\"none\" stroke=\"black\" points=\"7,-0.5 7,-38.5 189,-38.5 189,-0.5 7,-0.5\"/>\n<text text-anchor=\"middle\" x=\"30\" y=\"-15.8\" font-family=\"Times,serif\" font-size=\"14.00\">None</text>\n<polyline fill=\"none\" stroke=\"black\" points=\"53,-0.5 53,-38.5 \"/>\n<text text-anchor=\"middle\" x=\"87\" y=\"-23.3\" font-family=\"Times,serif\" font-size=\"14.00\">5.00 6.00</text>\n<text text-anchor=\"middle\" x=\"87\" y=\"-8.3\" font-family=\"Times,serif\" font-size=\"14.00\">7.00 8.00</text>\n<polyline fill=\"none\" stroke=\"black\" points=\"121,-0.5 121,-38.5 \"/>\n<text text-anchor=\"middle\" x=\"155\" y=\"-23.3\" font-family=\"Times,serif\" font-size=\"14.00\">4.00 4.00</text>\n<text text-anchor=\"middle\" x=\"155\" y=\"-8.3\" font-family=\"Times,serif\" font-size=\"14.00\">6.00 6.00</text>\n</g>\n<!-- 139176274603280&#45;&gt;139176274602656Einsum -->\n<g id=\"edge2\" class=\"edge\">\n<title>139176274603280&#45;&gt;139176274602656Einsum</title>\n<path fill=\"none\" stroke=\"black\" d=\"M189.16,-34.32C201.14,-36.29 212.98,-38.23 223.74,-40\"/>\n<polygon fill=\"black\" stroke=\"black\" points=\"223.26,-43.47 233.69,-41.64 224.39,-36.56 223.26,-43.47\"/>\n</g>\n</g>\n</svg>\n",
            "text/plain": [
              "<graphviz.graphs.Digraph at 0x7e94806886a0>"
            ]
          },
          "metadata": {},
          "execution_count": 8
        }
      ],
      "source": [
        "A = Tensor(data=[[1,2],[3,4]])\n",
        "B = Tensor(data=[[5,6],[7,8]])\n",
        "C = A@B\n",
        "C.grad = np.ones_like(C.data)\n",
        "C._backward()\n",
        "draw_dot(C)"
      ]
    },
    {
      "cell_type": "code",
      "execution_count": 11,
      "metadata": {
        "id": "Q3nhoEobdivp",
        "outputId": "2208de98-4de9-45a6-aee9-293297712a03",
        "colab": {
          "base_uri": "https://localhost:8080/"
        }
      },
      "outputs": [
        {
          "output_type": "execute_result",
          "data": {
            "text/plain": [
              "array([[227., 309.],\n",
              "       [515., 701.]])"
            ]
          },
          "metadata": {},
          "execution_count": 11
        }
      ],
      "source": [
        "A_grad = C.data @ B.data.transpose()\n",
        "A_grad"
      ]
    },
    {
      "cell_type": "code",
      "execution_count": 12,
      "metadata": {
        "id": "Wv0Czm4Zdivq",
        "outputId": "9d4b8efc-c98d-4e98-e3f8-23d09c395e95",
        "colab": {
          "base_uri": "https://localhost:8080/"
        }
      },
      "outputs": [
        {
          "output_type": "execute_result",
          "data": {
            "text/plain": [
              "array([[148., 172.],\n",
              "       [210., 244.]])"
            ]
          },
          "metadata": {},
          "execution_count": 12
        }
      ],
      "source": [
        "B_grad = A.data.transpose() @ C.data\n",
        "B_grad"
      ]
    }
  ],
  "metadata": {
    "kernelspec": {
      "display_name": "pytorch",
      "language": "python",
      "name": "python3"
    },
    "language_info": {
      "codemirror_mode": {
        "name": "ipython",
        "version": 3
      },
      "file_extension": ".py",
      "mimetype": "text/x-python",
      "name": "python",
      "nbconvert_exporter": "python",
      "pygments_lexer": "ipython3",
      "version": "3.11.5"
    },
    "colab": {
      "provenance": []
    }
  },
  "nbformat": 4,
  "nbformat_minor": 0
}