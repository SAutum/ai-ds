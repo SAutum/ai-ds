{
  "cells": [
    {
      "cell_type": "markdown",
      "metadata": {
        "id": "5De-F7tgEjyG"
      },
      "source": [
        "# Exercise 7"
      ]
    },
    {
      "cell_type": "markdown",
      "metadata": {
        "id": "Rf_VeYAzEjyH"
      },
      "source": [
        "## Group ID:\n",
        "## Exercise day:"
      ]
    },
    {
      "cell_type": "markdown",
      "metadata": {
        "id": "RtYTUIyyEjyH"
      },
      "source": [
        "### Imports"
      ]
    },
    {
      "cell_type": "code",
      "execution_count": 1,
      "metadata": {
        "id": "MJbx3IiJEjyI"
      },
      "outputs": [],
      "source": [
        "import torch\n",
        "import torch.nn as nn\n",
        "from torch.utils.data import TensorDataset, DataLoader\n",
        "from torchvision import datasets\n",
        "import torch.nn.functional as F\n",
        "import numpy as np\n",
        "from collections import Counter"
      ]
    },
    {
      "cell_type": "markdown",
      "metadata": {
        "id": "yxPttxeJEjyI"
      },
      "source": [
        "## Description\n",
        "\n",
        "This exercise sheet has the following subtasks:\n",
        "\n",
        "1. Normalization <br>\n",
        "    (a) Implement Layer Normalization (1.5 point) <br>\n",
        "    (b) Implement Group Normalization (1.5 point) <br>\n",
        "2. Imbalanced Classes <br>\n",
        "    (a) Implement Focal loss (1.5 point) <br>\n",
        "    (b) Train loop and comparison (0.5 point) <br>\n",
        "    "
      ]
    },
    {
      "cell_type": "markdown",
      "metadata": {
        "id": "4chUSWYsEjyI"
      },
      "source": [
        "### 1. Normalization"
      ]
    },
    {
      "cell_type": "markdown",
      "metadata": {
        "id": "K8kyql3SEjyJ"
      },
      "source": [
        "#### (a) Layer Normalization (1.5 point)\n",
        "\n",
        "Layer Normalization (LN) is a technique that normalizes the inputs across the features of a layer for each data point, rather than across the batch as in Batch Normalization. It is defined as:\n",
        "\n",
        "\n",
        "$\\text{LN}(x) = \\gamma \\cdot \\frac{x - \\mu}{\\sqrt{\\sigma^2 + \\epsilon}} + \\beta$,\n",
        "\n",
        "\n",
        "where:\n",
        "-   $x \\in \\mathbb{R}^{d_1\\times d_2 \\times \\dots \\times d_{R}}$ is a Tensor of order R\n",
        "-\t$\\mu$ is the mean of the features for the input tensor $x$ according to the last D dimensions.\n",
        "-\t$\\sigma^2$ is the variance of the features for the input tensor $x$ according to the last D dimensions.\n",
        "-\t$\\gamma$ and $\\beta$: Learnable parameters of shape $(d_{R-D+1}, d_{R-D+2}, \\dots, d_{R})$ used for scaling and shifting.\n",
        "-\t$\\epsilon$: A small constant added to the denominator for numerical stability.\n",
        "\n",
        "The following figure illustrates this for a Tensor $x$ of shape (N, C, H, W), where N is the batch size, C is the number of channels and H,W the spatial dimensions. The Layer Norm in this example is calculated over the **last three** dimension (C,H,W):\n",
        "\n",
        "![Layer Norm figure](https://pytorch.org/docs/stable/_images/layer_norm.jpg)<br>\n",
        "For more details you can refer to the paper [Layer Normalization (Ba et al.)](https://arxiv.org/abs/1607.06450)\n",
        "\n",
        "Task: Implement Layer Normalization as a `PyTorch Module`"
      ]
    },
    {
      "cell_type": "code",
      "execution_count": 14,
      "metadata": {
        "id": "akHGUS-_EjyJ"
      },
      "outputs": [],
      "source": [
        "class LayerNormCustom(nn.Module):\n",
        "    def __init__(self, normalized_shape, eps=1e-5):\n",
        "        super(LayerNormCustom, self).__init__()\n",
        "        ### your code here ###\n",
        "        self.eps = eps\n",
        "        self.normalized_shape = normalized_shape\n",
        "        ######################\n",
        "\n",
        "    def forward(self, x):\n",
        "        ### your code here ###\n",
        "        dims = [-(i+1) for i in range(len(self.normalized_shape))]\n",
        "        xmean = x.mean(dim = dims, keepdims = True)\n",
        "        xmean_2 = (x**2).mean(dim = dims, keepdims = True)\n",
        "        xvar = xmean_2 - xmean**2\n",
        "        #xvar = x.var(dim = dims, keepdims = True)\n",
        "\n",
        "        x_hat = (x - xmean) / torch.sqrt(xvar + self.eps)\n",
        "        return x_hat\n",
        "        ######################"
      ]
    },
    {
      "cell_type": "markdown",
      "metadata": {
        "id": "BgVLG8WwEjyJ"
      },
      "source": [
        "Test LayerNorm against the reference implementation"
      ]
    },
    {
      "cell_type": "code",
      "execution_count": 5,
      "metadata": {
        "colab": {
          "base_uri": "https://localhost:8080/"
        },
        "id": "tulHtAGgEjyJ",
        "outputId": "a421e572-6e4a-470f-ca7f-1c3bfd82cc87"
      },
      "outputs": [
        {
          "output_type": "stream",
          "name": "stdout",
          "text": [
            "Test passed!\n"
          ]
        }
      ],
      "source": [
        "# Test against PyTorch's implementation\n",
        "x = torch.randn(10, 20, 30)\n",
        "ln = nn.LayerNorm(x.shape[-2:])\n",
        "ln_custom = LayerNormCustom(x.shape[-2:])\n",
        "assert torch.allclose(ln(x), ln_custom(x), atol=1e-6)\n",
        "print(\"Test passed!\")"
      ]
    },
    {
      "cell_type": "code",
      "source": [
        "# test to delete\n",
        "x = torch.randn(2, 3, 4)\n",
        "normalized_shape = x.shape[-2:]\n",
        "dims = [-(i+1) for i in range(len(normalized_shape))]\n",
        "print(x,x.mean(dim = dims, keepdims = True), torch.sum(x[0])/12, torch.sum(x[1])/12)"
      ],
      "metadata": {
        "colab": {
          "base_uri": "https://localhost:8080/"
        },
        "id": "12wI89MRZMGk",
        "outputId": "96e0f031-a88e-4a66-f7a2-d20f0d9df670"
      },
      "execution_count": 15,
      "outputs": [
        {
          "output_type": "stream",
          "name": "stdout",
          "text": [
            "tensor([[[ 1.3200e+00, -2.8672e-01, -3.8429e-01, -1.1731e+00],\n",
            "         [-2.0198e-01,  5.8797e-01,  1.2449e+00,  9.0641e-01],\n",
            "         [-4.5002e-01,  1.4056e+00, -7.0341e-01, -1.0727e-03]],\n",
            "\n",
            "        [[-8.1341e-01, -2.1760e-02, -8.3198e-02,  8.9873e-01],\n",
            "         [-1.9946e+00,  5.0453e-01, -1.6472e-01, -1.5331e-01],\n",
            "         [ 6.7120e-01, -1.0612e+00, -9.1990e-01, -1.2303e+00]]]) tensor([[[ 0.1887]],\n",
            "\n",
            "        [[-0.3640]]]) tensor(0.1887) tensor(-0.3640)\n"
          ]
        }
      ]
    },
    {
      "cell_type": "markdown",
      "metadata": {
        "id": "erIli-N4EjyJ"
      },
      "source": [
        "#### (b) Group Normalization (1.5 point)"
      ]
    },
    {
      "cell_type": "markdown",
      "metadata": {
        "id": "J3FTd05dEjyJ"
      },
      "source": [
        "1. Input Tensor:  $\\mathbf{x} \\in \\mathbb{R}^{N \\times C \\times \\dots}$ , where $N$ is the batch size, $C$ is the number of features (e.g., channels), and the remaining dimensions $(H, W, \\dots)$ are spatial or sequence dimensions.\n",
        "2.\tGroups: Divide the C channels/features into G groups (provided as an argument).\n",
        "3.\tNormalization: Normalize each group independently.\n",
        "\t-\tFor a group g, compute:\n",
        "\t-\tThe mean:  $\\mu_g$\n",
        "\t-\tThe variance:  $\\sigma_g^2$\n",
        "\t-\tApply normalization:\n",
        "\n",
        "$$\\hat{x}_g = \\frac{x_g - \\mu_g}{\\sqrt{\\sigma_g^2 + \\epsilon}}$$\n",
        "\n",
        "4.\tScale and Shift: Apply learnable parameters $\\gamma$ and $\\beta$:\n",
        "\n",
        "$y = \\gamma \\cdot \\hat{x} + \\beta$\n",
        "\n",
        "where $\\gamma$ and $\\beta$ are vectors of size $C$.\n",
        "\n",
        "The Figure 2. in the paper [Group Normalization](https://arxiv.org/abs/1803.08494) shows the different types of normalization techniques\n",
        "\n",
        "![Normalization](normalization.png)"
      ]
    },
    {
      "cell_type": "markdown",
      "metadata": {
        "id": "mfXPeGbCEjyK"
      },
      "source": []
    },
    {
      "cell_type": "code",
      "execution_count": 15,
      "metadata": {
        "id": "P_PMtWQjEjyK"
      },
      "outputs": [],
      "source": [
        "class GroupNormCustom(nn.Module):\n",
        "    def __init__(self, num_features, num_groups, eps=1e-5):\n",
        "        \"\"\"\n",
        "        Args:\n",
        "            num_features (int): Number of features (e.g., channels in an image).\n",
        "            num_groups (int): Number of groups to divide the features into.\n",
        "            eps (float): A small value to prevent division by zero.\n",
        "        \"\"\"\n",
        "        super(GroupNormCustom, self).__init__()\n",
        "        ### your code here ###\n",
        "        self.num_features = num_features\n",
        "        self.num_groups = num_groups\n",
        "        self.eps = eps\n",
        "        self.gamma = nn.Parameter(torch.ones(self.num_features))\n",
        "        self.beta = nn.Parameter(torch.zeros(self.num_features))\n",
        "        ######################\n",
        "\n",
        "    def forward(self, x):\n",
        "        \"\"\"\n",
        "        Apply Group Normalization.\n",
        "\n",
        "        Args:\n",
        "            x (torch.Tensor): Input tensor of shape (N, C, ...).\n",
        "\n",
        "        Returns:\n",
        "            torch.Tensor: Normalized tensor with the same shape as x.\n",
        "        \"\"\"\n",
        "        ### your code here ###\n",
        "        n, c, h, w = x.shape\n",
        "        x = x.view(n, self.num_groups, -1)\n",
        "        xmean = x.mean(dim = [-1], keepdim = True)\n",
        "        xmean_2 = (x**2).mean(dim = [-1], keepdim = True)\n",
        "        xvar = xmean_2 - xmean**2\n",
        "        x_hat = (x - xmean) / torch.sqrt(xvar + self.eps)\n",
        "\n",
        "        x_hat = x_hat.view(n, self.num_features, -1)\n",
        "        x_hat = self.gamma.view(1, -1, 1)*x_hat + self.beta.view(1, -1, 1)\n",
        "        return x_hat.view([n, c, h, w])\n",
        "        ######################"
      ]
    },
    {
      "cell_type": "markdown",
      "metadata": {
        "id": "FVNVzO9oEjyK"
      },
      "source": [
        "Test GroupNorm against the reference implementation"
      ]
    },
    {
      "cell_type": "code",
      "execution_count": 23,
      "metadata": {
        "colab": {
          "base_uri": "https://localhost:8080/"
        },
        "id": "V_2Ar3UqEjyK",
        "outputId": "40bf668e-4cdb-48e0-9af8-a297594c09e7"
      },
      "outputs": [
        {
          "output_type": "stream",
          "name": "stdout",
          "text": [
            "Test passed!\n"
          ]
        }
      ],
      "source": [
        "num_features = 32\n",
        "# Random input tensor\n",
        "x = torch.randn(4, num_features, 16, 16)  # Shape (N, C, H, W)\n",
        "\n",
        "# Custom GroupNorm\n",
        "num_groups = 4 # must be a divisor of C\n",
        "custom_gn = GroupNormCustom(num_features=num_features, num_groups=num_groups)\n",
        "\n",
        "# PyTorch GroupNorm\n",
        "torch_gn = nn.GroupNorm(num_groups=num_groups, num_channels=8)\n",
        "#torch_gn = nn.GroupNorm(num_groups=num_groups, num_channels=num_features)\n",
        "torch_gn.weight.data = custom_gn.gamma.data.clone()  # Match gamma\n",
        "torch_gn.bias.data = custom_gn.beta.data.clone()  # Match beta\n",
        "\n",
        "# Compare outputs\n",
        "custom_out = custom_gn(x)\n",
        "torch_out = torch_gn(x)\n",
        "\n",
        "assert torch.allclose(custom_out, torch_out)\n",
        "print(\"Test passed!\")"
      ]
    },
    {
      "cell_type": "code",
      "source": [
        "# test to delete\n",
        "num_features = 32\n",
        "# Random input tensor\n",
        "x = torch.randn(4, num_features, 16, 16)  # Shape (N, C, H, W)\n",
        "\n",
        "# Custom GroupNorm\n",
        "num_groups = 4 # must be a divisor of C\n",
        "custom_gn = GroupNormCustom(num_features=num_features, num_groups=num_groups)\n",
        "\n",
        "# PyTorch GroupNorm\n",
        "torch_gn = nn.GroupNorm(num_groups=num_groups, num_channels=8)\n",
        "#torch_gn = nn.GroupNorm(num_groups=num_groups, num_channels=num_features)\n",
        "torch_gn.weight.data = custom_gn.gamma.data.clone()  # Match gamma\n",
        "torch_gn.bias.data = custom_gn.beta.data.clone()  # Match beta\n",
        "\n",
        "# Compare outputs\n",
        "custom_out = custom_gn(x)\n",
        "torch_out = torch_gn(x)\n",
        "print(custom_out.shape)"
      ],
      "metadata": {
        "colab": {
          "base_uri": "https://localhost:8080/"
        },
        "id": "qN8z0ra9ntDc",
        "outputId": "014d8d81-8a93-40b8-f86a-20dff2514052"
      },
      "execution_count": 24,
      "outputs": [
        {
          "output_type": "stream",
          "name": "stdout",
          "text": [
            "torch.Size([4, 32, 16, 16])\n"
          ]
        }
      ]
    },
    {
      "cell_type": "markdown",
      "metadata": {
        "id": "YowB5cXsEjyK"
      },
      "source": [
        "#### Compare Plain DeeperCNN with LayerNorm and GroupNorm\n",
        "The following part is just for demonstration purposes. If you implemented the Normalization correct, you should be able to run the following code without any errors.\n",
        "\n",
        "We will use LayerNorm and GroupNorm to make DeeperCNN (the one from the lecture) model work again."
      ]
    },
    {
      "cell_type": "code",
      "execution_count": 10,
      "metadata": {
        "id": "QYKbOOJcEjyK"
      },
      "outputs": [],
      "source": [
        "class DeeperCNN(nn.Module):\n",
        "    def __init__(self, c_in=1, c_out=10, hidden_dim_1=4, hidden_dim_2=8, nr_convs_per_block=2, activation=nn.ReLU):\n",
        "        super(DeeperCNN, self).__init__()\n",
        "\n",
        "        self.ops = []\n",
        "        self.conv_block_1 = [\n",
        "            nn.Conv2d(in_channels=c_in, out_channels=hidden_dim_1, kernel_size=(3,3), padding=1),\n",
        "            activation(),\n",
        "        ]\n",
        "        for i in range(nr_convs_per_block-1):\n",
        "            self.conv_block_1.extend([\n",
        "            nn.Conv2d(in_channels=hidden_dim_1, out_channels=hidden_dim_1, kernel_size=(3,3), padding=1),\n",
        "            activation()\n",
        "            ])\n",
        "        self.conv_block_1.append(nn.MaxPool2d(kernel_size=(2,2), stride=(2,2)))\n",
        "        self.conv_block_1 = nn.Sequential(*self.conv_block_1)\n",
        "\n",
        "        self.conv_block_2 = [\n",
        "            nn.Conv2d(in_channels=hidden_dim_1, out_channels=hidden_dim_2, kernel_size=(3,3), padding=1, stride=1),\n",
        "            activation()\n",
        "        ]\n",
        "        for i in range(nr_convs_per_block-1):\n",
        "            self.conv_block_2.extend([\n",
        "            nn.Conv2d(in_channels=hidden_dim_2, out_channels=hidden_dim_2, kernel_size=(3,3), padding=1, stride=1),\n",
        "            activation()\n",
        "            ])\n",
        "        self.conv_block_2.append(nn.MaxPool2d(kernel_size=(2,2), stride=(2,2)))\n",
        "        self.conv_block_2 = nn.Sequential(*self.conv_block_2)\n",
        "\n",
        "        self.MLP = nn.Sequential(\n",
        "            nn.Flatten(start_dim=-3, end_dim=-1),\n",
        "            nn.Linear(in_features=7*7*hidden_dim_2, out_features=c_out),\n",
        "            # nn.Softmax() -> no softmax, cross entropy loss in pytorch already applies softmax\n",
        "        )\n",
        "\n",
        "    def forward(self, x):\n",
        "        x = self.conv_block_1(x)\n",
        "        x = self.conv_block_2(x)\n",
        "        x = self.MLP(x)\n",
        "        return x"
      ]
    },
    {
      "cell_type": "code",
      "execution_count": 11,
      "metadata": {
        "id": "Z6rYJRUIEjyK"
      },
      "outputs": [],
      "source": [
        "class DeeperCNNLayerNorm(nn.Module):\n",
        "    def __init__(self, c_in=1, c_out=10, hidden_dim_1=4, hidden_dim_2=8, nr_convs_per_block=2, activation=nn.ReLU):\n",
        "        super(DeeperCNNLayerNorm, self).__init__()\n",
        "\n",
        "        self.ops = []\n",
        "        self.conv_block_1 = [\n",
        "            nn.Conv2d(in_channels=c_in, out_channels=hidden_dim_1, kernel_size=(3,3), padding=1),\n",
        "            LayerNormCustom((hidden_dim_1,28,28)),\n",
        "            activation(),\n",
        "        ]\n",
        "        for i in range(nr_convs_per_block-1):\n",
        "            self.conv_block_1.extend([\n",
        "            nn.Conv2d(in_channels=hidden_dim_1, out_channels=hidden_dim_1, kernel_size=(3,3), padding=1),\n",
        "            LayerNormCustom((hidden_dim_1,28,28)),\n",
        "            activation()\n",
        "            ])\n",
        "        self.conv_block_1.append(nn.MaxPool2d(kernel_size=(2,2), stride=(2,2))\n",
        "        )\n",
        "        self.conv_block_1 = nn.Sequential(*self.conv_block_1)\n",
        "\n",
        "        self.conv_block_2 = [\n",
        "            nn.Conv2d(in_channels=hidden_dim_1, out_channels=hidden_dim_2, kernel_size=(3,3), padding=1, stride=1),\n",
        "            LayerNormCustom((hidden_dim_2,14,14)),\n",
        "            activation()\n",
        "        ]\n",
        "        for i in range(nr_convs_per_block-1):\n",
        "            self.conv_block_2.extend([\n",
        "            nn.Conv2d(in_channels=hidden_dim_2, out_channels=hidden_dim_2, kernel_size=(3,3), padding=1, stride=1),\n",
        "            LayerNormCustom((hidden_dim_2,14,14)),\n",
        "            activation()\n",
        "            ])\n",
        "        self.conv_block_2.append(nn.MaxPool2d(kernel_size=(2,2), stride=(2,2))\n",
        "        )\n",
        "        self.conv_block_2 = nn.Sequential(*self.conv_block_2)\n",
        "\n",
        "        self.MLP = nn.Sequential(\n",
        "            nn.Flatten(start_dim=-3, end_dim=-1),\n",
        "            nn.Linear(in_features=7*7*hidden_dim_2, out_features=c_out),\n",
        "            # nn.Softmax() -> no softmax, cross entropy loss in pytorch already applies softmax\n",
        "        )\n",
        "\n",
        "    def forward(self, x):\n",
        "        x = self.conv_block_1(x)\n",
        "        x = self.conv_block_2(x)\n",
        "        x = self.MLP(x)\n",
        "        return x"
      ]
    },
    {
      "cell_type": "code",
      "execution_count": 12,
      "metadata": {
        "id": "w53ngPKTEjyL"
      },
      "outputs": [],
      "source": [
        "class DeeperCNNGroupNorm(nn.Module):\n",
        "    def __init__(self, c_in=1, c_out=10, hidden_dim_1=4, hidden_dim_2=8, nr_convs_per_block=2, activation=nn.ReLU):\n",
        "        super(DeeperCNNGroupNorm, self).__init__()\n",
        "\n",
        "        self.ops = []\n",
        "        self.conv_block_1 = [\n",
        "            nn.Conv2d(in_channels=c_in, out_channels=hidden_dim_1, kernel_size=(3,3), padding=1),\n",
        "            GroupNormCustom(hidden_dim_1, 2),\n",
        "            activation(),\n",
        "        ]\n",
        "        for i in range(nr_convs_per_block-1):\n",
        "            self.conv_block_1.extend([\n",
        "            nn.Conv2d(in_channels=hidden_dim_1, out_channels=hidden_dim_1, kernel_size=(3,3), padding=1),\n",
        "            GroupNormCustom(hidden_dim_1, 2),\n",
        "            activation()\n",
        "            ])\n",
        "        self.conv_block_1.append(nn.MaxPool2d(kernel_size=(2,2), stride=(2,2))\n",
        "        )\n",
        "        self.conv_block_1 = nn.Sequential(*self.conv_block_1)\n",
        "\n",
        "        self.conv_block_2 = [\n",
        "            nn.Conv2d(in_channels=hidden_dim_1, out_channels=hidden_dim_2, kernel_size=(3,3), padding=1, stride=1),\n",
        "            GroupNormCustom(hidden_dim_2, 2),\n",
        "            activation()\n",
        "        ]\n",
        "        for i in range(nr_convs_per_block-1):\n",
        "            self.conv_block_2.extend([\n",
        "            nn.Conv2d(in_channels=hidden_dim_2, out_channels=hidden_dim_2, kernel_size=(3,3), padding=1, stride=1),\n",
        "            GroupNormCustom(hidden_dim_2, 2),\n",
        "            activation()\n",
        "            ])\n",
        "        self.conv_block_2.append(nn.MaxPool2d(kernel_size=(2,2), stride=(2,2))\n",
        "        )\n",
        "        self.conv_block_2 = nn.Sequential(*self.conv_block_2)\n",
        "\n",
        "        self.MLP = nn.Sequential(\n",
        "            nn.Flatten(start_dim=-3, end_dim=-1),\n",
        "            nn.Linear(in_features=7*7*hidden_dim_2, out_features=c_out),\n",
        "            # nn.Softmax() -> no softmax, cross entropy loss in pytorch already applies softmax\n",
        "        )\n",
        "\n",
        "    def forward(self, x):\n",
        "        x = self.conv_block_1(x)\n",
        "        x = self.conv_block_2(x)\n",
        "        x = self.MLP(x)\n",
        "        return x"
      ]
    },
    {
      "cell_type": "markdown",
      "metadata": {
        "id": "K7Kg7deUEjyL"
      },
      "source": [
        "### Data loading and splitting"
      ]
    },
    {
      "cell_type": "code",
      "execution_count": 2,
      "metadata": {
        "colab": {
          "base_uri": "https://localhost:8080/"
        },
        "id": "nfvjSL7nEjyL",
        "outputId": "3d7e5f63-076a-4c1b-da66-170302665463"
      },
      "outputs": [
        {
          "output_type": "stream",
          "name": "stdout",
          "text": [
            "Downloading http://fashion-mnist.s3-website.eu-central-1.amazonaws.com/train-images-idx3-ubyte.gz\n",
            "Downloading http://fashion-mnist.s3-website.eu-central-1.amazonaws.com/train-images-idx3-ubyte.gz to data/FashionMNIST/raw/train-images-idx3-ubyte.gz\n"
          ]
        },
        {
          "output_type": "stream",
          "name": "stderr",
          "text": [
            "100%|██████████| 26.4M/26.4M [00:02<00:00, 11.2MB/s]\n"
          ]
        },
        {
          "output_type": "stream",
          "name": "stdout",
          "text": [
            "Extracting data/FashionMNIST/raw/train-images-idx3-ubyte.gz to data/FashionMNIST/raw\n",
            "\n",
            "Downloading http://fashion-mnist.s3-website.eu-central-1.amazonaws.com/train-labels-idx1-ubyte.gz\n",
            "Downloading http://fashion-mnist.s3-website.eu-central-1.amazonaws.com/train-labels-idx1-ubyte.gz to data/FashionMNIST/raw/train-labels-idx1-ubyte.gz\n"
          ]
        },
        {
          "output_type": "stream",
          "name": "stderr",
          "text": [
            "100%|██████████| 29.5k/29.5k [00:00<00:00, 202kB/s]\n"
          ]
        },
        {
          "output_type": "stream",
          "name": "stdout",
          "text": [
            "Extracting data/FashionMNIST/raw/train-labels-idx1-ubyte.gz to data/FashionMNIST/raw\n",
            "\n",
            "Downloading http://fashion-mnist.s3-website.eu-central-1.amazonaws.com/t10k-images-idx3-ubyte.gz\n",
            "Downloading http://fashion-mnist.s3-website.eu-central-1.amazonaws.com/t10k-images-idx3-ubyte.gz to data/FashionMNIST/raw/t10k-images-idx3-ubyte.gz\n"
          ]
        },
        {
          "output_type": "stream",
          "name": "stderr",
          "text": [
            "100%|██████████| 4.42M/4.42M [00:01<00:00, 3.75MB/s]\n"
          ]
        },
        {
          "output_type": "stream",
          "name": "stdout",
          "text": [
            "Extracting data/FashionMNIST/raw/t10k-images-idx3-ubyte.gz to data/FashionMNIST/raw\n",
            "\n",
            "Downloading http://fashion-mnist.s3-website.eu-central-1.amazonaws.com/t10k-labels-idx1-ubyte.gz\n",
            "Downloading http://fashion-mnist.s3-website.eu-central-1.amazonaws.com/t10k-labels-idx1-ubyte.gz to data/FashionMNIST/raw/t10k-labels-idx1-ubyte.gz\n"
          ]
        },
        {
          "output_type": "stream",
          "name": "stderr",
          "text": [
            "100%|██████████| 5.15k/5.15k [00:00<00:00, 22.7MB/s]"
          ]
        },
        {
          "output_type": "stream",
          "name": "stdout",
          "text": [
            "Extracting data/FashionMNIST/raw/t10k-labels-idx1-ubyte.gz to data/FashionMNIST/raw\n",
            "\n"
          ]
        },
        {
          "output_type": "stream",
          "name": "stderr",
          "text": [
            "\n"
          ]
        }
      ],
      "source": [
        "fashion_mnist_train = datasets.FashionMNIST(root='data', train=True, download=True)\n",
        "fashion_mnist_test = datasets.FashionMNIST(root='data', train=False, download=True)"
      ]
    },
    {
      "cell_type": "code",
      "execution_count": 3,
      "metadata": {
        "id": "hjGw5K7pEjyL"
      },
      "outputs": [],
      "source": [
        "X_train = fashion_mnist_train.data.reshape(-1, 1, 28, 28).float() / 255\n",
        "y_train = fashion_mnist_train.targets\n",
        "\n",
        "X_test = fashion_mnist_test.data.reshape(-1, 1, 28, 28).float() / 255\n",
        "y_test = fashion_mnist_test.targets\n",
        "\n",
        "train_dataset = TensorDataset(X_train, y_train)\n",
        "test_dataset = TensorDataset(X_test, y_test)\n",
        "\n",
        "train_loader = DataLoader(train_dataset, batch_size=32, shuffle=True)\n",
        "test_loader = DataLoader(test_dataset, batch_size=64, shuffle=False)"
      ]
    },
    {
      "cell_type": "code",
      "execution_count": 4,
      "metadata": {
        "id": "0osLwCysEjyL"
      },
      "outputs": [],
      "source": [
        "device = torch.device('cuda' if torch.cuda.is_available() else 'mps' if torch.backends.mps.is_available() else 'cpu')"
      ]
    },
    {
      "cell_type": "code",
      "execution_count": 5,
      "metadata": {
        "id": "aJP5gITIEjyL"
      },
      "outputs": [],
      "source": [
        "def validate(model, X_val, y_val):\n",
        "    # store model mode and set back to original mode after validation\n",
        "    model_mode = model.training\n",
        "    model.eval()\n",
        "    correct_predictions = 0\n",
        "\n",
        "    batch_size = 128\n",
        "    with torch.no_grad(): # do not record gradients\n",
        "        for i in range(0,X_val.shape[0],batch_size):\n",
        "            x = torch.Tensor(X_val[i:i+batch_size]).to(device)\n",
        "            x = x.reshape(-1, 1, 28, 28)\n",
        "            y_true = y_val[i:i+batch_size]\n",
        "\n",
        "            # Forward pass\n",
        "            y_pred = model(x)\n",
        "\n",
        "            # Get the predicted class (assuming y_pred is a Tensor with probabilities)\n",
        "            predicted_class = torch.argmax(y_pred.data, dim=1)\n",
        "\n",
        "            # Check if the prediction is correct\n",
        "            correct_predictions += (predicted_class.cpu().numpy() == y_true).sum()\n",
        "\n",
        "\n",
        "    # Calculate accuracy\n",
        "    accuracy = correct_predictions / X_val.shape[0]\n",
        "    model.train(model_mode)\n",
        "    return accuracy"
      ]
    },
    {
      "cell_type": "code",
      "execution_count": 6,
      "metadata": {
        "id": "khRaRlxmEjyL"
      },
      "outputs": [],
      "source": [
        "def train(model, X_train, y_train, X_test, y_test, num_epochs=3, lr=0.1, loss_fn=None):\n",
        "    model.train()\n",
        "    val_acc = validate(model, X_test, y_test)\n",
        "    train_acc = validate(model, X_train, y_train)\n",
        "    loss_fn = F.cross_entropy if loss_fn is None else loss_fn\n",
        "    print(f\"Training model {model.__class__.__name__} with {loss_fn} loss function for {num_epochs} epochs\")\n",
        "    print(f\"Before training: validation accuracy: {val_acc}\")\n",
        "\n",
        "    # Parameters\n",
        "    batch_size = 32\n",
        "\n",
        "    # Training loop\n",
        "    losses = []\n",
        "    val_accs = []\n",
        "    train_accs = []\n",
        "\n",
        "    for epoch in range(num_epochs):\n",
        "        # Shuffle the data at the beginning of each epoch\n",
        "        indices = np.arange(X_train.shape[0])\n",
        "        np.random.shuffle(indices)\n",
        "        X_shuffled = X_train[indices]\n",
        "        y_shuffled = y_train[indices]\n",
        "\n",
        "        loss = 0.0\n",
        "\n",
        "        for i in range(0, X_shuffled.shape[0], batch_size):\n",
        "            X_batch = torch.Tensor(X_shuffled[i:i + batch_size]).to(device)\n",
        "            X_batch = X_batch.reshape(-1,1,28,28)\n",
        "            y_batch = torch.Tensor(y_shuffled[i:i + batch_size]).to(device)\n",
        "\n",
        "            # Forward pass\n",
        "            preds = model(X_batch)\n",
        "\n",
        "            mb_loss = loss_fn(preds, y_batch)\n",
        "            loss += mb_loss * X_batch.shape[0] / X_train.shape[0]\n",
        "\n",
        "            #for layer in model.modules():\n",
        "            #    layer.out.retain_grad() ### Just temproary\n",
        "\n",
        "            ### ZERO GRAD ###\n",
        "            for p in model.parameters():\n",
        "                if p.grad is not None:\n",
        "                    p.grad.zero_()\n",
        "            # backward pass\n",
        "            mb_loss.backward()\n",
        "\n",
        "            # The weight update\n",
        "            for p in model.parameters():\n",
        "                p.data += -lr * p.grad\n",
        "\n",
        "        losses.append(loss)\n",
        "        val_acc = validate(model, X_test, y_test)\n",
        "        val_accs.append(val_acc)\n",
        "\n",
        "        train_acc = validate(model, X_train, y_train)\n",
        "        train_accs.append(train_acc)\n",
        "        print(f\"Epoch {epoch}, Loss: {loss}, validation accuracy: {val_acc}, train accuracy: {train_acc}\")\n",
        "\n",
        "    return losses, val_accs, train_accs"
      ]
    },
    {
      "cell_type": "code",
      "execution_count": 16,
      "metadata": {
        "id": "A7osUgytEjyM"
      },
      "outputs": [],
      "source": [
        "nr_convs_per_block = 8\n",
        "\n",
        "cnn_plain = DeeperCNN(nr_convs_per_block=nr_convs_per_block).to(device)\n",
        "cnn_layernorm = DeeperCNNLayerNorm(nr_convs_per_block=nr_convs_per_block).to(device)\n",
        "cnn_groupnorm = DeeperCNNGroupNorm(nr_convs_per_block=nr_convs_per_block).to(device)"
      ]
    },
    {
      "cell_type": "markdown",
      "metadata": {
        "id": "DNnogzTBEjyM"
      },
      "source": [
        "As we compare the three models, we will see that the plain CNN model will not learn anything meaningful. This is due to vanishing gradients in deeper networks. But we will also see that the LayerNorm and GroupNorm can help tackle this problem."
      ]
    },
    {
      "cell_type": "code",
      "execution_count": 13,
      "metadata": {
        "colab": {
          "base_uri": "https://localhost:8080/"
        },
        "id": "oA1_oWqgEjyM",
        "outputId": "db74e3eb-2686-44fb-abcb-06c3b7a9f4c1"
      },
      "outputs": [
        {
          "output_type": "stream",
          "name": "stdout",
          "text": [
            "Training model DeeperCNN with <function cross_entropy at 0x78cb6c0729e0> loss function for 3 epochs\n",
            "Before training: validation accuracy: 0.10000000149011612\n",
            "Epoch 0, Loss: 2.3033463954925537, validation accuracy: 0.10000000149011612, train accuracy: 0.10000000149011612\n",
            "Epoch 1, Loss: 2.303520679473877, validation accuracy: 0.10000000149011612, train accuracy: 0.10000000149011612\n",
            "Epoch 2, Loss: 2.303349733352661, validation accuracy: 0.10000000149011612, train accuracy: 0.10000000149011612\n",
            "Training model DeeperCNNLayerNorm with <function cross_entropy at 0x78cb6c0729e0> loss function for 3 epochs\n",
            "Before training: validation accuracy: 0.09619999676942825\n",
            "Epoch 0, Loss: 0.6097087264060974, validation accuracy: 0.8222000002861023, train accuracy: 0.833633303642273\n",
            "Epoch 1, Loss: 0.418120414018631, validation accuracy: 0.8539999723434448, train accuracy: 0.8642666935920715\n",
            "Epoch 2, Loss: 0.3810403048992157, validation accuracy: 0.8646000027656555, train accuracy: 0.8771833181381226\n",
            "Training model DeeperCNNGroupNorm with <function cross_entropy at 0x78cb6c0729e0> loss function for 3 epochs\n",
            "Before training: validation accuracy: 0.11069999635219574\n",
            "Epoch 0, Loss: 0.5744694471359253, validation accuracy: 0.854200005531311, train accuracy: 0.8618999719619751\n",
            "Epoch 1, Loss: 0.37573593854904175, validation accuracy: 0.8720999956130981, train accuracy: 0.8811500072479248\n",
            "Epoch 2, Loss: 0.33606237173080444, validation accuracy: 0.8769999742507935, train accuracy: 0.8845166563987732\n"
          ]
        },
        {
          "output_type": "execute_result",
          "data": {
            "text/plain": [
              "([tensor(0.5745, device='cuda:0', grad_fn=<AddBackward0>),\n",
              "  tensor(0.3757, device='cuda:0', grad_fn=<AddBackward0>),\n",
              "  tensor(0.3361, device='cuda:0', grad_fn=<AddBackward0>)],\n",
              " [tensor(0.8542), tensor(0.8721), tensor(0.8770)],\n",
              " [tensor(0.8619), tensor(0.8812), tensor(0.8845)])"
            ]
          },
          "metadata": {},
          "execution_count": 13
        }
      ],
      "source": [
        "num_epochs = 3\n",
        "lr = 0.1\n",
        "\n",
        "train(cnn_plain, X_train, y_train, X_test, y_test, num_epochs=num_epochs, lr=lr)\n",
        "train(cnn_layernorm, X_train, y_train, X_test, y_test, num_epochs=num_epochs, lr=lr)\n",
        "train(cnn_groupnorm, X_train, y_train, X_test, y_test, num_epochs=num_epochs, lr=lr)"
      ]
    },
    {
      "cell_type": "markdown",
      "metadata": {
        "id": "D7x6iZczEjyM"
      },
      "source": [
        "### 2. Imbalanced Classes\n",
        "The problem of imbalanced classes occurs in classification problems when one or more classes are significantly more common than others in the data. This imbalance can significantly affect the performance of machine learning models, as many algorithms tend to favour the dominant class and neglect the rarer classes."
      ]
    },
    {
      "cell_type": "markdown",
      "metadata": {
        "id": "Gyk5NzB3EjyM"
      },
      "source": [
        "Firstly, we will artificially construct an imbalanced dataset from the FashionMNIST dataset."
      ]
    },
    {
      "cell_type": "code",
      "execution_count": 7,
      "metadata": {
        "id": "tGEJsWwHEjyM"
      },
      "outputs": [],
      "source": [
        "def create_imbalanced_dataset(X, y, num_samples_per_class):\n",
        "    indices = []\n",
        "    for cls, num_samples in num_samples_per_class.items():\n",
        "        # Get indices of all samples for the current class\n",
        "        cls_indices = torch.where(y == cls)[0]\n",
        "        assert len(cls_indices) >= num_samples\n",
        "        indices.extend(cls_indices[:num_samples])\n",
        "\n",
        "    # Create the new dataset\n",
        "    X_imbalanced = X[indices]\n",
        "    y_imbalanced = y[indices]\n",
        "\n",
        "    return X_imbalanced, y_imbalanced"
      ]
    },
    {
      "cell_type": "code",
      "execution_count": 8,
      "metadata": {
        "colab": {
          "base_uri": "https://localhost:8080/"
        },
        "id": "e-e5bepOEjyM",
        "outputId": "855ca08f-00da-4b6b-8bbc-51a442251d11"
      },
      "outputs": [
        {
          "output_type": "stream",
          "name": "stdout",
          "text": [
            "Label 0: 600 samples\n",
            "Label 1: 1200 samples\n",
            "Label 2: 1800 samples\n",
            "Label 3: 2400 samples\n",
            "Label 4: 3000 samples\n",
            "Label 5: 3600 samples\n",
            "Label 6: 4200 samples\n",
            "Label 7: 4800 samples\n",
            "Label 8: 5400 samples\n",
            "Label 9: 6000 samples\n"
          ]
        }
      ],
      "source": [
        "samples_per_class = {k:(k+1)*600 for k in range(10)}\n",
        "samples_per_class_test = {k:(k+1)*100 for k in range(10)}\n",
        "\n",
        "X_train_imbalanced, y_train_imbalanced = create_imbalanced_dataset(X_train, y_train, samples_per_class)\n",
        "\n",
        "X_test_imbalanced, y_test_imbalanced = create_imbalanced_dataset(X_test, y_test, samples_per_class_test)\n",
        "\n",
        "imbalanced_labels = [target.item() for _,target in zip(X_train_imbalanced, y_train_imbalanced)]\n",
        "for k,v in Counter(imbalanced_labels).items():\n",
        "    print(f\"Label {k}: {v} samples\")"
      ]
    },
    {
      "cell_type": "markdown",
      "metadata": {
        "id": "PlLyZYyWEjyM"
      },
      "source": [
        "#### (a) Implement Focal loss (1.5 point)"
      ]
    },
    {
      "cell_type": "markdown",
      "metadata": {
        "id": "sdZWZuRUEjyM"
      },
      "source": [
        "The $\\alpha$-balanced focal loss is defined as:\n",
        "$$\n",
        "\\mathcal{L}_{\\text{focal}} = - \\alpha_{t} (1 - p_t)^\\gamma \\log(p_t)\n",
        "$$"
      ]
    },
    {
      "cell_type": "markdown",
      "metadata": {
        "id": "4ChAurHQEjyN"
      },
      "source": [
        "Implement the $\\alpha$-balanced focal loss with the following functionalities:\n",
        "- Support multi-class classification.\n",
        "- Accept parameters for $\\alpha$ (class balancing) and $\\gamma$ (focusing parameter).\n",
        "- Return the loss value for a batch of inputs and targets."
      ]
    },
    {
      "cell_type": "markdown",
      "metadata": {
        "id": "7E0VHmiGEjyN"
      },
      "source": [
        "Why does focal loss help?\n",
        "- The $\\gamma$ parameter down-weights the loss assigned to well-classified examples. This is useful when the dataset is imbalanced, as it helps the model to focus on the hard examples.\n",
        "- The $\\alpha$ parameter is used to balance the importance of the classes. This is useful when the dataset is imbalanced, as it helps the model to focus on the rare classes.\n",
        "\n",
        "For more details, you can refer to the paper [Focal Loss for Dense Object Detection](https://arxiv.org/abs/1708.02002)"
      ]
    },
    {
      "cell_type": "code",
      "execution_count": 37,
      "metadata": {
        "id": "gLY2VCByEjyN"
      },
      "outputs": [],
      "source": [
        "class FocalLoss(nn.Module):\n",
        "    def __init__(self, alpha, gamma):\n",
        "        super(FocalLoss, self).__init__()\n",
        "        ### your code here ###\n",
        "        self.alpha = alpha\n",
        "        self.gamma = gamma\n",
        "        ######################\n",
        "\n",
        "    def forward(self, scores, target):\n",
        "        ### your code here ###\n",
        "        log_softmax = F.log_softmax(scores, dim = 1)\n",
        "        log_pt = torch.gather(log_softmax, dim = 1, index = target.view(-1, 1)).view(-1)\n",
        "        pt = torch.exp(log_pt)\n",
        "        alpha = self.alpha.to(target.device)[target]\n",
        "        fl = -alpha*(1 - pt)**self.gamma*log_pt\n",
        "        return torch.sum(fl)\n",
        "        ######################\n"
      ]
    },
    {
      "cell_type": "markdown",
      "metadata": {
        "id": "yfmxTwL0EjyN"
      },
      "source": [
        "#### (b) Training loop and comparison (0.5 point)\n",
        "Train the model with the focal loss and compare the results with the model trained with the cross-entropy loss. You can use the provided code to train the model.\n",
        "After training, plot a confusion matrix for both models and compare the results in a few sentences.\n",
        "\n",
        "Subtasks:\n",
        "1. Train the model with both cross-entropy and focal loss (code is already given)\n",
        "2. Implement confusion matrix code\n",
        "3. Compare the results in a few sentences"
      ]
    },
    {
      "cell_type": "code",
      "execution_count": 38,
      "metadata": {
        "colab": {
          "base_uri": "https://localhost:8080/"
        },
        "id": "ipcsenCoEjyR",
        "outputId": "ffdd0c9b-d611-41ea-c7ce-c48ae81be7ae"
      },
      "outputs": [
        {
          "output_type": "stream",
          "name": "stdout",
          "text": [
            "tensor([0.3414, 0.1707, 0.1138, 0.0854, 0.0683, 0.0569, 0.0488, 0.0427, 0.0379,\n",
            "        0.0341])\n"
          ]
        }
      ],
      "source": [
        "# Train the model with Focal Loss\n",
        "num_epochs = 10\n",
        "nr_convs_per_block = 2\n",
        "cnn_focal = DeeperCNN(nr_convs_per_block=nr_convs_per_block).to(device)\n",
        "cnn_ce = DeeperCNN(nr_convs_per_block=nr_convs_per_block).to(device)\n",
        "alpha = torch.Tensor([sum(samples_per_class.values()) / samples_per_class[k] for k in range(10)])\n",
        "alpha = alpha / alpha.sum()\n",
        "print(alpha)"
      ]
    },
    {
      "cell_type": "code",
      "execution_count": 39,
      "metadata": {
        "colab": {
          "base_uri": "https://localhost:8080/"
        },
        "id": "MO7_KjtEEjyR",
        "outputId": "15d19c77-9973-4a02-b989-58847162403d"
      },
      "outputs": [
        {
          "output_type": "stream",
          "name": "stdout",
          "text": [
            "Training model DeeperCNN with FocalLoss() loss function for 10 epochs\n",
            "Before training: validation accuracy: 0.10109090805053711\n",
            "Epoch 0, Loss: 1.759844183921814, validation accuracy: 0.8241817951202393, train accuracy: 0.8330909013748169\n",
            "Epoch 1, Loss: 0.47468578815460205, validation accuracy: 0.8579999804496765, train accuracy: 0.8579394221305847\n",
            "Epoch 2, Loss: 0.41605114936828613, validation accuracy: 0.8589090704917908, train accuracy: 0.8672727346420288\n",
            "Epoch 3, Loss: 0.3894190490245819, validation accuracy: 0.8759999871253967, train accuracy: 0.887333333492279\n",
            "Epoch 4, Loss: 0.35651692748069763, validation accuracy: 0.8320000171661377, train accuracy: 0.8458485007286072\n",
            "Epoch 5, Loss: 0.3491992652416229, validation accuracy: 0.8847272992134094, train accuracy: 0.8937878608703613\n",
            "Epoch 6, Loss: 0.331964373588562, validation accuracy: 0.8341818451881409, train accuracy: 0.850151538848877\n",
            "Epoch 7, Loss: 0.3201969563961029, validation accuracy: 0.8654545545578003, train accuracy: 0.8760908842086792\n",
            "Epoch 8, Loss: 0.3172663450241089, validation accuracy: 0.8834545612335205, train accuracy: 0.8987575769424438\n",
            "Epoch 9, Loss: 0.31080392003059387, validation accuracy: 0.8692727088928223, train accuracy: 0.8803636431694031\n"
          ]
        },
        {
          "output_type": "execute_result",
          "data": {
            "text/plain": [
              "([tensor(1.7598, device='cuda:0', grad_fn=<AddBackward0>),\n",
              "  tensor(0.4747, device='cuda:0', grad_fn=<AddBackward0>),\n",
              "  tensor(0.4161, device='cuda:0', grad_fn=<AddBackward0>),\n",
              "  tensor(0.3894, device='cuda:0', grad_fn=<AddBackward0>),\n",
              "  tensor(0.3565, device='cuda:0', grad_fn=<AddBackward0>),\n",
              "  tensor(0.3492, device='cuda:0', grad_fn=<AddBackward0>),\n",
              "  tensor(0.3320, device='cuda:0', grad_fn=<AddBackward0>),\n",
              "  tensor(0.3202, device='cuda:0', grad_fn=<AddBackward0>),\n",
              "  tensor(0.3173, device='cuda:0', grad_fn=<AddBackward0>),\n",
              "  tensor(0.3108, device='cuda:0', grad_fn=<AddBackward0>)],\n",
              " [tensor(0.8242),\n",
              "  tensor(0.8580),\n",
              "  tensor(0.8589),\n",
              "  tensor(0.8760),\n",
              "  tensor(0.8320),\n",
              "  tensor(0.8847),\n",
              "  tensor(0.8342),\n",
              "  tensor(0.8655),\n",
              "  tensor(0.8835),\n",
              "  tensor(0.8693)],\n",
              " [tensor(0.8331),\n",
              "  tensor(0.8579),\n",
              "  tensor(0.8673),\n",
              "  tensor(0.8873),\n",
              "  tensor(0.8458),\n",
              "  tensor(0.8938),\n",
              "  tensor(0.8502),\n",
              "  tensor(0.8761),\n",
              "  tensor(0.8988),\n",
              "  tensor(0.8804)])"
            ]
          },
          "metadata": {},
          "execution_count": 39
        }
      ],
      "source": [
        "train(cnn_focal, X_train=X_train_imbalanced, y_train=y_train_imbalanced, X_test=X_test_imbalanced, y_test=y_test_imbalanced, num_epochs=num_epochs, lr=0.1, loss_fn=FocalLoss(alpha=alpha, gamma=2))"
      ]
    },
    {
      "cell_type": "code",
      "execution_count": 25,
      "metadata": {
        "colab": {
          "base_uri": "https://localhost:8080/"
        },
        "id": "-NbM57YYEjyR",
        "outputId": "a91819d4-3078-4582-9aca-2fc57e8326ee"
      },
      "outputs": [
        {
          "output_type": "stream",
          "name": "stdout",
          "text": [
            "Training model DeeperCNN with <function cross_entropy at 0x79547398add0> loss function for 10 epochs\n",
            "Before training: validation accuracy: 0.09072726964950562\n",
            "Epoch 0, Loss: 0.6879103183746338, validation accuracy: 0.839090883731842, train accuracy: 0.8406969904899597\n",
            "Epoch 1, Loss: 0.3618757128715515, validation accuracy: 0.8554545640945435, train accuracy: 0.864242434501648\n",
            "Epoch 2, Loss: 0.3238814175128937, validation accuracy: 0.8896363377571106, train accuracy: 0.8921211957931519\n",
            "Epoch 3, Loss: 0.3016812205314636, validation accuracy: 0.7770909070968628, train accuracy: 0.7800605893135071\n",
            "Epoch 4, Loss: 0.2847248613834381, validation accuracy: 0.8912727236747742, train accuracy: 0.9029393792152405\n",
            "Epoch 5, Loss: 0.27473556995391846, validation accuracy: 0.8794545531272888, train accuracy: 0.8938788175582886\n",
            "Epoch 6, Loss: 0.2622237205505371, validation accuracy: 0.819636344909668, train accuracy: 0.8270605802536011\n",
            "Epoch 7, Loss: 0.2564523220062256, validation accuracy: 0.8790909051895142, train accuracy: 0.8943636417388916\n",
            "Epoch 8, Loss: 0.2501639127731323, validation accuracy: 0.8899999856948853, train accuracy: 0.9014848470687866\n",
            "Epoch 9, Loss: 0.2437623292207718, validation accuracy: 0.8569090962409973, train accuracy: 0.8673030138015747\n"
          ]
        },
        {
          "output_type": "execute_result",
          "data": {
            "text/plain": [
              "([tensor(0.6879, device='cuda:0', grad_fn=<AddBackward0>),\n",
              "  tensor(0.3619, device='cuda:0', grad_fn=<AddBackward0>),\n",
              "  tensor(0.3239, device='cuda:0', grad_fn=<AddBackward0>),\n",
              "  tensor(0.3017, device='cuda:0', grad_fn=<AddBackward0>),\n",
              "  tensor(0.2847, device='cuda:0', grad_fn=<AddBackward0>),\n",
              "  tensor(0.2747, device='cuda:0', grad_fn=<AddBackward0>),\n",
              "  tensor(0.2622, device='cuda:0', grad_fn=<AddBackward0>),\n",
              "  tensor(0.2565, device='cuda:0', grad_fn=<AddBackward0>),\n",
              "  tensor(0.2502, device='cuda:0', grad_fn=<AddBackward0>),\n",
              "  tensor(0.2438, device='cuda:0', grad_fn=<AddBackward0>)],\n",
              " [tensor(0.8391),\n",
              "  tensor(0.8555),\n",
              "  tensor(0.8896),\n",
              "  tensor(0.7771),\n",
              "  tensor(0.8913),\n",
              "  tensor(0.8795),\n",
              "  tensor(0.8196),\n",
              "  tensor(0.8791),\n",
              "  tensor(0.8900),\n",
              "  tensor(0.8569)],\n",
              " [tensor(0.8407),\n",
              "  tensor(0.8642),\n",
              "  tensor(0.8921),\n",
              "  tensor(0.7801),\n",
              "  tensor(0.9029),\n",
              "  tensor(0.8939),\n",
              "  tensor(0.8271),\n",
              "  tensor(0.8944),\n",
              "  tensor(0.9015),\n",
              "  tensor(0.8673)])"
            ]
          },
          "metadata": {},
          "execution_count": 25
        }
      ],
      "source": [
        "train(cnn_ce, X_train=X_train_imbalanced, y_train=y_train_imbalanced, X_test=X_test_imbalanced, y_test=y_test_imbalanced, num_epochs=num_epochs, lr=0.1)"
      ]
    },
    {
      "cell_type": "markdown",
      "metadata": {
        "id": "hnQ74t0OEjyR"
      },
      "source": [
        "Now we compare the focal loss with the plain cross entropy loss on the imbalanced dataset\n",
        "\n",
        "Here you have to implement the plot_confusion_matrix function."
      ]
    },
    {
      "cell_type": "code",
      "execution_count": 58,
      "metadata": {
        "id": "3rsnsqDqEjyR"
      },
      "outputs": [],
      "source": [
        "# compare both models with confusion matrix\n",
        "from sklearn.metrics import confusion_matrix\n",
        "import matplotlib.pyplot as plt\n",
        "import seaborn as sn\n",
        "\n",
        "def plot_confusion_matrix(y_true, y_pred, classes, title='Confusion matrix', cmap=plt.cm.Blues):\n",
        "    ### your code here ###\n",
        "    mat_confusion = confusion_matrix(y_true, y_pred)\n",
        "    plt.figure(figsize = (15, 10))\n",
        "    fig, ax = plt.subplots()\n",
        "    im = ax.imshow(mat_confusion, cmap = cmap)\n",
        "    for i in range(len(classes)):\n",
        "      for j in range(len(classes)):\n",
        "        text = ax.text(j, i, mat_confusion[i, j],\n",
        "                       ha=\"center\", va=\"center\", color=\"b\")\n",
        "\n",
        "    plt.title(title)\n",
        "    #sn.heatmap(mat_confusion, annot=True)\n",
        "    plt.show()\n",
        "    ######################"
      ]
    },
    {
      "cell_type": "code",
      "execution_count": 59,
      "metadata": {
        "colab": {
          "base_uri": "https://localhost:8080/",
          "height": 923
        },
        "id": "aHuqTgmoEjyR",
        "outputId": "dca6d59f-87b3-40ba-96e1-c099318c2053"
      },
      "outputs": [
        {
          "output_type": "display_data",
          "data": {
            "text/plain": [
              "<Figure size 1500x1000 with 0 Axes>"
            ]
          },
          "metadata": {}
        },
        {
          "output_type": "display_data",
          "data": {
            "text/plain": [
              "<Figure size 640x480 with 1 Axes>"
            ],
            "image/png": "[encoded data removed]"
          },
          "metadata": {}
        },
        {
          "output_type": "display_data",
          "data": {
            "text/plain": [
              "<Figure size 1500x1000 with 0 Axes>"
            ]
          },
          "metadata": {}
        },
        {
          "output_type": "display_data",
          "data": {
            "text/plain": [
              "<Figure size 640x480 with 1 Axes>"
            ],
            "image/png": "[encoded data removed]"
          },
          "metadata": {}
        }
      ],
      "source": [
        "# confusion matrix for focal loss\n",
        "cnn_focal.eval()\n",
        "y_pred = []\n",
        "for i in range(0, X_test_imbalanced.shape[0], 32):\n",
        "    x = X_test_imbalanced[i:i+32].to(device)\n",
        "    y = y_test_imbalanced[i:i+32]\n",
        "    y_pred.extend(torch.argmax(cnn_focal(x), dim=1).cpu().numpy())\n",
        "plot_confusion_matrix(y_test_imbalanced, y_pred, classes=fashion_mnist_train.classes, title=\"Focal Loss\")\n",
        "\n",
        "# confusion matrix for cross entropy loss\n",
        "cnn_ce.eval()\n",
        "y_pred = []\n",
        "for i in range(0, X_test_imbalanced.shape[0], 32):\n",
        "    x = X_test_imbalanced[i:i+32].to(device)\n",
        "    y = y_test_imbalanced[i:i+32]\n",
        "    y_pred.extend(torch.argmax(cnn_ce(x), dim=1).cpu().numpy())\n",
        "plot_confusion_matrix(y_test_imbalanced, y_pred, classes=fashion_mnist_train.classes, title=\"Cross Entropy Loss\")"
      ]
    },
    {
      "cell_type": "code",
      "source": [
        "cnn_focal.eval()\n",
        "y_pred = []\n",
        "for i in range(0, X_test_imbalanced.shape[0], 32):\n",
        "    x = X_test_imbalanced[i:i+32].to(device)\n",
        "    y = y_test_imbalanced[i:i+32]\n",
        "    y_pred.extend(torch.argmax(cnn_focal(x), dim=1).cpu().numpy())\n",
        "a = set(y_pred)\n",
        "a"
      ],
      "metadata": {
        "colab": {
          "base_uri": "https://localhost:8080/"
        },
        "id": "DFPLameq8aku",
        "outputId": "63263b0f-d539-4c52-fe96-9fa6edd5b8fa"
      },
      "execution_count": 55,
      "outputs": [
        {
          "output_type": "execute_result",
          "data": {
            "text/plain": [
              "{0, 1, 2, 3, 4, 5, 6, 7, 8, 9}"
            ]
          },
          "metadata": {},
          "execution_count": 55
        }
      ]
    },
    {
      "cell_type": "markdown",
      "metadata": {
        "id": "zdORjq0AEjyS"
      },
      "source": [
        "Your interpretation of the results:"
      ]
    }
  ],
  "metadata": {
    "kernelspec": {
      "display_name": "Python 3",
      "name": "python3"
    },
    "language_info": {
      "codemirror_mode": {
        "name": "ipython",
        "version": 3
      },
      "file_extension": ".py",
      "mimetype": "text/x-python",
      "name": "python",
      "nbconvert_exporter": "python",
      "pygments_lexer": "ipython3",
      "version": "3.12.2"
    },
    "colab": {
      "provenance": [],
      "gpuType": "T4"
    },
    "accelerator": "GPU"
  },
  "nbformat": 4,
  "nbformat_minor": 0
}