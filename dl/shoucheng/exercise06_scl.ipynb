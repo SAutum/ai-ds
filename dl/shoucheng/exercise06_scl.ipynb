{
  "cells": [
    {
      "cell_type": "markdown",
      "metadata": {
        "id": "3_VzVbIBDlk7"
      },
      "source": [
        "# Exercise 6"
      ]
    },
    {
      "cell_type": "markdown",
      "metadata": {
        "id": "SDFe5XMMDlk9"
      },
      "source": [
        "## Group ID:\n",
        "## Exercise day:"
      ]
    },
    {
      "cell_type": "markdown",
      "metadata": {
        "id": "dF6EL_aaDlk9"
      },
      "source": [
        "### Imports"
      ]
    },
    {
      "cell_type": "code",
      "execution_count": 1,
      "metadata": {
        "id": "UiY0NmQaDlk9"
      },
      "outputs": [],
      "source": [
        "import torch\n",
        "import torch.nn as nn\n",
        "from torch.utils.data import TensorDataset, DataLoader\n",
        "from torchvision import datasets"
      ]
    },
    {
      "cell_type": "markdown",
      "metadata": {
        "id": "rNiQ8xUdDlk-"
      },
      "source": [
        "### Data loading and splitting"
      ]
    },
    {
      "cell_type": "code",
      "execution_count": 2,
      "metadata": {
        "id": "_rWpHuy0Dlk-",
        "colab": {
          "base_uri": "https://localhost:8080/"
        },
        "outputId": "c143a7d5-13fa-45ac-8dee-97ac2a1676fc"
      },
      "outputs": [
        {
          "output_type": "stream",
          "name": "stdout",
          "text": [
            "Downloading http://fashion-mnist.s3-website.eu-central-1.amazonaws.com/train-images-idx3-ubyte.gz\n",
            "Downloading http://fashion-mnist.s3-website.eu-central-1.amazonaws.com/train-images-idx3-ubyte.gz to data/FashionMNIST/raw/train-images-idx3-ubyte.gz\n"
          ]
        },
        {
          "output_type": "stream",
          "name": "stderr",
          "text": [
            "100%|██████████| 26.4M/26.4M [00:01<00:00, 13.4MB/s]\n"
          ]
        },
        {
          "output_type": "stream",
          "name": "stdout",
          "text": [
            "Extracting data/FashionMNIST/raw/train-images-idx3-ubyte.gz to data/FashionMNIST/raw\n",
            "\n",
            "Downloading http://fashion-mnist.s3-website.eu-central-1.amazonaws.com/train-labels-idx1-ubyte.gz\n",
            "Downloading http://fashion-mnist.s3-website.eu-central-1.amazonaws.com/train-labels-idx1-ubyte.gz to data/FashionMNIST/raw/train-labels-idx1-ubyte.gz\n"
          ]
        },
        {
          "output_type": "stream",
          "name": "stderr",
          "text": [
            "100%|██████████| 29.5k/29.5k [00:00<00:00, 203kB/s]\n"
          ]
        },
        {
          "output_type": "stream",
          "name": "stdout",
          "text": [
            "Extracting data/FashionMNIST/raw/train-labels-idx1-ubyte.gz to data/FashionMNIST/raw\n",
            "\n",
            "Downloading http://fashion-mnist.s3-website.eu-central-1.amazonaws.com/t10k-images-idx3-ubyte.gz\n",
            "Downloading http://fashion-mnist.s3-website.eu-central-1.amazonaws.com/t10k-images-idx3-ubyte.gz to data/FashionMNIST/raw/t10k-images-idx3-ubyte.gz\n"
          ]
        },
        {
          "output_type": "stream",
          "name": "stderr",
          "text": [
            "100%|██████████| 4.42M/4.42M [00:01<00:00, 3.72MB/s]\n"
          ]
        },
        {
          "output_type": "stream",
          "name": "stdout",
          "text": [
            "Extracting data/FashionMNIST/raw/t10k-images-idx3-ubyte.gz to data/FashionMNIST/raw\n",
            "\n",
            "Downloading http://fashion-mnist.s3-website.eu-central-1.amazonaws.com/t10k-labels-idx1-ubyte.gz\n",
            "Downloading http://fashion-mnist.s3-website.eu-central-1.amazonaws.com/t10k-labels-idx1-ubyte.gz to data/FashionMNIST/raw/t10k-labels-idx1-ubyte.gz\n"
          ]
        },
        {
          "output_type": "stream",
          "name": "stderr",
          "text": [
            "100%|██████████| 5.15k/5.15k [00:00<00:00, 5.78MB/s]\n"
          ]
        },
        {
          "output_type": "stream",
          "name": "stdout",
          "text": [
            "Extracting data/FashionMNIST/raw/t10k-labels-idx1-ubyte.gz to data/FashionMNIST/raw\n",
            "\n"
          ]
        }
      ],
      "source": [
        "fashion_mnist_train = datasets.FashionMNIST(root='data', train=True, download=True)\n",
        "fashion_mnist_test = datasets.FashionMNIST(root='data', train=False, download=True)\n",
        "\n",
        "X_train = fashion_mnist_train.data.reshape(-1, 1, 28, 28).float() / 255\n",
        "y_train = fashion_mnist_train.targets\n",
        "\n",
        "X_test = fashion_mnist_test.data.reshape(-1, 1, 28, 28).float() / 255\n",
        "y_test = fashion_mnist_test.targets"
      ]
    },
    {
      "cell_type": "markdown",
      "metadata": {
        "id": "t6WnBLiYDlk_"
      },
      "source": [
        "### PyTorch Dataset and DataLoader\n",
        "\n",
        "To make the training process easier, we will use the PyTorch `Dataset` and `DataLoader` classes. The Dataset class is an abstract class representing a dataset, while the DataLoader class provides an iterable over a dataset. In this case, we use the `TensorDataset` to wrap our data and the DataLoader class to iterate over the training and validation datasets."
      ]
    },
    {
      "cell_type": "code",
      "execution_count": 3,
      "metadata": {
        "id": "Kxj9hotxDlk_"
      },
      "outputs": [],
      "source": [
        "train_dataset = TensorDataset(X_train, y_train)\n",
        "test_dataset = TensorDataset(X_test, y_test)\n",
        "\n",
        "train_loader = DataLoader(train_dataset, batch_size=32, shuffle=True)\n",
        "test_loader = DataLoader(test_dataset, batch_size=64, shuffle=False)"
      ]
    },
    {
      "cell_type": "markdown",
      "metadata": {
        "id": "_J1gqqmVDlk_"
      },
      "source": [
        "## Description\n",
        "With all the introduction steps done, we can now start implementing the `GoogLeNet` architecture.\n",
        "In this  exercise, you will implement a small version of the GoogLeNet architecture. The GoogLeNet architecture is a deep convolutional neural network that was proposed by Szegedy et al. in 2014. The architecture is known for its use of `inception modules`, which are modules that perform multiple convolutions with different filter sizes and then concatenate the results. The architecture also uses `auxiliary classifiers` to help with training.\n",
        "This notebook will guide you through the implementation and there will be the following subtasks you need to complete:\n",
        "\n",
        "1. Implement the Inception module (1 points)\n",
        "2. Implement the auxiliary classifier (1 point)\n",
        "3. Implement the BabyGoogLeNet architecture (2 point)\n",
        "4. Train the model on FashionMNIST (1 point)\n",
        "\n",
        "For a more detailed explanation of the GoogLeNet architecture, you can refer to the [original paper](https://arxiv.org/abs/1409.4842).\n"
      ]
    },
    {
      "cell_type": "markdown",
      "metadata": {
        "id": "oj3vLnI0Dlk_"
      },
      "source": [
        "### Inception Module\n",
        "\n",
        "The following figure shows the structure of the inception module, where we here only refer to the subfigure (b) Inception module with dimesion reduction:\n",
        "\n",
        "![Inception Module](inception_module.png)\n",
        "\n",
        "The inception module is a module that performs multiple convolutions with different filter sizes and then concatenates the results. The module consists of four branches, each of which performs a different operation. The first branch performs a 1x1 convolution, the second branch performs a 1x1 convolution followed by a 3x3 convolution, the third branch performs a 1x1 convolution followed by a 5x5 convolution, and the fourth branch performs a 3x3 max pooling followed by a 1x1 convolution. The outputs of the four branches are then concatenated along the channel dimension.\n",
        "After each convolution operation, a ReLU activation function is applied."
      ]
    },
    {
      "cell_type": "markdown",
      "metadata": {
        "id": "7XED1x0YDllA"
      },
      "source": [
        "### 1. Implement the Inception module (1 points)"
      ]
    },
    {
      "cell_type": "markdown",
      "metadata": {
        "id": "WuJc-LjeDllA"
      },
      "source": [
        "The following PyTorch functions will be useful for implementing the different modules in this exercise:\n",
        "\n",
        "- `nn.Conv2d(in_channels, out_channels, kernel_size, stride, padding)`: Creates a 2D convolutional layer with the specified number of input and output channels, kernel size, stride, and padding.\n",
        "\n",
        "- `nn.ReLU()`: Creates a ReLU activation function.\n",
        "\n",
        "- `nn.LeakyReLU()`: Creates a Leaky ReLU activation function.\n",
        "\n",
        "- `torch.cat(tensors, dim)`: Concatenates the given sequence of tensors along the given dimension.\n",
        "\n",
        "- `torch.flatten(input, start_dim, end_dim)`: Flattens a contiguous range of dims into a tensor.\n",
        "\n",
        "- `nn.MaxPool2d(kernel_size, stride, padding)`: Creates a 2D max pooling layer with the specified kernel size, stride, and padding.\n",
        "\n",
        "- `nn.AvgPool2d(kernel_size, stride, padding)`: Creates a 2D average pooling layer with the specified kernel size, stride, and padding.\n",
        "\n",
        "- `nn.AdaptiveAvgPool2d(output_size)`: Creates an adaptive average pooling layer that outputs a tensor with the specified output size.\n",
        "\n",
        "- `nn.Sequential(*args)`: A sequential container that stores a sequence of layers. The layers will be executed in order. e.g `nn.Sequential(nn.Conv2d(1, 1, 3), nn.ReLU(), nn.Conv2d(1, 1, 3))` will create a sequential model with two convolutional layers and a ReLU activation function inbetween.\n",
        "\n",
        "You can also use any other PyTorch functions that you find useful. You can refer to the [PyTorch documentation](https://pytorch.org/docs/stable/index.html) for more information.\n"
      ]
    },
    {
      "cell_type": "markdown",
      "metadata": {
        "id": "Fh8jGzfZDllA"
      },
      "source": [
        "One thing you need to keep in mind using PyTorch is that each building block you implement should be a subclass of `nn.Module`. This is because PyTorch uses a dynamic computation graph, and subclassing `nn.Module` allows PyTorch to keep track of the parameters of the model. Specify the layers you want to use in the `__init__` method and define the forward pass in the `forward` method."
      ]
    },
    {
      "cell_type": "code",
      "execution_count": 4,
      "metadata": {
        "id": "3RVzqKeaDllA"
      },
      "outputs": [],
      "source": [
        "class InceptionModule(nn.Module):\n",
        "    def __init__(self, in_channels, out_channels):\n",
        "        super(InceptionModule, self).__init__()\n",
        "        ### Your code here ###\n",
        "        b1 = int(out_channels/4)\n",
        "        b2_1 = int(out_channels/4)\n",
        "        b2_2 = 2*b2_1\n",
        "        b3_1 = int(out_channels/16)\n",
        "        b3_2 = b3_1*2\n",
        "        b4 = out_channels - b1 - b2_2 - b3_2\n",
        "        # 1st branch: a 1×1 convolution\n",
        "        self.branch1 = nn.Sequential(nn.Conv2d(in_channels, b1, 1), nn.ReLU())\n",
        "\n",
        "        # 2nd branch: a 1x1 convolution followed by a 3x3 convolution\n",
        "        self.branch2 = nn.Sequential(nn.Conv2d(in_channels, b2_1, 1), nn.ReLU(), nn.Conv2d(b2_1, b2_2, 3, 1, 1), nn.ReLU())\n",
        "\n",
        "        # 3nd branch: a 1x1 convolution followed by a 5x5 convolution\n",
        "        self.branch3 = nn.Sequential(nn.Conv2d(in_channels, b3_1, 1), nn.ReLU(), nn.Conv2d(b3_1, b3_2, 5, 1, 2), nn.ReLU())\n",
        "\n",
        "        # 4th branch: a 3x3 max pooling followed by a 1x1 convolution\n",
        "        self.branch4 = nn.Sequential(nn.MaxPool2d(3, 1, 1), nn.Conv2d(in_channels, b4, 1), nn.ReLU())\n",
        "\n",
        "        #####################ä\n",
        "\n",
        "\n",
        "\n",
        "    def forward(self, x):\n",
        "        ### Your code here ###\n",
        "        x = torch.cat([self.branch1(x), self.branch2(x), self.branch3(x), self.branch4(x)], dim=1)\n",
        "        #x = torch.cat([self.branch1(x), self.branch2(x)], dim=1)\n",
        "        return x\n",
        "        ######################"
      ]
    },
    {
      "cell_type": "markdown",
      "metadata": {
        "id": "LdNVdx2_DllA"
      },
      "source": [
        "### Test"
      ]
    },
    {
      "cell_type": "code",
      "execution_count": 5,
      "metadata": {
        "id": "yqAcRzfhDllB"
      },
      "outputs": [],
      "source": [
        "# Test the InceptionModule output shape\n",
        "module = InceptionModule(1, 64)\n",
        "x = torch.randn(1, 1, 28, 28)\n",
        "\n",
        "assert module(x).shape == torch.Size([1, 64, 28, 28]), f\"Shape was {module(x).shape} instead of torch.Size([1, 64, 28, 28])\""
      ]
    },
    {
      "cell_type": "markdown",
      "metadata": {
        "id": "e5rEK-oeDllB"
      },
      "source": [
        "### 2. Implement the auxiliary classifier (1 point)"
      ]
    },
    {
      "cell_type": "markdown",
      "metadata": {
        "id": "aS1MIIZJDllB"
      },
      "source": [
        "The auxiliary classifier is a small classifier that is added to the network to help with training. The auxiliary classifier is added after the first and second inception module and consists of a 3x3 average pooling layer followed by a 1x1 convolutional layer, LeakyReLU activation, Adaptive average pooling with output size (1,1) and a fully connected layer. The auxiliary classifier is used to provide additional supervision to the network during training."
      ]
    },
    {
      "cell_type": "markdown",
      "metadata": {
        "id": "t7NGufZ0DllB"
      },
      "source": [
        "Implement the auxiliary classifier with the following structure:\n",
        "\n",
        "- 3x3 average pooling layer with stride 2\n",
        "- 1x1 convolutional layer\n",
        "- LeakyReLU activation function\n",
        "- Adaptive average pooling layer with output size (1, 1)\n",
        "- Fully connected layer\n",
        "\n",
        "The in_channels and out_channels of the convolutional layer are specified as arguments to the constructor."
      ]
    },
    {
      "cell_type": "code",
      "execution_count": 6,
      "metadata": {
        "id": "YXR9nYz2DllB"
      },
      "outputs": [],
      "source": [
        "class AuxillaryClassifier(nn.Module):\n",
        "    def __init__(self, in_channels, out_channels, num_classes):\n",
        "        super(AuxillaryClassifier, self).__init__()\n",
        "        ### Your code here ###\n",
        "        self.block = nn.Sequential(nn.AvgPool2d(3, 2), nn.Conv2d(in_channels, out_channels, 1), nn.LeakyReLU(), nn.AdaptiveAvgPool2d(1), nn.Flatten())\n",
        "        self.fc = nn.Linear(in_features = out_channels, out_features = num_classes)\n",
        "\n",
        "        #####################\n",
        "\n",
        "    def forward(self, x):\n",
        "        ### Your code here ###\n",
        "        x = self.block(x)\n",
        "        x = self.fc(x)\n",
        "        return x\n",
        "        ######################\n"
      ]
    },
    {
      "cell_type": "markdown",
      "metadata": {
        "id": "AZRk4gDVDllB"
      },
      "source": [
        "### Test"
      ]
    },
    {
      "cell_type": "code",
      "execution_count": 7,
      "metadata": {
        "id": "QHBBv8XTDllB"
      },
      "outputs": [],
      "source": [
        "# Test the AuxillaryClassifier output shape\n",
        "module = AuxillaryClassifier(64, 64, 10)\n",
        "x = torch.randn(4, 64, 28, 28)\n",
        "\n",
        "assert module(x).shape == torch.Size([4, 10]), f\"Shape was {module(x).shape} instead of torch.Size([4, 10])\""
      ]
    },
    {
      "cell_type": "markdown",
      "metadata": {
        "id": "9zQdUTp0DllC"
      },
      "source": [
        "### 3. Implement the BabyGoogLeNet architecture (2 point)\n",
        "\n",
        "The GoogLeNet architecture consists of multiple inception modules, followed by a global average pooling layer and a fully connected layer. The architecture also uses auxillary classifiers to help with training."
      ]
    },
    {
      "cell_type": "markdown",
      "metadata": {
        "id": "ePZ6x-4ADllC"
      },
      "source": [
        "Compared to the original GoogLeNet architecture, we will use a smaller version of the architecture in this exercise. The architecture consists of three inception modules, followed by a global average pooling layer and a fully connected layer. The architecture also uses an auxillary classifier after the first and second inception module.\n",
        "\n",
        "Implement the BabyGoogLeNet architecture with the following structure:\n",
        "\n",
        "- CNN block:\n",
        "    - 3x3 convolutional layer with 16 filters and stride 1 and padding 1\n",
        "    - LeakyReLU activation function\n",
        "    - 3x3 max pooling layer with stride 2 and padding 1\n",
        "- Inception module 1 (16 input_channels and 32 output_channels)\n",
        "- Auxillary classifier 1 (32 input_channels, 64 output_channels and 10 output_channels)\n",
        "- max pooling layer with kernel size 3 and stride 2 and padding 1\n",
        "- Inception module 2 (32 input_channels and 64 output_channels)\n",
        "- Auxillary classifier 2 (64 input_channels, 128 output_channels and 10 output_channels)\n",
        "- max pooling layer with kernel size 3 and stride 2 and padding 1\n",
        "- Inception module 3 (64 input_channels and 128 output_channels)\n",
        "- Global average pooling layer with output size 1 using `nn.AdaptiveAvgPool2d`\n",
        "- Fully connected layer\n",
        "\n",
        "As the auxillary classifiers are only used during training, you have to distinguish between the training and evaluation mode. You can do this by checking the model's mode using `model.training`."
      ]
    },
    {
      "cell_type": "code",
      "execution_count": 8,
      "metadata": {
        "id": "iPC-ScdVDllC"
      },
      "outputs": [],
      "source": [
        "class BabyGoogLeNet(nn.Module):\n",
        "    def __init__(self):\n",
        "        super(BabyGoogLeNet, self).__init__()\n",
        "        ### Your code here ###\n",
        "        self.cnn = nn.Sequential(nn.Conv2d(1, 16, 3, 1, 1), nn.LeakyReLU(), nn.MaxPool2d(3, 2, 1))\n",
        "        self.incep1 = InceptionModule(16, 32)\n",
        "        self.auxi1 = AuxillaryClassifier(32, 64, 10)\n",
        "        self.maxpool1 = nn.MaxPool2d(3, 2, 1)\n",
        "        self.incep2 = InceptionModule(32, 64)\n",
        "        self.auxi2 = AuxillaryClassifier(64, 128, 10)\n",
        "        self.maxpool2 = nn.MaxPool2d(3, 2, 1)\n",
        "        self.incep3 = InceptionModule(64, 128)\n",
        "        self.globalavgpool = nn.AdaptiveAvgPool2d(1)\n",
        "        self.fc = nn.Sequential(nn.Flatten(), nn.Linear(128, 10))\n",
        "\n",
        "\n",
        "        ######################\n",
        "\n",
        "    def forward(self, x):\n",
        "        ### Your code here ###\n",
        "        x = self.cnn(x)\n",
        "        x = self.incep1(x)\n",
        "\n",
        "        if self.training:\n",
        "          auxil1 = self.auxi1(x)\n",
        "\n",
        "        x = self.maxpool1(x)\n",
        "        x = self.incep2(x)\n",
        "\n",
        "        if self.training:\n",
        "          auxil2 = self.auxi2(x)\n",
        "\n",
        "        x = self.maxpool2(x)\n",
        "        x = self.incep3(x)\n",
        "        x = self.globalavgpool(x)\n",
        "        x = self.fc(x)\n",
        "\n",
        "        if self.training:\n",
        "          return x, auxil1, auxil2\n",
        "        else:\n",
        "          return x\n",
        "        ######################\n",
        "\n"
      ]
    },
    {
      "cell_type": "markdown",
      "metadata": {
        "id": "6mcru2vyDllC"
      },
      "source": [
        "### Test"
      ]
    },
    {
      "cell_type": "code",
      "execution_count": 9,
      "metadata": {
        "id": "M_4osoxhDllC"
      },
      "outputs": [],
      "source": [
        "# Test the BabyGoogLeNet output shape\n",
        "model = BabyGoogLeNet()\n",
        "x = torch.randn(4, 1, 28, 28)\n",
        "\n",
        "# Training mode\n",
        "output, aux1, aux2 = model(x)\n",
        "assert output.shape == torch.Size([4, 10]), f\"Shape was {output.shape} instead of torch.Size([4, 10])\"\n",
        "assert aux1.shape == torch.Size([4, 10]), f\"Shape was {aux1.shape} instead of torch.Size([4, 10])\"\n",
        "assert aux2.shape == torch.Size([4, 10]), f\"Shape was {aux2.shape} instead of torch.Size([4, 10])\"\n",
        "\n",
        "# Evaluation mode\n",
        "model.eval()\n",
        "output = model(x)\n",
        "assert output.shape == torch.Size([4, 10]), f\"Shape was {output.shape} instead of torch.Size([4, 10])\""
      ]
    },
    {
      "cell_type": "code",
      "execution_count": 10,
      "metadata": {
        "id": "8Hqti_WHDllD"
      },
      "outputs": [],
      "source": [
        "def validate(model, test_loader, device):\n",
        "    model.to(device)\n",
        "    model.eval()\n",
        "    with torch.no_grad():\n",
        "        correct = 0\n",
        "        total = 0\n",
        "        for X_batch, y_batch in test_loader:\n",
        "            X_batch, y_batch = X_batch.to(device), y_batch.to(device)\n",
        "            y_pred = model(X_batch)\n",
        "            _, predicted = torch.max(y_pred, 1)\n",
        "            total += y_batch.size(0)\n",
        "            correct += (predicted == y_batch).sum().item()\n",
        "    model.train()\n",
        "    return correct / total"
      ]
    },
    {
      "cell_type": "markdown",
      "metadata": {
        "id": "KZ3u05VaDllD"
      },
      "source": [
        "### 4. Implement the training loop (1 point)\n",
        "\n",
        "You will also implement parts of the training loop for the BabyGoogLeNet architecture. The following steps have to be implemented:\n",
        "\n",
        "- Forward pass: Pass the input through the network to get the output.\n",
        "- Calculate the loss: Calculate the loss using the outputs (main output and the two auxiliary outputs) and the target.\n",
        "- Backward pass: Perform backpropagation to calculate the gradients.\n",
        "- Update the parameters: Update the weights of the model.\n",
        "- Zero the gradients: Zero the gradients of the model after updating the weights. For this you can use the `nn.Module.zero_grad()` function.\n",
        "\n",
        "The loss function should be of the following form:\n",
        "\n",
        "$$ loss(target, output, aux\\_output_1, aux\\_output_2, w_{aux}) =\n",
        "\\\\ \\text{criterion}(output, target) + w_{aux} \\times \\text{criterion}(aux\\_output_1, target) + w_{aux} \\times \\text{criterion}(aux\\_output_2, target) $$\n",
        "\n",
        "where `criterion` is the cross-entropy loss function and $w_{aux}$ is a hyperparameter that controls the weight of the auxillary classifiers. We set it to 0.9 for the training."
      ]
    },
    {
      "cell_type": "code",
      "execution_count": 11,
      "metadata": {
        "id": "w3QTLbvRDllD"
      },
      "outputs": [],
      "source": [
        "def train(model, criterion, train_loader, test_loader, learning_rate, n_epochs, aux_loss_weight, device):\n",
        "    print(f'Training on {device} with learning rate of {learning_rate} for {n_epochs} epochs')\n",
        "    # Transfer model to device, this is necessary if we want to use GPU acceleration\n",
        "    model.to(device)\n",
        "    for i in range(n_epochs):\n",
        "        # Set model to training mode, this is necessary because some layers like the auxillary classifiers in our model behave differently in training mode and evaluation mode\n",
        "        model.train()\n",
        "        epoch_loss = 0\n",
        "        for X_batch, y_batch in train_loader:\n",
        "            X_batch, y_batch = X_batch.to(device), y_batch.to(device) # Model and data have to be on the same device\n",
        "            # Your code here #\n",
        "            # forward pass\n",
        "            preds, aux1, aux2 = model(X_batch)\n",
        "\n",
        "            # calculate the loss\n",
        "            mb_loss = nn.functional.cross_entropy(preds, target=y_batch) + aux_loss_weight*nn.functional.cross_entropy(aux1, target=y_batch) + aux_loss_weight*nn.functional.cross_entropy(aux2, target=y_batch)\n",
        "            epoch_loss += mb_loss * X_batch.shape[0] / X_train.shape[0]\n",
        "\n",
        "            # back pass\n",
        "            mb_loss.backward()\n",
        "\n",
        "            # update the parameters\n",
        "            for p in model.parameters():\n",
        "              p.data += -learning_rate * p.grad\n",
        "\n",
        "            # zero the gradients\n",
        "            for p in model.parameters():\n",
        "              if p.grad is not None:\n",
        "                p.grad.zero_()\n",
        "\n",
        "            ##################\n",
        "        with torch.no_grad():\n",
        "            # Set model to evaluation mode\n",
        "            model.eval()\n",
        "            val_loss = 0\n",
        "            for X_batch, y_batch in test_loader:\n",
        "                X_batch, y_batch = X_batch.to(device), y_batch.to(device)\n",
        "                y_pred = model(X_batch)\n",
        "                loss = criterion(y_pred, y_batch)\n",
        "                val_loss += loss.item()\n",
        "        val_acc = validate(model, test_loader, device)\n",
        "        train_acc = validate(model, train_loader, device)\n",
        "        print(f'Epoch {i+1}, train loss {epoch_loss/len(train_loader)}, test loss: {val_loss/len(test_loader)}, train acc: {train_acc}, test acc: {val_acc}')"
      ]
    },
    {
      "cell_type": "code",
      "execution_count": 12,
      "metadata": {
        "id": "EL3KB29_DllD"
      },
      "outputs": [],
      "source": [
        "model = BabyGoogLeNet()\n",
        "criterion = nn.CrossEntropyLoss()\n",
        "train_loader = DataLoader(train_dataset, batch_size=64, shuffle=True)\n",
        "test_loader = DataLoader(test_dataset, batch_size=64, shuffle=False)\n",
        "aux_loss_weight = 0.9 # Scales the loss of the auxillary classifiers\n",
        "lr = 0.1  # 0.1 and 0.2 should work well enough\n",
        "n_epochs = 25\n",
        "# Set the device to 'cuda' if you have a GPU available, otherwise set it to 'mps' if you have Metal Performance Shaders (Apple's API for programming metal GPU) available, otherwise set it to 'cpu'\n",
        "device = torch.device('cuda' if torch.cuda.is_available() else 'mps' if torch.backends.mps.is_available() else 'cpu')"
      ]
    },
    {
      "cell_type": "markdown",
      "metadata": {
        "id": "QVn_DA9pDllD"
      },
      "source": [
        "Train the model for at least 25 epochs.\n",
        "Your model should achieve a validation accuracy of roughly 90% now."
      ]
    },
    {
      "cell_type": "code",
      "execution_count": 13,
      "metadata": {
        "id": "3-rnHoJBDllD",
        "colab": {
          "base_uri": "https://localhost:8080/"
        },
        "outputId": "d5ded595-fd9f-423c-e2aa-82310e979809"
      },
      "outputs": [
        {
          "output_type": "stream",
          "name": "stdout",
          "text": [
            "Training on cuda with learning rate of 0.1 for 25 epochs\n",
            "Epoch 1, train loss 0.005596484988927841, test loss: 0.9466157521411871, train acc: 0.5969166666666667, test acc: 0.5884\n",
            "Epoch 2, train loss 0.0026525913272053003, test loss: 0.5952715435225493, train acc: 0.7801166666666667, test acc: 0.7709\n",
            "Epoch 3, train loss 0.0019999328069388866, test loss: 0.548727388974208, train acc: 0.7963166666666667, test acc: 0.7877\n",
            "Epoch 4, train loss 0.0017261700704693794, test loss: 0.5235504881971201, train acc: 0.8137166666666666, test acc: 0.7974\n",
            "Epoch 5, train loss 0.0015603716019541025, test loss: 0.4180973069683002, train acc: 0.8531333333333333, test acc: 0.841\n",
            "Epoch 6, train loss 0.0014341820497065783, test loss: 0.42110515314682273, train acc: 0.8551333333333333, test acc: 0.8449\n",
            "Epoch 7, train loss 0.0013551799347624183, test loss: 0.4001999391112358, train acc: 0.86475, test acc: 0.8492\n",
            "Epoch 8, train loss 0.0012837491231039166, test loss: 0.35276592736411244, train acc: 0.8822, test acc: 0.8675\n",
            "Epoch 9, train loss 0.001241666846908629, test loss: 0.346054925565507, train acc: 0.8866833333333334, test acc: 0.8683\n",
            "Epoch 10, train loss 0.001201686100102961, test loss: 0.34379402258593567, train acc: 0.8848333333333334, test acc: 0.8683\n",
            "Epoch 11, train loss 0.0011671825777739286, test loss: 0.3569673676589492, train acc: 0.8802333333333333, test acc: 0.8646\n",
            "Epoch 12, train loss 0.0011357914190739393, test loss: 0.319747533767846, train acc: 0.8966666666666666, test acc: 0.8788\n",
            "Epoch 13, train loss 0.0011104034492745996, test loss: 0.35052511200403713, train acc: 0.8819, test acc: 0.8608\n",
            "Epoch 14, train loss 0.0010824050987139344, test loss: 0.3340629478738566, train acc: 0.8953, test acc: 0.8769\n",
            "Epoch 15, train loss 0.0010661269770935178, test loss: 0.37039129336358634, train acc: 0.886, test acc: 0.8641\n",
            "Epoch 16, train loss 0.0010412156116217375, test loss: 0.35522478785674283, train acc: 0.8837, test acc: 0.8651\n",
            "Epoch 17, train loss 0.0010286078322678804, test loss: 0.3358469415147593, train acc: 0.8939166666666667, test acc: 0.8702\n",
            "Epoch 18, train loss 0.0010107639245688915, test loss: 0.30434510538912124, train acc: 0.9068, test acc: 0.8849\n",
            "Epoch 19, train loss 0.0009917187271639705, test loss: 0.3040438812154873, train acc: 0.90335, test acc: 0.8863\n",
            "Epoch 20, train loss 0.0009786335285753012, test loss: 0.32979571249834294, train acc: 0.8959333333333334, test acc: 0.8745\n",
            "Epoch 21, train loss 0.0009600280900485814, test loss: 0.35961834412471505, train acc: 0.8828333333333334, test acc: 0.863\n",
            "Epoch 22, train loss 0.0009461460285820067, test loss: 0.3303801176749217, train acc: 0.9012, test acc: 0.8807\n",
            "Epoch 23, train loss 0.0009284121333621442, test loss: 0.29372402693435645, train acc: 0.915, test acc: 0.8943\n",
            "Epoch 24, train loss 0.0009181314380839467, test loss: 0.2903307758414062, train acc: 0.9216666666666666, test acc: 0.8953\n",
            "Epoch 25, train loss 0.0009081853786483407, test loss: 0.3241487542155442, train acc: 0.9035666666666666, test acc: 0.8807\n"
          ]
        }
      ],
      "source": [
        "train(model, criterion, train_loader, test_loader, lr, n_epochs, aux_loss_weight, device)"
      ]
    },
    {
      "cell_type": "code",
      "execution_count": 14,
      "metadata": {
        "id": "DrHl6hILDllE",
        "colab": {
          "base_uri": "https://localhost:8080/"
        },
        "outputId": "7786ebc2-2cab-4de4-f4b8-3e21f48b6f7e"
      },
      "outputs": [
        {
          "output_type": "stream",
          "name": "stdout",
          "text": [
            "validation accuracy: 0.8807\n"
          ]
        }
      ],
      "source": [
        "print(f'validation accuracy: {validate(model, test_loader, device)}')"
      ]
    }
  ],
  "metadata": {
    "kernelspec": {
      "display_name": "Python 3",
      "name": "python3"
    },
    "language_info": {
      "codemirror_mode": {
        "name": "ipython",
        "version": 3
      },
      "file_extension": ".py",
      "mimetype": "text/x-python",
      "name": "python",
      "nbconvert_exporter": "python",
      "pygments_lexer": "ipython3",
      "version": "3.12.2"
    },
    "colab": {
      "provenance": [],
      "gpuType": "T4"
    },
    "accelerator": "GPU"
  },
  "nbformat": 4,
  "nbformat_minor": 0
}