{
  "cells": [
    {
      "cell_type": "markdown",
      "metadata": {
        "id": "8r6TJNtyN32l"
      },
      "source": [
        "HHU Deep Learning, WS2023/24, 17.11.2023\n",
        "\n",
        "Lecture: Prof. Dr. Markus Kollmann\n",
        "\n",
        "Exercises: Nikolas Adaloglou, Felix Michels\n",
        "\n",
        "# Assignment 6 - Neural Networks with PyTorch\n",
        "\n",
        "---\n",
        "\n",
        "Submit the solved notebook (not a zip) with your full name plus assingment number for the filename as an indicator, e.g `max_mustermann_a1.ipynb` for assignment 1. If we feel like you have genuinely tried to solve the exercise, you will receive 1 point for this assignment, regardless of the quality of your solution.\n",
        "\n",
        "## <center> DUE FRIDAY 24.11.2023 2:30 pm </center>\n",
        "\n",
        "Drop-off link: [https://uni-duesseldorf.sciebo.de/s/1OQhEkR4QtlzkfF](https://uni-duesseldorf.sciebo.de/s/1OQhEkR4QtlzkfF)\n",
        "\n",
        "---"
      ]
    },
    {
      "cell_type": "markdown",
      "metadata": {
        "id": "z3eZ4iXJIvzj"
      },
      "source": [
        "Until now, we have used the numpy package to write our own helper functions for forward-, backward-passes of layers, activation functions, wrote our own cost functions and optimizers, etc. Now, we want to automate all of this with the use of a Deep Learning Framework.\n",
        "\n",
        "There are various big packages (frameworks) that offer functionality specialized in Machine/Deep Learning.\n",
        "\n",
        "The two most well known ones are **PyTorch** from Meta and **TensorFlow** from Google. In this course, we will work with PyTorch as it provides a good tradeoff between ease of use for academic purposes and scalability to large projects in future reasearch.\n",
        "\n",
        "Next to implementations of functions like Neural Network layers, optimizers, etc., PyTorch has three main features:\n",
        "- The tensor datastructure, which is similar to the Numpy ndarray\n",
        "- Automatic differentiation for training neural networks\n",
        "- It allows us to run code on a GPU, which offers significantly  faster computations.\n",
        "\n",
        "![Pytorch_logo.png](https://github.com/HHU-MMBS/Deep-Learning-Exercise-Extras/raw/main/a06_pytorch_mlp/images/Pytorch_logo.png)\n",
        "\n",
        "Feel free to use the PyTorch Introduction from week 1 as a look-up for basic PyTorch functionality.\n",
        "\n",
        "---\n",
        "\n",
        "For this assignment, you will use PyTorch to implement a fully connected Neural Network, perform a set of experiments on the famous CIFAR10 dataset and report your results and findings.\n",
        "\n",
        "For your experiments, you will create a multilayer perceptron (MLP) Neural Network and train it on the CIFAR10 dataset to predict object class based on the input image. CIFAR10 image dimensions are 32 by 32, with 3 values for each pixel (R, G, B).\n",
        "\n",
        "**Goal: Your goal is to develop an image classifier that scores more than 50% accuracy on the validation data.**"
      ]
    },
    {
      "cell_type": "markdown",
      "metadata": {
        "id": "GAVSy4n6sPdR"
      },
      "source": [
        "# 1. Imports and preparing the dataset and dataloaders\n",
        "\n",
        "\n",
        "If you are using google colab remember to change the runtime type to GPU.\n",
        "\n",
        "To get started, run the following code to import the libraries you will need."
      ]
    },
    {
      "cell_type": "code",
      "execution_count": 15,
      "metadata": {
        "id": "NH-HBP0nuT30"
      },
      "outputs": [],
      "source": [
        "import torch\n",
        "import torch.nn as nn\n",
        "import torch.nn.functional as F\n",
        "import torch.optim as optim\n",
        "import torchvision\n",
        "import torchvision.transforms as transforms\n",
        "import numpy as np\n",
        "import matplotlib.pyplot as plt\n",
        "\n",
        "%matplotlib inline\n",
        "plt.rcParams['figure.figsize'] = (7.0, 4.0) # set default size of plots\n",
        "plt.rcParams['image.interpolation'] = 'nearest'\n",
        "plt.rcParams['image.cmap'] = 'gray'"
      ]
    },
    {
      "cell_type": "markdown",
      "metadata": {
        "id": "86Vr9megN32n"
      },
      "source": [
        "We will be using a GPU to accelerate training and testing. PyTorch lets you use the GPU with very little additional code. The `torch.cuda` package contains all available functions for GPU usage. Check out the docs on the [package](https://pytorch.org/docs/stable/cuda.html) and on [cuda semantics](https://pytorch.org/docs/stable/notes/cuda.html#cuda-semantics) if you want to learn more, this is not required for this assignment though.\n",
        "\n",
        "If you don't have a dedicated GPU in your own machine, the easiest way to get one is Google Colab! It's free, all you need is a Google account and you get ~8 hrs of GPU time per day.\n",
        "\n",
        "Below is a small, good-practice, GPU setup to check the availability of a GPU in your system."
      ]
    },
    {
      "cell_type": "code",
      "execution_count": 16,
      "metadata": {
        "id": "JoVzxCrMN32o",
        "colab": {
          "base_uri": "https://localhost:8080/"
        },
        "outputId": "afbae858-571a-4065-d20f-022f95ce0b71"
      },
      "outputs": [
        {
          "output_type": "stream",
          "name": "stdout",
          "text": [
            "device: cuda:0\n"
          ]
        }
      ],
      "source": [
        "# GPU\n",
        "device = 'cuda:0' if torch.cuda.is_available() else 'cpu'\n",
        "print('device:', device)"
      ]
    },
    {
      "cell_type": "markdown",
      "metadata": {
        "id": "raYoo0yztIck"
      },
      "source": [
        "# 2. CIFAR-10 Dataset\n",
        "\n",
        "Today, we'll use the famous CIFAR-10 dataset for an image classification task. PyTorch provides many built-in datasets in the [torchvision.datasets](https://pytorch.org/vision/stable/datasets.html) module, as well as utility classes for building your own datasets.\n",
        "\n",
        "The code below:\n",
        "- Defines some basic transforms for preprocessing the data\n",
        "- Loads the CIFAR-10 dataset as a PyTorch dataset class. The raw data is stored locally on your machine."
      ]
    },
    {
      "cell_type": "code",
      "execution_count": 17,
      "metadata": {
        "id": "2jbFfa8ON32p",
        "colab": {
          "base_uri": "https://localhost:8080/"
        },
        "outputId": "1f2a83c8-0796-4929-fdb7-5a9012b52787"
      },
      "outputs": [
        {
          "output_type": "stream",
          "name": "stdout",
          "text": [
            "Files already downloaded and verified\n",
            "Files already downloaded and verified\n"
          ]
        }
      ],
      "source": [
        "# Data transforms\n",
        "transform = transforms.Compose([transforms.ToTensor(), transforms.Normalize((0.5, 0.5, 0.5), (0.5, 0.5, 0.5))])\n",
        "\n",
        "# Datasets\n",
        "trainset = torchvision.datasets.CIFAR10(root='./data', train=True, download=True, transform=transform)\n",
        "valset = torchvision.datasets.CIFAR10(root='./data', train=False, download=True, transform=transform)"
      ]
    },
    {
      "cell_type": "markdown",
      "metadata": {
        "id": "BRLd0p0gN32q"
      },
      "source": [
        "PyTorch provides a convenient solution for batch training. After loading the dataset and setting parameters like batch_size, train and an optional transformation (normalization in this case), we can use the DataLoader object as an iterator for the training loop. It will return the outputs of the `__getitem__(...)` function of the dataset class in a batched form, ready to be used for batch-gradient descent.\n",
        "\n",
        "**Exercise:** Instantiate two DataLoaders, one for the training set and one for the validation set. Adjust the batch size to your available GPU memory, usual choices are powers of 2, like 16, 32, 64, ..., for reasons that have to do with the hardware layout on GPUs."
      ]
    },
    {
      "cell_type": "code",
      "execution_count": 18,
      "metadata": {
        "id": "vHPddxfvN32q"
      },
      "outputs": [],
      "source": [
        "### START CODE HERE ### (approx. 2 lines)\n",
        "train_loader = torch.utils.data.DataLoader(trainset, batch_size=64, shuffle=True, num_workers=2)\n",
        "val_loader = torch.utils.data.DataLoader(valset, batch_size=32, shuffle=False, num_workers=2)\n",
        "### END CODE HERE ###"
      ]
    },
    {
      "cell_type": "markdown",
      "metadata": {
        "id": "ZVDu_LAnN32r"
      },
      "source": [
        "Below you can see how to access information regarding the dataset and the dataloaders."
      ]
    },
    {
      "cell_type": "code",
      "execution_count": 19,
      "metadata": {
        "id": "RdaGflBhtIjs",
        "colab": {
          "base_uri": "https://localhost:8080/"
        },
        "outputId": "589bbeaf-4f45-429a-c870-98cc52019d11"
      },
      "outputs": [
        {
          "output_type": "stream",
          "name": "stdout",
          "text": [
            "List of label names are: ['airplane', 'automobile', 'bird', 'cat', 'deer', 'dog', 'frog', 'horse', 'ship', 'truck']\n",
            "Total training images: 50000\n",
            "Example image with shape torch.Size([3, 32, 32]), label 6, which is a frog \n",
            "The dataloader contains 782 batches.\n",
            "A batch of images has shape torch.Size([64, 3, 32, 32]), labels torch.Size([64])\n"
          ]
        }
      ],
      "source": [
        "# dataset instance\n",
        "print(\"List of label names are:\", trainset.classes)\n",
        "print(\"Total training images:\", len(trainset))\n",
        "img, label = trainset[0]\n",
        "print(f\"Example image with shape {img.shape}, label {label}, which is a {trainset.classes[label]} \")\n",
        "\n",
        "# DataLoader instance\n",
        "print(f'The dataloader contains {len(train_loader)} batches.')\n",
        "imgs_batch , labels_batch = next(iter(train_loader))\n",
        "print(f\"A batch of images has shape {imgs_batch.shape}, labels {labels_batch.shape}\")"
      ]
    },
    {
      "cell_type": "markdown",
      "metadata": {
        "id": "slXQK5mutP1g"
      },
      "source": [
        "# 3. Define the MLP model\n",
        "\n",
        "Now it's your turn to implement a Multi-Layer Perceptron (MLP / fully connected net) with variable depth, similar to the last exercise. Your Network needs to:\n",
        "\n",
        "- Have L-1 blocks of linear layers, followed by ReLU activations, check out nn.Linear and nn.ReLU\n",
        "- Have a final 'out_layer' with just a linear layer\n",
        "- Have choosable dimensions for all hidden layers, via the 'hidden_sizes' parameter, e.g. [32, 16] is a three-layer model.\n",
        "\n",
        "The `torch.nn` functions, like `nn.Linear`, have all the functionality you need for training the network already built into them. No more manual backward-computation or remembering intermediate results in a cache, PyTorch takes care of that.\n",
        "\n",
        "You need to define your network architecture in the `__init__`, by initialising things like layers and activation functions and then call them in the forward pass to process the input `x`.\n",
        "\n",
        "Tip: In the `__init__`, you can save 'nn.' objects in a list and then pass them to `nn.Sequential` as an unpacked list:\n",
        "\n",
        "```\n",
        "layers = nn.ModuleList()\n",
        "... fill the list ...\n",
        "self.layers = nn.Sequential(*layers)\n",
        "```\n",
        "\n",
        "See the `PyTorch Module API` and `PyTorch Sequential API` sections from the PyTorch Introduction from week 1 for help on the implementation here."
      ]
    },
    {
      "cell_type": "code",
      "execution_count": 20,
      "metadata": {
        "id": "aWozHQwWvoe5"
      },
      "outputs": [],
      "source": [
        "# Model structure\n",
        "class MLP(nn.Module):\n",
        "    def __init__(self, in_channels, num_classes, hidden_sizes=[64]):\n",
        "        super(MLP, self).__init__()\n",
        "        assert len(hidden_sizes) >= 1 , \"specify at least one hidden layer\"\n",
        "        ### START CODE HERE ### (approx. 7 lines)\n",
        "        self.flatten = nn.Flatten()\n",
        "\n",
        "        layers = []\n",
        "        prev_size = in_channels\n",
        "        for hidden_size in hidden_sizes:\n",
        "            layers.append(nn.Linear(prev_size, hidden_size))\n",
        "            layers.append(nn.ReLU())\n",
        "            prev_size = hidden_size\n",
        "        self.layers = nn.Sequential(*layers)\n",
        "\n",
        "        self.output_layer = nn.Linear(prev_size, num_classes)\n",
        "        ### END CODE HERE ###\n",
        "\n",
        "    def forward(self, x):\n",
        "        ### START CODE HERE ### (approx. 3 lines)\n",
        "        x = self.flatten(x)\n",
        "        x = self.layers(x)\n",
        "        out = self.output_layer(x)\n",
        "        ### END CODE HERE ###\n",
        "        return out"
      ]
    },
    {
      "cell_type": "markdown",
      "metadata": {
        "id": "84Vl_xzzN32s"
      },
      "source": [
        "Use the function below to test your implementation. The parameter settings are not fitted to CIFAR-10, you will need different values later on!\n",
        "\n",
        "Below you also find an expected output of what the network structure should look like. Note that this print varies based on your syntax, even if the logic is correct. Use it as a guide, you don't need to exactly replicate it."
      ]
    },
    {
      "cell_type": "code",
      "execution_count": 21,
      "metadata": {
        "id": "0nC6QucXN32s",
        "colab": {
          "base_uri": "https://localhost:8080/"
        },
        "outputId": "ad0d30e7-cc2e-4765-c3bb-e5f57691dfce"
      },
      "outputs": [
        {
          "output_type": "stream",
          "name": "stdout",
          "text": [
            "Shape test passed\n",
            "MLP(\n",
            "  (flatten): Flatten(start_dim=1, end_dim=-1)\n",
            "  (layers): Sequential(\n",
            "    (0): Linear(in_features=300, out_features=64, bias=True)\n",
            "    (1): ReLU()\n",
            "    (2): Linear(in_features=64, out_features=32, bias=True)\n",
            "    (3): ReLU()\n",
            "    (4): Linear(in_features=32, out_features=16, bias=True)\n",
            "    (5): ReLU()\n",
            "  )\n",
            "  (output_layer): Linear(in_features=16, out_features=4, bias=True)\n",
            ")\n"
          ]
        }
      ],
      "source": [
        "# Test your implementation with random data\n",
        "test_model = MLP(in_channels=3*10*10, num_classes=4, hidden_sizes=[64, 32, 16]).to(device)\n",
        "\n",
        "a = torch.rand(16, 3, 10, 10).to(device)\n",
        "b = test_model(a)\n",
        "assert b.shape == (16,4)\n",
        "print('Shape test passed')\n",
        "print(test_model)"
      ]
    },
    {
      "cell_type": "markdown",
      "metadata": {
        "id": "yCZ5oUINN32s"
      },
      "source": [
        "**Expected Output:**\n",
        "\n",
        "```\n",
        "Shape test passed\n",
        "Net(\n",
        "  (layers): Sequential(\n",
        "    (0): Linear(in_features=300, out_features=64, bias=True)\n",
        "    (1): ReLU()\n",
        "    (2): Linear(in_features=64, out_features=32, bias=True)\n",
        "    (3): ReLU()\n",
        "    (4): Linear(in_features=32, out_features=16, bias=True)\n",
        "    (5): ReLU()\n",
        "  )\n",
        "  (out_layer): Linear(in_features=16, out_features=4, bias=True)\n",
        ")\n",
        "```"
      ]
    },
    {
      "cell_type": "markdown",
      "metadata": {
        "id": "NfvCTJGZQQQl"
      },
      "source": [
        "# 4. Training and Validation\n",
        "\n",
        "Equipped with our MLP model, we now want to train it.\n",
        "\n",
        "First, we implement the validation function, so we can use it in the train function. The idea is to test our model on the (unseen) validation data in regular intervals during training, e.g. after every epoch (traversal of the whole dataset).\n",
        "\n",
        "**Exercise:** Implement the validation function, which reads in data from the `val_loader`, runs a forward pass and records the classification accuracy, as well as the loss. Both are returned for plotting purposes.\n",
        "\n",
        "We will be using the `nn.CrossEntropyLoss` as our loss function. Please have a look at the [docs](https://pytorch.org/docs/stable/generated/torch.nn.CrossEntropyLoss.html) for this loss function, you will use it more often in the future.\n",
        "\n",
        "Loss functions in PyTorch are instantiated as class objects (nn.CrossEntropyLoss is the class here) and can then be used like a function:\n",
        "\n",
        "```\n",
        "criterion = nn.CrossEntropyLoss()\n",
        "loss = criterion(input,target)\n",
        "```\n",
        "\n",
        "Note, that `nn.CrossEntropyLoss` combines a Softmax activation with the actual loss function, a negative log-likelihood loss. So, it expects **unnormalized!** scores from our network, i.e. no activation funciton after the last layer."
      ]
    },
    {
      "cell_type": "code",
      "execution_count": 22,
      "metadata": {
        "id": "83XRLdRMN32t"
      },
      "outputs": [],
      "source": [
        "\n",
        "def validation(model, val_loader):\n",
        "    criterion = nn.CrossEntropyLoss()\n",
        "    correct = 0\n",
        "    val_loss = 0\n",
        "    with torch.no_grad():\n",
        "        for inputs, labels in val_loader:\n",
        "            ### START CODE HERE ### (approx. 8 lines)\n",
        "            inputs, labels = inputs.to(device), labels.to(device)\n",
        "            outputs = model(inputs)\n",
        "            loss = criterion(outputs, labels)\n",
        "            val_loss += loss.item()\n",
        "            _, predicted = torch.max(outputs, 1)\n",
        "            correct += (predicted == labels).sum().item()\n",
        "\n",
        "    # Calculate accuracy and average loss\n",
        "    total_samples = len(val_loader.dataset)\n",
        "    val_acc = correct / total_samples\n",
        "    val_loss /= len(val_loader)\n",
        "    ### END CODE HERE ###\n",
        "    return val_acc, val_loss"
      ]
    },
    {
      "cell_type": "code",
      "execution_count": 23,
      "metadata": {
        "id": "4q_ak_B5N32t"
      },
      "outputs": [],
      "source": [
        "# Don't mind this, is just for testing\n",
        "class dummy_dataset(torch.utils.data.Dataset):\n",
        "    def __init__(self):\n",
        "        self.data = torch.rand(16, 3, 10, 10)\n",
        "        self.labels = torch.randint(0, 4, (16,))\n",
        "\n",
        "    def __len__(self):\n",
        "        return len(self.data)\n",
        "\n",
        "    def __getitem__(self, idx):\n",
        "        return self.data[idx], self.labels[idx]"
      ]
    },
    {
      "cell_type": "markdown",
      "metadata": {
        "id": "QYQ4xvo-N32t"
      },
      "source": [
        "Use the code below to test your implementation with the above initialized `test_model`."
      ]
    },
    {
      "cell_type": "code",
      "execution_count": 24,
      "metadata": {
        "id": "UYcgaNLeN32t",
        "scrolled": false,
        "colab": {
          "base_uri": "https://localhost:8080/"
        },
        "outputId": "b2925ed4-257e-4592-e185-67bff9fe2fb4"
      },
      "outputs": [
        {
          "output_type": "execute_result",
          "data": {
            "text/plain": [
              "(0.25, 1.416286438703537)"
            ]
          },
          "metadata": {},
          "execution_count": 24
        }
      ],
      "source": [
        "# Test validation with an untrained model\n",
        "test_set = dummy_dataset()\n",
        "test_loader = torch.utils.data.DataLoader(test_set, batch_size=4)\n",
        "\n",
        "# Needs to run without errors\n",
        "validation(test_model, test_loader)"
      ]
    },
    {
      "cell_type": "markdown",
      "metadata": {
        "id": "g05oRq04N32u"
      },
      "source": [
        "Now, we can implement the train loop itself.  You are already familiar with the basic training procedure:\n",
        "\n",
        "Loop for num_iterations:\n",
        "1. Forward propagation\n",
        "2. Compute loss function\n",
        "3. Backward propagation\n",
        "4. Update parameters"
      ]
    },
    {
      "cell_type": "code",
      "execution_count": 25,
      "metadata": {
        "id": "Ugi-Di6YvtA_"
      },
      "outputs": [],
      "source": [
        "\n",
        "def train(model, train_loader, val_loader, epochs, lr, momentum, wd):\n",
        "    criterion = nn.CrossEntropyLoss()\n",
        "    optimizer = optim.SGD(model.parameters(), lr=lr, momentum=momentum, weight_decay=wd)\n",
        "    train_loss_hist = []\n",
        "    val_loss_hist = []\n",
        "    val_acc_hist = []\n",
        "    for epoch in range(epochs):\n",
        "        for inputs, labels in train_loader:\n",
        "            ### START CODE HERE ### (approx. 7 lines)\n",
        "            inputs, labels = inputs.to(device), labels.to(device)\n",
        "\n",
        "            # Forward pass\n",
        "            outputs = model(inputs)\n",
        "            loss = criterion(outputs, labels)\n",
        "\n",
        "            # Backward pass and optimization\n",
        "            optimizer.zero_grad()\n",
        "            loss.backward()\n",
        "            optimizer.step()\n",
        "\n",
        "            # Update training loss\n",
        "            train_loss_hist.append(loss.item())\n",
        "            ### END CODE HERE ###\n",
        "        # stats\n",
        "        val_acc, val_loss = validation(model, val_loader)\n",
        "        val_acc_hist.append(val_acc)\n",
        "        val_loss_hist.append(val_loss)\n",
        "        print(f\"Epoch {epoch+1}/{epochs} done. Train loss: {np.mean(train_loss_hist[-len(train_loader):]):.3f} val loss: {val_loss_hist[-1]:.3f} Val. Accuracy : {val_acc_hist[-1]*100:.3f}%.\")\n",
        "\n",
        "    dict_log = {\"train_loss_hist\": train_loss_hist, \"val_loss_hist\": val_loss_hist, \"val_acc_hist\": val_acc_hist}\n",
        "    return dict_log"
      ]
    },
    {
      "cell_type": "markdown",
      "metadata": {
        "id": "iLh-SoRuWRpV"
      },
      "source": [
        "**Exercise:** Choose a single set of hyperparameters (lr, momentum, wd, epochs), as well as a model configuration and see how the model performs. Save the dict_log for plotting later on."
      ]
    },
    {
      "cell_type": "code",
      "execution_count": 30,
      "metadata": {
        "id": "bPC_Jy9IRO_Y",
        "scrolled": true,
        "colab": {
          "base_uri": "https://localhost:8080/"
        },
        "outputId": "c7444754-a2cc-4d75-c0fd-8739271a181b"
      },
      "outputs": [
        {
          "output_type": "stream",
          "name": "stdout",
          "text": [
            "Epoch 1/40 done. Train loss: 2.247 val loss: 2.126 Val. Accuracy : 20.550%.\n",
            "Epoch 2/40 done. Train loss: 1.989 val loss: 1.891 Val. Accuracy : 31.730%.\n",
            "Epoch 3/40 done. Train loss: 1.843 val loss: 1.781 Val. Accuracy : 37.410%.\n",
            "Epoch 4/40 done. Train loss: 1.739 val loss: 1.681 Val. Accuracy : 40.700%.\n",
            "Epoch 5/40 done. Train loss: 1.656 val loss: 1.621 Val. Accuracy : 42.540%.\n",
            "Epoch 6/40 done. Train loss: 1.596 val loss: 1.570 Val. Accuracy : 44.170%.\n",
            "Epoch 7/40 done. Train loss: 1.547 val loss: 1.535 Val. Accuracy : 45.570%.\n",
            "Epoch 8/40 done. Train loss: 1.503 val loss: 1.511 Val. Accuracy : 46.400%.\n",
            "Epoch 9/40 done. Train loss: 1.465 val loss: 1.481 Val. Accuracy : 47.500%.\n",
            "Epoch 10/40 done. Train loss: 1.431 val loss: 1.462 Val. Accuracy : 48.400%.\n",
            "Epoch 11/40 done. Train loss: 1.401 val loss: 1.437 Val. Accuracy : 49.200%.\n",
            "Epoch 12/40 done. Train loss: 1.374 val loss: 1.431 Val. Accuracy : 49.180%.\n",
            "Epoch 13/40 done. Train loss: 1.349 val loss: 1.418 Val. Accuracy : 49.650%.\n",
            "Epoch 14/40 done. Train loss: 1.327 val loss: 1.429 Val. Accuracy : 49.820%.\n",
            "Epoch 15/40 done. Train loss: 1.305 val loss: 1.416 Val. Accuracy : 49.880%.\n",
            "Epoch 16/40 done. Train loss: 1.288 val loss: 1.397 Val. Accuracy : 50.920%.\n",
            "Epoch 17/40 done. Train loss: 1.270 val loss: 1.404 Val. Accuracy : 50.630%.\n",
            "Epoch 18/40 done. Train loss: 1.251 val loss: 1.393 Val. Accuracy : 50.720%.\n",
            "Epoch 19/40 done. Train loss: 1.235 val loss: 1.401 Val. Accuracy : 50.770%.\n",
            "Epoch 20/40 done. Train loss: 1.220 val loss: 1.391 Val. Accuracy : 51.130%.\n",
            "Epoch 21/40 done. Train loss: 1.206 val loss: 1.405 Val. Accuracy : 50.640%.\n",
            "Epoch 22/40 done. Train loss: 1.192 val loss: 1.393 Val. Accuracy : 51.140%.\n",
            "Epoch 23/40 done. Train loss: 1.179 val loss: 1.410 Val. Accuracy : 50.970%.\n",
            "Epoch 24/40 done. Train loss: 1.166 val loss: 1.422 Val. Accuracy : 50.400%.\n",
            "Epoch 25/40 done. Train loss: 1.151 val loss: 1.401 Val. Accuracy : 51.100%.\n",
            "Epoch 26/40 done. Train loss: 1.138 val loss: 1.401 Val. Accuracy : 51.010%.\n",
            "Epoch 27/40 done. Train loss: 1.130 val loss: 1.405 Val. Accuracy : 51.230%.\n",
            "Epoch 28/40 done. Train loss: 1.116 val loss: 1.439 Val. Accuracy : 50.970%.\n",
            "Epoch 29/40 done. Train loss: 1.104 val loss: 1.415 Val. Accuracy : 51.510%.\n",
            "Epoch 30/40 done. Train loss: 1.094 val loss: 1.419 Val. Accuracy : 51.510%.\n",
            "Epoch 31/40 done. Train loss: 1.086 val loss: 1.442 Val. Accuracy : 50.330%.\n",
            "Epoch 32/40 done. Train loss: 1.076 val loss: 1.430 Val. Accuracy : 51.370%.\n",
            "Epoch 33/40 done. Train loss: 1.065 val loss: 1.439 Val. Accuracy : 51.060%.\n",
            "Epoch 34/40 done. Train loss: 1.055 val loss: 1.440 Val. Accuracy : 50.920%.\n",
            "Epoch 35/40 done. Train loss: 1.045 val loss: 1.444 Val. Accuracy : 50.910%.\n",
            "Epoch 36/40 done. Train loss: 1.037 val loss: 1.484 Val. Accuracy : 50.010%.\n",
            "Epoch 37/40 done. Train loss: 1.031 val loss: 1.471 Val. Accuracy : 50.940%.\n",
            "Epoch 38/40 done. Train loss: 1.023 val loss: 1.518 Val. Accuracy : 50.010%.\n",
            "Epoch 39/40 done. Train loss: 1.016 val loss: 1.461 Val. Accuracy : 50.850%.\n",
            "Epoch 40/40 done. Train loss: 1.004 val loss: 1.481 Val. Accuracy : 50.870%.\n"
          ]
        }
      ],
      "source": [
        "### START CODE HERE ### (approx. 4 lines)\n",
        "in_channels = 3 * 32 * 32  # CIFAR-10 images are 32x32 with 3 channels\n",
        "num_classes = 10\n",
        "hidden_sizes = [64, 32, 16]\n",
        "epochs = 40\n",
        "lr = 0.001\n",
        "momentum = 0.9\n",
        "wd = 0.0001\n",
        "\n",
        "### END CODE HERE ###\n",
        "\n",
        "model = MLP(in_channels, num_classes, hidden_sizes).to(device)\n",
        "\n",
        "dict_log = train(model, train_loader, val_loader, epochs, lr, momentum, wd)"
      ]
    },
    {
      "cell_type": "markdown",
      "metadata": {
        "id": "4XfmCf1ZWPP5"
      },
      "source": [
        "# 6. Plotting results\n",
        "\n",
        "The code below plots the results of the training. We compare train and validation loss in the same plot to check for overfitting or other undesirable training behaviour."
      ]
    },
    {
      "cell_type": "code",
      "execution_count": 31,
      "metadata": {
        "id": "egbgcnvnN32v"
      },
      "outputs": [],
      "source": [
        "def loss_plot(title):\n",
        "    plt.figure(figsize=(10,5))\n",
        "    plt.title(title)\n",
        "    plt.xlabel(\"Epochs\")\n",
        "    plt.ylabel(\"Cross Entropy Loss\")\n",
        "\n",
        "def acc_plot(title):\n",
        "    plt.figure(figsize=(10,5))\n",
        "    plt.title(title)\n",
        "    plt.axhline(y = 0.5, color = 'r', linestyle = '-', label='Good accuracy')\n",
        "    plt.xlabel(\"Epochs\")\n",
        "    plt.ylabel(\"Accuracy\")"
      ]
    },
    {
      "cell_type": "code",
      "execution_count": 32,
      "metadata": {
        "id": "TklHSBTvWLZM",
        "colab": {
          "base_uri": "https://localhost:8080/",
          "height": 975
        },
        "outputId": "81915545-7da8-439c-9ace-2f48bd98906c"
      },
      "outputs": [
        {
          "output_type": "display_data",
          "data": {
            "text/plain": [
              "<Figure size 1000x500 with 1 Axes>"
            ],
            "image/png": "[encoded data removed]"
          },
          "metadata": {}
        },
        {
          "output_type": "display_data",
          "data": {
            "text/plain": [
              "<Figure size 1400x800 with 0 Axes>"
            ]
          },
          "metadata": {}
        },
        {
          "output_type": "display_data",
          "data": {
            "text/plain": [
              "<Figure size 1000x500 with 1 Axes>"
            ],
            "image/png": "[encoded data removed]"
          },
          "metadata": {}
        }
      ],
      "source": [
        "x_val = np.arange(1, epochs+1)\n",
        "train_loss_hist_epochs = [np.mean(dict_log[\"train_loss_hist\"][i*len(train_loader):(i+1)*len(train_loader)]) for i in range(epochs)]\n",
        "\n",
        "loss_plot('Losses per Epoch')\n",
        "plt.scatter(x_val, dict_log[\"val_loss_hist\"], label='Validation loss')\n",
        "plt.scatter(x_val, train_loss_hist_epochs, label='Train loss')\n",
        "plt.legend()\n",
        "plt.savefig('Losses1.png')\n",
        "plt.show()\n",
        "\n",
        "plt.figure(figsize=(14,8))\n",
        "acc_plot('Validation Accuracy per epoch')\n",
        "plt.scatter(x_val, dict_log[\"val_acc_hist\"])\n",
        "plt.plot(x_val, dict_log[\"val_acc_hist\"], label='Validation Accuracy')\n",
        "plt.legend()\n",
        "plt.savefig('Accuracy1.png')\n",
        "plt.show()"
      ]
    },
    {
      "cell_type": "markdown",
      "metadata": {
        "id": "8ZA9WJsXWbyk"
      },
      "source": [
        "**Expected Output:** Your plots should look somewhat similar to this:\n",
        "\n",
        "![Losses1.png](https://github.com/HHU-MMBS/Deep-Learning-Exercise-Extras/raw/main/a06_pytorch_mlp/images/Losses1.png)"
      ]
    },
    {
      "cell_type": "markdown",
      "metadata": {
        "id": "EAHgD0arN32v"
      },
      "source": [
        "![Accuracy1.png](https://github.com/HHU-MMBS/Deep-Learning-Exercise-Extras/raw/main/a06_pytorch_mlp/images/Accuracy1.png)"
      ]
    },
    {
      "cell_type": "markdown",
      "metadata": {
        "id": "FS5L1J6QWMOA"
      },
      "source": [
        "# 7. Hyperparameter tuning\n",
        "\n",
        "Lastly, we want to squeeze some more performance out of our model by tuning its hyperparameters.\n",
        "\n",
        "**Exercise:** Implement the function hparam_tuning below. It should:\n",
        "- Take in lists of hyperparameters\n",
        "- Test every possible combination of them.\n",
        "\n",
        "The epochs, in_channels and num_classes are fixed. You can experiment with the parameters hidden sizes, learning rate, momentum and weight decay.\n",
        "\n",
        "Save the dictionaries returned by the train function in the logs_out list. Don't forget to re-initialize your model before each run with new hyperparameters"
      ]
    },
    {
      "cell_type": "code",
      "execution_count": 33,
      "metadata": {
        "id": "cuoj0ejKN32w"
      },
      "outputs": [],
      "source": [
        "def hparam_tuning(epochs, in_channels, hidden_sizes, lrs, momentums, wds, num_classes=10):\n",
        "    \"\"\"\n",
        "    params:\n",
        "    epochs: int\n",
        "    in_channels: int\n",
        "    num_classes: int\n",
        "    hidden_sizes: list of lists of ints\n",
        "    lrs/momentums/wds: list of floats\n",
        "    \"\"\"\n",
        "    logs_out = []\n",
        "    ### START CODE HERE ### (approx. 7 lines)\n",
        "    for hidden_sizes in hidden_sizes_list:\n",
        "        for lr in lrs:\n",
        "            for momentum in momentums:\n",
        "                for wd in wds:\n",
        "                    # Create and initialize the model\n",
        "                    model = MLP(in_channels, num_classes, hidden_sizes).to(device)\n",
        "\n",
        "                    # Train the model\n",
        "                    dict_log = train(model, train_loader, val_loader, epochs, lr, momentum, wd)\n",
        "\n",
        "                    # Save the training logs\n",
        "                    logs_out.append({\n",
        "                        'hidden_sizes': hidden_sizes,\n",
        "                        'lr': lr,\n",
        "                        'momentum': momentum,\n",
        "                        'wd': wd,\n",
        "                        'logs': dict_log\n",
        "                    })\n",
        "    ### END CODE HERE ###\n",
        "    return logs_out"
      ]
    },
    {
      "cell_type": "markdown",
      "metadata": {
        "id": "VfTGuReAN32w"
      },
      "source": [
        "**Exercise:** Pick **at least 4 combinations of hyperparameters** and use them for a comparative series of training runs. Since you pass lists of hyperparameters, this means two of the lists need to be at least of length 2."
      ]
    },
    {
      "cell_type": "code",
      "execution_count": 36,
      "metadata": {
        "id": "2MVmxfXcN32w",
        "scrolled": true,
        "colab": {
          "base_uri": "https://localhost:8080/",
          "height": 1000
        },
        "outputId": "75e14f90-33b7-4891-a834-efca00834710"
      },
      "outputs": [
        {
          "output_type": "stream",
          "name": "stdout",
          "text": [
            "Epoch 1/5 done. Train loss: 1.911 val loss: 1.746 Val. Accuracy : 38.820%.\n",
            "Epoch 2/5 done. Train loss: 1.692 val loss: 1.643 Val. Accuracy : 42.880%.\n",
            "Epoch 3/5 done. Train loss: 1.611 val loss: 1.592 Val. Accuracy : 44.680%.\n",
            "Epoch 4/5 done. Train loss: 1.560 val loss: 1.552 Val. Accuracy : 45.790%.\n",
            "Epoch 5/5 done. Train loss: 1.520 val loss: 1.527 Val. Accuracy : 46.810%.\n",
            "Epoch 1/5 done. Train loss: 1.904 val loss: 1.751 Val. Accuracy : 39.320%.\n",
            "Epoch 2/5 done. Train loss: 1.692 val loss: 1.641 Val. Accuracy : 43.180%.\n",
            "Epoch 3/5 done. Train loss: 1.610 val loss: 1.584 Val. Accuracy : 44.980%.\n",
            "Epoch 4/5 done. Train loss: 1.559 val loss: 1.548 Val. Accuracy : 46.430%.\n",
            "Epoch 5/5 done. Train loss: 1.521 val loss: 1.525 Val. Accuracy : 47.060%.\n",
            "Epoch 1/5 done. Train loss: 1.812 val loss: 1.645 Val. Accuracy : 42.980%.\n",
            "Epoch 2/5 done. Train loss: 1.603 val loss: 1.558 Val. Accuracy : 45.570%.\n",
            "Epoch 3/5 done. Train loss: 1.525 val loss: 1.511 Val. Accuracy : 47.400%.\n",
            "Epoch 4/5 done. Train loss: 1.470 val loss: 1.480 Val. Accuracy : 48.590%.\n",
            "Epoch 5/5 done. Train loss: 1.426 val loss: 1.453 Val. Accuracy : 48.900%.\n",
            "Epoch 1/5 done. Train loss: 1.822 val loss: 1.651 Val. Accuracy : 41.940%.\n",
            "Epoch 2/5 done. Train loss: 1.604 val loss: 1.565 Val. Accuracy : 44.960%.\n",
            "Epoch 3/5 done. Train loss: 1.530 val loss: 1.516 Val. Accuracy : 46.810%.\n",
            "Epoch 4/5 done. Train loss: 1.477 val loss: 1.487 Val. Accuracy : 47.610%.\n",
            "Epoch 5/5 done. Train loss: 1.435 val loss: 1.458 Val. Accuracy : 48.740%.\n",
            "Epoch 1/5 done. Train loss: 1.679 val loss: 1.544 Val. Accuracy : 45.190%.\n",
            "Epoch 2/5 done. Train loss: 1.507 val loss: 1.516 Val. Accuracy : 46.500%.\n",
            "Epoch 3/5 done. Train loss: 1.435 val loss: 1.494 Val. Accuracy : 47.030%.\n",
            "Epoch 4/5 done. Train loss: 1.383 val loss: 1.458 Val. Accuracy : 48.750%.\n",
            "Epoch 5/5 done. Train loss: 1.346 val loss: 1.448 Val. Accuracy : 48.710%.\n",
            "Epoch 1/5 done. Train loss: 1.686 val loss: 1.555 Val. Accuracy : 45.290%.\n",
            "Epoch 2/5 done. Train loss: 1.509 val loss: 1.484 Val. Accuracy : 47.390%.\n",
            "Epoch 3/5 done. Train loss: 1.438 val loss: 1.456 Val. Accuracy : 47.740%.\n",
            "Epoch 4/5 done. Train loss: 1.389 val loss: 1.464 Val. Accuracy : 48.610%.\n",
            "Epoch 5/5 done. Train loss: 1.353 val loss: 1.435 Val. Accuracy : 49.670%.\n",
            "Epoch 1/5 done. Train loss: 1.719 val loss: 1.637 Val. Accuracy : 41.780%.\n",
            "Epoch 2/5 done. Train loss: 1.562 val loss: 1.600 Val. Accuracy : 44.670%.\n",
            "Epoch 3/5 done. Train loss: 1.505 val loss: 1.525 Val. Accuracy : 46.680%.\n",
            "Epoch 4/5 done. Train loss: 1.460 val loss: 1.562 Val. Accuracy : 46.220%.\n",
            "Epoch 5/5 done. Train loss: 1.436 val loss: 1.552 Val. Accuracy : 46.260%.\n",
            "Epoch 1/5 done. Train loss: 1.718 val loss: 1.575 Val. Accuracy : 44.360%.\n",
            "Epoch 2/5 done. Train loss: 1.571 val loss: 1.578 Val. Accuracy : 45.160%.\n",
            "Epoch 3/5 done. Train loss: 1.509 val loss: 1.556 Val. Accuracy : 45.830%.\n",
            "Epoch 4/5 done. Train loss: 1.480 val loss: 1.554 Val. Accuracy : 45.340%.\n",
            "Epoch 5/5 done. Train loss: 1.449 val loss: 1.485 Val. Accuracy : 48.080%.\n",
            "Epoch 1/5 done. Train loss: 2.063 val loss: 1.865 Val. Accuracy : 34.050%.\n",
            "Epoch 2/5 done. Train loss: 1.778 val loss: 1.700 Val. Accuracy : 40.110%.\n",
            "Epoch 3/5 done. Train loss: 1.663 val loss: 1.622 Val. Accuracy : 43.040%.\n",
            "Epoch 4/5 done. Train loss: 1.593 val loss: 1.565 Val. Accuracy : 44.990%.\n",
            "Epoch 5/5 done. Train loss: 1.537 val loss: 1.521 Val. Accuracy : 46.490%.\n",
            "Epoch 1/5 done. Train loss: 2.060 val loss: 1.873 Val. Accuracy : 34.040%.\n",
            "Epoch 2/5 done. Train loss: 1.788 val loss: 1.709 Val. Accuracy : 39.550%.\n",
            "Epoch 3/5 done. Train loss: 1.668 val loss: 1.620 Val. Accuracy : 42.650%.\n",
            "Epoch 4/5 done. Train loss: 1.594 val loss: 1.567 Val. Accuracy : 44.590%.\n",
            "Epoch 5/5 done. Train loss: 1.538 val loss: 1.527 Val. Accuracy : 46.250%.\n",
            "Epoch 1/5 done. Train loss: 1.944 val loss: 1.718 Val. Accuracy : 39.040%.\n",
            "Epoch 2/5 done. Train loss: 1.650 val loss: 1.584 Val. Accuracy : 44.140%.\n",
            "Epoch 3/5 done. Train loss: 1.542 val loss: 1.510 Val. Accuracy : 47.580%.\n",
            "Epoch 4/5 done. Train loss: 1.466 val loss: 1.460 Val. Accuracy : 48.580%.\n",
            "Epoch 5/5 done. Train loss: 1.404 val loss: 1.419 Val. Accuracy : 50.590%.\n",
            "Epoch 1/5 done. Train loss: 1.965 val loss: 1.720 Val. Accuracy : 39.510%.\n",
            "Epoch 2/5 done. Train loss: 1.652 val loss: 1.586 Val. Accuracy : 44.250%.\n",
            "Epoch 3/5 done. Train loss: 1.546 val loss: 1.510 Val. Accuracy : 46.750%.\n",
            "Epoch 4/5 done. Train loss: 1.472 val loss: 1.469 Val. Accuracy : 48.320%.\n",
            "Epoch 5/5 done. Train loss: 1.408 val loss: 1.424 Val. Accuracy : 49.760%.\n",
            "Epoch 1/5 done. Train loss: 1.717 val loss: 1.542 Val. Accuracy : 46.330%.\n",
            "Epoch 2/5 done. Train loss: 1.479 val loss: 1.444 Val. Accuracy : 49.330%.\n",
            "Epoch 3/5 done. Train loss: 1.376 val loss: 1.426 Val. Accuracy : 49.600%.\n",
            "Epoch 4/5 done. Train loss: 1.307 val loss: 1.379 Val. Accuracy : 51.650%.\n",
            "Epoch 5/5 done. Train loss: 1.249 val loss: 1.351 Val. Accuracy : 52.400%.\n",
            "Epoch 1/5 done. Train loss: 1.723 val loss: 1.532 Val. Accuracy : 45.820%.\n",
            "Epoch 2/5 done. Train loss: 1.483 val loss: 1.441 Val. Accuracy : 49.360%.\n",
            "Epoch 3/5 done. Train loss: 1.385 val loss: 1.413 Val. Accuracy : 50.080%.\n",
            "Epoch 4/5 done. Train loss: 1.318 val loss: 1.413 Val. Accuracy : 50.650%.\n",
            "Epoch 5/5 done. Train loss: 1.267 val loss: 1.380 Val. Accuracy : 51.280%.\n",
            "Epoch 1/5 done. Train loss: 1.715 val loss: 1.563 Val. Accuracy : 44.190%.\n",
            "Epoch 2/5 done. Train loss: 1.504 val loss: 1.493 Val. Accuracy : 46.450%.\n",
            "Epoch 3/5 done. Train loss: 1.408 val loss: 1.455 Val. Accuracy : 48.250%.\n",
            "Epoch 4/5 done. Train loss: 1.348 val loss: 1.430 Val. Accuracy : 49.790%.\n",
            "Epoch 5/5 done. Train loss: 1.296 val loss: 1.423 Val. Accuracy : 50.670%.\n",
            "Epoch 1/5 done. Train loss: 1.706 val loss: 1.515 Val. Accuracy : 46.720%.\n",
            "Epoch 2/5 done. Train loss: 1.492 val loss: 1.459 Val. Accuracy : 48.280%.\n",
            "Epoch 3/5 done. Train loss: 1.407 val loss: 1.425 Val. Accuracy : 49.660%.\n",
            "Epoch 4/5 done. Train loss: 1.352 val loss: 1.416 Val. Accuracy : 50.500%.\n",
            "Epoch 5/5 done. Train loss: 1.312 val loss: 1.423 Val. Accuracy : 50.500%.\n",
            "Epoch 1/5 done. Train loss: 2.231 val loss: 2.080 Val. Accuracy : 26.210%.\n",
            "Epoch 2/5 done. Train loss: 1.957 val loss: 1.853 Val. Accuracy : 33.460%.\n",
            "Epoch 3/5 done. Train loss: 1.786 val loss: 1.711 Val. Accuracy : 38.990%.\n",
            "Epoch 4/5 done. Train loss: 1.674 val loss: 1.626 Val. Accuracy : 42.460%.\n",
            "Epoch 5/5 done. Train loss: 1.599 val loss: 1.568 Val. Accuracy : 44.450%.\n",
            "Epoch 1/5 done. Train loss: 2.219 val loss: 2.057 Val. Accuracy : 26.490%.\n",
            "Epoch 2/5 done. Train loss: 1.937 val loss: 1.834 Val. Accuracy : 35.590%.\n",
            "Epoch 3/5 done. Train loss: 1.777 val loss: 1.708 Val. Accuracy : 39.380%.\n",
            "Epoch 4/5 done. Train loss: 1.671 val loss: 1.619 Val. Accuracy : 42.700%.\n",
            "Epoch 5/5 done. Train loss: 1.595 val loss: 1.559 Val. Accuracy : 44.990%.\n",
            "Epoch 1/5 done. Train loss: 2.091 val loss: 1.852 Val. Accuracy : 33.210%.\n",
            "Epoch 2/5 done. Train loss: 1.736 val loss: 1.640 Val. Accuracy : 41.510%.\n",
            "Epoch 3/5 done. Train loss: 1.588 val loss: 1.537 Val. Accuracy : 44.710%.\n",
            "Epoch 4/5 done. Train loss: 1.487 val loss: 1.477 Val. Accuracy : 47.710%.\n",
            "Epoch 5/5 done. Train loss: 1.412 val loss: 1.429 Val. Accuracy : 49.640%.\n",
            "Epoch 1/5 done. Train loss: 2.100 val loss: 1.846 Val. Accuracy : 33.910%.\n",
            "Epoch 2/5 done. Train loss: 1.736 val loss: 1.636 Val. Accuracy : 42.130%.\n",
            "Epoch 3/5 done. Train loss: 1.593 val loss: 1.544 Val. Accuracy : 45.190%.\n",
            "Epoch 4/5 done. Train loss: 1.494 val loss: 1.469 Val. Accuracy : 48.360%.\n",
            "Epoch 5/5 done. Train loss: 1.417 val loss: 1.428 Val. Accuracy : 49.390%.\n",
            "Epoch 1/5 done. Train loss: 1.785 val loss: 1.562 Val. Accuracy : 44.700%.\n",
            "Epoch 2/5 done. Train loss: 1.488 val loss: 1.444 Val. Accuracy : 49.560%.\n",
            "Epoch 3/5 done. Train loss: 1.366 val loss: 1.376 Val. Accuracy : 51.550%.\n",
            "Epoch 4/5 done. Train loss: 1.282 val loss: 1.362 Val. Accuracy : 51.870%.\n",
            "Epoch 5/5 done. Train loss: 1.214 val loss: 1.345 Val. Accuracy : 52.350%.\n",
            "Epoch 1/5 done. Train loss: 1.797 val loss: 1.589 Val. Accuracy : 44.290%.\n",
            "Epoch 2/5 done. Train loss: 1.497 val loss: 1.469 Val. Accuracy : 48.720%.\n",
            "Epoch 3/5 done. Train loss: 1.377 val loss: 1.386 Val. Accuracy : 51.160%.\n",
            "Epoch 4/5 done. Train loss: 1.292 val loss: 1.362 Val. Accuracy : 51.820%.\n",
            "Epoch 5/5 done. Train loss: 1.227 val loss: 1.368 Val. Accuracy : 52.120%.\n",
            "Epoch 1/5 done. Train loss: 1.752 val loss: 1.548 Val. Accuracy : 44.960%.\n",
            "Epoch 2/5 done. Train loss: 1.492 val loss: 1.454 Val. Accuracy : 49.390%.\n",
            "Epoch 3/5 done. Train loss: 1.380 val loss: 1.404 Val. Accuracy : 49.580%.\n",
            "Epoch 4/5 done. Train loss: 1.308 val loss: 1.378 Val. Accuracy : 51.880%.\n",
            "Epoch 5/5 done. Train loss: 1.240 val loss: 1.368 Val. Accuracy : 51.770%.\n",
            "Epoch 1/5 done. Train loss: 1.756 val loss: 1.544 Val. Accuracy : 45.360%.\n",
            "Epoch 2/5 done. Train loss: 1.492 val loss: 1.450 Val. Accuracy : 48.580%.\n",
            "Epoch 3/5 done. Train loss: 1.389 val loss: 1.401 Val. Accuracy : 50.010%.\n",
            "Epoch 4/5 done. Train loss: 1.318 val loss: 1.448 Val. Accuracy : 49.470%.\n",
            "Epoch 5/5 done. Train loss: 1.260 val loss: 1.367 Val. Accuracy : 51.530%.\n"
          ]
        },
        {
          "output_type": "error",
          "ename": "KeyError",
          "evalue": "ignored",
          "traceback": [
            "\u001b[0;31m---------------------------------------------------------------------------\u001b[0m",
            "\u001b[0;31mKeyError\u001b[0m                                  Traceback (most recent call last)",
            "\u001b[0;32m<ipython-input-36-5067501fba8c>\u001b[0m in \u001b[0;36m<cell line: 20>\u001b[0;34m()\u001b[0m\n\u001b[1;32m     19\u001b[0m \u001b[0macc_plot\u001b[0m\u001b[0;34m(\u001b[0m\u001b[0;34m\"Validation accuracy for different hyperparameter sets\"\u001b[0m\u001b[0;34m)\u001b[0m\u001b[0;34m\u001b[0m\u001b[0;34m\u001b[0m\u001b[0m\n\u001b[1;32m     20\u001b[0m \u001b[0;32mfor\u001b[0m \u001b[0mc\u001b[0m\u001b[0;34m,\u001b[0m \u001b[0mdict_out\u001b[0m \u001b[0;32min\u001b[0m \u001b[0menumerate\u001b[0m\u001b[0;34m(\u001b[0m\u001b[0mlogs_out\u001b[0m\u001b[0;34m)\u001b[0m\u001b[0;34m:\u001b[0m\u001b[0;34m\u001b[0m\u001b[0;34m\u001b[0m\u001b[0m\n\u001b[0;32m---> 21\u001b[0;31m     \u001b[0mx_val\u001b[0m \u001b[0;34m=\u001b[0m \u001b[0mlist\u001b[0m\u001b[0;34m(\u001b[0m\u001b[0mrange\u001b[0m\u001b[0;34m(\u001b[0m\u001b[0mlen\u001b[0m\u001b[0;34m(\u001b[0m\u001b[0mdict_out\u001b[0m\u001b[0;34m[\u001b[0m\u001b[0;34m\"val_acc_hist\"\u001b[0m\u001b[0;34m]\u001b[0m\u001b[0;34m)\u001b[0m\u001b[0;34m)\u001b[0m\u001b[0;34m)\u001b[0m\u001b[0;34m\u001b[0m\u001b[0;34m\u001b[0m\u001b[0m\n\u001b[0m\u001b[1;32m     22\u001b[0m     \u001b[0mplt\u001b[0m\u001b[0;34m.\u001b[0m\u001b[0mscatter\u001b[0m\u001b[0;34m(\u001b[0m\u001b[0mx_val\u001b[0m\u001b[0;34m,\u001b[0m \u001b[0mdict_out\u001b[0m\u001b[0;34m[\u001b[0m\u001b[0;34m\"val_acc_hist\"\u001b[0m\u001b[0;34m]\u001b[0m\u001b[0;34m)\u001b[0m\u001b[0;34m\u001b[0m\u001b[0;34m\u001b[0m\u001b[0m\n\u001b[1;32m     23\u001b[0m     \u001b[0mplt\u001b[0m\u001b[0;34m.\u001b[0m\u001b[0mplot\u001b[0m\u001b[0;34m(\u001b[0m\u001b[0mx_val\u001b[0m\u001b[0;34m,\u001b[0m \u001b[0mdict_out\u001b[0m\u001b[0;34m[\u001b[0m\u001b[0;34m\"val_acc_hist\"\u001b[0m\u001b[0;34m]\u001b[0m\u001b[0;34m,\u001b[0m \u001b[0mlabel\u001b[0m\u001b[0;34m=\u001b[0m\u001b[0;34mf\"HP set {c+1}\"\u001b[0m\u001b[0;34m)\u001b[0m\u001b[0;34m\u001b[0m\u001b[0;34m\u001b[0m\u001b[0m\n",
            "\u001b[0;31mKeyError\u001b[0m: 'val_acc_hist'"
          ]
        },
        {
          "output_type": "display_data",
          "data": {
            "text/plain": [
              "<Figure size 1400x800 with 0 Axes>"
            ]
          },
          "metadata": {}
        },
        {
          "output_type": "display_data",
          "data": {
            "text/plain": [
              "<Figure size 1000x500 with 1 Axes>"
            ],
            "image/png": "[encoded data removed]"
          },
          "metadata": {}
        }
      ],
      "source": [
        "### START CODE HERE ### (approx. 4 lines)\n",
        "epochs = 5\n",
        "in_channels = 3 * 32 * 32\n",
        "hidden_sizes_list = [[64], [128, 64], [256, 128, 64]]\n",
        "lrs = [0.001, 0.01]\n",
        "momentums = [0.9, 0.95]\n",
        "wds = [0.0001, 0.0005]\n",
        "selected_hyperparams = [\n",
        "    hidden_sizes_list[0],  # Set 1\n",
        "    hidden_sizes_list[1],  # Set 2\n",
        "    [128, 64, 32],         # Set 3\n",
        "    [256, 128, 64],        # Set 4\n",
        "]\n",
        "### END CODE HERE ###\n",
        "\n",
        "logs_out = hparam_tuning(epochs, in_channels, hidden_sizes, lrs, momentums, wds)\n",
        "\n",
        "plt.figure(figsize=(14,8))\n",
        "acc_plot(\"Validation accuracy for different hyperparameter sets\")\n",
        "for c, dict_out in enumerate(logs_out):\n",
        "    x_val = list(range(len(dict_out[\"val_acc_hist\"])))\n",
        "    plt.scatter(x_val, dict_out[\"val_acc_hist\"])\n",
        "    plt.plot(x_val, dict_out[\"val_acc_hist\"], label=f\"HP set {c+1}\")\n",
        "plt.legend()\n",
        "plt.show()"
      ]
    },
    {
      "cell_type": "markdown",
      "metadata": {
        "id": "--U4OoiRqCgf"
      },
      "source": [
        "**Expected Output:** Your plots should look somewhat similar to this:\n",
        "\n",
        "![Accuracy2.png](https://github.com/HHU-MMBS/Deep-Learning-Exercise-Extras/raw/main/a06_pytorch_mlp/images/Accuracy2.png)"
      ]
    }
  ],
  "metadata": {
    "accelerator": "GPU",
    "colab": {
      "gpuType": "T4",
      "provenance": []
    },
    "kernelspec": {
      "display_name": "Python 3 (ipykernel)",
      "language": "python",
      "name": "python3"
    },
    "language_info": {
      "codemirror_mode": {
        "name": "ipython",
        "version": 3
      },
      "file_extension": ".py",
      "mimetype": "text/x-python",
      "name": "python",
      "nbconvert_exporter": "python",
      "pygments_lexer": "ipython3",
      "version": "3.9.12"
    }
  },
  "nbformat": 4,
  "nbformat_minor": 0
}