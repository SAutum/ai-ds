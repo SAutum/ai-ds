{
 "cells": [
  {
   "cell_type": "code",
   "execution_count": 10,
   "metadata": {},
   "outputs": [
    {
     "name": "stdout",
     "output_type": "stream",
     "text": [
      "[[22 32 87 31 20]\n",
      " [57 39  5 52 89]\n",
      " [92 81 27 28 82]\n",
      " [91 52 22 79  3]\n",
      " [19 10 14 51 92]]\n",
      "[[35]\n",
      " [77]\n",
      " [ 9]\n",
      " [12]\n",
      " [ 8]]\n"
     ]
    }
   ],
   "source": [
    "import numpy as np\n",
    "\n",
    "A = np.random.randint(0, 100, (5, 5))\n",
    "B = np.random.randint(0, 100, (5, 1))\n",
    "print(A); print(B)\n"
   ]
  },
  {
   "cell_type": "code",
   "execution_count": 11,
   "metadata": {},
   "outputs": [
    {
     "data": {
      "text/plain": [
       "array([[ 4549],\n",
       "       [ 6379],\n",
       "       [10692],\n",
       "       [ 8359],\n",
       "       [ 2909]])"
      ]
     },
     "execution_count": 11,
     "metadata": {},
     "output_type": "execute_result"
    }
   ],
   "source": [
    "A@B\n"
   ]
  },
  {
   "cell_type": "code",
   "execution_count": 12,
   "metadata": {},
   "outputs": [
    {
     "data": {
      "text/plain": [
       "array([[ 4549],\n",
       "       [ 6379],\n",
       "       [10692],\n",
       "       [ 8359],\n",
       "       [ 2909]])"
      ]
     },
     "execution_count": 12,
     "metadata": {},
     "output_type": "execute_result"
    }
   ],
   "source": [
    "A.dot(B)\n"
   ]
  },
  {
   "cell_type": "code",
   "execution_count": 14,
   "metadata": {},
   "outputs": [
    {
     "data": {
      "text/plain": [
       "array([[ 770, 1120, 3045, 1085,  700],\n",
       "       [4389, 3003,  385, 4004, 6853],\n",
       "       [ 828,  729,  243,  252,  738],\n",
       "       [1092,  624,  264,  948,   36],\n",
       "       [ 152,   80,  112,  408,  736]])"
      ]
     },
     "execution_count": 14,
     "metadata": {},
     "output_type": "execute_result"
    }
   ],
   "source": [
    "np.multiply(A,B)\n"
   ]
  }
 ],
 "metadata": {
  "kernelspec": {
   "display_name": "dl",
   "language": "python",
   "name": "python3"
  },
  "language_info": {
   "codemirror_mode": {
    "name": "ipython",
    "version": 3
   },
   "file_extension": ".py",
   "mimetype": "text/x-python",
   "name": "python",
   "nbconvert_exporter": "python",
   "pygments_lexer": "ipython3",
   "version": "3.11.5"
  }
 },
 "nbformat": 4,
 "nbformat_minor": 2
}
