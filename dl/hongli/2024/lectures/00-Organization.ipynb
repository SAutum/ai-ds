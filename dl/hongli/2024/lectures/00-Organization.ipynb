{
 "cells": [
  {
   "cell_type": "markdown",
   "metadata": {},
   "source": [
    "# Deep Learning: Building the neurons from scratch! 🧠\n",
    "We will build from scratch a neural network (NN) library. In particular, we will implement:\n",
    "\n",
    "- A computational graph: linking functions into a directed acyclic graph\n",
    "- Backprop: trace back gradients through the computational graph to update function parameters\n",
    "- NN components: Linear layers, nonlinearities, normalization, convolutions, attention, losses\n",
    "- Training: Gradient descent for updating parameters\n",
    "- Tricks: Make NNs really learn\n",
    "- Experiments: small toy datasets\n",
    "\n",
    "Our library will not be very efficient, no GPU support.\n",
    "\n",
    "> In order to understand something, you must be able to code it."
   ]
  },
  {
   "cell_type": "markdown",
   "metadata": {},
   "source": [
    "# Materials & References\n",
    "\n",
    "This course builds upon [''From Zero to Hero''](https://karpathy.ai/zero-to-hero.html) by Andrej Karpathy. The corresponding library is [Micrograd](https://github.com/karpathy/micrograd).\n",
    "\n",
    "However, we will significantly expand upon the micrograd library.\n",
    "\n",
    "Other good resources:\n",
    "-  I. Goodfellow, Y. Bengio, A. Courville [''Deep Learning, The MIT Press, 2017](http://www.deeplearningbook.org/)\n",
    "-  K.P. Murphy, [''Probabilistic Machine Learning: An Introduction'', The MIT Press, 2022](https://probml.github.io/pml-book/book1.html)\n",
    "-  K.P. Murphy, [''Probabilistic Machine Learning: Advanced Topics'', The MIT Press, 2023](https://probml.github.io/pml-book/book2.html)\n",
    "- Christopher Olah's [blog](https://colah.github.io)"
   ]
  },
  {
   "cell_type": "markdown",
   "metadata": {},
   "source": [
    "# What to expect from the course?\n",
    "\n",
    "- Implementation from the ground up of many important NN components\n",
    "- Understanding on a deep technical level how NNs conceptually and practically work\n",
    "- Results/architectures from a number of key NN papers\n",
    "- You will go through derivative hell\n",
    "- You will go through implementation pain \n",
    "- Afterwards you go through bug chasing torture\n",
    "- After it works coding wise, you will be forced to interpret on a per-neuron level how the training goes\n",
    "- After having so ascertained that you are bug-free and how the NN is behaving, you will be required to come up with solutions to improve the NN conceptually\n",
    "\n",
    "Some pain-resistance will be needed."
   ]
  },
  {
   "cell_type": "markdown",
   "metadata": {},
   "source": [
    "# Organization\n",
    "\n",
    "- Discord server for lecture: [https://discord.gg/VQyu3ana](https://discord.gg/VQyu3ana)\n",
    "- Lecture : Monday\t14:30 - 16:00, Room 0-Hörsaal - 2531.HS 5M\n",
    "- Lecturer: Paul Swoboda, paul.swoboda@hhu.de\n",
    "- Exercise class: Tuesday 12:30 - 14:00, Room 0-Hörsaal - 2531.HS 5K, Wednesday 16:00 - 17:30, Room 0-Hörsaal - 2522.HS 5G\n",
    "- Teaching assistant: Paweł Batorski, pawel.batorski@hhu.de\n",
    "- Weekly exercise sheet, hand in on Monday 9am, you must get >= 50% of the points to be able to take the exam\n",
    "- Exam: written, 90 minutes duration, will take place at end of January/beginning of February and second one in beginning of April.\n"
   ]
  },
  {
   "cell_type": "markdown",
   "metadata": {},
   "source": [
    "# Prerequisites\n",
    "\n",
    "- Linear algebra\n",
    "- Multivariate calculus\n",
    "- Elementary probability theory\n",
    "\n",
    "I recommend taking the following courses:\n",
    "\n",
    "- Machine learning (given by me this semester as well) -> conceptual basics needed for deep learning\n",
    "- Mathematics course by Peter Arndt -> mathematical foundation for ML and DL"
   ]
  },
  {
   "cell_type": "markdown",
   "metadata": {},
   "source": [
    "# Lecture Materials\n",
    "\n",
    "- I will write up step by step a jupyter notebook during the class containing only code and visualizations\n",
    "- After the class, I will upload a sanitized version augmented by explanations of the notebook to discord"
   ]
  }
 ],
 "metadata": {
  "language_info": {
   "name": "python"
  }
 },
 "nbformat": 4,
 "nbformat_minor": 2
}
