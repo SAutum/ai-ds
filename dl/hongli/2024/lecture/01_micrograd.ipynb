{
 "cells": [
  {
   "cell_type": "code",
   "execution_count": 33,
   "metadata": {},
   "outputs": [],
   "source": [
    "import math\n",
    "import numpy as np\n",
    "import matplotlib.pyplot as plt"
   ]
  },
  {
   "cell_type": "markdown",
   "metadata": {},
   "source": [
    "# Find the slope at a point of a function"
   ]
  },
  {
   "cell_type": "code",
   "execution_count": 2,
   "metadata": {},
   "outputs": [
    {
     "data": {
      "image/png": "[encoded data removed]",
      "text/plain": [
       "<Figure size 640x480 with 1 Axes>"
      ]
     },
     "metadata": {},
     "output_type": "display_data"
    }
   ],
   "source": [
    "def f(x):\n",
    "    return x**2 + 2*x + 3\n",
    "\n",
    "plt.figure()\n",
    "x = np.linspace(-10, 10, 100)\n",
    "y = f(x)\n",
    "plt.plot(x, y)\n",
    "plt.show()"
   ]
  },
  {
   "cell_type": "code",
   "execution_count": 3,
   "metadata": {},
   "outputs": [
    {
     "name": "stdout",
     "output_type": "stream",
     "text": [
      "7.000001001955525\n"
     ]
    }
   ],
   "source": [
    "x = 2.5\n",
    "h = 1e-6\n",
    "x_prime = x + h\n",
    "print((f(x_prime) - f(x)) / h)"
   ]
  },
  {
   "cell_type": "markdown",
   "metadata": {},
   "source": [
    "# Multi-Layer Perceptrons"
   ]
  },
  {
   "cell_type": "code",
   "execution_count": 50,
   "metadata": {},
   "outputs": [],
   "source": [
    "class Value:\n",
    "    def __init__(self, data, _children = (), operation = \"\", label = \"\"):\n",
    "        self.data = data\n",
    "        self._prev = set(_children)\n",
    "        self._label = label\n",
    "        self._operation = operation\n",
    "\n",
    "        self.grad = 0.0\n",
    "\n",
    "        self._backward = lambda: None\n",
    "\n",
    "    # activation functions\n",
    "    def tanh(self):\n",
    "        x = self.data\n",
    "        value = Value(1 - 2 / (math.exp(2*x) + 1))\n",
    "        def _backward():\n",
    "            self.grad += (1 - value.data**2) * value.grad\n",
    "\n",
    "        value._backward = _backward\n",
    "        return value\n",
    "\n",
    "    def relu(self):\n",
    "        x = self.data\n",
    "        value = max(0, x)\n",
    "        return Value(value, _children = (self,), operation = \"relu\")\n",
    "\n",
    "    def __add__(self, other):\n",
    "        value = Value(self.data + other.data, _children = (self, other),\\\n",
    "                     operation = \"+\")\n",
    "\n",
    "        def _backward():\n",
    "            self.grad += value.grad\n",
    "            other.grad += value.grad\n",
    "\n",
    "        value._backward = _backward\n",
    "        return value\n",
    "\n",
    "    def __sub__(self, other):\n",
    "        return Value(self.data - other.data, _children = (self, other),\\\n",
    "                     operation = \"-\")\n",
    "\n",
    "    def __mul__(self, other):\n",
    "        return Value(self.data * other.data, _children = (self, other),\\\n",
    "                     operation = \"*\")\n",
    "\n",
    "    def __truediv__(self, other):\n",
    "        return Value(self.data / other.data, _children = (self, other),\\\n",
    "                     operation = \"/\")\n",
    "\n",
    "    def __pow__(self, other):\n",
    "        return Value(self.data ** other, _children = (self, other),\\\n",
    "                     operation = \"**\")\n",
    "\n",
    "    def __repr__(self):\n",
    "        return str(self.data)"
   ]
  },
  {
   "cell_type": "code",
   "execution_count": 51,
   "metadata": {},
   "outputs": [
    {
     "name": "stdout",
     "output_type": "stream",
     "text": [
      "0.009866037165440211\n"
     ]
    }
   ],
   "source": [
    "a = Value(3)\n",
    "b = Value(4)\n",
    "t = a.tanh()\n",
    "c = t + b\n",
    "\n",
    "c.grad = 1.0\n",
    "c._backward()\n",
    "t._backward()\n",
    "\n",
    "print(a.grad)"
   ]
  }
 ],
 "metadata": {
  "kernelspec": {
   "display_name": "base",
   "language": "python",
   "name": "python3"
  },
  "language_info": {
   "codemirror_mode": {
    "name": "ipython",
    "version": 3
   },
   "file_extension": ".py",
   "mimetype": "text/x-python",
   "name": "python",
   "nbconvert_exporter": "python",
   "pygments_lexer": "ipython3",
   "version": "3.11.5"
  }
 },
 "nbformat": 4,
 "nbformat_minor": 2
}
