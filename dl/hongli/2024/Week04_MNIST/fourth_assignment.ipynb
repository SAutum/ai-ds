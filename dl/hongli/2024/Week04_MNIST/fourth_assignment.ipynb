{
 "cells": [
  {
   "cell_type": "markdown",
   "metadata": {},
   "source": [
    "*This assignment was done by group of ID*"
   ]
  },
  {
   "cell_type": "markdown",
   "metadata": {},
   "source": [
    "<YOUR_GROUP_ID> e.g. 10"
   ]
  },
  {
   "cell_type": "markdown",
   "metadata": {},
   "source": [
    "<YOUR_GROUP_DAY> Tuesday or Wednesday"
   ]
  },
  {
   "cell_type": "markdown",
   "metadata": {},
   "source": [
    "This assignment is based on the Tensor class. Your task is to train the MLP to perform classification on Fashion MNIST dataset. Your task is to perform hyperparameter search to look for the best hyperparameters for this specific task."
   ]
  },
  {
   "cell_type": "markdown",
   "metadata": {},
   "source": [
    "*Important* - Rembmer that you should not use test set to fine-tune your parameters. "
   ]
  },
  {
   "cell_type": "markdown",
   "metadata": {},
   "source": [
    "In this assignment, you should apply both Grid Search and Random Search to illustrate the differences in their results. To ensure a fair comparison, the total number of model evaluations should be equal for both Grid Search and Random Search. \n",
    "Be sure to present your findings for both scenarios: using a simple train-validation split and employing cross-validation.\n",
    "Additionally, you are encouraged to experiment with any other hyperparameter optimization techniques you are familiar with. "
   ]
  },
  {
   "cell_type": "markdown",
   "metadata": {},
   "source": [
    "Try to find the best hyperparameters in space of:\n",
    "\n",
    "(1) Batch Size\n",
    "\n",
    "(2) Learning Rate\n",
    "\n",
    "(3) Number of Epochs\n",
    "\n",
    "(4) Activation Functions (here you need to modify MLP Class)\n",
    "\n",
    "(5) Architectures (Different number of layers, different number of neurons per layer)"
   ]
  },
  {
   "cell_type": "markdown",
   "metadata": {},
   "source": [
    "Imports"
   ]
  },
  {
   "cell_type": "code",
   "execution_count": 1,
   "metadata": {},
   "outputs": [],
   "source": [
    "from itertools import product\n",
    "from typing import List\n",
    "from Tensor import Tensor\n",
    "\n",
    "import matplotlib.pyplot as plt\n",
    "import numpy as np\n",
    "from tqdm import tqdm\n",
    "from sklearn.datasets import fetch_openml\n",
    "from sklearn.model_selection import train_test_split"
   ]
  },
  {
   "cell_type": "markdown",
   "metadata": {},
   "source": [
    "MLP Class - here add possibility for using ReLU as a activation function."
   ]
  },
  {
   "cell_type": "code",
   "execution_count": 2,
   "metadata": {},
   "outputs": [],
   "source": [
    "class MLP:\n",
    "    def __init__(self, n_in: int, n_out: int, hidden_dims: list):\n",
    "        sizes = [n_in] + hidden_dims + [n_out]\n",
    "        self.layers = []\n",
    "\n",
    "        for i in range(len(sizes)-1):\n",
    "            layer = Tensor(shape=(sizes[i+1], sizes[i]), label=f'layer {i}')\n",
    "            layer.data = np.random.uniform(low=-0.05, high=0.05, size=(sizes[i+1], sizes[i]))\n",
    "            self.layers.append(layer)\n",
    "\n",
    "    def __call__(self, x, activation = 'tanh'):\n",
    "        for idx, layer in enumerate(self.layers):\n",
    "            x = layer @ x\n",
    "            if idx < len(self.layers) - 1:\n",
    "                if activation == 'tanh':\n",
    "                    x = x.tanh()\n",
    "                elif activation == 'relu':\n",
    "                    x = x.relu()\n",
    "        return x\n",
    "\n",
    "    def parameters(self):\n",
    "        return self.layers"
   ]
  },
  {
   "cell_type": "markdown",
   "metadata": {},
   "source": [
    "MNIST_Net class"
   ]
  },
  {
   "cell_type": "code",
   "execution_count": 3,
   "metadata": {},
   "outputs": [],
   "source": [
    "class MNIST_Net:\n",
    "    def __init__(self, hidden_dims=[64]):\n",
    "        self.mlp = MLP(n_in=784, n_out=10, hidden_dims=hidden_dims)\n",
    "    def __call__(self, x):\n",
    "        return self.mlp(x).softmax()\n",
    "    def parameters(self):\n",
    "        return self.mlp.parameters()\n",
    "\n",
    "model = MNIST_Net()"
   ]
  },
  {
   "cell_type": "markdown",
   "metadata": {},
   "source": [
    "Validate auxilary function"
   ]
  },
  {
   "cell_type": "code",
   "execution_count": 4,
   "metadata": {},
   "outputs": [],
   "source": [
    "def validate(model, X_set, Y_set):\n",
    "    \"\"\"\n",
    "    Evaluate the accuracy of the model on a given dataset.\n",
    "\n",
    "    This function performs a forward pass on each sample in the dataset,\n",
    "    predicts the class, and compares it to the true class to calculate\n",
    "    the overall accuracy.\n",
    "    \"\"\"\n",
    "    correct_predictions = 0\n",
    "    total_predictions = 0\n",
    "\n",
    "    for i in range(X_set.shape[0]):\n",
    "        x = X_set[i]\n",
    "        y_true = Y_set[i]\n",
    "\n",
    "        # Forward pass\n",
    "        y_pred = model(x)\n",
    "\n",
    "        # Get the predicted class (assuming y_pred is a Tensor with probabilities)\n",
    "        predicted_class = np.argmax(y_pred.data)\n",
    "\n",
    "        # Check if the prediction is correct\n",
    "        if predicted_class == y_true:\n",
    "            correct_predictions += 1\n",
    "\n",
    "        total_predictions += 1\n",
    "\n",
    "    # Calculate accuracy\n",
    "    accuracy = correct_predictions / total_predictions\n",
    "    return accuracy"
   ]
  },
  {
   "cell_type": "markdown",
   "metadata": {},
   "source": [
    "Fashion MNIST Loading"
   ]
  },
  {
   "cell_type": "code",
   "execution_count": 5,
   "metadata": {},
   "outputs": [
    {
     "name": "stdout",
     "output_type": "stream",
     "text": [
      "(60000, 28, 28) (60000,)\n"
     ]
    }
   ],
   "source": [
    "# Load Fashion MNIST\n",
    "fashion_mnist = fetch_openml('Fashion-MNIST', version=1)\n",
    "images, labels = fashion_mnist.data, fashion_mnist.target\n",
    "\n",
    "images = images.values.reshape(-1, 28, 28)\n",
    "labels = labels.values\n",
    "X_train, X_test, y_train, y_test = train_test_split(images, labels, train_size=60000, test_size=10000, stratify=labels, random_state=42)\n",
    "print(X_train.shape, y_train.shape)"
   ]
  },
  {
   "cell_type": "markdown",
   "metadata": {},
   "source": [
    "Let's see how the datapoints look like"
   ]
  },
  {
   "cell_type": "code",
   "execution_count": 6,
   "metadata": {},
   "outputs": [
    {
     "data": {
      "image/png": "[encoded data removed]",
      "text/plain": [
       "<Figure size 1000x1000 with 9 Axes>"
      ]
     },
     "metadata": {},
     "output_type": "display_data"
    }
   ],
   "source": [
    "fig, axs = plt.subplots(3, 3, figsize=(10, 10))\n",
    "for i in range(9):\n",
    "    ax = axs[i//3, i%3]\n",
    "    ax.imshow(X_train[i].reshape(28, 28), cmap='gray')\n",
    "    ax.axis('off')"
   ]
  },
  {
   "cell_type": "code",
   "execution_count": 7,
   "metadata": {},
   "outputs": [],
   "source": [
    "# Normalize the input data:\n",
    "X_train = X_train.astype('float32').reshape(-1, 784)\n",
    "X_test = X_test.astype('float32').reshape(-1, 784)\n",
    "y_train = y_train.astype('int64')\n",
    "y_test = y_test.astype('int64')\n",
    "X_train /= 255.0\n",
    "X_test /= 255.0"
   ]
  },
  {
   "cell_type": "markdown",
   "metadata": {},
   "source": [
    "**TRAIN-VAL-TEST**\n",
    "\n",
    " In this section, we will search for hyperparameters by splitting the data into a training set (50,000 samples) and a validation set (10,000 samples). We will conduct the hyperparameter search using both Grid Search and Random Search methods."
   ]
  },
  {
   "cell_type": "code",
   "execution_count": 8,
   "metadata": {},
   "outputs": [],
   "source": [
    "X_train, X_val, y_train, y_val = train_test_split(X_train, y_train, train_size=5000, test_size=1000, random_state=42)"
   ]
  },
  {
   "cell_type": "markdown",
   "metadata": {},
   "source": [
    "Auxilary function to estimate the model"
   ]
  },
  {
   "cell_type": "code",
   "execution_count": 9,
   "metadata": {},
   "outputs": [],
   "source": [
    "def train_and_evaluate(batch_size:int=32, num_epochs:int=50, lr:float=0.001,\n",
    "                       hidden_dims:List[int]=[64], test_evaluation:bool=False):\n",
    "    \"\"\"\n",
    "    Train a neural network model and evaluate its performance on a validation set.\n",
    "\n",
    "    This function trains the `MNIST_Net` model using the given hyperparameters, including\n",
    "    batch size, number of epochs, learning rate, and hidden layer dimensions. It shuffles\n",
    "    the training data at the start of each epoch and performs a forward and backward pass\n",
    "    to update the model weights. The function then evaluates the model on a validation set\n",
    "    and optionally on a test set.\n",
    "    \"\"\"\n",
    "    model = MNIST_Net(hidden_dims)\n",
    "\n",
    "    # Training loop\n",
    "    for epoch in range(num_epochs):\n",
    "        indices = np.arange(X_train.shape[0])\n",
    "        np.random.shuffle(indices)\n",
    "        X_shuffled = X_train[indices]\n",
    "        y_shuffled = y_train[indices]\n",
    "\n",
    "        for i in range(0, X_shuffled.shape[0], batch_size):\n",
    "            X_batch = X_shuffled[i:i + batch_size]\n",
    "            y_batch = y_shuffled[i:i + batch_size]\n",
    "\n",
    "            # Convert entire batch to flattened Tensors\n",
    "            X_tensors = [Tensor(data=x.flatten()) for x in X_batch]\n",
    "            preds = [model(x) for x in X_tensors]\n",
    "\n",
    "            # Compute loss for the batch\n",
    "            mb_loss = sum([ypred.cross_entropy(ytrue) for ytrue, ypred in zip(y_batch, preds)]) / batch_size\n",
    "\n",
    "            # Zero gradients\n",
    "            for p in model.parameters():\n",
    "                p.grad = np.zeros_like(p.grad)\n",
    "\n",
    "            # Backward pass\n",
    "            mb_loss.backward()\n",
    "\n",
    "            # Update weights\n",
    "            for p in model.parameters():\n",
    "                p.data -= lr * p.grad\n",
    "\n",
    "    # Calculate validation accuracy\n",
    "    validation_accuracy = validate(model, X_val, y_val)\n",
    "\n",
    "    # Calculate test set accuracy\n",
    "    if test_evaluation:\n",
    "        test_accuracy = validate(model, X_test, y_test)\n",
    "        return validation_accuracy, test_accuracy\n",
    "    else:\n",
    "        return validation_accuracy"
   ]
  },
  {
   "cell_type": "markdown",
   "metadata": {},
   "source": [
    "Let's see the exemplary trainig..."
   ]
  },
  {
   "cell_type": "code",
   "execution_count": 10,
   "metadata": {},
   "outputs": [
    {
     "name": "stdout",
     "output_type": "stream",
     "text": [
      "Before training: test accuracy: 0.1223\n",
      "Validation accuracy: 0.714\n"
     ]
    }
   ],
   "source": [
    "model = MNIST_Net()\n",
    "\n",
    "val_acc = validate(model, X_test, y_test)\n",
    "print(f\"Before training: test accuracy: {val_acc}\")\n",
    "\n",
    "# Parameters\n",
    "batch_size = 64\n",
    "num_epochs = 1\n",
    "lr = 0.5\n",
    "\n",
    "val_acc = train_and_evaluate(batch_size, num_epochs, lr)\n",
    "print(f\"Validation accuracy: {val_acc}\")\n"
   ]
  },
  {
   "cell_type": "markdown",
   "metadata": {},
   "source": [
    "*GRID SEARCH*"
   ]
  },
  {
   "cell_type": "code",
   "execution_count": 11,
   "metadata": {},
   "outputs": [],
   "source": [
    "# Add here more possibilities\n",
    "hyperparameter_space = {\n",
    "    'batch_size': [256, 128],\n",
    "    'num_epochs': [10],\n",
    "    'lr': [0.01, 0.1, 0.001],\n",
    "    'hidden_dims': [[64], [128, 64], [64, 64, 64]]\n",
    "}\n",
    "\n",
    "\n",
    "all_combinations_grid_search = list(product(\n",
    "    hyperparameter_space['batch_size'],\n",
    "    hyperparameter_space['num_epochs'],\n",
    "    hyperparameter_space['lr'],\n",
    "    hyperparameter_space['hidden_dims']\n",
    "))"
   ]
  },
  {
   "cell_type": "code",
   "execution_count": 12,
   "metadata": {},
   "outputs": [
    {
     "data": {
      "text/plain": [
       "18"
      ]
     },
     "execution_count": 12,
     "metadata": {},
     "output_type": "execute_result"
    }
   ],
   "source": [
    "len(all_combinations_grid_search)"
   ]
  },
  {
   "cell_type": "code",
   "execution_count": 13,
   "metadata": {},
   "outputs": [
    {
     "name": "stdout",
     "output_type": "stream",
     "text": [
      "Training with batch size: 256, num epochs: 10, lr: 0.01, hidden size: [64]\n",
      "Validation accuracy: 0.525, time taken: 13 seconds\n",
      "Training with batch size: 256, num epochs: 10, lr: 0.01, hidden size: [128, 64]\n",
      "Validation accuracy: 0.452, time taken: 21 seconds\n",
      "Training with batch size: 256, num epochs: 10, lr: 0.01, hidden size: [64, 64, 64]\n",
      "Validation accuracy: 0.132, time taken: 18 seconds\n",
      "Training with batch size: 256, num epochs: 10, lr: 0.1, hidden size: [64]\n",
      "Validation accuracy: 0.747, time taken: 13 seconds\n",
      "Training with batch size: 256, num epochs: 10, lr: 0.1, hidden size: [128, 64]\n",
      "Validation accuracy: 0.678, time taken: 21 seconds\n",
      "Training with batch size: 256, num epochs: 10, lr: 0.1, hidden size: [64, 64, 64]\n",
      "Validation accuracy: 0.43, time taken: 18 seconds\n",
      "Training with batch size: 256, num epochs: 10, lr: 0.001, hidden size: [64]\n",
      "Validation accuracy: 0.366, time taken: 13 seconds\n",
      "Training with batch size: 256, num epochs: 10, lr: 0.001, hidden size: [128, 64]\n",
      "Validation accuracy: 0.263, time taken: 21 seconds\n",
      "Training with batch size: 256, num epochs: 10, lr: 0.001, hidden size: [64, 64, 64]\n",
      "Validation accuracy: 0.157, time taken: 18 seconds\n",
      "Training with batch size: 128, num epochs: 10, lr: 0.01, hidden size: [64]\n",
      "Validation accuracy: 0.601, time taken: 13 seconds\n",
      "Training with batch size: 128, num epochs: 10, lr: 0.01, hidden size: [128, 64]\n",
      "Validation accuracy: 0.451, time taken: 21 seconds\n",
      "Training with batch size: 128, num epochs: 10, lr: 0.01, hidden size: [64, 64, 64]\n",
      "Validation accuracy: 0.288, time taken: 18 seconds\n",
      "Training with batch size: 128, num epochs: 10, lr: 0.1, hidden size: [64]\n",
      "Validation accuracy: 0.799, time taken: 13 seconds\n",
      "Training with batch size: 128, num epochs: 10, lr: 0.1, hidden size: [128, 64]\n",
      "Validation accuracy: 0.763, time taken: 21 seconds\n",
      "Training with batch size: 128, num epochs: 10, lr: 0.1, hidden size: [64, 64, 64]\n",
      "Validation accuracy: 0.633, time taken: 18 seconds\n",
      "Training with batch size: 128, num epochs: 10, lr: 0.001, hidden size: [64]\n",
      "Validation accuracy: 0.456, time taken: 13 seconds\n",
      "Training with batch size: 128, num epochs: 10, lr: 0.001, hidden size: [128, 64]\n",
      "Validation accuracy: 0.147, time taken: 21 seconds\n",
      "Training with batch size: 128, num epochs: 10, lr: 0.001, hidden size: [64, 64, 64]\n",
      "Validation accuracy: 0.126, time taken: 19 seconds\n"
     ]
    }
   ],
   "source": [
    "import time\n",
    "\n",
    "best_accuracy = 0\n",
    "for batch_size, num_epochs, lr, hidden_size in all_combinations_grid_search:\n",
    "    print(f\"Training with batch size: {batch_size}, num epochs: {num_epochs}, lr: {lr}, hidden size: {hidden_size}\")\n",
    "    start = time.time()\n",
    "    accuracy = train_and_evaluate(batch_size, num_epochs, lr, hidden_size)\n",
    "    print(f\"Validation accuracy: {accuracy}, time taken: {round(time.time() - start)} seconds\")\n",
    "    if accuracy > best_accuracy:\n",
    "        best_accuracy = accuracy\n",
    "        best_hyperparameters = (batch_size, num_epochs, lr, hidden_size)"
   ]
  },
  {
   "cell_type": "markdown",
   "metadata": {},
   "source": [
    "After finding the best hyperparameters we evaluate them on test set"
   ]
  },
  {
   "cell_type": "code",
   "execution_count": 15,
   "metadata": {},
   "outputs": [
    {
     "name": "stdout",
     "output_type": "stream",
     "text": [
      "Final Validation Accuracy: 0.799\n",
      "Final Test Accuracy: 0.794\n"
     ]
    }
   ],
   "source": [
    "best_batch_size, best_num_epochs, best_lr, best_hidden_size = best_hyperparameters\n",
    "grid_search_train_val_validation, grid_search_train_val_test = train_and_evaluate(best_batch_size, best_num_epochs, best_lr, best_hidden_size, True)\n",
    "print(f\"Final Validation Accuracy: {round(grid_search_train_val_validation, 3)}\")\n",
    "print(f\"Final Test Accuracy: {round(grid_search_train_val_test, 3)}\")"
   ]
  },
  {
   "cell_type": "code",
   "execution_count": 16,
   "metadata": {},
   "outputs": [
    {
     "name": "stdout",
     "output_type": "stream",
     "text": [
      "128 10 0.1 [64]\n"
     ]
    }
   ],
   "source": [
    "print(best_batch_size, best_num_epochs, best_lr, best_hidden_size)"
   ]
  },
  {
   "cell_type": "markdown",
   "metadata": {},
   "source": [
    "**TRAIN VAL TEST - Random Search**"
   ]
  },
  {
   "cell_type": "code",
   "execution_count": null,
   "metadata": {},
   "outputs": [
    {
     "name": "stdout",
     "output_type": "stream",
     "text": [
      "Training with batch size: 256, num epochs: 10, lr: 0.5, hidden size: [64, 64, 64]\n",
      "Validation accuracy: 0.688, time taken: 18.45 seconds\n",
      "Training with batch size: 64, num epochs: 1, lr: 0.1, hidden size: [64]\n",
      "Validation accuracy: 0.652, time taken: 1.32 seconds\n",
      "Training with batch size: 128, num epochs: 10, lr: 0.1, hidden size: [64, 64, 64]\n",
      "Validation accuracy: 0.627, time taken: 18.03 seconds\n",
      "Training with batch size: 256, num epochs: 5, lr: 0.5, hidden size: [64, 64, 64]\n",
      "Validation accuracy: 0.587, time taken: 9.2 seconds\n",
      "Training with batch size: 32, num epochs: 10, lr: 0.001, hidden size: [128, 64]\n",
      "Validation accuracy: 0.454, time taken: 19.65 seconds\n",
      "Training with batch size: 128, num epochs: 10, lr: 0.01, hidden size: [128, 64]\n",
      "Validation accuracy: 0.54, time taken: 20.55 seconds\n",
      "Training with batch size: 128, num epochs: 15, lr: 0.01, hidden size: [128, 64]\n",
      "Validation accuracy: 0.512, time taken: 30.65 seconds\n",
      "Training with batch size: 128, num epochs: 5, lr: 0.01, hidden size: [128, 64]\n",
      "Validation accuracy: 0.426, time taken: 10.22 seconds\n",
      "Training with batch size: 32, num epochs: 10, lr: 0.01, hidden size: [64, 64, 64]\n",
      "Validation accuracy: 0.215, time taken: 17.33 seconds\n",
      "Training with batch size: 256, num epochs: 5, lr: 0.01, hidden size: [64, 64, 64]\n",
      "Validation accuracy: 0.109, time taken: 9.0 seconds\n",
      "Training with batch size: 64, num epochs: 10, lr: 0.001, hidden size: [64, 64, 64]\n",
      "Validation accuracy: 0.144, time taken: 17.79 seconds\n",
      "Training with batch size: 64, num epochs: 20, lr: 0.1, hidden size: [64]\n",
      "Validation accuracy: 0.815, time taken: 24.81 seconds\n",
      "Training with batch size: 32, num epochs: 15, lr: 0.001, hidden size: [128, 64]\n",
      "Validation accuracy: 0.443, time taken: 29.62 seconds\n",
      "Training with batch size: 32, num epochs: 15, lr: 0.001, hidden size: [64, 64, 64]\n",
      "Validation accuracy: 0.096, time taken: 26.18 seconds\n",
      "Training with batch size: 64, num epochs: 10, lr: 0.01, hidden size: [64]\n",
      "Validation accuracy: 0.659, time taken: 12.66 seconds\n",
      "Training with batch size: 32, num epochs: 10, lr: 0.5, hidden size: [64, 64, 64]\n",
      "Validation accuracy: 0.813, time taken: 17.54 seconds\n",
      "Training with batch size: 256, num epochs: 10, lr: 0.1, hidden size: [64, 64, 64]\n",
      "Validation accuracy: 0.45, time taken: 17.89 seconds\n",
      "Training with batch size: 64, num epochs: 20, lr: 0.5, hidden size: [64]\n",
      "Validation accuracy: 0.812, time taken: 24.56 seconds\n"
     ]
    }
   ],
   "source": [
    "# Expand the hyperparameter space with additional options if needed.\n",
    "# Implement a similar approach for random search, where hyperparameters are sampled randomly.\n",
    "# Note: The hyperparameter space for random search can be larger compared to grid search,\n",
    "# as you are not limited to predefined discrete values.\n",
    "# However, to ensure a fair comparison between grid search and random search,\n",
    "# make sure to evaluate the model the same number of times in both methods.\n",
    "hyperparameter_space_random_search = {\n",
    "    'batch_size': [256, 128, 64, 32],\n",
    "    'num_epochs': [1, 5, 10, 15, 20],\n",
    "    'lr': [0.5, 0.1, 0.01, 0.001],\n",
    "    'hidden_dims': [[64], [128, 64], [64, 64, 64]]\n",
    "}\n",
    "\n",
    "all_combinations_random_search = list(product(\n",
    "    hyperparameter_space_random_search['batch_size'],\n",
    "    hyperparameter_space_random_search['num_epochs'],\n",
    "    hyperparameter_space_random_search['lr'],\n",
    "    hyperparameter_space_random_search['hidden_dims']\n",
    "))\n",
    "\n",
    "def sample(hyperparameter_space):\n",
    "    ind = np.random.randint(0, len(all_combinations_random_search), 1)[0]\n",
    "    return all_combinations_random_search.pop(ind)\n",
    "\n",
    "\n",
    "best_accuracy = 0\n",
    "for _ in range(len(all_combinations_grid_search)):\n",
    "    sampled_hyperparameters = sample(hyperparameter_space_random_search)\n",
    "    batch_size, num_epochs, lr, hidden_size = sampled_hyperparameters\n",
    "    print(f\"Training with batch size: {batch_size}, num epochs: {num_epochs}, lr: {lr}, hidden size: {hidden_size}\")\n",
    "    start = time.time()\n",
    "    accuracy = train_and_evaluate(batch_size, num_epochs, lr, hidden_size)\n",
    "    print(f\"Validation accuracy: {accuracy}, time taken: {round(time.time() - start, 2)} seconds\")\n",
    "    if accuracy > best_accuracy:\n",
    "        best_accuracy = accuracy\n",
    "        best_hyperparameters = (batch_size, num_epochs, lr, hidden_size)"
   ]
  },
  {
   "cell_type": "markdown",
   "metadata": {},
   "source": [
    "After finding the best hyperparameters with random search we evalute them"
   ]
  },
  {
   "cell_type": "code",
   "execution_count": null,
   "metadata": {},
   "outputs": [
    {
     "name": "stdout",
     "output_type": "stream",
     "text": [
      "Final Validation Accuracy: 0.776\n",
      "Final Test Accuracy: 0.837\n"
     ]
    }
   ],
   "source": [
    "best_batch_size, best_num_epochs, best_lr, best_hidden_size = best_hyperparameters\n",
    "random_search_train_val_validation, random_search_train_val_test = train_and_evaluate(best_batch_size, best_num_epochs, best_lr, best_hidden_size, True)\n",
    "print(f\"Final Validation Accuracy: {round(grid_search_train_val_validation, 3)}\")\n",
    "print(f\"Final Test Accuracy: {round(random_search_train_val_test, 3)}\")"
   ]
  },
  {
   "cell_type": "code",
   "execution_count": null,
   "metadata": {},
   "outputs": [
    {
     "name": "stdout",
     "output_type": "stream",
     "text": [
      "64 20 0.1 [64]\n"
     ]
    }
   ],
   "source": [
    "print(best_batch_size, best_num_epochs, best_lr, best_hidden_size)"
   ]
  },
  {
   "cell_type": "markdown",
   "metadata": {},
   "source": [
    "**Cross-Validation**\n",
    "\n",
    "In this section, we will perform hyperparameter tuning using cross-validation. We will explore both Grid Search and Random Search methods. To ensure a fair comparison, make sure to evaluate your model the same number of times as in previous searches. Keep in mind that cross-validation involves training and evaluating the model multiple times for each set of hyperparameters, which provides a more robust estimate of model performance."
   ]
  },
  {
   "cell_type": "markdown",
   "metadata": {},
   "source": [
    "Let's load data once more"
   ]
  },
  {
   "cell_type": "code",
   "execution_count": null,
   "metadata": {},
   "outputs": [],
   "source": [
    "X_train, X_test, y_train, y_test = train_test_split(images, labels, train_size=6000, test_size=1000, stratify=labels, random_state=42)"
   ]
  },
  {
   "cell_type": "markdown",
   "metadata": {},
   "source": [
    "Auxilary function for model estimation with cross validation"
   ]
  },
  {
   "cell_type": "code",
   "execution_count": 64,
   "metadata": {},
   "outputs": [
    {
     "name": "stdout",
     "output_type": "stream",
     "text": [
      "[] [   0 1000 2000 3000 4000]\n",
      "[1000 1000 1000 1000]\n",
      "(1000,)\n",
      "(1000,)\n",
      "(1000,)\n",
      "(1000,)\n",
      "(1000,)\n"
     ]
    }
   ],
   "source": [
    "folds = 5\n",
    "first_k_folds = len(indices) % folds\n",
    "number_of_samples = len(indices) // folds\n",
    "\n",
    "indices1 = np.arange(0, first_k_folds*(number_of_samples + 1), number_of_samples + 1)\n",
    "indices2 = np.arange((first_k_folds)*(number_of_samples + 1), len(indices), number_of_samples)\n",
    "print(indices1, indices2)\n",
    "print(np.diff(np.append(indices1, indices2)))\n",
    "\n",
    "for ar in np.split(indices, np.append(indices1, indices2))[1:]:\n",
    "    print(ar.shape)"
   ]
  },
  {
   "cell_type": "code",
   "execution_count": 70,
   "metadata": {},
   "outputs": [],
   "source": [
    "# Complete this function.\n",
    "\n",
    "def train_and_evaluate_cv(batch_size: int = 32, num_epochs: int = 50, lr: float = 0.001,\n",
    "                       hidden_dims: List[int] = [64], folds: int = 5, test_evaluation: bool = False):\n",
    "\n",
    "    # Initialize K-Fold cross-validation\n",
    "    validation_accuracies = []\n",
    "\n",
    "    def split_data_into_folds(folds):\n",
    "        kf = []\n",
    "        indices = np.arange(X_train.shape[0])\n",
    "        first_k_folds = len(indices) % folds\n",
    "        number_of_samples = len(indices) // folds\n",
    "\n",
    "        # split the indices into folds\n",
    "        # first k folds will have one more sample\n",
    "        # the rest will have the same number of samples\n",
    "        indices1 = np.arange(0, first_k_folds*(number_of_samples + 1), number_of_samples + 1)\n",
    "        indices2 = np.arange((first_k_folds)*(number_of_samples + 1), len(indices), number_of_samples)\n",
    "\n",
    "        # the first index of the appended array is 0, so we need to remove it\n",
    "        indices = np.split(indices, np.append(indices1, indices2))[1:]\n",
    "\n",
    "        for k in range(len(indices)):\n",
    "            kf.append([np.concatenate(indices[:k] + indices[k+1:]), indices[k]])\n",
    "\n",
    "        return kf\n",
    "\n",
    "    kf = split_data_into_folds(folds) # funciton that generates indicies of belonging to specific fold\n",
    "\n",
    "    # Cross-validation loop\n",
    "    for train_index, val_index in kf:\n",
    "        X_fold_train, X_fold_val = X_train[train_index], X_train[val_index]\n",
    "        y_fold_train, y_fold_val = y_train[train_index], y_train[val_index]\n",
    "\n",
    "        # Initialize the model for each fold\n",
    "        model = MNIST_Net(hidden_dims)\n",
    "\n",
    "        # Training loop\n",
    "        for epoch in range(num_epochs):\n",
    "            indices = np.arange(X_fold_train.shape[0])\n",
    "            np.random.shuffle(indices)\n",
    "            X_shuffled = X_fold_train[indices]\n",
    "            y_shuffled = y_fold_train[indices]\n",
    "\n",
    "            for i in range(0, X_shuffled.shape[0], batch_size):\n",
    "                X_batch = X_shuffled[i:i + batch_size]\n",
    "                y_batch = y_shuffled[i:i + batch_size]\n",
    "\n",
    "                # Convert entire batch to flattened Tensors\n",
    "                X_tensors = [Tensor(data=x.flatten()) for x in X_batch]\n",
    "                preds = [model(x) for x in X_tensors]\n",
    "\n",
    "                # Compute loss for the batch\n",
    "                mb_loss = sum([ypred.cross_entropy(ytrue) for ytrue, ypred in zip(y_batch, preds)]) / batch_size\n",
    "\n",
    "                # Zero gradients\n",
    "                for p in model.parameters():\n",
    "                    p.grad = np.zeros_like(p.grad)\n",
    "\n",
    "                # Backward pass\n",
    "                mb_loss.backward()\n",
    "\n",
    "                # Update weights\n",
    "                for p in model.parameters():\n",
    "                    p.data -= lr * p.grad\n",
    "\n",
    "        # Calculate validation accuracy for this fold\n",
    "        validation_accuracy = validate(model, X_fold_val, y_fold_val)\n",
    "        validation_accuracies.append(validation_accuracy)\n",
    "\n",
    "    # Compute the average validation accuracy across all folds\n",
    "    avg_validation_accuracy = np.mean(validation_accuracies)\n",
    "\n",
    "    # Calculate test set accuracy if required\n",
    "    if test_evaluation:\n",
    "        test_accuracy = validate(model, X_test, y_test)\n",
    "        return avg_validation_accuracy, test_accuracy\n",
    "    else:\n",
    "        return avg_validation_accuracy"
   ]
  },
  {
   "cell_type": "markdown",
   "metadata": {},
   "source": [
    "Grid Search"
   ]
  },
  {
   "cell_type": "code",
   "execution_count": 71,
   "metadata": {},
   "outputs": [],
   "source": [
    "# Define the hyperparameter search space. Note: it should be smaller than the one used in the train-val-test example.\n",
    "# To ensure a fair comparison, each technique should evaluate the exact same number of models.\n",
    "hyperparameter_space = {\n",
    "    'batch_size': [256, 128],\n",
    "    'num_epochs': [10],\n",
    "    'lr': [0.1, 0.01],\n",
    "    'hidden_dims': [[64], [128, 64]]\n",
    "}\n",
    "\n",
    "all_combinations_grid_search_cv = list(product(\n",
    "    hyperparameter_space['batch_size'],\n",
    "    hyperparameter_space['num_epochs'],\n",
    "    hyperparameter_space['lr'],\n",
    "    hyperparameter_space['hidden_dims']\n",
    "))\n",
    "\n",
    "best_accuracy = 0\n",
    "folds = 5\n",
    "for batch_size, num_epochs, lr, hidden_size in all_combinations_grid_search:\n",
    "    accuracy = train_and_evaluate_cv(batch_size, num_epochs, lr, hidden_size, folds)\n",
    "    if accuracy > best_accuracy:\n",
    "        best_accuracy = accuracy\n",
    "        best_hyperparameters = (batch_size, num_epochs, lr, hidden_size)"
   ]
  },
  {
   "cell_type": "markdown",
   "metadata": {},
   "source": [
    "After identifying the optimal hyperparameters through a grid search with cross-validation, we evaluate their performance on the test set"
   ]
  },
  {
   "cell_type": "code",
   "execution_count": 73,
   "metadata": {},
   "outputs": [
    {
     "data": {
      "text/plain": [
       "(128, 10, 0.1, [64])"
      ]
     },
     "execution_count": 73,
     "metadata": {},
     "output_type": "execute_result"
    }
   ],
   "source": [
    "best_hyperparameters"
   ]
  },
  {
   "cell_type": "code",
   "execution_count": 74,
   "metadata": {},
   "outputs": [],
   "source": [
    "def estimate_model_and_evaluate(hyperparameters, test_evaluation=False):\n",
    "    batch_size, num_epochs, lr, hidden_size = hyperparameters\n",
    "    return train_and_evaluate_cv(batch_size, num_epochs, lr, hidden_size, folds, test_evaluation)"
   ]
  },
  {
   "cell_type": "code",
   "execution_count": 75,
   "metadata": {},
   "outputs": [
    {
     "name": "stdout",
     "output_type": "stream",
     "text": [
      "Final Validation Accuracy: 0.793\n",
      "Final Test Accuracy: 0.788\n"
     ]
    }
   ],
   "source": [
    "best_batch_size, best_num_epochs, best_lr, best_hidden_size = best_hyperparameters\n",
    "grid_search_cv_validation, grid_search_cv_test = estimate_model_and_evaluate(best_hyperparameters, test_evaluation=True)\n",
    "print(f\"Final Validation Accuracy: {round(grid_search_cv_validation, 3)}\")\n",
    "print(f\"Final Test Accuracy: {round(grid_search_cv_test, 3)}\")"
   ]
  },
  {
   "cell_type": "markdown",
   "metadata": {},
   "source": [
    "Random Search"
   ]
  },
  {
   "cell_type": "code",
   "execution_count": 78,
   "metadata": {},
   "outputs": [],
   "source": [
    "# Hyperparameter search space. Remember that it should be smaller than one used in the train-val-test example.\n",
    "# For a fair comparison we should estimate by each technique exactly the same number of models.\n",
    "hyperparameter_space_random_search = {\n",
    "    'batch_size': [128, 256, 512],\n",
    "    'num_epochs': [1, 5, 10],\n",
    "    'lr': [0.1, 0.01, 0.001],\n",
    "    'hidden_dims': [[64], [128, 64], [64, 64, 64]]\n",
    "}\n",
    "\n",
    "all_combinations_random_search_cv = list(product(\n",
    "    hyperparameter_space_random_search['batch_size'],\n",
    "    hyperparameter_space_random_search['num_epochs'],\n",
    "    hyperparameter_space_random_search['lr'],\n",
    "    hyperparameter_space_random_search['hidden_dims']\n",
    "))\n",
    "\n",
    "def sample(hyperparameter_space):\n",
    "    ind = np.random.randint(0, len(all_combinations_random_search_cv), 1)[0]\n",
    "    return all_combinations_random_search_cv.pop(ind)\n",
    "\n",
    "best_accuracy = 0\n",
    "for _ in range(len(all_combinations_grid_search)):\n",
    "    sampled_hyperparameters = sample(hyperparameter_space_random_search)\n",
    "    batch_size, num_epochs, lr, hidden_size = sampled_hyperparameters\n",
    "    accuracy = train_and_evaluate_cv(batch_size, num_epochs, lr, hidden_size)\n",
    "    if accuracy > best_accuracy:\n",
    "        best_accuracy = accuracy\n",
    "        best_hyperparameters = (batch_size, num_epochs, lr, hidden_size)"
   ]
  },
  {
   "cell_type": "markdown",
   "metadata": {},
   "source": [
    "After identifying the optimal hyperparameters through a random search with cross-validation, we evaluate their performance on the test set."
   ]
  },
  {
   "cell_type": "code",
   "execution_count": 79,
   "metadata": {},
   "outputs": [
    {
     "name": "stdout",
     "output_type": "stream",
     "text": [
      "Final Validation Accuracy: 0.783\n",
      "Final Test Accuracy: 0.762\n"
     ]
    }
   ],
   "source": [
    "best_batch_size, best_num_epochs, best_lr, best_hidden_size = best_hyperparameters\n",
    "random_search_cv_validation, random_search_cv_test = estimate_model_and_evaluate(best_hyperparameters, test_evaluation=True)\n",
    "print(f\"Final Validation Accuracy: {round(random_search_cv_validation, 3)}\")\n",
    "print(f\"Final Test Accuracy: {round(random_search_cv_test, 3)}\")"
   ]
  },
  {
   "cell_type": "markdown",
   "metadata": {},
   "source": [
    "Another hyperparameter optimization technique (Optional)"
   ]
  },
  {
   "cell_type": "code",
   "execution_count": 80,
   "metadata": {},
   "outputs": [
    {
     "name": "stdout",
     "output_type": "stream",
     "text": [
      "Final Test Accuracy: 0.89\n"
     ]
    }
   ],
   "source": [
    "optional_test = 0.89\n",
    "print(f\"Final Test Accuracy: {round(optional_test, 3)}\")"
   ]
  },
  {
   "cell_type": "markdown",
   "metadata": {},
   "source": [
    "Summary of all our results:"
   ]
  },
  {
   "cell_type": "code",
   "execution_count": 83,
   "metadata": {},
   "outputs": [
    {
     "data": {
      "image/png": "[encoded data removed]",
      "text/plain": [
       "<Figure size 1000x600 with 1 Axes>"
      ]
     },
     "metadata": {},
     "output_type": "display_data"
    }
   ],
   "source": [
    "grid_search_train_val_test = 0.794\n",
    "random_search_train_val_test = 0.837\n",
    "grid_search_cv_test = 0.788\n",
    "random_search_cv_test = 0.762\n",
    "optional_test = 0.00\n",
    "\n",
    "\n",
    "# Data for the bar plot\n",
    "labels = ['Grid Search (Train+Val)', 'Random Search (Train+Val)',\n",
    "          'Grid Search (CV Test)', 'Random Search (CV Test)', 'Optional Test']\n",
    "values = [\n",
    "        grid_search_train_val_test,\n",
    "          random_search_train_val_test,\n",
    "          grid_search_cv_test,\n",
    "          random_search_cv_test,\n",
    "          optional_test\n",
    "          ]\n",
    "\n",
    "# Create the bar plot\n",
    "plt.figure(figsize=(10, 6))\n",
    "plt.bar(labels, values, color='skyblue')\n",
    "plt.xlabel('Search Methods and Test Types', fontsize=12)\n",
    "plt.ylabel('Accuracy', fontsize=12)\n",
    "plt.title('Comparison of Search Methods and Test Accuracies', fontsize=14)\n",
    "plt.xticks(rotation=30, ha='right', fontsize=10)\n",
    "plt.tight_layout()\n",
    "plt.show()\n"
   ]
  }
 ],
 "metadata": {
  "kernelspec": {
   "display_name": "base",
   "language": "python",
   "name": "python3"
  },
  "language_info": {
   "codemirror_mode": {
    "name": "ipython",
    "version": 3
   },
   "file_extension": ".py",
   "mimetype": "text/x-python",
   "name": "python",
   "nbconvert_exporter": "python",
   "pygments_lexer": "ipython3",
   "version": "3.9.20"
  }
 },
 "nbformat": 4,
 "nbformat_minor": 2
}
