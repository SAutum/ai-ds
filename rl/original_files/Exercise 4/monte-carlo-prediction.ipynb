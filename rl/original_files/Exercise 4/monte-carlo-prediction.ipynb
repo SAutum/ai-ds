{
 "cells": [
  {
   "attachments": {},
   "cell_type": "markdown",
   "metadata": {},
   "source": [
    "# Reinforcement Learning\n",
    "Prof. Milica Gašić"
   ]
  },
  {
   "attachments": {},
   "cell_type": "markdown",
   "metadata": {},
   "source": [
    "### Monte Carlo prediction\n",
    "\n",
    "The idea of Monte Carlo prediction is very simple: Estimate the value (or the action value) by averating the observed returns from collected episodes. In this notebook we apply Monte Carlo prediction to the game of tic-tac-toe."
   ]
  },
  {
   "attachments": {},
   "cell_type": "markdown",
   "metadata": {},
   "source": [
    "#### Implementation\n",
    "\n",
    "Make sure that the file `rl_env.py` is in the same folder as the notebook."
   ]
  },
  {
   "cell_type": "code",
   "execution_count": 11,
   "metadata": {},
   "outputs": [
    {
     "name": "stdout",
     "output_type": "stream",
     "text": [
      "The autoreload extension is already loaded. To reload it, use:\n",
      "  %reload_ext autoreload\n"
     ]
    }
   ],
   "source": [
    "%load_ext autoreload\n",
    "%autoreload 2\n",
    "\n",
    "import numpy as np\n",
    "import rl_env"
   ]
  },
  {
   "attachments": {},
   "cell_type": "markdown",
   "metadata": {},
   "source": [
    "We already implemented tic-tac-toe in `TicTacToeEnv`:\n",
    "- The environment has $3^9 = 19683$ states (9 fields with 3 values: empty, player 1, player 2).\n",
    "- There are $9$ possible actions, which determine the next move of the current player (i.e. the actions control both players).\n",
    "- The final reward is $1$ if player 1 wins, and $0$ if player 2 wins or when there is a draw. The reward is $0$ in all other time steps."
   ]
  },
  {
   "cell_type": "code",
   "execution_count": 12,
   "metadata": {},
   "outputs": [],
   "source": [
    "# Create an instance of the tic-tac-toe environment\n",
    "env = rl_env.TicTacToeEnv()"
   ]
  },
  {
   "attachments": {},
   "cell_type": "markdown",
   "metadata": {},
   "source": [
    "We already implemented the random policy for the tic-tac-toe environment:"
   ]
  },
  {
   "cell_type": "code",
   "execution_count": 13,
   "metadata": {},
   "outputs": [],
   "source": [
    "def random_policy(state):\n",
    "    # Obtain the list of empty fields\n",
    "    valid_actions = rl_env.TicTacToeEnv.get_valid_actions(state)\n",
    "    # Select one of the empty fields randomly\n",
    "    # For non-empty fields, the action does not have an effect\n",
    "    action = np.random.choice(valid_actions)\n",
    "    return action"
   ]
  },
  {
   "attachments": {},
   "cell_type": "markdown",
   "metadata": {},
   "source": [
    "Your task is to implement Monte Carlo prediction of the action value for the **initial state**, i.e. you don't need to compute the action values for all states, but only the $9$ action values for the initial state.  \n",
    "We don't need a discount factor, so the initial return is equal to the final reward.\n",
    "\n",
    "You don't need an `Agent` object for this implementation, just generate episodes and estimate the action values."
   ]
  },
  {
   "cell_type": "code",
   "execution_count": 24,
   "metadata": {},
   "outputs": [],
   "source": [
    "#######################################################################\n",
    "# TODO: Implement Monte Carlo prediction of the action value function #\n",
    "# for the initial state as described above. Generate at least 10000   #\n",
    "# episodes to estimate the action values.                             #\n",
    "#######################################################################\n",
    "def mc_prediction(num_episodes, env, policy):\n",
    "\n",
    "    num_states = env.observation_space.n\n",
    "    num_actions = env.action_space.n\n",
    "\n",
    "    q = np.zeros((num_states, num_actions))\n",
    "    counter = np.zeros((num_states, num_actions))\n",
    "\n",
    "    for _ in range(num_episodes):\n",
    "        state, info = env.reset()\n",
    "        init_state = state\n",
    "        init_action = policy(init_state)\n",
    "        action = init_action\n",
    "\n",
    "        while True:\n",
    "            state, reward, terminated, truncated, info = env.step(action)\n",
    "            if terminated or truncated:\n",
    "                counter[init_state, init_action] += 1\n",
    "                q[init_state, init_action] = q[init_state, init_action] + 1/counter[init_state, init_action] * (reward - q[init_state, init_action])\n",
    "                break # finish this episode\n",
    "            action = policy(state)\n",
    "\n",
    "    return q\n",
    "#######################################################################\n",
    "# End of your code.                                                   #\n",
    "#######################################################################"
   ]
  },
  {
   "attachments": {},
   "cell_type": "markdown",
   "metadata": {},
   "source": [
    "Since the reward is only $1$ if player 1 wins, the value of the initial state is equal to the winning probability of player 1.  \n",
    "Use this to answer the following questions:\n",
    "- What is the probability that the first player wins?\n",
    "- Which initial action has the highest chance of winning?"
   ]
  },
  {
   "cell_type": "code",
   "execution_count": 25,
   "metadata": {},
   "outputs": [
    {
     "name": "stdout",
     "output_type": "stream",
     "text": [
      "[0.59399142 0.53946147 0.60846085 0.54414414 0.69771863 0.55760774\n",
      " 0.59459459 0.5298988  0.63509991]\n",
      "probability of winning: 0.5889975062424209\n",
      "in the middle\n",
      "4\n",
      "[[0 0 0]\n",
      " [0 1 0]\n",
      " [0 0 0]]\n"
     ]
    }
   ],
   "source": [
    "#######################################################################\n",
    "# TODO: Answer the questions by using the computed action values.     #\n",
    "#######################################################################\n",
    "# small n -> very high variance\n",
    "q = mc_prediction(10000, env, random_policy)\n",
    "env.reset()\n",
    "print(q[0])\n",
    "# 1. What is the probability that the fisrt player wins?\n",
    "print('probability of winning:', np.mean(q[0]))\n",
    "\n",
    "# 2. Which initial action has the highest chance of winning?\n",
    "print('in the middle')\n",
    "print(np.argmax(q[0]))\n",
    "print(env.index_to_state(env.step(np.argmax(q[0]))[0]).reshape(3,3))\n",
    "#######################################################################\n",
    "# End of your code.                                                   #\n",
    "#######################################################################"
   ]
  }
 ],
 "metadata": {
  "kernelspec": {
   "display_name": "re_learn",
   "language": "python",
   "name": "python3"
  },
  "language_info": {
   "codemirror_mode": {
    "name": "ipython",
    "version": 3
   },
   "file_extension": ".py",
   "mimetype": "text/x-python",
   "name": "python",
   "nbconvert_exporter": "python",
   "pygments_lexer": "ipython3",
   "version": "3.9.20"
  },
  "orig_nbformat": 4
 },
 "nbformat": 4,
 "nbformat_minor": 2
}
