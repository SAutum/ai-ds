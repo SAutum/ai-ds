{
 "cells": [
  {
   "attachments": {},
   "cell_type": "markdown",
   "metadata": {},
   "source": [
    "# Reinforcement Learning\n",
    "Prof. Milica Gašić"
   ]
  },
  {
   "attachments": {},
   "cell_type": "markdown",
   "metadata": {},
   "source": [
    "### Monte Carlo prediction\n",
    "\n",
    "The idea of Monte Carlo prediction is very simple: Estimate the value (or the action value) by averating the observed returns from collected episodes. In this notebook we apply Monte Carlo prediction to the game of tic-tac-toe."
   ]
  },
  {
   "attachments": {},
   "cell_type": "markdown",
   "metadata": {},
   "source": [
    "#### Implementation\n",
    "\n",
    "Make sure that the file `rl_env.py` is in the same folder as the notebook."
   ]
  },
  {
   "cell_type": "code",
   "execution_count": 1,
   "metadata": {},
   "outputs": [],
   "source": [
    "%load_ext autoreload\n",
    "%autoreload 2\n",
    "\n",
    "import numpy as np\n",
    "import rl_env"
   ]
  },
  {
   "attachments": {},
   "cell_type": "markdown",
   "metadata": {},
   "source": [
    "We already implemented tic-tac-toe in `TicTacToeEnv`:\n",
    "- The environment has $3^9 = 19683$ states (9 fields with 3 values: empty, player 1, player 2).\n",
    "- There are $9$ possible actions, which determine the next move of the current player (i.e. the actions control both players).\n",
    "- The final reward is $1$ if player 1 wins, and $0$ if player 2 wins or when there is a draw. The reward is $0$ in all other time steps."
   ]
  },
  {
   "cell_type": "code",
   "execution_count": 9,
   "metadata": {},
   "outputs": [],
   "source": [
    "# Create an instance of the tic-tac-toe environment\n",
    "env = rl_env.TicTacToeEnv()"
   ]
  },
  {
   "attachments": {},
   "cell_type": "markdown",
   "metadata": {},
   "source": [
    "We already implemented the random policy for the tic-tac-toe environment:"
   ]
  },
  {
   "cell_type": "code",
   "execution_count": 31,
   "metadata": {},
   "outputs": [],
   "source": [
    "def random_policy(state):\n",
    "    # Obtain the list of empty fields\n",
    "    valid_actions = rl_env.TicTacToeEnv.get_valid_actions(state)\n",
    "    # Select one of the empty fields randomly\n",
    "    # For non-empty fields, the action does not have an effect\n",
    "    action = np.random.choice(valid_actions)\n",
    "    return action"
   ]
  },
  {
   "cell_type": "code",
   "execution_count": 49,
   "metadata": {},
   "outputs": [
    {
     "data": {
      "text/plain": [
       "np.int64(0)"
      ]
     },
     "execution_count": 49,
     "metadata": {},
     "output_type": "execute_result"
    }
   ],
   "source": [
    "state = env.reset()[0]\n",
    "state"
   ]
  },
  {
   "attachments": {},
   "cell_type": "markdown",
   "metadata": {},
   "source": [
    "Your task is to implement Monte Carlo prediction of the action value for the **initial state**, i.e. you don't need to compute the action values for all states, but only the $9$ action values for the initial state.  \n",
    "We don't need a discount factor, so the initial return is equal to the final reward.\n",
    "\n",
    "You don't need an `Agent` object for this implementation, just generate episodes and estimate the action values."
   ]
  },
  {
   "cell_type": "code",
   "execution_count": null,
   "metadata": {},
   "outputs": [],
   "source": [
    "# We are doing prediction here:\n",
    "# Here we assume the two players are playing randomly"
   ]
  },
  {
   "cell_type": "code",
   "execution_count": 63,
   "metadata": {},
   "outputs": [
    {
     "name": "stdout",
     "output_type": "stream",
     "text": [
      "[6713. 5977. 6757. 5903. 7831. 6011. 6673. 5957. 6701.]\n"
     ]
    }
   ],
   "source": [
    "#######################################################################\n",
    "# TODO: Implement Monte Carlo prediction of the action value function #\n",
    "# for the initial state as described above. Generate at least 10000   #\n",
    "# episodes to estimate the action values.                             #\n",
    "#######################################################################\n",
    "rewards = np.zeros(9)\n",
    "\n",
    "for i in range(100000):\n",
    "    zero_state = env.reset()[0]\n",
    "    value_index = random_policy(zero_state) # also it's the fist action\n",
    "    state, reward, terminated = env.step(value_index)[0:3]\n",
    "    while not terminated:\n",
    "        action = random_policy(state)\n",
    "        state, reward, terminated = env.step(action)[0:3]\n",
    "    rewards[value_index] += reward\n",
    "\n",
    "env.reset()\n",
    "print(rewards)\n",
    "\n",
    "\n",
    "#######################################################################\n",
    "# End of your code.                                                   #\n",
    "#######################################################################"
   ]
  },
  {
   "attachments": {},
   "cell_type": "markdown",
   "metadata": {},
   "source": [
    "Since the reward is only $1$ if player 1 wins, the value of the initial state is equal to the winning probability of player 1.  \n",
    "Use this to answer the following questions:\n",
    "- What is the probability that the first player wins?\n",
    "- Which initial action has the highest chance of winning?"
   ]
  },
  {
   "cell_type": "code",
   "execution_count": 65,
   "metadata": {},
   "outputs": [
    {
     "name": "stdout",
     "output_type": "stream",
     "text": [
      "0.58523\n",
      "in the middle\n",
      "4\n",
      "[[0 0 0]\n",
      " [0 1 0]\n",
      " [0 0 0]]\n"
     ]
    }
   ],
   "source": [
    "#######################################################################\n",
    "# TODO: Answer the questions by using the computed action values.     #\n",
    "#######################################################################\n",
    "\n",
    "# 1. What is the probability that the fisrt player wins?\n",
    "print(np.sum(rewards)/100000)\n",
    "\n",
    "# 2. Which initial action has the highest chance of winning?\n",
    "print('in the middle')\n",
    "print(np.argmax(rewards))\n",
    "print(env.index_to_state(env.step(np.argmax(rewards))[0]).reshape(3,3))\n",
    "\n",
    "#######################################################################\n",
    "# End of your code.                                                   #\n",
    "#######################################################################"
   ]
  }
 ],
 "metadata": {
  "kernelspec": {
   "display_name": "re_learn",
   "language": "python",
   "name": "python3"
  },
  "language_info": {
   "codemirror_mode": {
    "name": "ipython",
    "version": 3
   },
   "file_extension": ".py",
   "mimetype": "text/x-python",
   "name": "python",
   "nbconvert_exporter": "python",
   "pygments_lexer": "ipython3",
   "version": "3.9.20"
  },
  "orig_nbformat": 4
 },
 "nbformat": 4,
 "nbformat_minor": 2
}
