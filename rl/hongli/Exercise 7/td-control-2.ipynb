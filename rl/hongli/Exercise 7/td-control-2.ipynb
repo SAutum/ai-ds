{
 "cells": [
  {
   "attachments": {},
   "cell_type": "markdown",
   "metadata": {},
   "source": [
    "# Reinforcement Learning\n",
    "Prof. Milica Gašić"
   ]
  },
  {
   "attachments": {},
   "cell_type": "markdown",
   "metadata": {},
   "source": [
    "### TD control\n",
    "\n",
    "In this notebook we will implement the three TD control algorithms SARSA, Q-learning and expected SARSA.  \n",
    "The main difference between them is the TD target, e.g. for SARSA:\n",
    "\n",
    "$\\begin{equation}\n",
    "    Q(s_t, a_t) \\leftarrow Q(s_t, a_t) + \\alpha (\\,\\underbrace{r_{t+1} + \\gamma Q(s_{t+1}, a_{t+1})}_{\\text{TD target}} - Q(s_t, a_t))\n",
    "\\end{equation}$\n",
    "\n",
    "The targets of Q-learning and expected SARSA can be found in the slides.  \n",
    "Another difference is whether the next action is already selected before the update (only SARSA)."
   ]
  },
  {
   "attachments": {},
   "cell_type": "markdown",
   "metadata": {},
   "source": [
    "#### Implementation\n",
    "\n",
    "Make sure that the files `rl_agent.py` and `rl_env.py` are in the same folder as the notebook."
   ]
  },
  {
   "cell_type": "code",
   "execution_count": 11,
   "metadata": {},
   "outputs": [
    {
     "name": "stdout",
     "output_type": "stream",
     "text": [
      "The autoreload extension is already loaded. To reload it, use:\n",
      "  %reload_ext autoreload\n"
     ]
    }
   ],
   "source": [
    "%load_ext autoreload\n",
    "%autoreload 2\n",
    "\n",
    "import numpy as np\n",
    "import matplotlib.pyplot as plt\n",
    "\n",
    "import rl_agent\n",
    "import rl_env"
   ]
  },
  {
   "attachments": {},
   "cell_type": "markdown",
   "metadata": {},
   "source": [
    "#### Agents\n",
    "\n",
    "The class `TDAgent` is a base class and uses the method `compute_target()` to compute the TD target.  \n",
    "The three TD agents are subclasses of `TDAgent` and only need to implement this method.  \n",
    "Follow the instructions in the code cells below."
   ]
  },
  {
   "cell_type": "code",
   "execution_count": 12,
   "metadata": {},
   "outputs": [],
   "source": [
    "class TDAgent(rl_agent.TabularAgent):\n",
    "\n",
    "    def __init__(self, env, gamma, epsilon, alpha, rng=None):\n",
    "        super().__init__(env)\n",
    "        self.gamma = gamma      # discount factor\n",
    "        self.epsilon = epsilon  # epsilon-greedy probability\n",
    "        self.alpha = alpha      # learning rate\n",
    "        self.rng = rng if rng is not None else np.random.default_rng()\n",
    "        self.reset()\n",
    "\n",
    "    def reset(self):\n",
    "        # Create array for action values\n",
    "        self.q = np.zeros((self.num_states, self.num_actions), dtype=float)\n",
    "        # Create array for policy distribution (initialized uniformly)\n",
    "        self.pi = np.full((self.num_states, self.num_actions), 1 / self.num_actions)\n",
    "\n",
    "    def policy(self, state):\n",
    "        # Sample an action according to pi\n",
    "        action_probs = self.pi[state]\n",
    "        action = self.rng.choice(self.num_actions, p=action_probs)\n",
    "        return action\n",
    "\n",
    "    def value(self, state):\n",
    "        # Compute the state value from q and pi\n",
    "        return np.sum(self.pi[state] * self.q[state])\n",
    "\n",
    "    def action_value(self, state, action):\n",
    "        # Lookup the action value in q\n",
    "        return self.q[state, action]\n",
    "\n",
    "    def policy_evaluation(self, state, action, reward, next_state, terminated, truncated):\n",
    "        #######################################################################\n",
    "        # TODO reuse, i.e. paste, policy evaluation code from last week       #\n",
    "        #######################################################################\n",
    "\n",
    "        next_action, target = self.compute_target(reward, next_state)\n",
    "\n",
    "        if terminated:\n",
    "            target = reward\n",
    "\n",
    "        self.q[state, action] += self.alpha * (target - self.q[state, action])\n",
    "\n",
    "        return next_action\n",
    "\n",
    "        #######################################################################\n",
    "        # End of your code.                                                   #\n",
    "        #######################################################################\n",
    "\n",
    "    def compute_target(self, reward, next_state):\n",
    "        # Compute the TD target and the next action, if necessary.\n",
    "        # Needs to be implemented in a subclass.\n",
    "        raise NotImplementedError()\n",
    "\n",
    "    def policy_improvement(self):\n",
    "        # Update the policy using epsilon-greedy policy improvement\n",
    "        q = self.q\n",
    "        epsilon = self.epsilon\n",
    "\n",
    "        # Find the maximizing actions\n",
    "        max_q = np.max(q, axis=1, keepdims=True)\n",
    "        max_mask = q == max_q\n",
    "        num_max = np.sum(max_mask, axis=1, keepdims=True)\n",
    "\n",
    "        # Compute the probabilities\n",
    "        num_actions = q.shape[1]\n",
    "        pi = ((1 - epsilon) / num_max) * max_mask\n",
    "        pi += epsilon / num_actions\n",
    "        self.pi = pi"
   ]
  },
  {
   "cell_type": "code",
   "execution_count": 13,
   "metadata": {},
   "outputs": [],
   "source": [
    "class SarsaAgent(TDAgent):\n",
    "\n",
    "    def compute_target(self, reward, next_state):\n",
    "        #######################################################################\n",
    "        # TODO reuse, i.e. paste, sarsa target code from last week            #\n",
    "        #######################################################################\n",
    "\n",
    "        next_action = self.policy(next_state)\n",
    "        target = reward + self.gamma * self.q[next_state, next_action]\n",
    "\n",
    "        return next_action, target\n",
    "\n",
    "        #######################################################################\n",
    "        # End of your code.                                                   #\n",
    "        #######################################################################"
   ]
  },
  {
   "cell_type": "code",
   "execution_count": 14,
   "metadata": {},
   "outputs": [],
   "source": [
    "class QLearningAgent(TDAgent):\n",
    "\n",
    "    def compute_target(self, reward, next_state):\n",
    "        #######################################################################\n",
    "        # TODO reuse, i.e. paste, Q Learning target code from last week       #\n",
    "        #######################################################################\n",
    "\n",
    "        next_action = None\n",
    "        target = reward + self.gamma * np.max(self.q[next_state])\n",
    "\n",
    "        return next_action, target\n",
    "\n",
    "        #######################################################################\n",
    "        # End of your code.                                                   #\n",
    "        #######################################################################"
   ]
  },
  {
   "cell_type": "code",
   "execution_count": 15,
   "metadata": {},
   "outputs": [],
   "source": [
    "class ExpectedSarsaAgent(TDAgent):\n",
    "\n",
    "    def compute_target(self, reward, next_state):\n",
    "        #######################################################################\n",
    "        # TODO NEW Calculate the expected SARSA target.                       #\n",
    "        #######################################################################\n",
    "\n",
    "        next_action = self.policy(next_state)\n",
    "        target = reward + self.gamma * (self.pi[next_state, :] @ \\\n",
    "                                        self.q[next_state, :])\n",
    "        return next_action, target\n",
    "\n",
    "        #######################################################################\n",
    "        # End of your code.                                                   #\n",
    "        #######################################################################"
   ]
  },
  {
   "attachments": {},
   "cell_type": "markdown",
   "metadata": {},
   "source": [
    "#### Evaluation\n",
    "\n",
    "Now we evaluate the three TD agents on the cliff walking environment.  \n",
    "The goal is to recreate Figure 6.3 from the textbook http://incompleteideas.net/book/the-book-2nd.html  \n",
    "which compares different learning rates $\\alpha$.\n",
    "\n",
    "First implement `train_td_agent()`, which learns a policy."
   ]
  },
  {
   "cell_type": "code",
   "execution_count": 16,
   "metadata": {},
   "outputs": [],
   "source": [
    "def train_td_agent(env, agent, num_episodes):\n",
    "    #######################################################################\n",
    "    # TODO reuse, i.e. paste, training loop code from last week           #\n",
    "    #######################################################################\n",
    "\n",
    "    for _ in range(num_episodes):\n",
    "        state, info = env.reset()\n",
    "        terminated = False\n",
    "        next_action = None\n",
    "\n",
    "        while not terminated:\n",
    "            if next_action == None:\n",
    "                action = agent.policy(state)\n",
    "            else:\n",
    "                action = next_action\n",
    "            next_state, reward, terminated, truncated, _ = env.step(action)\n",
    "            next_action = agent.policy_evaluation(state, action, reward, next_state, terminated, truncated)\n",
    "            agent.policy_improvement()\n",
    "            state = next_state\n",
    "\n",
    "    #######################################################################\n",
    "    # End of your code.                                                   #\n",
    "    #######################################################################"
   ]
  },
  {
   "attachments": {},
   "cell_type": "markdown",
   "metadata": {},
   "source": [
    "Now implement `evaluate_td_agent()`, which evaluates a learned policy."
   ]
  },
  {
   "cell_type": "code",
   "execution_count": 17,
   "metadata": {},
   "outputs": [],
   "source": [
    "def evaluate_td_agent(env, agent, num_episodes):\n",
    "    #######################################################################\n",
    "    # TODO reuse, i.e. paste, evaluation loop code from last week         #\n",
    "    #######################################################################\n",
    "\n",
    "    R = 0.0\n",
    "    for _ in range(num_episodes):\n",
    "        state, info = env.reset()\n",
    "        terminated = False\n",
    "\n",
    "        while not terminated:\n",
    "            action = agent.policy(state)\n",
    "            state, reward, terminated, truncated, _ = env.step(action)\n",
    "            R += reward\n",
    "\n",
    "    return R / num_episodes\n",
    "\n",
    "    #######################################################################\n",
    "    # End of your code.                                                   #\n",
    "    #######################################################################"
   ]
  },
  {
   "attachments": {},
   "cell_type": "markdown",
   "metadata": {},
   "source": [
    "Now we evaluate the three TD agents in the cliff walking environment.  \n",
    "We want to compare their results when using different learning rates $\\alpha \\in \\{0.1, 0.4, 0.7, 1.0\\}$,  \n",
    "so you need to train and evaluate each agent four times.  \n",
    "Always use $\\gamma = 1.0$ and $\\epsilon = 0.1$, and train and evaluate for $3000$ episodes."
   ]
  },
  {
   "cell_type": "code",
   "execution_count": 18,
   "metadata": {},
   "outputs": [
    {
     "name": "stdout",
     "output_type": "stream",
     "text": [
      "alpha: 0.1, SARSA average return: -18.636\n",
      "alpha: 0.1, Q Learning average return: -37.719\n",
      "alpha: 0.1, Expected SARSA average return: -19.369333333333334\n",
      "alpha: 0.4, SARSA average return: -21.364333333333335\n",
      "alpha: 0.4, Q Learning average return: -37.14933333333333\n",
      "alpha: 0.4, Expected SARSA average return: -19.359\n",
      "alpha: 0.7, SARSA average return: -58.409333333333336\n",
      "alpha: 0.7, Q Learning average return: -38.71933333333333\n",
      "alpha: 0.7, Expected SARSA average return: -18.985333333333333\n",
      "alpha: 1.0, SARSA average return: -100.09933333333333\n",
      "alpha: 1.0, Q Learning average return: -38.093666666666664\n",
      "alpha: 1.0, Expected SARSA average return: -18.909333333333333\n"
     ]
    },
    {
     "data": {
      "image/png": "[encoded data removed]",
      "text/plain": [
       "<Figure size 640x480 with 1 Axes>"
      ]
     },
     "metadata": {},
     "output_type": "display_data"
    }
   ],
   "source": [
    "# Create a cliff walking environment\n",
    "env = rl_env.cliff_walking()\n",
    "gamma = 1.0    # discount factor\n",
    "epsilon = 0.1  # epsilon-greedy probability\n",
    "alphas = [0.1, 0.4, 0.7, 1.0]  # learning rates\n",
    "num_train_episodes = 3000  # number of episodes for training\n",
    "num_eval_episodes = 3000   # number of episodes for evaluation\n",
    "\n",
    "\n",
    "#######################################################################\n",
    "# TODO Train and evaluate the three agents as described above. Plot   #\n",
    "# the resulting sums of rewards per episode, to recreate Figure 6.3   #\n",
    "# from the textbook. Reuse code from last week and add an             #\n",
    "# expected sarsa agent for each alpha                                 #\n",
    "#######################################################################\n",
    "\n",
    "R_sarsa = []\n",
    "R_q = []\n",
    "R_exp_sarsa = []\n",
    "\n",
    "for alpha in alphas:\n",
    "    sarsa_agent = SarsaAgent(env, gamma, epsilon, alpha)\n",
    "    q_agent = QLearningAgent(env, gamma, epsilon, alpha)\n",
    "    exp_sarsa_agent = ExpectedSarsaAgent(env, gamma, epsilon, alpha)\n",
    "\n",
    "    train_td_agent(env, sarsa_agent, num_train_episodes)\n",
    "    train_td_agent(env, q_agent, num_train_episodes)\n",
    "    train_td_agent(env, exp_sarsa_agent, num_train_episodes)\n",
    "\n",
    "    R = evaluate_td_agent(env, sarsa_agent, num_eval_episodes)\n",
    "    print(f\"alpha: {alpha}, SARSA average return: {R}\")\n",
    "    R_sarsa.append(R)\n",
    "\n",
    "    R = evaluate_td_agent(env, q_agent, num_eval_episodes)\n",
    "    print(f\"alpha: {alpha}, Q Learning average return: {R}\")\n",
    "    R_q.append(R)\n",
    "\n",
    "    R = evaluate_td_agent(env, exp_sarsa_agent, num_eval_episodes)\n",
    "    print(f\"alpha: {alpha}, Expected SARSA average return: {R}\")\n",
    "    R_exp_sarsa.append(R)\n",
    "\n",
    "\n",
    "plt.plot(alphas, R_sarsa, label='SARSA', marker = 'o')\n",
    "plt.plot(alphas, R_q, label='Q-learning', marker = 'o')\n",
    "plt.plot(alphas, R_exp_sarsa, label='Expected SARSA', marker = 'o')\n",
    "\n",
    "plt.xlabel('alpha')\n",
    "plt.ylabel('Average return')\n",
    "plt.legend()\n",
    "plt.show()\n",
    "\n",
    "#######################################################################\n",
    "# End of your code.                                                   #\n",
    "#######################################################################"
   ]
  },
  {
   "attachments": {},
   "cell_type": "markdown",
   "metadata": {},
   "source": [
    "What do you observe?"
   ]
  }
 ],
 "metadata": {
  "kernelspec": {
   "display_name": "rein_learning",
   "language": "python",
   "name": "python3"
  },
  "language_info": {
   "codemirror_mode": {
    "name": "ipython",
    "version": 3
   },
   "file_extension": ".py",
   "mimetype": "text/x-python",
   "name": "python",
   "nbconvert_exporter": "python",
   "pygments_lexer": "ipython3",
   "version": "3.12.7"
  }
 },
 "nbformat": 4,
 "nbformat_minor": 4
}
